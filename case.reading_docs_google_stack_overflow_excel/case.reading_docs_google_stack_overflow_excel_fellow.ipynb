{
  "cells": [
    {
      "cell_type": "markdown",
      "metadata": {
        "tags": [
          "47_min",
          "75_min"
        ]
      },
      "source": [
        "# Google is your friend"
      ]
    },
    {
      "cell_type": "markdown",
      "metadata": {
        "tags": [
          "4_min"
        ]
      },
      "source": [
        "## Introduction\n",
        "\n",
        "Up until now, all the cases have used the basic tools that are included with Excel. But in your day-to-day life as a data practitioner, you will need to do a fair amount of research in order to solve the problems you encounter. This means using the Internet and using Google! When you run into an issue, chances are that someone else has also encountered the same problem before, and they either posted their solution or asked for someone else's solution in some obscure online forum, and someone who knew the solution, solved it, and posted the correct answer.\n",
        "\n",
        "There is not a single legitimate Excel user alive (not a single one) who doesn't use the Internet and/or Google daily to learn syntax. *Don't try to be the exception.* The reason technology is at the stage it is today, where anyone with the time and energy has the tools at their disposal for building new and amazing things, is because all of us collectively stand on top of what was built before us. Even very experienced Excel users (*especially* very experienced Excel users) know that they don't know all there is to know:\n",
        "\n",
        "<img src=\"data/images/nothing.jpg\" alt=\"Nothing.\" style=\"width:500px;\"/>\n",
        "\n",
        "In this case, we will first learn where to get more information on Excel functions. Then, we will learn how to understand the functions by going through their documentation. And finally, we will learn how to solve common problems by using online resources such as Google and Stack Overflow."
      ]
    },
    {
      "cell_type": "markdown",
      "metadata": {
        "tags": [
          "6_min"
        ]
      },
      "source": [
        "## Efficient Googling\n",
        "\n",
        "Oftentimes in Excel, you will have an idea of what you want to do, but need to translate your human understanding into something that Excel can understand. Suppose we know we want to take the square root of something, but don't know how to do so in Excel. The first step for almost every Excel user is to start with a quick Google search. \n",
        "\n",
        "Learning to write efficient Google search queries is crucial. A good search should be precise and concise. Here is an example of a good Google search for our question above:\n",
        "\n",
        "> \"Excel square root\"\n",
        "\n",
        "Here we have a direct question using proper terminology, and we have specified our technology environment (the syntax for getting the square root is different in Python than it is in Excel!). \n",
        "\n",
        "Note how different this query is from something like this:\n",
        "\n",
        "> \"Frustrated, code isn't working when I run the square root thing\"\n",
        "\n",
        "This query provides almost no information, except that some kind of square root thing might not work. Coding can get frustrating, but expressing your frustration in a search for answers doesn't do anything to help your search! Lastly, this query is lacking specification of the language used.\n",
        "\n",
        "Copy and paste the *first* search into the Google search engine and one of the top search results should be this [link](https://www.excel-easy.com/examples/square-root.html) or a similar how-to-Excel site. It shows right away that one option to compute the square root is to use the `SQRT()` function."
      ]
    },
    {
      "cell_type": "markdown",
      "metadata": {
        "tags": [
          "3_min"
        ]
      },
      "source": [
        "## Built-in functions\n",
        "\n",
        "Excel has many built-in functions to help with a multitude of mathematical operations. In the example above, Googling for a way to find the square root of a number brought us to the `SQRT()` function. You have also already seen some other built-in functions such as `SUM()` and `AVERAGE()` in previous cases.\n",
        "\n",
        "To use this function, start with the `=` sign. Then simply write the `SQRT()` function and pass in the required inputs. In this case, `SQRT()` is expecting a numerical input which it will find the square root of. Try to implement this now to get the square root of 36. It should look like this: `=SQRT(36)`.\n",
        "\n",
        "<img src=\"data/images/sqrt_function.png\"\n",
        "     alt=\"SQRT\"\n",
        "     style=\"width:300px;\" />"
      ]
    },
    {
      "cell_type": "markdown",
      "metadata": {
        "tags": [
          "5_min"
        ]
      },
      "source": [
        "### Exercise 1\n",
        "\n",
        "We will now search online for a way to calculate the greatest common divisor between 2 numbers. Open a browser and use Google or a similar search engine to find a function that does this. Then, use it in Excel to calculate the greatest common divisor of $759254556$ and $420$."
      ]
    },
    {
      "cell_type": "markdown",
      "metadata": {
        "tags": [
          "ans_st"
        ]
      },
      "source": [
        "**Answer.**"
      ]
    },
    {
      "cell_type": "markdown",
      "metadata": {
        "tags": [
          "4_min"
        ]
      },
      "source": [
        "## Function suggestion list\n",
        "\n",
        "You may have noticed while writing one of the above functions that a drop-down list will auto-populate as soon as you start typing out the name of a function. It should look something like this:\n",
        "\n",
        "\n",
        "<img src=\"data/images/drop_down_list.png\"\n",
        "     alt=\"drop down\"\n",
        "     style=\"width:600px;\" />\n",
        "\n",
        "In the drop-down list, you will see the $f_x$, or function, symbol letting you know that the item is a function. There will also be a short description of the function that pops up in a floating text box. In this case, the description of `SEARCH` lets you know that this function \"Returns the number of the character at which a specific character or test string is first found...\"."
      ]
    },
    {
      "cell_type": "markdown",
      "metadata": {
        "tags": [
          "3_min"
        ]
      },
      "source": [
        "### Exercise 2\n",
        "\n",
        "In Excel, start typing in the name of a function in a cell after the `=` sign. (You can just type in any letter and see what functions come up.) Read through some of the function descriptions to see what they do. Keep note of any descriptions that you don't fully understand. What did you find, and what don't you understand about what you found?"
      ]
    },
    {
      "cell_type": "markdown",
      "metadata": {
        "tags": [
          "ans_st"
        ]
      },
      "source": [
        "**Answer.**"
      ]
    },
    {
      "cell_type": "markdown",
      "metadata": {
        "tags": [
          "8_min"
        ]
      },
      "source": [
        "## Arguments and documentation\n",
        "\n",
        "Now you have found new functions using the drop-down list, and hopefully some that are relevant to a problem you want to solve. But what if the short description does not provide enough information for you to implement the function? Or what if you don't understand some of the terminology used in the description like in the example answer above?\n",
        "\n",
        "Once you type out a function's name and add in the first `(`, a list of **arguments** should pop up in a floating text box, which is just a fancy name for the inputs that a function needs in order to run. In our square root example, the only argument the `SQRT()` requires is a \"number\":\n",
        "\n",
        "<img src=\"data/images/sqrt_arguments.png\"\n",
        "     alt=\"sqrt args\"\n",
        "     style=\"width:300px;\" />\n",
        "\n",
        "Functions can take more than one argument. Take for example `RANDBETWEEN()` - the description for this function says it \"Returns a random number between the numbers you specify\". Once we add in the `(` the function prompts for a `bottom` argument and a `top` argument. This is similar to the implementation of `GCD()` from above. \n",
        "\n",
        "So far these examples are not too complicated, but as you get deeper into Excel you will probably need a deeper understanding of some functions than just the description and the argument prompts. You may have also noticed by now that after typing the first `(`, a hyperlink appears (blue, underlined function name):\n",
        "\n",
        "<img src=\"data/images/hyperlink.png\"\n",
        "     alt=\"hyperlink\"\n",
        "     style=\"width:300px;\" />\n",
        "\n",
        "If you click the hyperlink (and you're connected to the Internet!) it should open a browser with a lot more information about that function. For `RANDBETWEEN()` it takes you to this [page](https://support.office.com/en-US/client/results?Shownav=true&lcid=1033&ns=XLWAEndUser&version=15&omkt=en-US&ver=15&apps=WDWAENDUSER%2CXLWAENDUSER%2CPPWAENDUSER%2CONWAENDUSER&HelpID=RANDBETWEEN), which is known as **documentation**. Here you will find the same description and arguments hints we saw earlier, but with lots more detail and even some example use cases. If you ever need to learn how a new function works, this is the very first place you should start."
      ]
    },
    {
      "cell_type": "markdown",
      "metadata": {
        "tags": [
          "7_min"
        ]
      },
      "source": [
        "### Exercise 3\n",
        "\n",
        "Search Excel's documentation for a function that you always wish you knew more about. If you don't have one in mind, you can pick from this list below which goes from simplest to most complex. Start with an easier function and read through the documentation, then try to get it to work with actual inputs in your Excel worksheet:\n",
        "\n",
        "1. `MEDIAN()`\n",
        "2. `PI()`\n",
        "3. `YEAR()`\n",
        "4. `FLOOR.MATH()`\n",
        "5. `IF`\n",
        "6. `VLOOKUP()`\n",
        "\n",
        "**Note:** Don't worry if you don't fully understand some of these! The key here is to know where to go to get more information, not to master these functions. "
      ]
    },
    {
      "cell_type": "markdown",
      "metadata": {
        "tags": [
          "ans_st"
        ]
      },
      "source": [
        "**Answer.**"
      ]
    },
    {
      "cell_type": "markdown",
      "metadata": {
        "tags": [
          "15_min"
        ]
      },
      "source": [
        "## Beyond documentation\n",
        "\n",
        "We have seen that the description, argument helper, and documentation can provide tons of information, but what happens if you have spent a long time searching through the documentation but still don't understand something? Or if you are not even sure what kind of function or procedure you want to implement in the first place?\n",
        "\n",
        "Google!\n",
        "\n",
        "Say we want to build a tool for extracting usernames from a collection of email addresses (the part before the `@` sign). For example, if you had the email address <a href=[]>fake.user@example.com</a> you would just want to extract the `fake.user` portion. You could start typing a function to see if there's an \"email extract\" function or something similar, but what if you can't find a function like that? After trying to search for some relevant functions without success, the next step is to search online for possible answers, with a search term like this:\n",
        "\n",
        "> Excel parse first part of email address Stack Overflow\n",
        "\n",
        "Here we have specified the language, the task, and a website that typically has good programming information. The very first result in this situation, and very often the first result in most situations, is a Stack Overflow link. <i>**Stack Overflow is THE online forum for coding questions**</i>. Thanks to the online programming community, it is chock-full of answers for even the most obscure problems. And even if you can't find an answer, you can ask the question and get it answered! There are many other resources, but this is *by far* the most complete.\n",
        "\n",
        "One of the top results was this answer: https://stackoverflow.com/a/9424543.\n",
        "\n",
        "<img src=\"data/images/excel_email_parse.png\"\n",
        "     alt=\"excel_email_parse\"\n",
        "     style=\"width:650px;\" />"
      ]
    },
    {
      "cell_type": "markdown",
      "metadata": {},
      "source": [
        "Interesting! There is no magic email-extraction function, but someone has used the `LEFT()`, `RIGHT()`, `FIND()`, and `LEN()` functions to come up with a way to do this. You could use the solution from Stack Overflow in your own project, but this comes with a warning! <i>**Make sure you read through and understand how the code works**</i>. This solution uses four functions to come up with the results, and since we just covered how to find more information on functions, there's <i>**no excuse**</i> for not looking up these functions and figuring out how it all works.\n",
        "\n",
        "If a particular part of the solution is unclear, try breaking it into pieces to see what each function does at each stage. You will not learn anything by copying and pasting code into your own project if you don't understand how it works. Finding answers like this using Google and Stack Overflow will make your learning process faster as you will know where to look and what solutions to implement, but you still need to understand why a given solution works. \n",
        "\n",
        "Lastly, in the image above, you will notice an up and down arrow. Stack Overflow is a forum that will push answers to the top of the page if the answer receives several upvotes (similar to Reddit and other sites). If this answer was helpful, take the time to upvote it to help others out. You will need to have a Stack Overflow account, which we recommend you create and start using. Be sure to also look over [this document](https://stackoverflow.com/help/how-to-ask), which is a guide to writing good programming questions. This is a skill that comes with practice and will make you a much faster, more efficient, and well-rounded programmer!\n",
        "\n",
        "In your day-to-day life, you will use Google and Stack Overflow a lot, and more often than not you will be able to solve the issue. But sometimes, even after reading the documentation, Googling, and even asking the question on Stack Overflow, you may still be stuck. In that case, fret not. <i>**After**</i> you've done your research, you can always reach out to your teachers, peers, and co-workers. Just make sure you do your own research beforehand - it's very bad form to not do so before asking a question."
      ]
    },
    {
      "cell_type": "markdown",
      "metadata": {
        "tags": [
          "5_min"
        ]
      },
      "source": [
        "### Exercise 4\n",
        "\n",
        "Create a new spreadsheet with column A being a few fake email addresses that follow the `[username]@[domain]` format shown above. In column B, parse out the username. In column C, parse out the domain (excluding the `@` symbol). You can use the solution from Stack Overflow above, but make sure you understand what is happening at each step. If you are unsure, look up the functions in the documentation. The result should look like this:\n",
        "\n",
        "<br>\n",
        "<img src=\"data/images/email_extraction_result.png\"\n",
        "     alt=\"email_extraction_result\"\n",
        "     style=\"width:500px;\" />"
      ]
    },
    {
      "cell_type": "markdown",
      "metadata": {
        "tags": [
          "ans_st"
        ]
      },
      "source": [
        "**Answer.**"
      ]
    },
    {
      "cell_type": "markdown",
      "metadata": {
        "tags": [
          "2_min"
        ]
      },
      "source": [
        "## Common errors and troubleshooting\n",
        "\n",
        "As you are working in Excel, you might have already run into some of the most common errors such as `###`, `#NAME?`, or `#DIV?0!`. As always, the fastest way to get more information on an error is to look up the documentation or start Googling. You may find more complex errors as your continue along your Excel journey, but for now you should expect to run into the most common errors quite frequently."
      ]
    },
    {
      "cell_type": "markdown",
      "metadata": {
        "tags": [
          "8_min"
        ]
      },
      "source": [
        "### Exercise 5\n",
        "\n",
        "Do a quick Google search for the most common errors in Excel. Write down the resource you used and create a reference sheet comprised of error summaries and solutions for some of the most common Excel errors."
      ]
    },
    {
      "cell_type": "markdown",
      "metadata": {
        "tags": [
          "ans_st"
        ]
      },
      "source": [
        "**Answer.**"
      ]
    },
    {
      "cell_type": "markdown",
      "metadata": {
        "tags": [
          "1_min"
        ]
      },
      "source": [
        "Now you have a cheat sheet of some of the most common errors that pop up in Excel. Googling an error to find a solution is problem-agnostic. This means you can use it for anything you may encounter. Errors and warnings in your project? Read the documentation, and if you can't solve it, just copy-paste the error message into Google. Need to know how to set up a histogram with a line plot overlay? Google to see if such a thing exists! (It does.)"
      ]
    },
    {
      "cell_type": "markdown",
      "metadata": {
        "tags": [
          "4_min"
        ]
      },
      "source": [
        "## Conclusion\n",
        "\n",
        "Learning to write code in Excel can be a challenging but rewarding experience. As you continue in your journey, there will be bumps in the road, but using these strategies will expedite your learning and help you build new and exciting things.\n",
        "\n",
        "But with great power comes great responsibility. You must first be forever-humble knowing that there will always be more to learn. Hubris is the downfall of many of those with power, and programming is no exception. Technology moves quickly, and in order to stay up to date you must be always listening to what the new inventions, techniques, and discoveries in the world of programming and data are. \n",
        "\n",
        "Second, and perhaps more importantly, the power can be used for great good or great evil. Ethics in programming and data is a hot topic right now. Always be mindful of what your creations are capable of doing in order to make sure that you are a force for good in the world."
      ]
    }
  ],
  "metadata": {
    "c1_recart": "7.65.0-57c20131aabc1dc2a8c675852d80a7da",
    "kernelspec": {
      "name": "python",
      "display_name": "Python (Pyodide)",
      "language": "python"
    }
  },
  "nbformat": 4,
  "nbformat_minor": 5
}