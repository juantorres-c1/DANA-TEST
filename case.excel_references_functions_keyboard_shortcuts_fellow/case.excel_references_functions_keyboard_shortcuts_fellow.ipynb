{
  "metadata": {
    "c1_recart": "7.49.0-57c20131aabc1dc2a8c675852d80a7da",
    "kernelspec": {
      "name": "python",
      "display_name": "Python (Pyodide)",
      "language": "python"
    },
    "language_info": {
      "codemirror_mode": {
        "name": "python",
        "version": 3
      },
      "file_extension": ".py",
      "mimetype": "text/x-python",
      "name": "python",
      "nbconvert_exporter": "python",
      "pygments_lexer": "ipython3",
      "version": "3.8"
    }
  },
  "nbformat_minor": 5,
  "nbformat": 4,
  "cells": [
    {
      "cell_type": "markdown",
      "source": "# How should I price the books my publishing company is selling?",
      "metadata": {
        "tags": [
          "52_min",
          "88_min"
        ]
      },
      "id": "1d39d5ef-adc0-46b6-801f-1c43871a5e91"
    },
    {
      "cell_type": "markdown",
      "source": "## Goal\n\nBy the end of this case, you will be familiar with variable and fixed references in Excel formulas, basic built-in Excel functions, and some keyboard shortcuts useful for inserting data in worksheets.",
      "metadata": {
        "tags": [
          "1_min"
        ]
      },
      "id": "9776262d-6ee3-4a91-8eed-1a9795a0dd72"
    },
    {
      "cell_type": "markdown",
      "source": "## Introduction\n\n**Business Context.** You own an indie publishing company, *The Book Stash*, that specializes in literary fiction. Up until now, you have been dealing with pricing and cost negotiations in a very informal and intuitive way, but business has been growing recently, and you have realized that you need to start treating your numbers more professionally. Your current method has worked reasonably well so far, but it might not in the future.\n\n**Business Problem.** You need to set up an Excel workbook to **calculate the MSRP (manufacturer's suggested retail price) and cost for each book you will be releasing this month, as well as the expected revenue, costs, and profits of your business**.\n\n**Analytical Context.** Your assistant has prepared an [Excel workbook](/case.excel_references_functions_keyboard_shortcuts_fellow/files/data/book_numbers_fellow.xlsx) for you with some relevant descriptive quantities about the books for this month. You will work on it to calculate the required figures.",
      "metadata": {
        "tags": [
          "3_min"
        ]
      },
      "id": "da1bb42f-19a2-4674-a707-2cf3291adbd8"
    },
    {
      "cell_type": "markdown",
      "source": "## Having a look at the data\n\nDownload and open the workbook. These are the columns present in the `book data` worksheet:\n\n* **Book title:** The title of the book.\n* **Author:** The author's name.\n* **Estimated page count:** How many pages the finished design will have.\n* **Paper weight:** The thickness of the paper. Paper thickness is measured in grams per square meter (gsm). The standard is 70 gsm, and all the books in this list will be printed on paper of that weight.\n* **Cover type:** Either hardback or paperback. To cut down on costs, all your new books will be paperbacks.\n* **Interior pages:** A book's interior pages can be printed using only black ink (`BW`) or colored ink (`Color`). Since these books are literature and not magazines, all of them will be printed in black-and-white.\n* **Author's royalties per book sold:** This number corresponds to the dollars that will be paid to the author for each book sold. Across the industry, the standard is around 10\\% of the list price. You negotiated these numbers with the authors before knowing the exact list price, but from your experience, you know that these numbers will be reasonable.\n* **Copies:** How many copies of the book will be printed. You negotiated these numbers with the author and your marketing manager.\n* **Estimated demand (% copies sold):** The estimated percentage of all the copies produced that will be sold within the next three months. This number represents a worst-case scenario.\n\nThese are the columns in the `printing costs` worksheet:\n\n* **Weight (gsm):** Paper weight in grams per square meter.\n* **Cost per page BW:** How much the printer charges you per page using only black ink.\n* **Cost per page Color:** How much the printer charges you per page using color inks.\n\nFinally, these are the columns in the `cover costs` worksheet:\n\n* **Type:** Paperback or hardback.\n* **Cost:** How much the printer charges you (in dollars) for binding each book with either a paperback or a hardback cover.",
      "metadata": {
        "tags": [
          "5_min"
        ]
      },
      "id": "e5c1eaa4-1e14-4bb7-af2e-d26c6888e335"
    },
    {
      "cell_type": "markdown",
      "source": "## Calculating costs\n\nSome factors that influence costs are the number of pages, the weight, and quality of the paper, whether the book is paperback or hardback, whether the interior pages are black-and-white or color, the author's royalties, etc.",
      "metadata": {
        "tags": [
          "1_min"
        ]
      },
      "id": "391fee67-7b7a-439e-8434-bbe8cb9cc387"
    },
    {
      "cell_type": "markdown",
      "source": "### Printing costs\n\nIf you go to the `printing costs` worksheet, you will see that the cost of printing one page varies depending on whether the printing is done in black-and-white or color, as well as the weight of the paper. All the books in our list will be printed using 70 gsm paper in black ink, which means that the only cell that is relevant to us is B2:\n\n![printing costs](data/images/printing_costs.png)",
      "metadata": {
        "tags": [
          "2_min"
        ]
      },
      "id": "a6267109-c150-44dc-bb49-1c0290472552"
    },
    {
      "cell_type": "markdown",
      "source": "### Example 1\n\nUsing Excel formulas, calculate the printing cost for all the books in the list.",
      "metadata": {
        "tags": [
          "10_min"
        ]
      },
      "id": "7b2c7d31-ca8c-4a5a-a31f-f2770505973a"
    },
    {
      "cell_type": "markdown",
      "source": "**Answer.** This number can be calculated with this formula:\n\n$$\n\\text{printing cost} = \\text{number of pages} \\times \\text{cost per page}\n$$\n\nLet's use what we already know about Excel formulas to create a new column in the `book data` worksheet containing each book's printing cost. Let's go to `J2` and do the following:\n\n![Printing costs first attempt](data/images/printing_costs_first_attempt.gif)",
      "metadata": {},
      "id": "a22f29c8-fe0e-46ed-97be-af607c7c76e8"
    },
    {
      "cell_type": "markdown",
      "source": "Can you see that the formula contains the name of the worksheet being referenced (`'printing costs'!`) followed by the cell being referenced in that worksheet? This is how we tell Excel in which worksheet the cells we want to reference are.\n\nLet's now drag this cell down to copy the formula for all the other books:\n\n![Printing costs first attempt dragging](data/images/printing_costs_first_attempt_dragging.gif)",
      "metadata": {},
      "id": "04d9db71-1f74-44de-a9ce-7d8901bd9ec8"
    },
    {
      "cell_type": "markdown",
      "source": "Oops - something went wrong here! What happened? Let's inspect some of the cells to find out:\n\n![Printing costs first attempt inspecting](data/images/printing_costs_first_attempt_inspecting.gif)",
      "metadata": {},
      "id": "ca6d893d-c739-44c7-afe7-b79e3b3b42cf"
    },
    {
      "cell_type": "markdown",
      "source": "When we copied our formula down the column, it not only updated the number of pages (which we wanted it to) but also \"updated\" the cost per page! This occurs because, by default, Excel uses **variable references**, which means that whenever you copy a formula, all of the cell references within the formula are updated depending on the location of the copying destination cell. This is useful in many situations, but in this particular case, we need some of the inputs to be **fixed references** instead so that they remain the same regardless of where we are copying the formula to.\n\nTo make a cell reference a fixed reference, you pre-append the dollar sign (`$`) to both the column name and the row number in the formula, like this:\n\n![Printing costs second attempt](data/images/printing_costs_second_attempt.gif)",
      "metadata": {},
      "id": "2d7f5f00-8abd-4a33-98e4-2f3385ad50a9"
    },
    {
      "cell_type": "markdown",
      "source": "If we try copying the formula down the column now, we will see that no error appears. This time, we copied the formula using a nifty shortcut that saves us the effort of using the mouse. You first copy the cell with \"Ctrl + C\", then select all the cells that you want to fill with the formula using \"Shift + &darr;\" (or \"Ctrl + Shift + &darr;\", and then use \"Ctrl + V\" to paste:\n\n![Printing costs second attempt dragging](data/images/printing_costs_second_attempt_dragging.gif)",
      "metadata": {},
      "id": "fba79c12-6e78-4918-a5f3-9bb8b8d35709"
    },
    {
      "cell_type": "markdown",
      "source": "If we inspect the cells, we'll see that the formula was copied correctly!\n\n![Printing costs second attempt inspecting](data/images/printing_costs_second_attempt_inspecting.gif)",
      "metadata": {},
      "id": "a3082a08-b985-4420-bc75-df32f21c7461"
    },
    {
      "cell_type": "markdown",
      "source": "### Cover costs\n\nAs for the covers, you can easily see that since all the books will be paperbacks, the only relevant cell in the `cover costs` worksheet will be cell B3:\n\n![cover costs](data/images/cover_costs.png)",
      "metadata": {
        "tags": [
          "1_min"
        ]
      },
      "id": "f534dbae-ee73-441e-ad7b-b8a65c6c70bb"
    },
    {
      "cell_type": "markdown",
      "source": "### Exercise 1\n\nUsing Excel formulas, calculate the sum of the printing costs and cover costs for all the books in the list. Put the results in a new column called `Printing & binding costs`.",
      "metadata": {
        "tags": [
          "6_min"
        ]
      },
      "id": "9d951c5a-4acc-481e-b9f5-4722e66e42d4"
    },
    {
      "cell_type": "markdown",
      "source": "**Answer.**",
      "metadata": {
        "tags": [
          "ans_st"
        ]
      },
      "id": "6c97f74e-bbe9-4256-99b1-5531c3ec75ca"
    },
    {
      "cell_type": "markdown",
      "source": "### Other fixed costs\n\nYour rule of thumb has always been that there are about 80 cents of other fixed costs per book. This includes all the costs of paying editors, proofreaders, designers, etc. There's no particular reason to change this rule now, so we will simply create a new worksheet called `fixed costs` and add this quantity there. To create a new worksheet, we click on the plus sign to the right of the last worksheet tab:\n\n![Creating a worksheet](data/images/creating_worksheet.gif)\n\nNext, we add the data:\n\n![Other fixed costs](data/images/other_fixed_costs.gif)",
      "metadata": {
        "tags": [
          "4_min"
        ]
      },
      "id": "9e876bd0-5379-427b-a333-bbfaa392e049"
    },
    {
      "cell_type": "markdown",
      "source": "### Total cost\n\nNow that we know all the partial costs, it should be easy to compute the total cost.",
      "metadata": {
        "tags": [
          "1_min"
        ]
      },
      "id": "86de0130-f24c-40c6-835b-ffaf31e68444"
    },
    {
      "cell_type": "markdown",
      "source": "### Exercise 2\n\nCalculate the total cost per book. For the purposes of this exercise, assume that the total cost is the sum of the printing costs, cover costs, other fixed costs, and royalties.",
      "metadata": {
        "tags": [
          "5_min"
        ]
      },
      "id": "d57ac95b-d1e6-4d78-9a11-a9cce8a87971"
    },
    {
      "cell_type": "markdown",
      "source": "**Answer.**",
      "metadata": {
        "tags": [
          "ans_st"
        ]
      },
      "id": "b3b830c4-ad42-4365-bc11-5c87f96c0fd5"
    },
    {
      "cell_type": "markdown",
      "source": "## Calculating the list price\n\n### The publisher's markup\n\nYou always aim for a markup of 35% of the total cost so that you are able to turn a profit on your business. For example, if the total cost of producing a book is 10 dollars, your markup would be 3.5 dollars.",
      "metadata": {
        "tags": [
          "1_min"
        ]
      },
      "id": "f71fdbdd-beba-4776-9725-0a72e80c3e36"
    },
    {
      "cell_type": "markdown",
      "source": "### Exercise 3\n\nCreate a new column called `Publisher's markup` with the markup in dollars for each book.",
      "metadata": {
        "tags": [
          "4_min"
        ]
      },
      "id": "f1b821ba-2b58-4edf-b6ce-f27955055bed"
    },
    {
      "cell_type": "markdown",
      "source": "**Answer.**",
      "metadata": {
        "tags": [
          "ans_st"
        ]
      },
      "id": "c17c738c-4cd5-4f13-8008-c39ad5a097fd"
    },
    {
      "cell_type": "markdown",
      "source": "### The discounted price and the MSRP\n\nRetailers will almost always ask you for a discount of 40% on the MSRP. This means that\n\n$$\n\\begin{align}\n\\text{Discounted price} &= \\text{MSRP} \\times (100\\% - 40\\%) \\\\\n&= \\text{MSRP} \\times 0.6\n\\end{align}\n$$\n\nIf we divide both sides of the equation by 0.6, we get\n\n$$\n\\text{MSRP} =  \\frac{\\text{Discounted price}}{0.6}\n$$\n\nNow, the discounted price will be your total costs plus your markup. As an example, let's say your total costs were 10 dollars, and your markup is 3.5 dollars. Therefore,\n\n$$\n\\begin{align}\n\\text{MSRP} &=  \\frac{13.5}{0.6} \\\\\n&= 22.5\n\\end{align}\n$$",
      "metadata": {
        "tags": [
          "3_min"
        ]
      },
      "id": "6eaafe01-99f4-480a-8352-bc23437d9cf6"
    },
    {
      "cell_type": "markdown",
      "source": "### Exercise 4\n\nUsing the formula above, create a new column called `Discounted price` and use it to compute the MSRP for each book (create a new column called `MSRP`). Remember that your discounted price is equal to your total costs plus your markup.",
      "metadata": {
        "tags": [
          "7_min"
        ]
      },
      "id": "45e2451a-2f3b-432b-aaa4-8c9cd05ae038"
    },
    {
      "cell_type": "markdown",
      "source": "**Answer.**",
      "metadata": {
        "tags": [
          "ans_st"
        ]
      },
      "id": "b0d5f9c9-45d8-43bf-b02f-6d4672cb0a48"
    },
    {
      "cell_type": "markdown",
      "source": "## Calculating some useful aggregate statistics\n\nHaving high-level statistics about what you've sold would be very convenient. After some thought, you decide that you want to know the sum of the total expected revenue, cost, and profits across all the books that you've sold. Additionally, you would like to know the average MSRP per page - that is, how much customers end up paying for each page on average. This number is very important because it can serve as a rule of thumb for how much a book could be priced at based on its page count. You can use this as a rough estimate in the early stages of your negotiations with authors and retailers.\n\nTo calculate these aggregates, we first need to create two new columns, `Total expected revenue` and `Total expected costs`. These are the formulas:\n\n$$\n\\begin{align}\n\\text{Total expected revenue} &= \\text{Copies} \\times \\text{Estimated demand (%)} \\times \\text{Discounted price}\\\\\n\\text{Total expected costs} &= \\text{Copies} \\times \\text{Total cost}\n\\end{align}\n$$\n\nNotice that we only included the estimated demand percentage in the revenue formula. This is because you only receive revenue from the books that you *sell*, but you incur costs for all the books you *produce*, even if you don't sell them. Here's how to create the columns:\n\n![Total expected revenue and Total expected costs](data/images/ter_tec.gif)",
      "metadata": {
        "tags": [
          "5_min"
        ]
      },
      "id": "744d9ae2-39e3-4a41-a602-db9a99ae9910"
    },
    {
      "cell_type": "markdown",
      "source": "### Example 2\n\nCalculate the total expected revenue across all sold books.",
      "metadata": {
        "tags": [
          "7_min"
        ]
      },
      "id": "a51429d5-d034-4dd1-8aba-26709348e354"
    },
    {
      "cell_type": "markdown",
      "source": "**Answer.** Let's create a new worksheet called `useful statistics` and add some cells with descriptive texts. We could calculate the total expected revenue by referencing and adding each book's revenue to a formula, one at a time. But this would be very time-consuming, particularly for hundreds or thousands of books!\n\nIs there a way we can cut down on this effort? There sure is! We can use Excel's built-in [**`SUM()`**](https://support.microsoft.com/en-us/office/sum-function-043e1c7d-7726-4e80-8f32-07b23e057f89) function and reference the relevant column (not just a single cell!) in the `book data` worksheet. How do we do that? Well, you reference a range in a formula by clicking on the first cell and dragging the cursor down while holding it down. Then you type the closing parenthesis to exit selection mode:\n\n![Sum of total expected revenue](data/images/sum_total_revenue.gif)\n\nTo tell Excel to format the number as a currency, we right-clicked the cell and selected the dollar sign from the pop-up menu.\n\nYou can also directly type in the cell range if you don't want to use the mouse. A cell range is represented with this syntax: `firstcell:lastcell`. For instance, if you want to sum cells A2, A3, A4, and A5, you write `=SUM(A2:A5)`. As an example, here we sum the total expected revenues of the first five cells:\n\n![Range selection with the keyboard](data/images/range_selection_keyboard.gif)",
      "metadata": {},
      "id": "ad639879-c115-4411-804e-5c9f6ac492c7"
    },
    {
      "cell_type": "markdown",
      "source": "### Exercise 5\n\nCalculate the total expected costs across all sold books.",
      "metadata": {
        "tags": [
          "5_min"
        ]
      },
      "id": "f673b797-02c5-40a7-869e-95651b089c52"
    },
    {
      "cell_type": "markdown",
      "source": "**Answer.**",
      "metadata": {
        "tags": [
          "ans_st"
        ]
      },
      "id": "400543e7-5e25-47b6-8b11-389faae88dfc"
    },
    {
      "cell_type": "markdown",
      "source": "### Exercise 6\n\nCalculate the total expected profits across all sold books.\n\n**Hint:** Total profits would be the difference between the total expected revenues and the total expected costs.",
      "metadata": {
        "tags": [
          "2_min"
        ]
      },
      "id": "80a361b8-54fc-4489-af42-e8acb08b07c4"
    },
    {
      "cell_type": "markdown",
      "source": "**Answer.**",
      "metadata": {
        "tags": [
          "ans_st"
        ]
      },
      "id": "26f39df6-4a24-42d9-ab3b-afdad99c35c7"
    },
    {
      "cell_type": "markdown",
      "source": "### Exercise 7\n\nCalculate the average MSRP per page. In order to do this, you will need to create a new column in the `book data` worksheet (call it `MSRP per page`), that tells you the MSRP per page for each book. Then, back on the `useful statistics` worksheet, you will have to use the [**`AVERAGE()`**](https://support.microsoft.com/en-us/office/calculate-the-average-of-a-group-of-numbers-e158ef61-421c-4839-8290-34d7b1e68283) function to compute the average across all books. The syntax is similar to that of the `SUM()` function; i.e. you pass the cell range as the input for the function.",
      "metadata": {
        "tags": [
          "7_min"
        ]
      },
      "id": "a1729513-4ebb-4289-8355-cd5297b6016f"
    },
    {
      "cell_type": "markdown",
      "source": "**Answer.**",
      "metadata": {
        "tags": [
          "ans_st"
        ]
      },
      "id": "1dd05648-6db9-4a95-a1c0-8e41580846f5"
    },
    {
      "cell_type": "markdown",
      "source": "The `SUM()` and `AVERAGE()` functions aren't the only functions at your disposal. Some other ones include:\n\n* [**`COUNTA()`**](https://support.microsoft.com/en-us/office/counta-function-7dc98875-d5c1-46f1-9a82-53f3219e2509): Counts how many non-empty cells there are in a range\n* [**`MIN()`**](https://support.microsoft.com/en-us/office/min-function-61635d12-920f-4ce2-a70f-96f202dcc152): Gives the minimum value in a cell range\n* [**`MAX()`**](https://support.microsoft.com/en-us/office/max-function-e0012414-9ac8-4b34-9a47-73e662c08098): Gives the maximum value in a cell range\n\n![Other functions](data/images/other_functions.gif)",
      "metadata": {
        "tags": [
          "3_min"
        ]
      },
      "id": "b212a1b7-9e46-47b0-97e2-c1f9cf7d358b"
    },
    {
      "cell_type": "markdown",
      "source": "## Conclusions & Takeaways\n\nIn this case, you have successfully created a workbook to calculate the list price of all the titles your small printing press will release next month, as well as some high-level statistics about your business. You have made use of multiple Excel tools like the following:\n\n* Variable references - These are the default in Excel. They update the cell references depending on the location of the paste destination\n* Fixed references - These don't update when you copy and paste a formula. You can make a reference fixed by adding `$` both to the beginning of the column name and the beginning of the row name. You can also fix only the column or only the row. If you want the column to be fixed, you add the `$` to the column name only  (before the letter, e.g. `$A2`); if you want the row to be fixed, you add the `$` to the row name only (before the number, e.g. `A$2`).\n* Built-in functions - To sum a range of cells, you can use the `SUM()` function and pass the cell range as the input. To calculate averages, you use `AVERAGE()`",
      "metadata": {
        "tags": [
          "5_min"
        ]
      },
      "id": "f2f4a584-27a4-45a7-bf16-025e5dbb52f9"
    },
    {
      "cell_type": "code",
      "source": "",
      "metadata": {},
      "execution_count": null,
      "outputs": [],
      "id": "42ec29a6-8bf3-4ba9-ba50-bb93f661d2be"
    }
  ]
}