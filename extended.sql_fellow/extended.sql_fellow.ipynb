{
  "metadata": {
    "c1_recart": "7.63.0-57c20131aabc1dc2a8c675852d80a7da",
    "celltoolbar": "Tags",
    "kernelspec": {
      "display_name": "SQLite",
      "language": "sql",
      "name": "SQLite"
    },
    "language_info": {
      "codemirror_mode": "sql",
      "file_extension": "",
      "mimetype": "",
      "name": "sql",
      "version": "3.32.3"
    }
  },
  "nbformat_minor": 4,
  "nbformat": 4,
  "cells": [
    {
      "cell_type": "markdown",
      "source": "# Finding our best-performing salespeople and products\n\n**Total points**: 24 points",
      "metadata": {
        "nbgrader": {
          "grade": false,
          "grade_id": "cell-91c8811a972c66c4",
          "locked": true,
          "schema_version": 3,
          "solution": false,
          "task": false
        }
      }
    },
    {
      "cell_type": "markdown",
      "source": "## Introduction\n\n**Business Context.** You work for AdventureWorks, a company that sells outdoor sporting equipment. The company has many different locations and has been recording the sales of different locations on various products. You, their new data scientist, have been tasked with the question: *What are our best products and salespeople, and how can we use this information to improve our overall performance?*\n\nYou have been given access to the relevant data files with documentation from the IT department. Your job is to extract meaningful insights from these data files to help increase sales. First, you will look at the best products and try to see how different products perform in different categories. Second, you will analyze the best salespeople to see if the commission percentage motivates them to sell more.\n\n**Business Problem.** Your task is to *write queries in SQL to carry out the requested analysis*.\n\n**Analytical Context.** You are given the data as an SQLite database. The company has been pretty vague about how they expect you to extract insights, but you have come up with the following plan of attack:\n\n1. Load the database and ensure you can run basic queries against it\n2. Look at how product ratings and total sales are related\n3. See how products sell in different subcategories (bikes, helmets, socks, etc.)\n4. Calculate which salespeople performed the best in 2014\n5. See if total sales are correlated with commission percentage\n\nOf course, this is only your initial plan. As you explore the database, your strategy will likely change.",
      "metadata": {
        "jp-MarkdownHeadingCollapsed": true,
        "nbgrader": {
          "grade": false,
          "grade_id": "cell-e950dba2bec7261c",
          "locked": true,
          "schema_version": 3,
          "solution": false,
          "task": false
        },
        "tags": [
          "4_min"
        ]
      }
    },
    {
      "cell_type": "markdown",
      "source": "## Overview of the data\n\nThe data for this case is contained in the [`AdventureWorks.db`](AdventureWorks.db) SQLite database. We will be focusing on the tables that belong to the Sales and Product categories. Complete documentation, with schemas, for the original data (of which you have only a subset) can be found [here](data/AdventureWorks.pdf).\n\n**Product Tables (Pg. 34 in the documentation):**\n* **Product**: one row per product that the company sells\n* **ProductReview**: one row per rating and review left by customers\n* **ProductModelProductDescriptionCulture**: a link between products and their longer descriptions also indicating a \"culture\" - which language and region the product is for\n* **ProductDescription**: a longer description of each product, for a specific region\n* **ProductCategory**: the broad categories that products fit into\n* **ProductSubCategory**: the narrower subcategories that products fit into\n\n**Sales Tables (Pg. 71 in the documentation):**\n* **SalesPerson**: one row per salesperson, including information on their commission and performance\n* **SalesOrderHeader**: one row per sale summarizing the sale\n* **SalesOrderDetail**: many rows per sale, detailing each product that forms part of the sale\n* **SalesTerritory**: the different territories where products are sold, including performance\n* **CountryRegionCurrency**: the currency used by each region\n* **CurrencyRate**: the average and closing exchange rates for each currency compared to the USD\n\n**Tip**: Review the rest of the documentation carefully to learn more about the tables (like relevant columns in each) and the relationships between them. Note that not all columns may be available in the subset provided in this case, as they are not necessary for the following exercises. ",
      "metadata": {
        "nbgrader": {
          "grade": false,
          "grade_id": "cell-cba9ff636a6f2ba8",
          "locked": true,
          "schema_version": 3,
          "solution": false,
          "task": false
        },
        "tags": [
          "6_min"
        ]
      }
    },
    {
      "cell_type": "markdown",
      "source": "Let's now load the database:",
      "metadata": {
        "nbgrader": {
          "grade": false,
          "grade_id": "cell-de016d23af6a879d",
          "locked": true,
          "schema_version": 3,
          "solution": false,
          "task": false
        }
      }
    },
    {
      "cell_type": "code",
      "source": "%FETCH https://amzn-dana.workspace-lite.correlation-one.com/extended.sql_jlite_fellow/files/data/AdventureWorks.db AdventureWorks",
      "metadata": {
        "nbgrader": {
          "grade": false,
          "grade_id": "cell-d9dd892261439505",
          "locked": true,
          "schema_version": 3,
          "solution": false,
          "task": false
        }
      },
      "execution_count": null,
      "outputs": []
    },
    {
      "cell_type": "code",
      "source": "%LOAD AdventureWorks RW",
      "metadata": {
        "nbgrader": {
          "grade": false,
          "grade_id": "cell-1c377e58b7758e21",
          "locked": true,
          "schema_version": 3,
          "solution": false,
          "task": false
        }
      },
      "execution_count": null,
      "outputs": []
    },
    {
      "cell_type": "markdown",
      "source": "**Note**: Do not round your results (i.e., leave them with as many decimal digits as they have). Also, be sure to name your columns *exactly* as they are in the sample tables in each exercise.",
      "metadata": {}
    },
    {
      "cell_type": "markdown",
      "source": "## Finding our most popular products\n\nThe company would like to know which of its products is the most popular among customers. You figure that the average rating given in reviews is correlated with the number of sales of a particular product (that products with higher reviews have more sales).",
      "metadata": {
        "nbgrader": {
          "grade": false,
          "grade_id": "cell-bcc87dd006a49dfa",
          "locked": true,
          "schema_version": 3,
          "solution": false,
          "task": false
        }
      }
    },
    {
      "cell_type": "markdown",
      "source": "### Exercise 1 (1 point)\n\nUsing the **`product`** and **`productReview`** tables, **`INNER JOIN`** them and rank the products according to their average review rating.\n\nBelow is a simplified visual of the **`ERD (Entity Relationship Diagram)`**, which outlines the table that you will be working with.  \n\n* The **`Table Name`** is the green header.\n* The **`Column Header`** is listed under their respective Table Name.\n* The **`Blue Line`** is there to show the **`JOIN`** column.\n* Based on this information, write a query to retrieve product review details for each product.\n* For more detailed information about the Tables, refer to the [documentation](data/AdventureWorks.pdf).\n\n![EC4 Exercise 1 - Tables](data/images/EC4_Exercise1_Visual.JPG)\n\n<br>\n\n**Additional Hints:**\n\n* Each table has more columns than what is shown in the diagram. \n* To view all of the columns, use one of the two methods.  **`SELECT everything`**, or use **`Pragma`**.\n* You will need to use **`GROUP BY`** to group multiple reviews together.\n* **`avgrating`** is an aggregated column, it takes the average of multiple reviews.\n* **`num_ratings`** is an aggregated column, it counts the number of reviews for a particular product.\n* Be aware that SQL is syntax sensitive, meaning the order which you write your query matters.  Check the **`Sample Code`** section for more detail.\n\n<br>\n\nHere is a sample output what your answer should look like:\n\n| productid | NAME                   | avgrating | num_ratings |\n|-----------|------------------------|-----------|:-----------:|\n| 709       | Mountain Bike Socks, M | 5.0       | 1           |\n| …         | …                      | …         | …           |\n\n<br>\n\n**Sample Code:**\n~~~sql\n-- This will output 1 row of information from the Table with all of the columns.\nSELECT *\nFROM TableName\nLIMIT 1\n\n-- This will show you a list of columns within a table.\npragma table_info( 'Insert a table name in here' )\n\n-- This is the order of SQL needs to be written in.\nSELECT\nFROM\nJOIN\nWHERE\nGROUP BY\nHAVING\nORDER BY\nLIMIT\n~~~\n\n<br>\n\n**Additional Learning Resources:**\n\n* [W3 School - JOIN](https://www.w3schools.com/sql/sql_join.asp)\n* [W3 School - GROUP BY](https://www.w3schools.com/sql/sql_groupby.asp)\n* [W3 School - Aggregate Functions](https://www.w3schools.com/sql/sql_count_avg_sum.asp)",
      "metadata": {
        "nbgrader": {
          "grade": false,
          "grade_id": "cell-004a91c529741bd6",
          "locked": true,
          "schema_version": 3,
          "solution": false,
          "task": false
        },
        "tags": [
          "10_min"
        ]
      }
    },
    {
      "cell_type": "markdown",
      "source": "**Answer.**",
      "metadata": {
        "tags": [
          "ans_st"
        ]
      }
    },
    {
      "cell_type": "code",
      "source": "-- DELETE THIS COMMENT AND WRITE YOUR ANSWER HERE",
      "metadata": {},
      "execution_count": null,
      "outputs": []
    },
    {
      "cell_type": "markdown",
      "source": "### Exercise 2 \n\n### Exercise 2.1 (1 point)\n\nMuch to your disappointment, there are only three products with ratings and only four reviews in total! This is nowhere near enough to perform an analysis of the correlation between **`reviews`** and **`total sales`**. Since we cannot infer the most popular products from the reviews, we will go with an alternative strategy. The database includes transactions in different **`currencies`** and **`products`** from different cultures.  Since we don't have sufficient detail within the reviews, we turn our attention to extracting this insights from **`sales`** data.  \n\n<br>\n\nHere is a visual of the tables and columns that you will be working with.\n\n* There are two tables **`productModelProductDescriptionCulture`** and **`productDescription`**.\n* **`JOIN`** the tables together by the column with the **`Blue Line`**.\n* For this exercise, include only descriptions for which **`productModelProductDescriptionCulture.cultureID = 'en'`**.\n* Get the **`productModelID`** and **`description`** for each product.  \n\n![EC4 Exercise 2.1 - Tables](data/images/EC4_Exercise2-1_Visual.JPG)\n\n<br>\n\n**Additional Hints:**\n\n* Use **`Alias`** to shorten long table names.\n\n<br>\n\nYour output should look like this:\n\n<table border=\"1\" class=\"dataframe\">  <thead>    <tr style=\"text-align: right;\">      <th>productmodelid</th>      <th>description</th>    </tr>  </thead>  <tbody>    <tr>      <td>1</td>      <td>Light-weight, wind-resistant, packs to fit into a pocket.</td>    </tr>    <tr>      <td>2</td>      <td>Traditional style with a flip-up brim; one-size fits all.</td>    </tr>    <tr>      <td>3</td>      <td>Synthetic palm, flexible knuckles, breathable mesh upper. Worn by the AWC team riders.</td>    </tr>    <tr>      <td>...</td>      <td>...</td>    </tr>  </tbody></table>\n\n<br>\n\n**Additional Learning Resources:**\n\n* [W3 School - Alias](https://www.w3schools.com/sql/sql_alias.asp) ",
      "metadata": {
        "jp-MarkdownHeadingCollapsed": true,
        "nbgrader": {
          "grade": false,
          "grade_id": "cell-f7d713623329cd38",
          "locked": true,
          "schema_version": 3,
          "solution": false,
          "task": false
        },
        "tags": [
          "12_min"
        ]
      }
    },
    {
      "cell_type": "markdown",
      "source": "**Answer.**",
      "metadata": {
        "tags": [
          "ans_st"
        ]
      }
    },
    {
      "cell_type": "code",
      "source": "-- DELETE THIS COMMENT AND WRITE YOUR ANSWER HERE",
      "metadata": {},
      "execution_count": null,
      "outputs": []
    },
    {
      "cell_type": "markdown",
      "source": "#### Exercise 2.2 (2 points)\n\nNow that we got the **`productModelID`** and its **`description`**.  We can use the result in Exercise 2.1 to further expand our query to find out its **`name`**, and the **`quantity`** it sold. To do this, we will use **`CTE (Common Table Expression)`** to turn our Exercise 2.1 solution into a temporary table.\n\n<br>\n\nHere is a visual of the tables and columns that you will be working with.\n\n* Using the answer in Exercise 2.1, wrap your solution into a **`CTE view`** called **`english_description`**, the **`Blue Header`** shows that the table is only there temporary.\n* With CTE View created, you can **`JOIN`** the **`CTE View`** along with other tables.\n* Get the **`productModelID`**, **`description`**, **`name`**, and **`total number of sales`** for each product and display the top-10 selling products.\n* You can infer how often products have been sold by looking at the **`salesOrderDetail`** table (each row might indicate more than one sale, so take note of **`OrderQty`**).\n\n![EC4 - Exercise 2.2 - Tables](data/images/EC4_Exercise2-2_Visual.JPG)\n\n<br>\n\n**Additional Hints:** \n\n* Make the query you wrote in Exercise 2.1 a temporary view with the **`WITH ... AS`** syntax. It will give you the English descriptions of the products as a starting point. \n* Then **`JOIN`** the temporary table with other relevant tables.\n* This exercise require multiple **`JOIN`** to link several tables together.\n* You will need to use combination of **`ORDER BY`** and **`LIMIT`** to sort the table to get TOP 10 products.\n* **`total_orders`** is an aggregated column that sums up the quantity of units ordered.\n\n<br>\n\nYour output should look like this:\n\n<table border=\"1\" class=\"dataframe\">  <thead>    <tr style=\"text-align: right;\">      <th>productmodelid</th>      <th>description</th>      <th>NAME</th>      <th>total_orders</th>    </tr>  </thead>  <tbody>    <tr>      <td>2</td>      <td>Traditional style with a flip-up brim; one-size fits all.</td>      <td>AWC Logo Cap</td>      <td>8311</td>    </tr>    <tr>      <td>111</td>      <td>AWC logo water bottle - holds 30 oz; leak-proof.</td>      <td>Water Bottle - 30 oz.</td>      <td>6815</td>    </tr>    <tr>      <td>33</td>      <td>Universal fit, well-vented, lightweight , snap-on visor.</td>      <td>Sport-100 Helmet, Blue</td>      <td>6743</td>    </tr>    <tr>      <td>...</td>      <td>...</td>      <td>...</td>      <td>...</td>    </tr>  </tbody></table>\n\n<br>\n\n**Additional Learning Resources:**\n\n* [What Is a Common Table Expression (CTE) in SQL?](https://learnsql.com/blog/what-is-common-table-expression/)\n* [How to use CTE using WITH...AS](https://www.youtube.com/watch?v=_SanZ41uTlw)",
      "metadata": {
        "nbgrader": {
          "grade": false,
          "grade_id": "cell-246ad6b432b0fddb",
          "locked": true,
          "schema_version": 3,
          "solution": false,
          "task": false
        },
        "tags": [
          "15_min"
        ]
      }
    },
    {
      "cell_type": "markdown",
      "source": "**Answer.**",
      "metadata": {
        "tags": [
          "ans_st"
        ]
      }
    },
    {
      "cell_type": "code",
      "source": "-- DELETE THIS COMMENT AND WRITE YOUR ANSWER HERE",
      "metadata": {},
      "execution_count": null,
      "outputs": []
    },
    {
      "cell_type": "markdown",
      "source": "### Exercise 3\n\nTo get a better sense of the sales, let's look at the correlation between the **`quantity sold`** and the price for each **`subcategory`**.  We will break this process into three steps.\n\n1. Find out the **`quantity sold`** by their **`productID`**.\n2. Next we will query the **`listing price`** by their **`productID`** and their respective **`category`** and **`subcategory`**.\n3. Finally, we will **`JOIN`** both results together so we will know how many were sold by their **`category`** and **`subcategory`**",
      "metadata": {
        "nbgrader": {
          "grade": false,
          "grade_id": "cell-0c592ffb20fc0508",
          "locked": true,
          "schema_version": 3,
          "solution": false,
          "task": false
        },
        "tags": []
      }
    },
    {
      "cell_type": "markdown",
      "source": "#### Exercise 3.1 (1 Point)\nFirst we want to start by writing a query that shows how many items were ordered in total for every product in the database. Do *not* filter by culture.\n\nHere is a visual of the tables and columns that you will be working with.\n\n![EC4 Exercise 3.1 - Tables](data/images/EC4_Exercise3-1_Visual.JPG)\n\n<br>\n\n**Additional Hints:** \n* Use the **`salesOrderDetail`** table.\n* **`quantity`** is an aggregated column that sums up the quantity of unit sold and **`GROUP BY`** the product id.\n\n<br>\n\nYour output should look like this:\n\n| productid | quantity |\n|-----------|----------|\n| 707       | 6266     |\n| 708       | 6532     |\n| 709       | 1107     |\n| 710       | 90       |\n| 711       | 6743     |\n| 712       | 8311     |\n| 713       | 429      |\n| 714       | 3636     |\n| …         | …        |\n",
      "metadata": {
        "nbgrader": {
          "grade": false,
          "grade_id": "cell-e6916ae13c89426b",
          "locked": true,
          "schema_version": 3,
          "solution": false,
          "task": false
        },
        "tags": [
          "7_min"
        ]
      }
    },
    {
      "cell_type": "markdown",
      "source": "**Answer.**",
      "metadata": {
        "tags": [
          "ans_st"
        ]
      }
    },
    {
      "cell_type": "code",
      "source": "-- DELETE THIS COMMENT AND WRITE YOUR ANSWER HERE",
      "metadata": {},
      "execution_count": null,
      "outputs": []
    },
    {
      "cell_type": "markdown",
      "source": "#### 3.2 (1 point)\n\nAwesome! Next, we need to know the **`list price`** for each product alongside its **`category`** and **`subcategory`**.\n\nHere is a visual of the tables and columns that you will be working with.\n\n![EC4 Exercise 3.2 - Tables](data/images/EC4_Exercise3-2_Visual.JPG)\n\n<br>\n\n**Additional Hints:** \n* You will find the product categories in the **`productCategory`** table, and the subcategories in the **`productSubcategory`** table.\n* Use multiple JOIN to connect **`product`**, **`productCategory`**, and **`productSubcategory`** tables together.\n\n<br>\n\nYour output should look like this:\n\n| productid | category    | subcategory | listprice |\n|-----------|-------------|-------------|-----------|\n| 680       | Components  | Road Frames | 1431.5    |\n| 706       | Components  | Road Frames | 1431.5    |\n| 707       | Accessories | Helmets     | 34.99     |\n| 708       | Accessories | Helmets     | 34.99     |\n| 709       | Clothing    | Socks       | 9.5       |\n| 710       | Clothing    | Socks       | 9.5       |\n| 711       | Accessories | Helmets     | 34.99     |\n| 712       | Clothing    | Caps        | 8.99      |\n| 713       | Clothing    | Jerseys     | 49.99     |\n| 714       | Clothing    | Jerseys     | 49.99     |\n| 715       | Clothing    | Jerseys     | 49.99     |\n| 716       | Clothing    | Jerseys     | 49.99     |\n| 717       | Components  | Road Frames | 1431.5    |\n| 718       | Components  | Road Frames | 1431.5    |\n| 719       | Components  | Road Frames | 1431.5    |\n| …         | …           | …           | …         |\n",
      "metadata": {
        "nbgrader": {
          "grade": false,
          "grade_id": "cell-328d15d4ea818be3",
          "locked": true,
          "schema_version": 3,
          "solution": false,
          "task": false
        },
        "tags": [
          "12_min"
        ]
      }
    },
    {
      "cell_type": "markdown",
      "source": "**Answer.**",
      "metadata": {
        "tags": [
          "ans_st"
        ]
      }
    },
    {
      "cell_type": "code",
      "source": "-- DELETE THIS COMMENT AND WRITE YOUR ANSWER HERE",
      "metadata": {},
      "execution_count": null,
      "outputs": []
    },
    {
      "cell_type": "markdown",
      "source": "#### Exercise 3.3 (3 points)\n\nNow that we have the productID and its quantity sold from Exercise 3.1, as well as the category, subcategory and list price from Exericse 3.2.  We can now merge the two solutions together to obtain a table showing the **`average list price`** and the **`total quantity of products sold`** for each subcategory. \n\n<br>\n\nHere is a visual of the tables and columns that you will be working with.\n\n* We need to put our answers from **`Exercise 3.1`** and **`Exercise 3.2`** into their respective CTE.\n* Then use **`JOIN`** to join the 2 CTE tables together.\n\n![EC4 Exercise 3.3 - Tables](data/images/EC4_Exercise3-3_Visual.JPG)\n\n<br>\n\n**Additional Hints:**\n* To have two **`WITH ... AS`** statements in the same query, you separate the subqueries with a comma and don't write **`WITH`** again. Like the sample code below.\n* If you used any **`LIMIT CLAUSES`** in previous Exercise, remove them.\n* **`average_price_in_subcategory`** is an aggregated column calculated from the CTE.\n* **`total_items_sold_in_subcategory`** is an aggregated column calculated from the CTE.\n\n<br>\n\nYour output should look like this:\n\n| category    | subcategory       | average_price_in_subcategory | total_items_sold_in_subcategory |\n|-------------|-------------------|------------------------------|---------------------------------|\n| Accessories | Bike Racks        | 120.0                        | 3166                            |\n| Accessories | Bike Stands       | 159.0                        | 249                             |\n| Accessories | Bottles and Cages | 7.989999999999999            | 10552                           |\n| Accessories | Cleaners          | 7.95                         | 3319                            |\n| Accessories | Fenders           | 21.98                        | 2121                            |\n| Accessories | Helmets           | 34.99                        | 19541                           |\n| Accessories | Hydration Packs   | 54.99                        | 2761                            |\n| Accessories | Locks             | 25.0                         | 1087                            |\n| Accessories | Pumps             | 19.99                        | 1130                            |\n| Accessories | Tires and Tubes   | 19.482727272727274           | 18006                           |\n| Bikes       | Mountain Bikes    | 1683.3649999999982           | 28321                           |\n| Bikes       | Road Bikes        | 1597.45                      | 47196                           |\n| Bikes       | Touring Bikes     | 1425.2481818181814           | 14751                           |\n| Clothing    | Bib-Shorts        | 89.99                        | 3125                            |\n| …           | …                 | …                            | …                               |\n\n<br>\n\n**Sample Code:**\n~~~sql\nWITH first_query_alias AS\n(\n    SELECT ...\n),\nsecond_query_alias AS -- Notice we didn't include a second WITH here\n(\n    SELECT...\n)\nSELECT ...\n~~~",
      "metadata": {
        "nbgrader": {
          "grade": false,
          "grade_id": "cell-e58b7484fb86cd28",
          "locked": true,
          "schema_version": 3,
          "solution": false,
          "task": false
        },
        "tags": [
          "10_min"
        ]
      }
    },
    {
      "cell_type": "markdown",
      "source": "**Answer.**",
      "metadata": {
        "tags": [
          "ans_st"
        ]
      }
    },
    {
      "cell_type": "code",
      "source": "-- DELETE THIS COMMENT AND WRITE YOUR ANSWER HERE",
      "metadata": {},
      "execution_count": null,
      "outputs": []
    },
    {
      "cell_type": "markdown",
      "source": "Turns out there is a positive correlation between average price and items sold ($\\rho=0.68$). This is somewhat unexpected since common sense tells us that the more expensive an item is, the lower the demand for it. It is possible that we are witnessing an instance of Simpson's Paradox here. To verify if that is indeed the case, we could instead compute the correlation coefficient for each subcategory, possibly evidencing a negative correlation coefficient in some subcategories. We will not do that right now however, since it would make us deviate too much from our business problem. (You can use Excel for tasks like this.)",
      "metadata": {
        "nbgrader": {
          "grade": false,
          "grade_id": "cell-bb89b55927c62251",
          "locked": true,
          "schema_version": 3,
          "solution": false,
          "task": false
        }
      }
    },
    {
      "cell_type": "markdown",
      "source": "## Finding our top salespeople\n\nAs mentioned earlier, we want to find our best salespeople and see whether or not we can incentivize them in an appropriate manner. Namely, we want to determine if the commission percentage we give them motivates them to make more and bigger sales.",
      "metadata": {
        "nbgrader": {
          "grade": false,
          "grade_id": "cell-65f8310da924a04b",
          "locked": true,
          "schema_version": 3,
          "solution": false,
          "task": false
        }
      }
    },
    {
      "cell_type": "markdown",
      "source": "### Exercise 4 (1 point)\n\nLet's start by finding our top five performing salespeople by using the **`salesytd`** (Sales, year-to-date) column.\n\nHere is a visual of the tables and columns that you will be working with.\n\n![EC4 Exercise 4 - Tables](data/images/EC4_Exercise4_Visual.JPG)\n\n<br>\n\n**Additional Hints:**\n* We only need to know the **`businessEntityID`** for each salesperson as this uniquely identifies each salesperson. \n* Your query should, therefore, only have two columns: **`businessEntityID`** and **`salesytd`**.\n* Do not round the numbers.\n\n<br>\n\nYour output should look like this:\n\n<table border=\"1\" class=\"dataframe\">  <thead>    <tr style=\"text-align: right;\">      <th>businessentityid</th>      <th>salesytd</th>    </tr>  </thead>  <tbody>    <tr>      <td>276</td>      <td>4251368.5497</td>    </tr>    <tr>      <td>289</td>      <td>4116871.2277</td>    </tr>    <tr>      <td>275</td>      <td>3763178.1787</td>    </tr>    <tr>      <td>...</td>      <td>...</td>    </tr>  </tbody></table>\n",
      "metadata": {
        "nbgrader": {
          "grade": false,
          "grade_id": "cell-6cda8ee742e6d487",
          "locked": true,
          "schema_version": 3,
          "solution": false,
          "task": false
        },
        "tags": [
          "6_min"
        ]
      }
    },
    {
      "cell_type": "markdown",
      "source": "**Answer.**",
      "metadata": {
        "tags": [
          "ans_st"
        ]
      }
    },
    {
      "cell_type": "code",
      "source": "-- DELETE THIS COMMENT AND WRITE YOUR ANSWER HERE",
      "metadata": {},
      "execution_count": null,
      "outputs": []
    },
    {
      "cell_type": "markdown",
      "source": "### Exercise 5 (2 points)\n\nThe sales numbers from the previous query are hard-coded into the **`salesPerson`** table instead of dynamically calculated from each sales record. Currently, we don't know how this number is updated or much about it at all, so it's good to remain skeptical.\n\n<br>\n\nHere is a visual of the tables and columns that you will be working with.\n\n* Using the **`salesOrderHeader`** table, find the top 5 salespeople who made the most sales *in the most recent year available* (2014) (there is a column called **`subtotal`** - use that.) \n* Sales that do not have an associated salesperson should be excluded from your calculations and final output.\n* All orders that were made within the 2014 calendar year should be included.\n\n![EC4 Exercise 5 - Tables](data/images/EC4_Exercise5_Visual.JPG)\n\n<br>\n\n**Additional Hints:** \n* Use **`WHERE CLAUSE`** to filter the dates.\n* Put into consideration that some records don't have dates, filter it using **`IS NOT NULL`** keywords, and use **`<> comparison operator`**.\n* Do not worry about rounding the numbers.\n\nYou can use the syntax `WHERE column >= '1970-01-01'` to generate an arbitrary date in SQLite and compare this to specific dates in the tables (in this example, dates equal to or later than Jan 1, 1970). Additionally, when you want to make sure that columns with empty or null values are excluded from a query in SQLite, you have to add a line like this one to your `WHERE` statement: `my_column IS NOT NULL AND my_column <> \"\"`. The `<>` operator is the opposite of `=`; that is, it checks that two values are different from each other.\n\n<br>\n\nYour output should look like this:\n\n<table border=\"1\" class=\"dataframe\">  <thead>    <tr style=\"text-align: right;\">      <th>salespersonid</th>      <th>totalsales</th>    </tr>  </thead>  <tbody>    <tr>      <td>289</td>      <td>1382996.5839000002</td>    </tr>    <tr>      <td>276</td>      <td>1271088.5216</td>    </tr>    <tr>      <td>...</td>      <td>...</td>    </tr>  </tbody></table>\n\n<br>\n\n**Additional Learning Resources:**\n* [W3 - Working with Dates](https://www.w3schools.com/sql/sql_dates.asp)\n* [W3 - Working with NULLS](https://www.w3schools.com/sql/sql_null_values.asp)\n* [W3 - Using AND, OR, NOT](https://www.w3schools.com/sql/sql_and_or.asp)",
      "metadata": {
        "nbgrader": {
          "grade": false,
          "grade_id": "cell-d3ff14f90629f05c",
          "locked": true,
          "schema_version": 3,
          "solution": false,
          "task": false
        },
        "tags": [
          "8_min"
        ]
      }
    },
    {
      "cell_type": "markdown",
      "source": "**Answer.**",
      "metadata": {
        "tags": [
          "ans_st"
        ]
      }
    },
    {
      "cell_type": "code",
      "source": "-- DELETE THIS COMMENT AND WRITE YOUR ANSWER HERE",
      "metadata": {},
      "execution_count": null,
      "outputs": []
    },
    {
      "cell_type": "markdown",
      "source": "You should see right away that there are discrepancies between the two sales totals. This makes sense because we used filters in one table and not the other. Nonetheless, for the remainder of this case, use this dynamically-calculated total as the authoritative answer.",
      "metadata": {
        "nbgrader": {
          "grade": false,
          "grade_id": "cell-7c8496a8cb44e106",
          "locked": true,
          "schema_version": 3,
          "solution": false,
          "task": false
        }
      }
    },
    {
      "cell_type": "markdown",
      "source": "### Exercise 6\n\nSince there are discrepancies between Salesperson table and SalesOrderHeader table, let's double check this by investigating our sales record by manually adding all of the sales amount together.\n<br>\n\nLooking at the documentation, you will see that **`subtotal`** in the **`salesOrderHeader`** table is calculated from other tables in the database. To validate this figure (instead of trusting it blindly), it might be a good idea to calculate the **`subtotal`** manually. Using the **`salesOrderDetail`** and **`salesOrderHeader`** tables, let's calculate the sales for each salesperson for **the year 2014** and display the results for the top 5 salespeople.",
      "metadata": {
        "nbgrader": {
          "grade": false,
          "grade_id": "cell-b761fbb4e64566d0",
          "locked": true,
          "schema_version": 3,
          "solution": false,
          "task": false
        }
      }
    },
    {
      "cell_type": "markdown",
      "source": "#### 6.1 (1 point)\n\nWrite a query that shows the total amount of money paid by their **`salesOrderID`** (find this column in the **`salesOrderDetail`** table).\n\nNote: It is good practice to always use a limit statement (i.e., LIMIT 10) when you do not know how large the output might be. Otherwise, the size of some of these tables may crash your browser and you will need to reload it and rewrite your queries. \n\n<br>\n\nHere is a visual of the tables and columns that you will be working with.\n\n\n\n![EC4 Exercise 6.1 - Tables](data/images/EC4_Exercise6-1_Visual.JPG)\n\n<br>\n\n**Additional Hints**\n* The **`ordertotal`** column in the output sample is an aggregated column\n* Remember to subtract **`unitPriceDiscount`** from each item's price (**`unitPriceDiscount`** is a percentage).\n* You can check out [this link](https://www.geeksforgeeks.org/sql-arithmetic-operators/) to get a refresher on SQL arithmetic\n* Do not worry about rounding the numbers\n\n<br>\n\nYour output should look like this:\n\n| salesorderid | ordertotal         |\n|--------------|--------------------|\n| 43659        | 20565.6206         |\n| 43660        | 1294.2529          |\n| 43661        | 32726.4786         |\n| 43662        | 28832.5289         |\n| 43663        | 419.4589           |\n| 43664        | 24432.608799999995 |\n| 43665        | 14352.7713         |\n| 43666        | 5056.4896          |\n| 43667        | 6107.081999999999  |\n| 43668        | 35944.156200000005 |\n| 43669        | 714.7043           |\n| …            | …                  |\n\n<br>\n\n**Additional Learning Resources**\n* [How to Calculate Discount](https://www.omnicalculator.com/finance/percentage-discount#:~:text=To%20determine%20the%20discount%20percentage,price%20from%20the%20original%20price.)",
      "metadata": {
        "nbgrader": {
          "grade": false,
          "grade_id": "cell-5062d286a906ff4a",
          "locked": true,
          "schema_version": 3,
          "solution": false,
          "task": false
        },
        "tags": [
          "6_min"
        ]
      }
    },
    {
      "cell_type": "markdown",
      "source": "**Answer.**",
      "metadata": {
        "tags": [
          "ans_st"
        ]
      }
    },
    {
      "cell_type": "code",
      "source": "-- DELETE THIS COMMENT AND WRITE YOUR ANSWER HERE",
      "metadata": {},
      "execution_count": null,
      "outputs": []
    },
    {
      "cell_type": "markdown",
      "source": "#### 6.2 (2 points)\n\nUsing the previous query as a subquery (CTE), find the sales for each salesperson for the year 2014 and display results for the top 5 salespeople. <br>\nRemember to exclude sales that are not associated with a salesperson.\n\n<br>\n\nHere is a visual of the tables and columns that you will be working with.\n\n* The CTE on the left is created from **`Exercise 6.1`**.\n* The CTE on the right is modified from **`Exercise 5`**, you will need to add the **`salesOrderID`**.\n\n![EC4 Exercise 6.2 - Tables](data/images/EC4_Exercise6-2_Visual.JPG)\n\n<br>\n\n**Additional Hints:**\n* You can get the **`salesOrderID`** and **`salesPersonID`** pairs from the **`salesOrderHeader`** table.\n* It is recommended to use additional CTE to help simplify your query.\n* Use **`Exercise 6.1`** solution as CTE.\n* Modify **`Exercise 5 `** and use it as CTE.\n\n<br>\n\nYour output should look like this:\n<table border=\"1\" class=\"dataframe\">  <thead>    <tr style=\"text-align: right;\">      <th>salespersonid</th>      <th>ordertotalsum</th>    </tr>  </thead>  <tbody>    <tr>      <td>289</td>      <td>1382996.5839100003</td>    </tr>    <tr>      <td>276</td>      <td>1271088.5214610002</td>    </tr>    <tr>      <td>...</td>      <td>...</td>    </tr>  </tbody></table>\n",
      "metadata": {
        "nbgrader": {
          "grade": false,
          "grade_id": "cell-c81af41db468149d",
          "locked": true,
          "schema_version": 3,
          "solution": false,
          "task": false
        },
        "tags": [
          "10_min"
        ]
      }
    },
    {
      "cell_type": "markdown",
      "source": "**Answer.**",
      "metadata": {
        "tags": [
          "ans_st"
        ]
      }
    },
    {
      "cell_type": "code",
      "source": "-- DELETE THIS COMMENT AND WRITE YOUR ANSWER HERE",
      "metadata": {},
      "execution_count": null,
      "outputs": []
    },
    {
      "cell_type": "markdown",
      "source": "The results are the same as Exercise 5. We still prefer this query though because it is generated from granular data instead of relying on hard-coded figures.",
      "metadata": {
        "nbgrader": {
          "grade": false,
          "grade_id": "cell-efd2ead50c5bf994",
          "locked": true,
          "schema_version": 3,
          "solution": false,
          "task": false
        }
      }
    },
    {
      "cell_type": "markdown",
      "source": "### Exercise 7 (3 points)\n\nNext, let's now see whether there is a positive relationship between the **`total sales of the salespeople`** and their **`commission percentages`**. \n\n<br>\n\nHere is a visual of the tables and columns that you will be working with.\n\n* Using your previous query from **`Exercise 6.2`**, use it as CTE.\n* Join the new CTE query (remove the **`LIMIT`** clause) with the **`salesPerson`** table\n\n![EC4 Exercise 7 - Tables](data/images/EC4_Exercise7_Visual.JPG)\n\n<br>\n\n**Additional Hints:**\n* Remember that the **`businessEntityID`** column from the **`salesPerson`** is compatible with the **`salesPersonID`** column in the query of exercise 6 (they both represent the salesperson ID).\n* Use **`Nested CTE`** by encasing the entire query in Exercise 6.2 into its own CTE.\n* **`JOIN`** the new **`Nested CTE`** with **`salesPerson`** table.\n* Once you get your SQL output, paste the results into an Excel table and use the [`=CORREL()`](https://support.microsoft.com/en-au/office/correl-function-995dcef7-0c0a-4bed-a3fb-239d7b68ca92) formula to calculate the correlation coefficient. If it is positive, the relationship is positive. If it is negative, the relationship is negative. You can view this visually by creating a scatterplot.\n\n<br>\n\nYou should get a table like this one:\n\n| salespersonid | ordertotalsum      | commissionpct |\n|---------------|--------------------|---------------|\n| 274           | 178584.36250800002 | 0.0           |\n| 275           | 1057247.378572     | 0.012         |\n| 276           | 1271088.5214610002 | 0.015         |\n| 277           | 1040093.406901     | 0.015         |\n| …             | …                  | …             |",
      "metadata": {
        "nbgrader": {
          "grade": false,
          "grade_id": "cell-d2882e4f911b9ddb",
          "locked": true,
          "schema_version": 3,
          "solution": false,
          "task": false
        },
        "tags": [
          "10_min"
        ]
      }
    },
    {
      "cell_type": "markdown",
      "source": "**Answer.**",
      "metadata": {
        "tags": [
          "ans_st"
        ]
      }
    },
    {
      "cell_type": "markdown",
      "source": "We externally calculated the correlation coefficient between `ordertotalsum` and `commissionpct`, which turned out to be $\\rho=0.73$. This suggests that the salespeople who earn a high commission are also those who close the bigger deals.",
      "metadata": {
        "nbgrader": {
          "grade": false,
          "grade_id": "cell-dbaf5872225fb1ab",
          "locked": true,
          "schema_version": 3,
          "solution": false,
          "task": false
        }
      }
    },
    {
      "cell_type": "markdown",
      "source": "## Exercise 8 \n\nRemember how we mentioned that products were sold in many regions? This is why you had to work with the `culture` value before getting the English language descriptions. The problem is you are now told the sales are recorded in *local* currency, so your previous analyses are flawed. Technically, you must convert all amounts to USD if you wish to compare the different salespeople fairly! Instead, let's group the salespeople orders by the currency used for each order (you will have to consider `tocurrencyrate` for this task in the `CurrencyRate` table). \n\n#### 8.1 (1 point)\n\nLet's explore the currencies in different sales. But first, here are some things to understand about the currency columns:\n* The **`FromCurrencyCode`** is all USD, so focus on **`toCurrencyRate`**\n* If the sale was paid in USD, the **`currencyRateID`** was left blank (since there was no need to make a conversion)\n\nCreate a table with the **`salesPersonID`**, **`salesOrderID`**, **`CurrencyRateID`** and **`toCurrencyCode`** to see the connection. Remember to exclude sales that are not associated with a salesperson and only consider sales in 2014. Order by the salesperson ID and show only 10 rows. \n\nHere is a visual of the tables and columns that you will be working with. <br>\n\n![EC4 Exercise 8.1 - Tables](data/images/EC4_Exercise8-1_Visual.JPG)+\n\n<br>\n\n**Additional Hints**\n* Since **`USD`** would not show up in the **`CurrencyRate`** table, you will have to do a **`LEFT JOIN`** to avoid losing information. \n* Be sure that you understand how the content of the **`CurrencyRate`** table is read and what each column means.\n* Use additional cells to experiment if needed.\n* The **`None`** in the above example takes the place of **`NULL`** values, which contextually means that the sale was in USD. \n\n<br>\n\nYour table should look like this:\n\n| salespersonid | salesorderid | currencyrateid | tocurrencycode |\n|---------------|--------------|----------------|----------------|\n| 274           | 65294        | None           | None           |\n| 274           | 65298        | None           | None           |\n| 274           | 67277        | None           | None           |\n| 274           | 67286        | 11427          | CAD            |\n| 274           | 69528        | None           | None           |\n| …             | …            | …              | …              |\n\n\n",
      "metadata": {
        "nbgrader": {
          "grade": false,
          "grade_id": "cell-bb851e5a0ca68a66",
          "locked": true,
          "schema_version": 3,
          "solution": false,
          "task": false
        }
      }
    },
    {
      "cell_type": "markdown",
      "source": "**Answer.**",
      "metadata": {
        "tags": [
          "ans_st"
        ]
      }
    },
    {
      "cell_type": "code",
      "source": "-- DELETE THIS COMMENT AND WRITE YOUR ANSWER HERE",
      "metadata": {},
      "execution_count": null,
      "outputs": []
    },
    {
      "cell_type": "markdown",
      "source": "As expected, we can see that different salespeople have sales in different currencies. \n\n**Note**: The `None` in the above example takes the place of `NULL` values, which contextually means that the sale was in USD. ",
      "metadata": {
        "nbgrader": {
          "grade": false,
          "grade_id": "cell-3ed9418c8261b031",
          "locked": true,
          "schema_version": 3,
          "solution": false,
          "task": false
        }
      }
    },
    {
      "cell_type": "markdown",
      "source": "#### 8.2 (2 points)\n\nLooking good!  We can now see which sales order are from a different currency, but there is a big issue!<br>\nThe **`None`** in the above query can be confusing to someone who doesn't understand the database. In this case, it's best to replace them with useful information. \n\nRedo the previous exercise with the following changes:\n* Leave out the **`currencyRateID`** column \n* Replace **`None`** with 'USD' in the **`toCurrencyCode`** column\n* One way of completing this task is to use the **`CASE`** expression, which can be incorporated as outlined in the **`Sample Code`** below. <br>\n\nThe expected output should look like this, where **`None`** has been replaced by **`USD`**, while other values remaind as is...\n\n| salespersonid | salesorderid | tocurrencycode |\n|---------------|--------------|----------------|\n| 274           | 65294        | USD            |\n| 274           | 65298        | USD            |\n| 274           | 67277        | USD            |\n| 274           | 67286        | CAD            |\n| 274           | 69528        | USD            |\n| …             | …            | …              |\n\n<br>\n\n**Additional Learning Resource**\n* [W3 - CASE Expression](https://www.w3schools.com/sql/sql_case.asp)\n\n<br>\n\n**Sample Code**\n~~~sql\nSELECT column1, column2, \nCASE\n    WHEN condition1 THEN result1\n    ELSE result2\nEND AS column3\nFROM TableName\n~~~",
      "metadata": {
        "nbgrader": {
          "grade": false,
          "grade_id": "cell-f1f9352209f56cb1",
          "locked": true,
          "schema_version": 3,
          "solution": false,
          "task": false
        }
      }
    },
    {
      "cell_type": "markdown",
      "source": "**Answer.**",
      "metadata": {
        "tags": [
          "ans_st"
        ]
      }
    },
    {
      "cell_type": "code",
      "source": "-- DELETE THIS COMMENT AND WRITE YOUR ANSWER HERE",
      "metadata": {},
      "execution_count": null,
      "outputs": []
    },
    {
      "cell_type": "markdown",
      "source": "### Exercise 9 (3 points)\n\nMuch better! Now that we have the currency codes associated with each salesperson ID, redo Exercise 7, adding in the **`toCurrencyCode`**. Order the results by currency (ascending) and total sales (descending) to make it easier to see who the best salespeople are for each currency.\n\nHere is a visual of the tables and columns that you will be working with.\n \n* The ERD comes from Exercise 7 with slight modification\n* **`salesPersonAndOrder`** has been modified to include **`toCurrencyCode`**\n* Remember to integrate the **`CASE expression`** to get USD values in, refer to Exercise 8.2\n* The resulting CTE **`salesPersonTotalSales`** is to include **`toCurrencyCode`**\n\n\n![EC4 Exercise 9 - Tables](data/images/EC4_Exercise9_Visual.JPG)\n\n<br>\n\nThis is what the expect output will look like...\n\n| salespersonid | tocurrencycode | ordertotalsum      | commissionpct |\n|---------------|----------------|--------------------|---------------|\n| 286           | AUD            | 585755.800528      | 0.018         |\n| 285           | AUD            | 21267.336          | 0.0           |\n| 289           | CAD            | 1382996.5839100003 | 0.02          |\n| …             | …              | …                  |               |",
      "metadata": {
        "nbgrader": {
          "grade": false,
          "grade_id": "cell-263a8de6ce76022b",
          "locked": true,
          "schema_version": 3,
          "solution": false,
          "task": false
        }
      }
    },
    {
      "cell_type": "markdown",
      "source": "**Answer.**",
      "metadata": {
        "tags": [
          "ans_st"
        ]
      }
    },
    {
      "cell_type": "code",
      "source": "-- DELETE THIS COMMENT AND WRITE YOUR ANSWER HERE",
      "metadata": {},
      "execution_count": null,
      "outputs": []
    },
    {
      "cell_type": "markdown",
      "source": "## CONGRATULATIONS!!!\nYou did it!  You have completed ALL Extended Cases!  I hope that you all feel more confident in your abilities to use the technologes taught in this program! <br>\n\nTo keep your skillset sharp, we highly encourage you to further explore and utilize what you've learned by building your own portfolio.  Use public datasets or collect your own data through webscraping and continue building your style of analytics.\n\nIt has been an amazing journey with you all and we wish you all the best! \n\nPat yourself on the back, because you did it!",
      "metadata": {}
    },
    {
      "cell_type": "markdown",
      "source": "## Attribution\n\n\"AdventureWorks database\", Nov 7, 2017, Microsoft Corporation, [MIT License](https://docs.microsoft.com/en-us/sql/samples/sql-samples-where-are?view=sql-server-ver15), https://github.com/microsoft/sql-server-samples/tree/master/samples/databases/adventure-works",
      "metadata": {}
    }
  ]
}