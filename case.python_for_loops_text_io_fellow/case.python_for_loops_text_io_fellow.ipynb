{
  "metadata": {
    "c1_recart": "7.64.0-57c20131aabc1dc2a8c675852d80a7da",
    "kernelspec": {
      "name": "python",
      "display_name": "Python (Pyodide)",
      "language": "python"
    },
    "language_info": {
      "codemirror_mode": {
        "name": "ipython",
        "version": 3
      },
      "file_extension": ".py",
      "mimetype": "text/x-python",
      "name": "python",
      "nbconvert_exporter": "python",
      "pygments_lexer": "ipython3",
      "version": "3.6.9"
    }
  },
  "nbformat_minor": 4,
  "nbformat": 4,
  "cells": [
    {
      "cell_type": "markdown",
      "source": "# How many confirmed cases of COVID19 are there in the states of the US?\n\n**Learning goal:** In this case, you will learn how to write `for` loops and how to read and write plain-text files using Python.\n\nYou work as a data analyst at a local think tank that specializes in social policy. Today your boss obtained a nice COVID-19 dataset and wants you to help him with a quick report to include in one of his presentations. He would like you to find how many confirmed cases there were between Jan 22, 2020, and Feb 9, 2021, for each state and save the results to a text file. He also needs to know how many cumulative cases there have been in the entire US.\n\nThe data came to you in a folder called `confirmed`, which has 52 subfolders inside, one folder for each US state + 2 territories. Inside each subfolder, there are plain text files, one file per county. These files have 385 rows each because there were 385 days between Jan 22, 2020, and Feb 9, 2021.\n\nThese data represent cumulative confirmed cases of COVID-19 per county. That means that the numbers report not only how many people got sick that day but also how many had had COVID-19 before (since Jan 22, 2020), including those who recovered, those who didn't recover, and those who caught the virus more than once.",
      "metadata": {}
    },
    {
      "cell_type": "markdown",
      "source": "## Madison, Indiana\n\nTo read a file into Python, we use the **`open()`** method and the `r` (\"read\") argument. To get a list of all the rows in the file, we use **`.readlines()`**.\n\n**Note:** Throughout this case, we will truncate the outputs of some of the cells using list slicing to make it easier to navigate the notebook.",
      "metadata": {}
    },
    {
      "cell_type": "code",
      "source": "file = open(\"data/confirmed/Indiana/Madison.csv\", \"r\")\nmadison_indiana = file.readlines()\nmadison_indiana[0:15] # The list has 385 rows, but we only show the first 15",
      "metadata": {},
      "execution_count": null,
      "outputs": []
    },
    {
      "cell_type": "markdown",
      "source": "Each row is a string that contains the actual confirmed cases and the `\\n` character, which signals a new line. We want to make this very weird list of strings into a list of integers. In order to achieve that, we need to:\n\n1. Iterate through each element in the list\n2. Extract the number\n3. Store the number in another list",
      "metadata": {}
    },
    {
      "cell_type": "markdown",
      "source": "Our best aid for this kind of task is the **`for` loop**. `for` loops are Python blocks that automate repetitive tasks. The syntax is as follows:\n\n~~~python\nfor item in sequence:\n    <do something> # possibly including the `item` variable name\n~~~\n\nwhere `sequence` is a list, tuple, set, dictionary, or string (in the case of a string, `for` loops iterate over all the characters of that string). The `for` loop above \"does something\" *for each* item in the sequence, so if the sequence has 10 elements, the loop performs the task 10 times. The keyword `for` is short for \"for each\".",
      "metadata": {}
    },
    {
      "cell_type": "markdown",
      "source": "## Practicing with for-loops",
      "metadata": {}
    },
    {
      "cell_type": "markdown",
      "source": "### Example 1 \n\nIterate through a string, s, and save each character from this string in a list.\n~~~json\n    input:    s = \"Correlation1\"\n\n    output:   ['C','o','r','r','e','l','a','t','i','o','n','1']\n~~~",
      "metadata": {}
    },
    {
      "cell_type": "markdown",
      "source": "**Answer.**",
      "metadata": {}
    },
    {
      "cell_type": "code",
      "source": "#This first block uses print statements to visually display what is happening during each iteration of our loop\n\ns = \"Correlation1\"\n\nletter_list = []\n\nfor letter in s:\n    print('--Begin one iteration of loop--')\n    print(f'Element of string for this iteration = {letter}')\n    print('Add this letter to the letter list')\n    letter_list.append(letter)\n    print(letter_list)\n    print('--Go to next iteration of loop--')\n    print()\n\nprint(letter_list)",
      "metadata": {},
      "execution_count": null,
      "outputs": []
    },
    {
      "cell_type": "code",
      "source": "#This block is performing the same function, without the helper print statements\n\ns = \"Correlation1\"\n\nletter_list = []\n\nfor letter in s:\n    letter_list.append(letter)\n    \nprint(letter_list)",
      "metadata": {},
      "execution_count": null,
      "outputs": []
    },
    {
      "cell_type": "markdown",
      "source": "### Example 2\n\nMake a new list using the first letter of each word from the provided list of words.\n\n~~~json\n    input: ['Data', 'Science', '4', 'All']\n    output: ['D', 'S', '4', 'A']\n~~~",
      "metadata": {}
    },
    {
      "cell_type": "markdown",
      "source": "**Answer.**",
      "metadata": {}
    },
    {
      "cell_type": "code",
      "source": "#This first block uses print statements to visually display what is happening during each iteration of our loop\n\nword_list = [\"Data\", \"Science\", \"4\", \"All\"]\noutput = []\n\nfor word in word_list:\n    print('--Begin one iteration of loop--')\n    print(f'Element of word list for this iteration = {word}')\n    print(f'Pull first letter from this word: {word[0]}')\n    print('Add this letter to our output list')\n    output.append(word[0])\n    print(output)\n    print('--Go to next iteration of loop--')\n    print()\n\nprint(output)",
      "metadata": {},
      "execution_count": null,
      "outputs": []
    },
    {
      "cell_type": "code",
      "source": "#This block is performing the same function, without the helper print statements\n\nword_list = [\"Data\", \"Science\", \"4\", \"All\"]\noutput = []\n\nfor word in word_list:\n    output.append(word[0])\n    \nprint(output)",
      "metadata": {},
      "execution_count": null,
      "outputs": []
    },
    {
      "cell_type": "markdown",
      "source": "## Writing a `for` loop\n\nEach element of the `madison_indiana` list is a string that contains the actual confirmed cases and the `\\n` character, which signals a new line, like this: `['25\\n', '35\\n', ...]`. We want to make this very weird list of strings into a list of integers (like this `[25, 35, ...]`). In order to achieve that, we need to:\n\n1. Iterate through each element in the list\n2. Extract the number\n3. Store the number in another list\n\nWhat would our `for` loop look like? The first step, \"iterate through each element in the list,\" is easy:\n\n~~~python\nfor row in madison_indiana:\n~~~\n\nFor the second step, we need to extract the number. We could certainly write something like this:\n\n~~~python\nrow = row.replace(\"\\n\", \"\") # Getting rid of the newline\nnumber = int(row) # Converting into an integer\n~~~\n\nHowever, wrapping these two lines into a function might be easier to read:\n\n~~~python\ndef extract_number(some_text):\n    some_text = some_text.replace(\"\\n\", \"\") # Getting rid of the newline\n    number = int(some_text) # Converting into an integer\n    return number\n~~~\n\nWe can now include `extract_number(row)` in our `for` loop:",
      "metadata": {}
    },
    {
      "cell_type": "code",
      "source": "def extract_number(some_text):\n    some_text = some_text.replace(\"\\n\", \"\")\n    number = int(some_text)\n    return number\n\nfor row in madison_indiana[0:15]:\n    print(extract_number(row))",
      "metadata": {},
      "execution_count": null,
      "outputs": []
    },
    {
      "cell_type": "markdown",
      "source": "Now we've successfully extracted the numbers. The last step was \"Store the number in another list\". This would be the usual way to do that:",
      "metadata": {}
    },
    {
      "cell_type": "code",
      "source": "madison_indiana_numbers = []\n\nfor row in madison_indiana:\n    number = extract_number(row)\n    madison_indiana_numbers.append(number)",
      "metadata": {},
      "execution_count": null,
      "outputs": []
    },
    {
      "cell_type": "markdown",
      "source": "We first created an empty list, `madison_indiana_numbers`, then iterated through the lines of the file with the `for` loop, and for each row, we extracted the number with our function and appended the result to our empty list. So we basically populated our list iteratively (remember from a past case that you can append elements to lists using `my_list.append()`). Let's see what our cleaned data looks like:",
      "metadata": {}
    },
    {
      "cell_type": "code",
      "source": "madison_indiana_numbers[0:15]",
      "metadata": {},
      "execution_count": null,
      "outputs": []
    },
    {
      "cell_type": "markdown",
      "source": "To find the current number of confirmed cases, we use the **`max()`** method (this is a cumulative time series, so the most recent value will always be the maximum):",
      "metadata": {}
    },
    {
      "cell_type": "code",
      "source": "max(madison_indiana_numbers)",
      "metadata": {},
      "execution_count": null,
      "outputs": []
    },
    {
      "cell_type": "markdown",
      "source": "### Doing it for the whole of Indiana\n\nThere are 94 files in the folder for Indiana alone. If `for` loops weren't a thing, you'd have to read the files one by one and store the results manually, but now you have the knowledge to automate this task.",
      "metadata": {}
    },
    {
      "cell_type": "markdown",
      "source": "### Exercise 1\n\nWrite a `for` loop to iterate through all the files in the `data/confirmed/Indiana` folder and save each file as an element in a list called `indiana_data`.\n\n**Hint:** This code will give you a list of all the files that are inside the Indiana folder, with their relevant paths:\n\n~~~python\nimport glob\nlist_of_files = glob.glob(\"data/confirmed/Indiana/*.csv\")\n~~~\n\nAlso, remember to use `open()` and `.readlines()`.",
      "metadata": {
        "tags": [
          "10_min"
        ]
      }
    },
    {
      "cell_type": "markdown",
      "source": "**Answer.**",
      "metadata": {
        "tags": [
          "ans_st"
        ]
      }
    },
    {
      "cell_type": "markdown",
      "source": "### Exercise 2\n\nNow that you have `indiana_data`, create a `for` loop that iterates through it and extracts the numbers. Call the resulting nested list `indiana_data_clean`.\n\nFor this exercise, you'll have to use a **nested `for` loop**, that is, a `for` loop inside another `for` loop. The nested loop should be indented, like in this example:\n\n~~~python\nfor i in [1,2,3]: # This is the first loop\n    for j in [4,5,6]: # This is the nested loop\n        print(i+j)\n~~~\n\n**Hint:** You need two empty lists: One is `indiana_data_clean`, and the other one corresponds to the county numbers for a particular county (we give you these lists in the code below). You will append the cleaned numbers to this second list and then iteratively append all the county lists (one per country) to `indiana_data_clean`.\n\nWe provide you with a section of the code to help you get started:\n\n~~~python\nindiana_data_clean = []\n\nfor county in indiana_data:\n    county_numbers = []\n    # Your nested for loop here\n    indiana_data_clean.append(county_numbers)\n~~~\n",
      "metadata": {
        "tags": [
          "13_min"
        ]
      }
    },
    {
      "cell_type": "markdown",
      "source": "**Answer.**",
      "metadata": {
        "tags": [
          "ans_st"
        ]
      }
    },
    {
      "cell_type": "markdown",
      "source": "Finally, let's compute the current number of cases for each county and then the state-wide total:",
      "metadata": {}
    },
    {
      "cell_type": "code",
      "source": "indiana_current = []\nfor county in indiana_data_clean:\n    curr_cases = max(county)\n    indiana_current.append(curr_cases)\n    \nsum(indiana_current)",
      "metadata": {},
      "execution_count": null,
      "outputs": []
    },
    {
      "cell_type": "markdown",
      "source": "Now we know there have been 642,071 confirmed cases in Indiana.",
      "metadata": {}
    },
    {
      "cell_type": "markdown",
      "source": "## Doing the same for all the states and counties\n\nThere are 3,334 files in our dataset. Scaling our analysis to the whole country sounds like a great job for a `for` loop.\n\nFor our convenience, let's wrap our cleaning code into a function:",
      "metadata": {}
    },
    {
      "cell_type": "code",
      "source": "def clean_county_data(path):\n    \"\"\"\n    Takes a file path, loads the file into Python\n    and returns a list with the cleaned data.\n    \"\"\"\n    # Reading in the file\n    file = open(path, \"r\")\n    content = file.readlines()\n    \n    # Cleaning the data and appending it to county_numbers\n    county_numbers = []\n    for row in content:\n        number = extract_number(row)\n        county_numbers.append(number)\n        \n    return county_numbers",
      "metadata": {},
      "execution_count": null,
      "outputs": []
    },
    {
      "cell_type": "markdown",
      "source": "To call this function, you would type something like this, and the result will be a list of integers (the numbers that correspond to the county passed as input):",
      "metadata": {}
    },
    {
      "cell_type": "code",
      "source": "clean_county_data(\"data/confirmed/Indiana/Madison.csv\")",
      "metadata": {},
      "execution_count": null,
      "outputs": []
    },
    {
      "cell_type": "markdown",
      "source": "### Exercise 3\n\nThis code gives you the list of all the states:\n\n~~~python\nimport os\nlist_of_states = os.listdir(\"data/confirmed\")\n~~~\n\nAnd this gives you the list of all the files in `data/confirmed/Indiana`:\n\n~~~python\nglob.glob(\"data/confirmed/Indiana/*.csv\")\n~~~\n\nYou can parameterize this last piece of code like this:\n\n~~~python\nstate = \"Indiana\"\nglob.glob(\"data/confirmed/\" + state + \"/*.csv\")\n~~~\n\nWith this in mind, write a `for` loop that gives the following output (you will have to nest loops):\n\n![Desired output](data/images/desired_result.png)\n\nThe desired result is a list in which each element is a list with two elements: 1) The name of the state and 2) the total number of confirmed cases in that state. Call this list `result`.\n\n**Hint:** We give you part of the code to help you get started (you have to add your `for` loop after the `# Your code here` comment):\n\n~~~python\nimport os\nlist_of_states = os.listdir(\"data/confirmed\")\n\nresult = []\nfor state in list_of_states:\n    # A list where we'll store the maximums from each county in this state\n    list_of_current_numbers = []\n    \n        # Cleaning all the corresponding county files and finding their maximums\n        list_of_counties = glob.glob(\"data/confirmed/\" + state + \"/*.csv\")\n        # Your code here\n    \n    # Summing the current numbers of all the counties of this state\n    state_total = sum(list_of_current_numbers)\n    \n    # Appending the results to the result list\n    result.append([state, state_total])\n\nresult\n~~~",
      "metadata": {
        "tags": [
          "12_min"
        ]
      }
    },
    {
      "cell_type": "markdown",
      "source": "**Answer.**",
      "metadata": {
        "tags": [
          "ans_st"
        ]
      }
    },
    {
      "cell_type": "markdown",
      "source": "We can finally sum up all the state-level totals to get a grand total for the entire US:",
      "metadata": {}
    },
    {
      "cell_type": "code",
      "source": "only_totals = []\nfor state in result:\n    only_totals.append(state[1]) # We are interested just in the number, not the name of the state\n\nsum(only_totals)",
      "metadata": {},
      "execution_count": null,
      "outputs": []
    },
    {
      "cell_type": "markdown",
      "source": "From Jan 22, 2020, to Feb 9, 2021, the number of cumulative COVID-19 cases in the US was 27,224,664.",
      "metadata": {}
    },
    {
      "cell_type": "markdown",
      "source": "Saving your results as a text file is easy. Let's create the file `covid_cases.txt`. For that, we use this code (notice that we used `w` instead of `r` this time - this is because we want to <b>w</b>rite to that file, not just <b>r</b>ead it):",
      "metadata": {}
    },
    {
      "cell_type": "code",
      "source": "new_file_to_save = open(\"covid_cases.txt\", \"w\")\nline = \"From Jan 22, 2020 to Feb 9, 2021, the number of cumulative COVID-19 cases in the US was 27,224,664.\"\nnew_file_to_save.write(line)\nnew_file_to_save.close()",
      "metadata": {},
      "execution_count": null,
      "outputs": []
    },
    {
      "cell_type": "markdown",
      "source": "Go to this case's folder. The new file should be there with the results!",
      "metadata": {}
    },
    {
      "cell_type": "markdown",
      "source": "## Appendix\n\nHere is a summary of the main points we covered in this case:\n\n* **Opening a text file**: `file = open(\"path/to/the/file\", \"r\")`. To read the lines of the file and save them as a list, you use `list_of_lines = file.readlines()`.\n* **For loops**. This diagram shows the different parts of a `for` loop block:\n\n![For loops](data/images/for_anatomy.png)\n\n* **Populating a list iteratively:** This is a common task, so save the snippet:\n\n~~~python\nlist_to_populate = []\nfor item in some_sequence:\n    new_item = some_function(item)\n    list_to_populate.append(new_item)\n~~~\n\n* **Getting a list of all the files with `extension` in a directory (directory is just another name for \"folder\")**:\n\n~~~python\nimport glob\nlist_of_files = glob.glob(\"path/to/directory/*.extension\")\n~~~\n\nTwo important things to notice here. First, if you are not familiar with the term **extension**, it is simply the text that comes after the dot in file names. Extensions help identify the file type. For instance, `my_excel.xlsx` has the `.xslx` extension, which identifies Excel files, and `my_image.png` has the `.png` extension, which tells you this is a PNG image file. The second important thing is that this snippet uses an asterisk (`*`) as a **wildcard**. In this context, this symbol tells Python to take into account all the files that are inside that folder ending in `.extension`. So, for instance, this code would catch `hello.extension` and `goodbye.extension` but not `this_is.anotherextension`. Wildcards are placeholders that stand for some undetermined text before or after some other known text.\n* **Getting a list of all the subdirectories in a directory**:\n\n~~~python\nimport os\nlist_of_subfolders = os.listdir(\"path/to/directory\")\n~~~\n\n\n* **Nested `for` loops:** To nest a `for` loop inside another `for` loop, you have to indent the inner loop (the statements of the inner loop will therefore be indented twice).\n* **Creating a file, writing a line, and saving the file to disk**: This is a generic snippet to do that:\n\n~~~python\nnew_file_to_save = open(\"path/to/folder/name_of_new_file.txt\", \"w\")\nline = \"Some text to write\"\nnew_file_to_save.write(line)\nnew_file_to_save.close()\n~~~",
      "metadata": {}
    },
    {
      "cell_type": "markdown",
      "source": "## Attribution\n\n*JHU CSSE COVID-19 Dataset*. Johns Hopkins University on behalf of its Center for Systems Science in Engineering. February 9, 2021. Creative Commons Attribution 4.0 International. https://github.com/CSSEGISandData/COVID-19. For additional information, please refer to \"Dong E, Du H, Gardner L. An interactive web-based dashboard to track COVID-19 in real time. Lancet Inf Dis. 20(5):533-534. doi: 10.1016/S1473-3099(20)30120-1\"",
      "metadata": {}
    }
  ]
}