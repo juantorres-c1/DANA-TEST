{
  "metadata": {
    "c1_recart": "7.52.0-57c20131aabc1dc2a8c675852d80a7da",
    "kernelspec": {
      "name": "python",
      "display_name": "Python (Pyodide)",
      "language": "python"
    },
    "language_info": {
      "codemirror_mode": {
        "name": "python",
        "version": 3
      },
      "file_extension": ".py",
      "mimetype": "text/x-python",
      "name": "python",
      "nbconvert_exporter": "python",
      "pygments_lexer": "ipython3",
      "version": "3.8"
    }
  },
  "nbformat_minor": 5,
  "nbformat": 4,
  "cells": [
    {
      "cell_type": "markdown",
      "source": "# Creating a sales dashboard in Looker Studio\n\n![Piano](data/images/piano.jpg)",
      "metadata": {},
      "id": "182af48a-6916-4346-87db-2791129d3d55"
    },
    {
      "cell_type": "markdown",
      "source": "## Goals\n\nIn this case, you will build an interactive dashboard using [Looker Studio](https://datastudio.google.com/) (formerly Google Data Studio). You will learn how to include charts, sliders, scorecards, filters, pages, and drill-down in order to make it easy to interpret and professional-looking.",
      "metadata": {
        "tags": [
          "1_min"
        ]
      },
      "id": "f4cd840c-0a2f-4f5e-a9ed-dc28c889282f"
    },
    {
      "cell_type": "markdown",
      "source": "## Introduction\n\n**Business Context.** You are a member of the business analytics team of *Simply Music*, a Florida-based musical instrument store that has been growing at a fast pace over the last few years. Management is keen to find out what the most popular items are and which locations are the most profitable in order to adjust their marketing strategies and their stock logistics to increase sales and revenue. They also want to learn about the number of deliveries made outside Florida since they are contemplating opening a new branch in another state.\n\n**Business Problem.** You are tasked with creating a sales dashboard for management to use. You already designed the dashboard and chose what charts will be included. **Your task now is to build the dashboard using [Looker Studio](https://datastudio.google.com/)**, Google's free Business Intelligence tool. Remember that the managers are interested in having these three broad questions answered:\n\n1. How have our sales, revenue, and profits evolved over time?\n2. What are the locations with the highest numbers of sales and profit?\n3. What are the items with the highest numbers of sales, profit, and revenue across product description, product type, product line, location, customer age group, and state of delivery?\n\n**Analytical Context.** You have been given a sample dataset of 5000 sales records from Simply Music, corresponding to the years 2018 and 2019. The data points are in the [`simply_music.csv`](data/simply_music.csv) file.",
      "metadata": {
        "tags": [
          "5_min"
        ]
      },
      "id": "7ba11c2a-2580-4b23-b0bf-8c4ea5f72ecf"
    },
    {
      "cell_type": "markdown",
      "source": "## The planned layout\n\nWe previously decided on three layouts. First, we said that both pages would have this general layout:\n\n<img src=\"data/images/main_layout.jpg\" alt=\"Main layout\" width=\"500\">\n\nThen, we said that the Bird's-eye-view page would look like this (the logo, scorecards, and date picker would be part of the banner):\n\n<img src=\"data/images/birds_eye_layout.jpg\" alt=\"Bird's-eye-view\" width=\"500\">\n\nAnd this would be how the elements of the Detailed view page would be arranged on screen:\n\n<img src=\"data/images/detailed_view_layout.jpg\" alt=\"Detailed view\" width=\"500\">\n\n",
      "metadata": {
        "tags": [
          "3_min"
        ]
      },
      "id": "5848c00c-6f41-4c05-9853-3309e6cdbe0f"
    },
    {
      "cell_type": "markdown",
      "source": "## Creating our dashboard in Looker Studio",
      "metadata": {},
      "id": "a3779afb-12c8-4f02-bafe-71e0106382eb"
    },
    {
      "cell_type": "markdown",
      "source": "### Loading our data\n\nLet's open [Looker Studio](https://datastudio.google.com). Note: if this is your first time using Looker Studio, you may have to link your Google account. Follow those prompts and then try this again. \n\nThe first thing we have to do is upload our data. Go to \"Create -> Data source\":\n\n![Create source](data/images/create_source.png \"Create source\")\n\nLook for the \"File Upload\" option, click on it, and then \"Click to Upload Files\". Upload the [`simply_music.csv`](data/simply_music.csv) table:\n\n![CSV upload](data/images/file_upload.png \"CSV upload\")\n\n![Drag files](data/images/drag_files.png \"Drag files\")\n\nAfter you have uploaded the table from your computer, edit the name of the connection (I used \"Simply Music\") in the upper right-hand corner of the screen, and then hit \"Connect\":\n\n![Connect](data/images/connect.png \"Connect\")\n\nThen click on \"Create Report\" (note that you may want to check `Type` and `Default Aggregation` when you upload your own data; the first time you do this, you might see a prompt asking if you want to add data to the report. Check the box that says `Don't show me this again` and then click `ADD TO REPORT`.):\n\n![Create report](data/images/create_report.png \"Create report\")\n\nYou can change `Untitled Report` to whatever you like (I used \"Simply Music 2018-2019 Report\").\n\n**Note:** Looker Studio will create a table and place it on the canvas by default. You can delete it if you like.",
      "metadata": {
        "tags": [
          "5_min"
        ]
      },
      "id": "a822354c-bf67-417a-842e-c876b4d0f4ae"
    },
    {
      "cell_type": "markdown",
      "source": "### Creating the pages\n\nTo adjust the theme and layout, right-click on any blank space on the canvas and select \"Theme and Layout\". The \"Theme and Layout\" sidebar will appear. Go to the \"Layout\" tab. You will see the default navigation type is `Left`:\n\n![Navigation Left](data/images/navigation_left.png \"Navigation Left\")\n\nNow go to \"Page -> New Page\", which will create a page. We must repeat this operation for each new page we want to create. Remember that we have to create two pages - Bird's-Eye View and Detailed View. Now, if you click on \"View\" (the blue button on the top right), you'll see your blank report with a sidebar and the two (unnamed) pages there.\n\nYou can rename your pages (while in Edit mode) by selecting \"Page -> Manage Pages\" at the top. \n\n![Rename Page](data/images/rename_page_1.png \"Rename Page\")\n\nA new menu called \"Report Pages\" will open, and if you hover over each \"Untitled Page\" you can select the three dots on the right and select \"Rename\", and they type in whatever name you want.\n\n![Rename Page](data/images/rename_page_2.png \"Rename Page\")",
      "metadata": {
        "tags": [
          "3_min"
        ]
      },
      "id": "a142c9ba-5393-4576-817f-deb73a53cb51"
    },
    {
      "cell_type": "markdown",
      "source": "### The Bird's-Eye View page\n\nIf you check the data carefully, you'll see that there is no `PROFIT` column. Since this will be one of the main metrics of our dashboard, we need to create it. This is our definition of profit:\n\n$$Profit = Dollars{\\ }Sold - Total{\\ }Cost$$\n\n`TOTAL_COST` doesn't exist either, so we'll create it. The formula for this variable is:\n\n$$Total{\\ }Cost = Units{\\ }Sold \\times Cost$$\n\nTo create these variables, we add a new chart first. Click on \"Add a chart\" in the tools bar and select \"Bar\". This or something similar will appear on the canvas:\n\n<img src=\"data/images/first_chart.png\" width=\"500\"/>\n\nThen select the chart and go to \"Data\" in the right sidebar. At the bottom, you'll see the option to add a field - click on that:\n\n![\"Add a field\"](data/images/add_a_field.png)\n\nName it `TOTAL_COST` and write the following in the formula box:\n\n```\nUNITS_SOLD*COST\n```\n\nSave.",
      "metadata": {
        "tags": [
          "5_min"
        ]
      },
      "id": "30c6bca9-9f70-435c-a089-aaabfa8bb031"
    },
    {
      "cell_type": "markdown",
      "source": "### Exercise 1\n\nNow repeat the process, only this time name the new field `PROFIT` and put this in the formula box:\n\n```\nDOLLARS_SOLD - TOTAL_COST\n```",
      "metadata": {
        "tags": [
          "3_min"
        ]
      },
      "id": "f2457c18-4ccb-4426-b5d3-72b2567a7f62"
    },
    {
      "cell_type": "markdown",
      "source": "Now we have our `PROFIT` column and are ready to create the first chart. This will be a line chart, according to the layout we planned.\n\nSo now let's select our chart, go to the top of the right sidebar; click on \"Chart\", and select a line chart (time series chart) from the palette.\n\nCharts in Looker Studio have several important inputs:\n\n* **Dimension**: The dimension that will be plotted (the categories)\n* **Date range dimension**: The dimension that will be used as the time dimension. Looker Studio will find it automatically for us, so we won't modify it. It is the `TIME_KEY` from our data\n* **Metric**: The number that will be computed and plotted\n* **Drill-down**: Whether the plot will have drill-down or not\n* **Chart interactions (cross-filtering)**: This checkbox will only be checked if we want our plot to double both as a plot and as a page-level filter",
      "metadata": {
        "tags": [
          "3_min"
        ]
      },
      "id": "9b333124-b90c-4319-841e-40b7ed92b57b"
    },
    {
      "cell_type": "markdown",
      "source": "### Exercise 2\n",
      "metadata": {
        "tags": [
          "1_min"
        ]
      },
      "id": "df8d64ca-ad23-41f8-a899-e684ab9034bf"
    },
    {
      "cell_type": "markdown",
      "source": "Let's now create our line chart. Since the dimension will be the date, we're actually going to create a time series plot. The metrics will be revenue and profit. If it is not already there, drag and drop the `TIME_KEY` column into the \"Date Range Dimension\" box. Drag and drop the `DOLLARS_SOLD` and the `PROFIT` columns into the \"Metrics\" box (note that `DOLLARS_SOLD` is the same as revenue).\n\nLet's change the date granularity to \"Month\". Drag and drop the `MONTH` variable into the \"Dimension\" field.\n\nMake sure that the metrics are all set to \"Sum\", and change their names if needed. To perform either of these two operations, you click on the little box to the left of the metric name (if you hover over it, a pencil icon will appear) and make the desired changes.\n\n![Line chart tab](data/images/line_chart_chart_tab.png \"Line chart/ Chart tab\")\n\nNow add a text box above the chart with the question and some useful information, and your chart should look something like this:\n\n![Line chart of Bird's-eye View](data/images/line_chart_sales_birdseye.png \"Line chart of Bird's-eye View\")",
      "metadata": {
        "tags": [
          "3_min"
        ]
      },
      "id": "dd70272f-e25d-47d4-9458-1b94c02c414b"
    },
    {
      "cell_type": "markdown",
      "source": "### Exercise 3\n\nCreate the same kind of chart for the count of units sold over time (monthly).",
      "metadata": {
        "tags": [
          "4_min"
        ]
      },
      "id": "3b287a48-b0c9-42db-8751-5a0bd38d0d6a"
    },
    {
      "cell_type": "markdown",
      "source": "**Answer.**",
      "metadata": {
        "tags": [
          "ans_st"
        ]
      },
      "id": "9cd9cb96-928e-4054-afb9-e9ae465ba76f"
    },
    {
      "cell_type": "markdown",
      "source": "### Adding the rest of the charts to the Bird's-Eye View page\n\nLet's create the rest of our charts (including the scorecards), and let's add the company logo as well (it is in the `data/images` folder as [`logo.jpg`](data/images/logo.jpg)). To insert an image, go to \"Insert -> Image\" and then upload it from the button in the right sidebar.\n\nTo add a scorecard, simply go to \"Add a chart\", and under the scorecard section, select \"Scorecard with compact numbers\". Then drag the `UNITS_SOLD` variable into \"Metric\": \n\n<video controls src=\"data/videos/scorecard.mp4\" />",
      "metadata": {
        "tags": [
          "15_min"
        ]
      },
      "id": "a42aa957-da58-4527-a16f-192dda30b3ef"
    },
    {
      "cell_type": "markdown",
      "source": "The colors that go best with our logo are salmon and grey. Luckily, there's a theme preset in Looker Studio with exactly those colors. Right-click anywhere in the canvas (though not on a chart) and select \"Theme and Layout\". Go to \"Theme\" in the right sidebar. The \"Insight\" theme looks nice, so click on it.\n\n<video controls src=\"data/videos/theme.mp4\" />",
      "metadata": {},
      "id": "1191f012-8938-4dae-8294-1f930acbdb08"
    },
    {
      "cell_type": "markdown",
      "source": "Finally, let's add the date picker. For the date picker, you go to \"Add a Control\" (in the toolbar) and then \"Date Range Control\". With it, the user will be able to pick a date range, and all the charts in the page will be updated accordingly.\n\n<video controls src=\"data/videos/date_range_control.mp4\" />",
      "metadata": {},
      "id": "be3a707d-5c20-471d-b293-92c6210e4cb8"
    },
    {
      "cell_type": "markdown",
      "source": "We add some more explanatory text, and our first page is done:\n\n![First page](data/images/first_page.png \"The first page\") ",
      "metadata": {},
      "id": "0446a309-010e-4b89-8273-83f2b0374726"
    },
    {
      "cell_type": "markdown",
      "source": "### Exercise 4\n\nNow do the same with the second page, the \"Detailed View\".\n\n**Note 1:** We said we wanted to add drill-down to the first bar chart on this page. To achieve that, simply check the \"Drill-down\" checkbox under the \"DATA\" tab in the right sidebar while having the chart selected. Then add the drill-down dimensions like this:\n\n<video controls src=\"data/videos/how_to_drill_down.mp4\" />",
      "metadata": {
        "tags": [
          "15_min"
        ]
      },
      "id": "90da0510-c6dc-482b-bbbd-4bf5e5dd0b00"
    },
    {
      "cell_type": "markdown",
      "source": "In the plot, you will need to use the up/down arrows above it to view the additional levels (that is, to actually drill up or down).\n\nNow when you click on a bar, it will show all the subcategories and update all the other charts to only include the data points that fall into the category represented by that bar.\n\n**Note 2:** For the geographic map, we recommend you use Bubble Map as the chart type and not a choropleth (\"Geo chart\"), since it is easier to set up. The settings for this chart should look like this:\n![Google maps options](data/images/google_map_options_2.png \"Google maps options\")",
      "metadata": {},
      "id": "8c9ee09b-9c56-41e2-98fe-7fc603d771ce"
    },
    {
      "cell_type": "markdown",
      "source": "**Answer.**",
      "metadata": {
        "tags": [
          "ans_st"
        ]
      },
      "id": "762abce5-f4ac-48de-ab65-49077825cd35"
    },
    {
      "cell_type": "markdown",
      "source": "## Publishing your dashboard\n\n### Exercise 5\n\nNow our report is ready to be presented to users! The last step is to actually share it. This is pretty straightforward. First, click on the \"Share button\":\n\n![Share](data/images/share.png)\n\nThen go to the \"Manage access\" tab in the dialog that appears:\n\n![Manage access](data/images/manage_access.png)\n\nIn order to make the dashboard public, you need to select \"Anyone with the link can view\". Copy the link and share it with the class. Your dashboard must be looking great! Here is [ours](https://datastudio.google.com/reporting/08153ac0-1d21-4e4a-a887-219edf92425c) for your reference.",
      "metadata": {
        "tags": [
          "5_min"
        ]
      },
      "id": "852f6165-104a-4538-8600-44d26d6f3ce5"
    },
    {
      "cell_type": "markdown",
      "source": "## Conclusions & takeaways\n\nIn this case, you learned how to make and publish a dashboard using Looker Studio. You added drill-down and various filters to the different charts and included not only traditional charts but also a geographical bubble chart and some scorecards.",
      "metadata": {
        "tags": [
          "2_min"
        ]
      },
      "id": "36953a31-fc29-4d0d-ae85-fa7f7ddd466e"
    },
    {
      "cell_type": "markdown",
      "source": "## Attribution\n\n\"Ernst Kaps model 158B grand piano\", Phil Shayer, Byron Bay, 22 January 2012, Creative Commons Attribution-Share Alike 4.0 International license, https://commons.wikimedia.org/wiki/File:ERNST_KAPS_MODEL_158B_GRAND_PIANO.jpg",
      "metadata": {},
      "id": "25f96719-6a12-4231-87e3-26b15b24c833"
    }
  ]
}