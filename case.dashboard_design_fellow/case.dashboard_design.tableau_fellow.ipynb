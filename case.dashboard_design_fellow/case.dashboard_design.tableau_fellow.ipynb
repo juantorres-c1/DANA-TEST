{
  "metadata": {
    "c1_recart": "7.52.0-57c20131aabc1dc2a8c675852d80a7da",
    "kernelspec": {
      "name": "python",
      "display_name": "Python (Pyodide)",
      "language": "python"
    },
    "language_info": {
      "name": ""
    }
  },
  "nbformat_minor": 5,
  "nbformat": 4,
  "cells": [
    {
      "cell_type": "markdown",
      "source": "# Creating a sales dashboard in Tableau\n\n![Piano](data/images/piano.jpg)",
      "metadata": {
        "tags": [
          "67_min",
          "111_min"
        ]
      },
      "id": "8c72a4d2-500f-4daf-8a70-0a373f4ec3b9"
    },
    {
      "cell_type": "markdown",
      "source": "## Goals\n\nIn this case, you will learn how to build an interactive dashboard using [Tableau](https://www.tableau.com/products/desktop). You will be introduced to Tableau worksheets, charts, and dashboards and will learn how to drill down and how to publish your reports on [Tableau Public](https://public.tableau.com/en-us/s/).",
      "metadata": {
        "tags": [
          "1_min"
        ]
      },
      "id": "07f13c37-74f1-49fb-80f6-fb1a7f3ed4b5"
    },
    {
      "cell_type": "markdown",
      "source": "## Introduction\n\n**Business Context.** You are a member of the business analytics team of *Simply Music*, a Florida-based musical instrument store that has been growing at a fast pace over the last few years. Management is keen to find out what the most popular items are and which locations are the most profitable in order to adjust their marketing strategies and their stock logistics to increase sales and revenue. They also want to learn about the number of deliveries made outside Florida since they are contemplating opening a new branch in another state.\n\n**Business Problem.** You are tasked with creating a sales dashboard for management to use. You already designed the dashboard and chose what charts will be included. Your task now is to **build the dashboard using [Tableau](https://www.tableau.com/products/desktop)**, one of the leading Business Intelligence (BI) tools in the market. Remember that the managers are interested in having these three broad questions answered:\n\n1. How have our sales, revenue, and profits evolved over time?\n2. What are the locations with the highest numbers of sales and profit?\n3. What are the items with the highest numbers of sales, profit, and revenue across product description, product type, product line, location, customer age group, and state of delivery?\n\n**Analytical Context.** You have been given a sample dataset of 5000 sales records from Simply Music, corresponding to the years 2018 and 2019. The data points are in the [`simply_music_tableau.csv`](data/simply_music_tableau.csv) file.",
      "metadata": {
        "tags": [
          "5_min"
        ]
      },
      "id": "2d7d242a-6c4d-404f-b783-10bddba4f8e5"
    },
    {
      "cell_type": "markdown",
      "source": "## What is Tableau?\n\n[Tableau](https://www.tableau.com/) is a software company that specializes in developing Business Intelligence (BI) tools. Its flagship product, the powerful [Tableau Desktop](https://www.tableau.com/products/desktop), is a direct competitor of other BI suites like PowerBI and Google Data Studio and has seen an increase in popularity in the last few years. It is an excellent tool for data analysis and a must-know if you want to have a career as a data professional.\n\nWe will be developing our dashboard using [Tableau Public](https://www.tableau.com/products/public), which is the free version of Tableau Desktop. If you use this free version, all of your dashboards will be published on the web. You can also use the web version of Tableau, but there are some minor differences in functionality compared to the desktop version. [Here](https://public.tableau.com/en-us/gallery/) is a gallery of some nice dashboards that people have uploaded to Tableau Public in the past.",
      "metadata": {
        "tags": [
          "2_min"
        ]
      },
      "id": "4adb595d-7dc0-403c-a7d2-18c26adedf58"
    },
    {
      "cell_type": "markdown",
      "source": "### The planned layout\n\nWe previously decided on two layouts. The first one was the Bird's-eye-view page:\n\n<img src=\"data/images/birds_eye_layout.jpg\" alt=\"Bird's-eye-view\" width=\"500\">\n\nAnd the second was the Detailed view page:\n\n<img src=\"data/images/detailed_view_layout.jpg\" alt=\"Detailed view\" width=\"500\">\n\nWe also said that we wanted to have a navigation sidebar with the names of the pages. This is not really necessary in Tableau because pages are shown as tabs at the top of the screen (more on that later), so these two layouts are all that we need for now.",
      "metadata": {
        "tags": [
          "3_min"
        ]
      },
      "id": "c9a67c09-2d10-4d78-8dd4-033c7a248064"
    },
    {
      "cell_type": "markdown",
      "source": "## Creating our dashboard in Tableau Public\n\n### Loading our data\n\nLet's open Tableau Desktop. The first thing we have to do is upload our data. Go to `Connect -> To a File -> Text File`. Select the `simply_music_tableau.csv` file and click \"Upload\":\n\nAfter you have uploaded the table from your computer, you will see the `Data Source` page, which has two panels. The left one displays information about the data you just imported, and the right one is the canvas, which allows you to create relationships between tables.",
      "metadata": {
        "tags": [
          "5_min"
        ]
      },
      "id": "663d8686-8604-4ce8-9032-d0f3fee08e6d"
    },
    {
      "cell_type": "markdown",
      "source": "### Modeling our data\n\nYou will see the `simply_music_tableau.csv` file, including a preview of the columns and a few rows of data. A new tab will be created once the data is loaded. To start visualizing the data, click on the worksheet:\n\n![Click on Worksheet](data/images/t_simplymusic_model.png \"Click on Worksheet\")\n\n**Note:** This is where you would normally model your data - however, in our case, we don't have any data that needs modeling because we are working with a single file that has been cleaned already, rather than multiple files from multiple sources.",
      "metadata": {
        "tags": [
          "2_min"
        ]
      },
      "id": "322df41e-e7ba-47ee-8fe7-6ac1f37b24e9"
    },
    {
      "cell_type": "markdown",
      "source": "### Creating the visualizations\n\nTableau uses a workbook and sheet file structure, similar to Microsoft Excel (a single workbook contains one or more sheets). A sheet can be a worksheet, a dashboard, or a story. A **worksheet** shows the dataset and its metadata, a **dashboard** shows different views from multiple worksheets, and a **story** is a collection of worksheets or dashboards that together form a narrative from the data.\n\nBefore creating multiple worksheets, let's rename the worksheet from `Sheet 1` to `Location of Sales` by right-clicking on its name, then add two dashboards and rename them from `Dashboard 1` to `Bird's-Eye View`, and from `Dashboard 2` to `Detailed` (the `New Dashboard` button is the one in the middle):\n\n![Rename Sheets and Add Dashboards](data/images/t_rename_worksheet_add_dashboard.png \"Rename Sheets and Add Dashboards\")",
      "metadata": {
        "tags": [
          "3_min"
        ]
      },
      "id": "e27468c4-381b-478a-a343-60a8a0deeb41"
    },
    {
      "cell_type": "markdown",
      "source": "Remember that we have two pages - Bird's-Eye View and Detailed View. If you click on any of the worksheets or dashboards, they will be blank because we have not created any visualizations yet.\n\n![Rename Page](data/images/t_dashboard_blank.png \"Blank Dashboard\")\n\nLet's start populating the first dashboard, \"Bird's-Eye View\".",
      "metadata": {},
      "id": "ede455aa-d2f9-4241-8a3d-1bd51dc92adc"
    },
    {
      "cell_type": "markdown",
      "source": "## The Bird's-Eye View page\n\n### Creating calculated fields\n\nWhile on the `Location of Sales` worksheet, you'll see that there isn't a `Profit` column. Since this will be one of the main metrics of our dashboard, we need to create it. This is our definition of profit:\n\n$$Profit = Dollars{\\ }Sold - Total{\\ }Cost$$\n\n`Total_Cost` doesn't exist either, so we'll create it. The formula for this variable is:\n\n$$Total{\\ }Cost = Units{\\ }Sold \\times Cost$$\n\nTo create a calculated field, go to the Data pane and right-click on the name of the `Cost` variable. Then click on `Create Calculated Field...`. A box will appear with the name `Calculation1`. Rename `Calculation1` to `Total Cost` and write the following in the formula box:\n\n```\n[Units Sold] * [Cost]\n```\n![Total Cost](data/images/t_cost_calc.png \"Total Cost\")\n\nClick `OK`.",
      "metadata": {
        "tags": [
          "4_min"
        ]
      },
      "id": "39078bfb-fa3a-4a63-9caa-9c785d02da70"
    },
    {
      "cell_type": "markdown",
      "source": "### Exercise 1\n\nWe did the `Total Cost` calculation first because we need to reference that measure in the profit calculation. Now repeat the process, this time right-clicking on the `Total Cost` variable header. Name the new field `Profit` and use the formula for profit that we mentioned above.",
      "metadata": {
        "tags": [
          "3_min"
        ]
      },
      "id": "db48ab44-3c71-4e43-a6f7-c560f1c889f5"
    },
    {
      "cell_type": "markdown",
      "source": "**Answer.**",
      "metadata": {
        "tags": [
          "ans_st"
        ]
      },
      "id": "8c666244-365a-44f1-a591-1cc650736e66"
    },
    {
      "cell_type": "markdown",
      "source": "### Creating visualizations\n\nWhen you build a view, you add fields to the worksheet using an interface reminiscent of a pivot table. The video below demonstrates this, using the `Profit` column as an example:\n\n\n <video controls src=\"data/videos/t_drag_field.mp4\" />",
      "metadata": {
        "tags": [
          "2_min"
        ]
      },
      "id": "2503d704-cade-47dd-ba99-ce6b72ca73e1"
    },
    {
      "cell_type": "markdown",
      "source": "### Creating charts\n\nNow we have our `Profit` column and are ready to create the first chart. This will be a line chart according to the layout we planned. The dimension will be the date (since it is a time series plot), and the measures will be revenue and profit. Follow the steps below to build it:\n\n1. Create a new worksheet called `Revenue vs. profit`.\n2. In that worksheet, select both `Profit` and `Dollars Sold` by holding down \"CTRL\" on your keyboard, selecting both measures, and dragging them to the \"Rows\" shelf. Make sure that the measures are set to \"Sum\".\n3. Select the `Time Key` dimension and drag it to the \"Columns\" shelf.\n4. Click the \"Show Me\" button and select the line chart option \"For dual lines try\".\n5. Let's change the date granularity to monthly. Click the arrow next to the header of the `Time Key` dimension and select \"Month\" (you will see that there are two \"Month\" options here, so make sure to select the one which includes the year as well.)\n6. Right-click on the $x$-axis and click \"Edit Axis\", then update \"Axis Titles\" to \"Month\". Your chart should look something like this:\n\n![Line Chart Final](data/images/t_line_chart_profit.png)",
      "metadata": {
        "tags": [
          "6_min"
        ]
      },
      "id": "d7ed12ea-63d9-40c7-ab3b-7654c6978a24"
    },
    {
      "cell_type": "markdown",
      "source": "### Exercise 2\n\nCarry out the above process for your `Sales` line chart (you will only need one vertical axis in this one).",
      "metadata": {
        "tags": [
          "4_min"
        ]
      },
      "id": "7bd2bb99-ca5f-45dd-b9c2-7b84a5788a7c"
    },
    {
      "cell_type": "markdown",
      "source": "**Answer.**",
      "metadata": {
        "tags": [
          "ans_st"
        ]
      },
      "id": "ce64491b-eadb-4aec-b50a-4d1b5267a9a7"
    },
    {
      "cell_type": "markdown",
      "source": "### Exercise 3\n\nNow let's create the revenue and profit grouped bar chart according to the layout we planned. Firstly, re-name the variable `SUM(Dollars Sold)` to `Revenue`(keep in mind that although it will automatically change to `SUM(Revenue)`, the sum of `Dollars Sold` is just `Revenue` and not `SUM(Revenue)`. However, we can keep it how it is for the purposes of this exercise.) \n\nBegin creating the chart by dragging `Channel`and `Measure Names` into the \"Columns\" shelf and `Measure Values` into the \"Rows\" shelf. Then remove all variables from the `Measure Values` section apart from `SUM(Revenue)` and  `SUM(Profit)`. \n\n\n**Hint:** You will have to use the \"Swap Rows and Columns\" icon:\n\n![Swap rows and columns](data/images/t_swap_rows_columns.png)",
      "metadata": {
        "tags": [
          "6_min"
        ]
      },
      "id": "262685ac-3d0b-4b24-9331-ba6440aa8fc4"
    },
    {
      "cell_type": "markdown",
      "source": "**Answer.**",
      "metadata": {
        "tags": [
          "ans_st"
        ]
      },
      "id": "393f1555-34d1-4019-aa20-d2530ede0dae"
    },
    {
      "cell_type": "markdown",
      "source": "### Exercise 4\n\nCreate a bar chart that shows sales (units sold) by location.",
      "metadata": {
        "tags": [
          "4_min"
        ]
      },
      "id": "bd7a89e6-9aed-4c7b-b378-b86bdb1d8783"
    },
    {
      "cell_type": "markdown",
      "source": "**Answer.**",
      "metadata": {
        "tags": [
          "ans_st"
        ]
      },
      "id": "bc00e38a-f3be-4648-bbaa-5d31b7d1a770"
    },
    {
      "cell_type": "markdown",
      "source": "### Adding the charts to the Bird's-Eye View page\n\nLet's add our charts to the first dashboard. First, we will add a visualization to the dashboard - in the \"Sheets\" pane, click on the sheet you would like to add and drag it onto the canvas.\n\n\n<video controls src=\"data/videos/t_drag_worksheet.mp4\" />",
      "metadata": {
        "tags": [
          "15_min"
        ]
      },
      "id": "0ce7f984-3095-450c-8998-eaff82eade87"
    },
    {
      "cell_type": "markdown",
      "source": "Second, we'll add the company logo (it is in the `data/images` folder as [`logo.jpg`](data/images/logo.jpg)). To insert an image, go to the `Object` pane, then click on `Image` and drag it onto the dashboard canvas. Select the image by clicking `Choose`, then find it and click `Fit Image` and then `OK`:\n\n\n<video controls src=\"data/videos/t_insert_logo.mp4\" />",
      "metadata": {},
      "id": "0ef4e86c-8f20-4707-b23e-db9cad2502fa"
    },
    {
      "cell_type": "markdown",
      "source": "You'll notice the visualization colors don't align with the logo colors. Go to the worksheet and adjust the colors to red and gray (this might not be possible for all chart types):\n\n\n<video controls src=\"data/videos/t_colors.mp4\" />",
      "metadata": {},
      "id": "a5b0a35f-a883-4a2e-8f5a-cf69e76ecae7"
    },
    {
      "cell_type": "markdown",
      "source": "Now is a good moment to save our work. Let's upload our progress to Tableau Public. To do so, go to \"File -> Save to Tableau Public As\". You will be prompted to login to your Tableau account. Create an account if you don't have one. Then give your workbook a descriptive name and save it:\n\n![Saving to Tableau Public](data/images/t_save_tableau_public.png)",
      "metadata": {},
      "id": "a53b896a-f31f-440d-986d-65787ad7e966"
    },
    {
      "cell_type": "markdown",
      "source": "Now we need to add a filter for our users to select a date range and update the charts in the dashboard accordingly. We are using a **data source filter** (which filters the data source directly), and we apply this filter by adding the `Time Key` to the \"Filters\" shelf. To do this, we need to go back to one of the sheets and drag the `Time Key` dimension to the \"Filters\" shelf.\n\nNext, we will select \"Range of Dates -> Next\". We will not be changing the filter here, so leave the dates as the default (which are the earliest date in the dataset and the latest date in the dataset). Next, we right-click on the `Time Key` in the \"Filters\" shelf, then click \"Apply to Worksheets -> All Using This Data Source\". This applies the filter to any visualization created from this dataset:\n\n\n<video controls src=\"data/videos/t_filter.mp4\" />\n\nTo learn more about filters, you can check [the documentation](https://help.tableau.com/current/pro/desktop/en-us/filtering.htm).",
      "metadata": {},
      "id": "085a6292-51f0-49bf-bf7b-cae3e2c94380"
    },
    {
      "cell_type": "markdown",
      "source": "To add the filter to the dashboard, we return to the dashboard and select the visual. A down arrow will show up, which leads to more available options. Select \"Filters -> Time Key\":\n\n![Dashboard Filters](data/images/t_dashboard_filter.png)",
      "metadata": {},
      "id": "1ec152b4-1121-41d1-a23e-1c5dccc0f069"
    },
    {
      "cell_type": "markdown",
      "source": "To add a scorecard to your dashboard, you create a new worksheet and add the desired metric (with the appropriate aggregation function) to the rows field. Then you select the \"Text tables\" chart type. Finally, you add the table to your dashboard:\n\n\n<video controls src=\"data/videos/t_add_scorecard.mp4\" />",
      "metadata": {},
      "id": "409b97a9-3d06-4e48-b88e-ba80c33dc1d9"
    },
    {
      "cell_type": "markdown",
      "source": "To edit the name of a visual, double-click the title. To format the size or color of visuals, right-click on the graphic and click \"Format\".",
      "metadata": {},
      "id": "ccb5a148-4837-4daf-9191-332d0e5bb8b1"
    },
    {
      "cell_type": "markdown",
      "source": "### Exercise 5\n\n#### 5.1\n\nCreate the `Profit`, `Revenue`, and `Units sold` scorecards and add them to the dashboard.",
      "metadata": {
        "tags": [
          "5_min"
        ]
      },
      "id": "0b075e8b-cce7-4380-a2f7-b915fa96190f"
    },
    {
      "cell_type": "markdown",
      "source": "#### 5.2\n\nAdd the rest of the charts to the dashboard and resize as needed. Choose \"Size\" and then \"Automatic\" under \"Dashboard\" on the left-hand side to have space to fit everything in. It should end up looking similar to this (don't worry if it is not exactly the same - we tweaked the aesthetics a bit):\n\n![Bird's eye view screenshot](data/images/t_birds_eye_view_screenshot.png)",
      "metadata": {
        "tags": [
          "7_min"
        ]
      },
      "id": "f45c6006-9745-4d26-9a2e-c8d4b6636412"
    },
    {
      "cell_type": "markdown",
      "source": "## The Detailed View page\n\nLet's populate the second page, the \"Detailed View\", starting with the geographical bubble chart.\n\nFollow these steps:\n\n1. Create a new worksheet.\n2. Drag `Destination State` to the `Columns` area and `Units sold` to the rows area.\n3. Go to `Show me` and select `Symbol maps` (this is the way Tableau calls geographical bubble charts). A new map will be created.\n4. Now, we need to get rid of null values since, in Tableau, these can alter the scale that is used to plot the bubbles. Drag the `Destination State` field again from \"Tables\" to the `Filters` card and make sure to deselect `Null` in the `Edit filter` menu.\n5. Finally, edit the size of the bubbles by clicking on `Size` in the `Marks` card.\n\nThe video below shows the full process:\n\n\n<video controls src=\"data/videos/t_geochart_2.mp4\" />",
      "metadata": {
        "tags": [
          "6_min"
        ]
      },
      "id": "7ad29f06-556a-4d23-ab90-9342a60bcea0"
    },
    {
      "cell_type": "markdown",
      "source": "### Adding drill-down\n\nWhen you add drill-down, you define a hierarchy of categories such that when you select one of them in your dashboard, all the subcategories show. When a chart has drill-down enabled, a small \"+\" will appear on hover. If you click it, the subcategories will show. To drill up, you hover again and click on the \"-\" sign:\n\n<video controls src=\"data/videos/t_drill_down_how.mp4\" />",
      "metadata": {
        "tags": [
          "6_min"
        ]
      },
      "id": "c7796d71-bd88-4b53-b86c-32e78b668a0b"
    },
    {
      "cell_type": "markdown",
      "source": "To enable drill-down in a Tableau chart, you need to first create a hierarchy. You do that by dragging the fields in the Data pane that would act as subcategories and nesting them inside the supercategory like this:\n\n<video controls src=\"data/videos/t_hierarchy.mp4\" />",
      "metadata": {},
      "id": "58d0e552-06e6-4748-8ba7-1950ce1b8052"
    },
    {
      "cell_type": "markdown",
      "source": "You can order the fields to show that there are more levels in the hierarchy. For instance, in the hierarchy above, `Description` is nested inside `Product type`, which is itself nested inside `Product line`.\n​\nThen you simply need to drag the hierarchy to your rows or columns area and create the chart as usual. You can then go to each visual and select \"Use as Filter\" (the funnel icon):\n​\n![Use as filter](data/images/t_use_as_filter.png)\n​\nOnce the filter icon is selected, you can select any data point in a chart, and all the charts will update dynamically.",
      "metadata": {},
      "id": "4efd96f6-619d-4776-9695-92369d50ef93"
    },
    {
      "cell_type": "markdown",
      "source": "### Exercise 6\n\nNow populate and organize the second page, the \"Detailed View\". Add drill-down to the two bar charts that show the most profitable items and the most sold items. Your second page should be similar to the one below (we've tweaked the aesthetics just a bit, so don't worry if the look isn't exactly the same):\n\n![Detailed page end result](data/images/t_detailed.png)",
      "metadata": {
        "tags": [
          "15_min"
        ]
      },
      "id": "29f9bbd5-8b3e-45d9-9d8b-54df98ea4de4"
    },
    {
      "cell_type": "markdown",
      "source": "## Publishing your dashboard\n\nNow our report is ready to be presented to users! The last step is to actually publish it on Tableau Public. This is pretty straightforward - follow these steps:\n\n1. Right-click on all of the worksheets and click \"Hide\". Don't hide your dashboards - only the worksheets where the individual charts were created.\n2. Go to \"File -> Save to Tableau Public\" to save your dashboard online. Tableau will open a web browser tab where you will find your published dashboard.\n3. On the Tableau website, click on the gear icon and toggle the \"Show sheets\" selector to activate it. This will make both dashboards show as tabs on the Tableau Public website:\n\n\n<video controls src=\"data/videos/t_show_as_tabs.mp4\" />\n\nYou can then click on the share icon, which is two places to the left of the gear icon, and copy the link to your dashboard. Share it with the class! Here is [ours](https://public.tableau.com/views/SimplyMusicdashboard/Birds-Eyeview?:language=en-US&publish=yes&:display_count=n&:origin=viz_share_link) for your reference.\n\n**Hint:** If you want to visualize your dashboard in full-screen mode (which we recommend), click on the \"Full Screen\" icon in the bottom-right corner of the dashboard in Tableau Public.",
      "metadata": {
        "tags": [
          "5_min"
        ]
      },
      "id": "561bd799-f024-4b49-84fc-0c22736a0cab"
    },
    {
      "cell_type": "markdown",
      "source": "You can then click on the share icon, which is two places to the left of the gear icon, and copy the link to your dashboard. Share it with the class! Here is [ours](https://public.tableau.com/views/SimplyMusicdashboard/Birds-Eyeview?:language=en-US&publish=yes&:display_count=n&:origin=viz_share_link) for your reference.\n\n**Hint:** If you want to visualize your dashboard in full-screen mode (which we recommend), click on the \"Full Screen\" icon in the bottom-right corner of the dashboard in Tableau Public.",
      "metadata": {},
      "id": "41ae062b-6be6-494b-98ca-193ddc4d4708"
    },
    {
      "cell_type": "markdown",
      "source": "## Conclusions & Takeaways\n\nIn this case, you learned how to make and publish a dashboard using Tableau Public. You added drill-down and various filters to the different charts and included not only traditional charts but also a geographical bubble chart and some scorecards.",
      "metadata": {
        "tags": [
          "2_min"
        ]
      },
      "id": "f2f2a3ec-f1dc-47e4-8aa3-0340a679e5c5"
    },
    {
      "cell_type": "markdown",
      "source": "## Attribution\n\n\"Ernst Kaps model 158B grand piano\", Phil Shayer, Byron Bay, 22 January 2012, Creative Commons Attribution-Share Alike 4.0 International license, https://commons.wikimedia.org/wiki/File:ERNST_KAPS_MODEL_158B_GRAND_PIANO.jpg",
      "metadata": {},
      "id": "535496f0-290a-4005-bfb7-159f6bea3760"
    }
  ]
}