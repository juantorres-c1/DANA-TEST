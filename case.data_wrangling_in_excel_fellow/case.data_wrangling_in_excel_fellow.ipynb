{
 "cells": [
  {
   "cell_type": "markdown",
   "metadata": {
    "tags": [
     "62_min",
     "109_min"
    ]
   },
   "source": [
    "# Data Wrangling in Excel"
   ]
  },
  {
   "cell_type": "markdown",
   "metadata": {
    "tags": [
     "3_min"
    ]
   },
   "source": [
    "## Goals\n",
    "\n",
    "We should be comfortable with functions such as `INDEX()` + `MATCH()` to find data and with functions like `SUM()`, `COUNT()`, and `AVERAGE()` to calculate aggregates. In this case, we will learn some functions to deal with textual data and look at how to work with conditional logic in Excel. The functions we will be learning today are:\n",
    "\n",
    "* [`LEFT()`](https://support.microsoft.com/en-us/office/left-leftb-functions-9203d2d2-7960-479b-84c6-1ea52b99640c)\n",
    "* [`RIGHT()`](https://support.microsoft.com/en-us/office/right-rightb-functions-240267ee-9afa-4639-a02b-f19e1786cf2f)\n",
    "* [`MID()`](https://support.microsoft.com/en-us/office/mid-midb-functions-d5f9e25c-d7d6-472e-b568-4ecb12433028)\n",
    "* [`CONCAT()`](https://support.microsoft.com/en-us/office/concat-function-9b1a9a3f-94ff-41af-9736-694cbd6b4ca2)\n",
    "* [`TRIM()`](https://support.microsoft.com/en-us/office/trim-function-410388fa-c5df-49c6-b16c-9e5630b479f9)\n",
    "* [`UPPER()`](https://support.microsoft.com/en-us/office/upper-function-c11f29b3-d1a3-4537-8df6-04d0049963d6)\n",
    "* [`LOWER()`](https://support.microsoft.com/en-us/office/lower-function-3f21df02-a80c-44b2-afaf-81358f9fdeb4)\n",
    "* [`PROPER()`](https://support.microsoft.com/en-us/office/proper-function-52a5a283-e8b2-49be-8506-b2887b889f94)\n",
    "* [`IF()`](https://support.microsoft.com/en-us/office/if-function-69aed7c9-4e8a-4755-a9bc-aa8bbff73be2)\n",
    "* [`AND()`](https://support.microsoft.com/en-us/office/and-function-5f19b2e8-e1df-4408-897a-ce285a19e9d9)\n",
    "* [`OR()`](https://support.microsoft.com/en-us/office/or-function-7d17ad14-8700-4281-b308-00b131e22af0)\n",
    "* [`NOT()`](https://support.microsoft.com/en-us/office/not-function-9cfc6011-a054-40c7-a140-cd4ba2d87d77)\n",
    "* [`SEARCH()`](https://support.microsoft.com/en-us/office/search-searchb-functions-9ab04538-0e55-4719-a72e-b6f54513b495)\n",
    "* [`FIND()`](https://support.microsoft.com/en-us/office/find-findb-functions-c7912941-af2a-4bdf-a553-d0d89b0a0628)\n",
    "* [`IFERROR()`](https://support.microsoft.com/en-us/office/iferror-function-c526fd07-caeb-47b8-8bb6-63f3e417f611)"
   ]
  },
  {
   "cell_type": "markdown",
   "metadata": {
    "tags": [
     "4_min"
    ]
   },
   "source": [
    "## Introduction\n",
    "\n",
    "**Business context.** E-Sports are exciting and thriving forms of competition where players compete in video games rather than physical sports. They are also a growing part of the video game industry, especially since the advent of affordable and high-quality live streaming technology. As a junior data analyst at a marketing consulting firm, you were requested by one of your colleagues to find and prepare some data about the most popular and highest-earning gamers in the world. Your colleague will analyze this data to provide information for an important upcoming marketing campaign.\n",
    "\n",
    "**Business problem.** You will need to *prepare the data for your colleague and give them an idea of the kind of interesting insights that they will be able to obtain from it*.\n",
    "\n",
    "**Analytical context.** You will be working with the Excel workbook file esports_earnings.xlsx, which has information on the top 1,000 E-Sports players in the world (across 10 popular games), as measured by their career earnings."
   ]
  },
  {
   "cell_type": "markdown",
   "metadata": {
    "tags": [
     "5_min"
    ]
   },
   "source": [
    "## Text data - numbers are only half the story!\n",
    "\n",
    "When working with datasets over your professional life, you will find a lot of data that is stored as text rather than numbers. Sometimes we will even find *unstructured* text fields, which are free-form text blocks that do not conform to specific rules and are therefore much harder for computers to understand.\n",
    "\n",
    "Our dataset has 3 sheets:\n",
    "\n",
    "1. `highest_earning_players`, which holds the list of the top 1,000 players together with their full names, their handle or nickname in the game they play, their country of origin, their total earnings, the game they play, and the genre of that game.\n",
    "2. `highest_earning_teams`, which is very similar but contains the names of teams instead of players. No country is listed since teams can have players from many countries.\n",
    "3. `country_codes`, which has the list of all countries along with their country codes and the continents they are in.\n",
    "\n",
    "There is also a 4th sheet that contains some helpful formula examples called `aux_formulas`.  \n",
    "\n",
    "Notice that the sheet `highest_earning_players` only includes an abbreviation of the name of the country or continent for each player and not the full name - let's fix that."
   ]
  },
  {
   "cell_type": "markdown",
   "metadata": {
    "tags": [
     "12_min"
    ]
   },
   "source": [
    "### Exercise 1\n",
    "\n",
    "Using `INDEX()` and `MATCH()`, fill out the `country_name` and `continent_name` columns in the `highest_earning_players` sheet with the corresponding country names and continent names for all players."
   ]
  },
  {
   "cell_type": "markdown",
   "metadata": {
    "tags": [
     "ans_st"
    ]
   },
   "source": [
    "**Answer.**"
   ]
  },
  {
   "cell_type": "markdown",
   "metadata": {
    "tags": [
     "6_min"
    ]
   },
   "source": [
    "### Extracting text\n",
    "\n",
    "The first functions we will learn will be those that allow us to extract part of a block of text. [**`LEFT()`**](https://support.microsoft.com/en-us/office/left-leftb-functions-9203d2d2-7960-479b-84c6-1ea52b99640c), as its name implies, allows us to get the left-most part of a text string. The first argument is the text from which you wish to extract a part, and the second argument is the number of characters you want to extract. Take a look at the example in cell G4 of the `aux_formulas` sheet. You can play around with the number in cell J4 to extract a few more or a few less characters out of the text string.\n",
    "\n",
    "[**`RIGHT()`**](https://support.microsoft.com/en-us/office/right-rightb-functions-240267ee-9afa-4639-a02b-f19e1786cf2f) works exactly the same way but takes characters counting from (you guessed it) the right!\n",
    "\n",
    "Finally, [**`MID()`**](https://support.microsoft.com/en-us/office/mid-midb-functions-d5f9e25c-d7d6-472e-b568-4ecb12433028) grabs characters from the middle of the text string. Its arguments are the text, the position of the first character from which to begin extracting text, and the number of characters to extract. See the example in cell G7 of the `aux_formulas` sheet.\n",
    "\n",
    "As you may have noticed, everything in a text string is counted as a character - spaces, punctuation marks, and even emojis (if you choose to insert one into a cell)!"
   ]
  },
  {
   "cell_type": "markdown",
   "metadata": {
    "tags": [
     "3_min"
    ]
   },
   "source": [
    "### Example 1\n",
    "\n",
    "Get the first letter for all players' first names and place them in the `first_initial` column in the `highest_earning_players` sheet."
   ]
  },
  {
   "cell_type": "markdown",
   "metadata": {},
   "source": [
    "**Answer.** We need to enter the formula `=LEFT(B2, 1)` in cell K2 and drag it down."
   ]
  },
  {
   "cell_type": "markdown",
   "metadata": {
    "tags": [
     "5_min"
    ]
   },
   "source": [
    "### Exercise 2\n",
    "\n",
    "Do the same for the last names in `last_initial`."
   ]
  },
  {
   "cell_type": "markdown",
   "metadata": {
    "tags": [
     "ans_st"
    ]
   },
   "source": [
    "**Answer.**"
   ]
  },
  {
   "cell_type": "markdown",
   "metadata": {
    "tags": [
     "3_min"
    ]
   },
   "source": [
    "We just learned how to grab parts of strings, but how about the reverse - putting parts of strings together into a whole? [**`CONCAT()`**](https://support.microsoft.com/en-us/office/concat-function-9b1a9a3f-94ff-41af-9736-694cbd6b4ca2) allows us to *concatenate* (i.e., add up) as many pieces of text as we want into a single string.\n",
    "\n",
    "`CONCAT()` is extremely simple - it will join together all the values you pass as arguments, whether they are text strings, numbers, or any other format. See the example in cell G13 of `aux_formulas`. Note: In earlier versions of Excel, [**`CONCATENATE()`**](https://support.microsoft.com/en-us/office/concatenate-function-8f8ae884-2ca8-4f7a-b093-75d702bea31d) was used instead of `CONCAT()`."
   ]
  },
  {
   "cell_type": "markdown",
   "metadata": {
    "tags": [
     "5_min"
    ]
   },
   "source": [
    "### Exercise 3\n",
    "\n",
    "Using `CONCAT()`, place the full initials (Name and Last Name) for all players in the `full_initial` column in the `highest_earning_players` sheet."
   ]
  },
  {
   "cell_type": "markdown",
   "metadata": {
    "tags": [
     "ans_st"
    ]
   },
   "source": [
    "**Answer.**"
   ]
  },
  {
   "cell_type": "markdown",
   "metadata": {
    "tags": [
     "5_min"
    ]
   },
   "source": [
    "### Cleaning and formatting text\n",
    "\n",
    "Other functions help us with cleaning and formatting text, such as `TRIM()`, `PROPER()`, `UPPER()`, and `LOWER()`.\n",
    "\n",
    "[**`TRIM()`**](https://support.microsoft.com/en-us/office/trim-function-410388fa-c5df-49c6-b16c-9e5630b479f9) cleans unnecessary spaces out of the text. You will often receive datasets with text values that have trailing spaces at the beginning or the end of a text value or double spaces between words. `TRIM` deletes all spaces at the start and end and leaves only singles spaces between words. The only argument it requires is the text be cleaned.\n",
    "\n",
    "[**`UPPER()`**](https://support.microsoft.com/en-us/office/upper-function-c11f29b3-d1a3-4537-8df6-04d0049963d6) makes a body of text fully uppercase, while [**`LOWER()`**](https://support.microsoft.com/en-us/office/lower-function-3f21df02-a80c-44b2-afaf-81358f9fdeb4) makes it fully lowercase. [**`PROPER()`**](https://support.microsoft.com/en-us/office/proper-function-52a5a283-e8b2-49be-8506-b2887b889f94) capitalizes the first letter of every word. You can see examples of all of these in cells G21 through to G24 on the `aux_formulas` sheet."
   ]
  },
  {
   "cell_type": "markdown",
   "metadata": {
    "tags": [
     "7_min"
    ]
   },
   "source": [
    "### Exercise 4\n",
    "\n",
    "Write down the formula necessary to transform the text `pLeasE_ fiX mEE!_` to `FIX ME`. Assume that the text to fix is placed in the A2 cell."
   ]
  },
  {
   "cell_type": "markdown",
   "metadata": {
    "tags": [
     "ans_st"
    ]
   },
   "source": [
    "**Answer.**"
   ]
  },
  {
   "cell_type": "markdown",
   "metadata": {
    "tags": [
     "4_min"
    ]
   },
   "source": [
    "## Conditional logic\n",
    "\n",
    "Now we would like to get a sense of the distribution of the prize money that teams win in tournaments. We are going to create a new column in the `highest_earning_teams` worksheet that tells us if the prize that each team won is higher or lower than a certain threshold (say, 100,000 dollars) after averaging the prize amount by the number of tournaments.\n",
    "\n",
    "We go about this using the [**`IF()`**](https://support.microsoft.com/en-us/office/if-function-69aed7c9-4e8a-4755-a9bc-aa8bbff73be2) function, which allows us to test if our data meets a condition and then act upon the results dynamically. The syntax of this function is the following:\n",
    "\n",
    "~~~excel\n",
    "=IF(condition, value_if_condition_is_true, value_if_condition_is_false)\n",
    "~~~"
   ]
  },
  {
   "cell_type": "markdown",
   "metadata": {
    "tags": [
     "5_min"
    ]
   },
   "source": [
    "### Example 2\n",
    "\n",
    "Create the `More than 100,000` column in the `highest_earning_teams` worksheet. The cells' content must be \"Yes\" if the average prize is greater than 100,000 and \"No\" otherwise."
   ]
  },
  {
   "cell_type": "markdown",
   "metadata": {},
   "source": [
    "**Answer.** Write this formula in the G2 cell and drag it down: `=IF(C2/D2>100000,\"Yes\",\"No\")`.\n",
    "\n",
    "Breaking it down:\n",
    "\n",
    "* `C2/D2>100000` is the condition: \"the average prize is greater than 100,000\"\n",
    "* `\"Yes\"` if the condition is true, the content of the cell should be the word \"Yes\"\n",
    "* `\"No\"` if the condition is false, the content of the cell should be the word \"No\""
   ]
  },
  {
   "cell_type": "markdown",
   "metadata": {},
   "source": [
    "The `IF()` function is often paired with the [**`AND()`**](https://support.microsoft.com/en-us/office/and-function-5f19b2e8-e1df-4408-897a-ce285a19e9d9), [**`OR()`**](https://support.microsoft.com/en-us/office/or-function-7d17ad14-8700-4281-b308-00b131e22af0), and [**`NOT()`**](https://support.microsoft.com/en-us/office/not-function-9cfc6011-a054-40c7-a140-cd4ba2d87d77) functions, which allow testing for more complex conditions. With `AND()`, you can combine several conditions into one, such that it is true only if *all* of the simpler conditions are also true (that is if at least one of them is false, then `AND()` will output a false). `OR()` is similar, but with this function, the composite condition will be true if at least one of the simpler conditions is true and false otherwise; thus, the only way an `OR()` can result in a false is if *all* of the conditions are false. Finally, `NOT()` reverses the value of a condition. For example, if `C1>10` is true, then `NOT(C1>10)` will be false.\n",
    "\n",
    "The syntax for `AND()` and `OR()` is\n",
    "\n",
    "~~~excel\n",
    "=AND(condition_1, condition_2, ..., condition_n)\n",
    "=OR(condition_1, condition_2, ..., condition_n)\n",
    "~~~\n"
   ]
  },
  {
   "cell_type": "markdown",
   "metadata": {
    "tags": [
     "6_min"
    ]
   },
   "source": [
    "### Exercise 5\n",
    "\n",
    "Count how many teams earned more than 100,000 dollars per tournament and participated in 5 tournaments or less."
   ]
  },
  {
   "cell_type": "markdown",
   "metadata": {
    "tags": [
     "ans_st"
    ]
   },
   "source": [
    "**Answer.**"
   ]
  },
  {
   "cell_type": "markdown",
   "metadata": {
    "tags": [
     "6_min"
    ]
   },
   "source": [
    "### Exercise 6\n",
    "\n",
    "How many players in the dataset are not from the US?"
   ]
  },
  {
   "cell_type": "markdown",
   "metadata": {
    "tags": [
     "ans_st"
    ]
   },
   "source": [
    "**Answer.**"
   ]
  },
  {
   "cell_type": "markdown",
   "metadata": {
    "tags": [
     "6_min"
    ]
   },
   "source": [
    "### Exercise 7\n",
    "\n",
    "How many players in the dataset are not from the US or have earnings of more than 500,000 dollars?"
   ]
  },
  {
   "cell_type": "markdown",
   "metadata": {
    "tags": [
     "ans_st"
    ]
   },
   "source": [
    "**Answer.**"
   ]
  },
  {
   "cell_type": "markdown",
   "metadata": {
    "tags": [
     "6_min"
    ]
   },
   "source": [
    "## Searching text\n",
    "\n",
    "The [**`SEARCH()`**](https://support.microsoft.com/en-us/office/search-searchb-functions-9ab04538-0e55-4719-a72e-b6f54513b495) and [**`FIND()`**](https://support.microsoft.com/en-us/office/find-findb-functions-c7912941-af2a-4bdf-a553-d0d89b0a0628) functions allow us to find a specific combination of characters inside our text. At first glance, they seem identical:\n",
    "\n",
    "* Both allow us to search for the position of a certain text value inside another text value\n",
    "* Both take as arguments the value to look for, and the value within which to look for it\n",
    "* Both return a number representing the position of the found value or an error if it is not found\n",
    "\n",
    "But they do have a couple of key differences. First, `FIND()` is case-sensitive and `SEARCH()` is case-insensitive. The second (and more important) difference is that the `SEARCH()` function accepts **wildcard** characters, which means it can find *variations* of a text value. There are 2 wildcards - the \"?\" character represents *any single character*, and the \"\\*\" wildcard represents *any number of any characters*. You can take a look at a couple of examples in the G34 and G35 cells in the `aux_formulas` sheet."
   ]
  },
  {
   "cell_type": "markdown",
   "metadata": {
    "tags": [
     "9_min"
    ]
   },
   "source": [
    "### Example 3\n",
    "\n",
    "Using `FIND()`, calculate how many of the top players' handles include at least one uppercase \"E\"."
   ]
  },
  {
   "cell_type": "markdown",
   "metadata": {},
   "source": [
    "**Answer.** We can drag the formula `=FIND(\"E\", D2)` in the `highest_earning_players` sheet. For many of the cells, though, the result will be the `#VALUE!` error. That is because if `FIND()` doesn't find the text it is looking for, it will error out. Before we can answer the question of how many of the top players' handles have at least one uppercase \"E\", we need to make our formula output a meaningful value instead of this error.\n",
    "\n",
    "We can use the [**`IFERROR()`**](https://support.microsoft.com/en-us/office/iferror-function-c526fd07-caeb-47b8-8bb6-63f3e417f611) function to detect those errors and replace them with an empty string. This is another function that you can use to work with conditional logic in Excel. The syntax is\n",
    "\n",
    "~~~excel\n",
    "IFERROR(value, value_if_error)\n",
    "~~~\n",
    "\n",
    "We can then count all the non-empty cells in the range, which would give us the answer. Specifically, we can drag  `=IFERROR(FIND(\"E\", D2), \"\")` down column P, then use `=COUNT(P2:P1001)`.\n"
   ]
  },
  {
   "cell_type": "markdown",
   "metadata": {},
   "source": [
    "Note: Some programs may automatically ignore `#VALUE` cells. It is still good practice to explicitly exclude them by following the `IFERROR()` method."
   ]
  },
  {
   "cell_type": "markdown",
   "metadata": {
    "tags": [
     "4_min"
    ]
   },
   "source": [
    "## Conclusion & Takeaways\n",
    "\n",
    "In this case, we learned how to work with text data. We also learned about one of the most important functionalities in Excel - conditional statements. Hopefully, by now, you feel sufficiently acquainted with Excel to query and manipulate small-to-medium-sized datasets.\n",
    "\n",
    "Keep in mind that you don't have to limit yourself to working with simple conditions since you can always combine the `IF()` function with others like `AND()`, `OR()`, `NOT()`, and `IFERROR()`. Mix them with functions like `LEFT()`, `RIGHT()`, or `MID()`, and the possibilities will be endless!"
   ]
  },
  {
   "cell_type": "markdown",
   "metadata": {},
   "source": [
    "## Attribution\n",
    "\n",
    "\"eSports Earnings\", 17, Dec, 2020, Jack Daoud (data scraped from https://www.esportsearnings.com/), [esportsearnings.com Terms of Use](https://www.esportsearnings.com/terms-of-use), https://www.kaggle.com/jackdaoud/esports-earnings-for-players-teams-by-game"
   ]
  }
 ],
 "metadata": {
  "c1_recart": "7.49.0-57c20131aabc1dc2a8c675852d80a7da",
  "kernelspec": {
   "display_name": "Python 3 (ipykernel)",
   "language": "python",
   "name": "python3"
  },
  "language_info": {
   "codemirror_mode": {
    "name": "ipython",
    "version": 3
   },
   "file_extension": ".py",
   "mimetype": "text/x-python",
   "name": "python",
   "nbconvert_exporter": "python",
   "pygments_lexer": "ipython3",
   "version": "3.9.7"
  }
 },
 "nbformat": 4,
 "nbformat_minor": 4
}
