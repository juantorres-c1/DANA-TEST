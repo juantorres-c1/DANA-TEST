{
  "metadata": {
    "c1_recart": "7.65.0-57c20131aabc1dc2a8c675852d80a7da",
    "kernelspec": {
      "name": "python",
      "display_name": "Python (Pyodide)",
      "language": "python"
    },
    "language_info": {
      "codemirror_mode": {
        "name": "ipython",
        "version": 3
      },
      "file_extension": ".py",
      "mimetype": "text/x-python",
      "name": "python",
      "nbconvert_exporter": "python",
      "pygments_lexer": "ipython3",
      "version": "3.6.9"
    }
  },
  "nbformat_minor": 4,
  "nbformat": 4,
  "cells": [
    {
      "cell_type": "markdown",
      "source": "# Basic matrix operations in `numpy`\n\n**Learning goal:** By the end of this case, you will be familiar with the `numpy` library, `numpy` arrays, and some basic array manipulation tasks.\n\nAn important part of your data training relies on having a good understanding of how you can manipulate data structures and perform mathematical operations with them. We have already seen Python's native data structures (sets, lists, tuples, dictionaries), but today we will guide you through another one that is very convenient in a lot of use cases. This new structure is the **`array`**. The **`array`** is not supported out of the box and requires using an external **library** called `numpy` (short for \"numeric Python\"); however, this line is trivial to **import**. You just have to run this:",
      "metadata": {}
    },
    {
      "cell_type": "code",
      "source": "import numpy as np",
      "metadata": {},
      "execution_count": null,
      "outputs": []
    },
    {
      "cell_type": "markdown",
      "source": "We've just imported the `numpy` library and assigned an **alias** (in this case, `np`) to it. Thanks to this alias, whenever we need to call a `numpy` function, we don't have to type `numpy.some_function()`; we can use `np.some_function()`instead. `numpy` and its associated libraries are extremely popular in data science and are used by many data practitioners around the world every day.",
      "metadata": {}
    },
    {
      "cell_type": "markdown",
      "source": "## Creating arrays\n\nIn many ways, `numpy` arrays are like Python lists. The main advantages of using arrays over lists are improved performance and an easier syntax when doing mathematical operations that involve several of them.\n\nThis is how you create an array of integers in `numpy`:",
      "metadata": {}
    },
    {
      "cell_type": "code",
      "source": "np.array([1,2,3,4], dtype=np.int64)",
      "metadata": {},
      "execution_count": null,
      "outputs": []
    },
    {
      "cell_type": "markdown",
      "source": "And this is how you create it specifying the data type as floating point (decimal numbers) instead of integers:",
      "metadata": {}
    },
    {
      "cell_type": "code",
      "source": "np.array([1,2,3,4], dtype=np.float64)",
      "metadata": {},
      "execution_count": null,
      "outputs": []
    },
    {
      "cell_type": "markdown",
      "source": "You can see that the first array stored the elements as integers, while the second one stored them as decimal numbers. Here's an array of text elements:",
      "metadata": {}
    },
    {
      "cell_type": "code",
      "source": "np.array([\"Once\", \"in\", \"a\", \"blue\", \"moon\"], dtype=str)",
      "metadata": {},
      "execution_count": null,
      "outputs": []
    },
    {
      "cell_type": "markdown",
      "source": "And this is one of boolean elements:",
      "metadata": {}
    },
    {
      "cell_type": "code",
      "source": "np.array([True, False, False, False, True], dtype=bool)",
      "metadata": {},
      "execution_count": null,
      "outputs": []
    },
    {
      "cell_type": "markdown",
      "source": "### Exercise 1\n\nCreate this array:\n$$\n\\begin{bmatrix}\n25.7521 & 45.11112 & 50\n\\end{bmatrix}\n$$",
      "metadata": {}
    },
    {
      "cell_type": "markdown",
      "source": "**Answer.**",
      "metadata": {
        "tags": [
          "ans_st"
        ]
      }
    },
    {
      "cell_type": "markdown",
      "source": "You can paste multiple arrays together to make a single combined array that can be thought of as a table with rows and columns. For instance, take a look at these three arrays:",
      "metadata": {}
    },
    {
      "cell_type": "code",
      "source": "print(np.array([99, 112, 44], dtype=np.float64))\nprint(np.array([7.89, 1.74, 22.3], dtype=np.float64))\nprint(np.array([9.879, 4.71, 3.22], dtype=np.float64))",
      "metadata": {},
      "execution_count": null,
      "outputs": []
    },
    {
      "cell_type": "markdown",
      "source": "They could be made into a table like this:",
      "metadata": {}
    },
    {
      "cell_type": "code",
      "source": "table = np.array([\n    [99, 112, 44],\n    [7.89, 1.74, 22.3],\n    [9.879, 4.71, 3.22]\n])\ntable",
      "metadata": {},
      "execution_count": null,
      "outputs": []
    },
    {
      "cell_type": "markdown",
      "source": "You can take a look at the shape of this array by accessing the **`.shape`** attribute:",
      "metadata": {}
    },
    {
      "cell_type": "code",
      "source": "table.shape",
      "metadata": {},
      "execution_count": null,
      "outputs": []
    },
    {
      "cell_type": "markdown",
      "source": "This output means that `table` has three elements in each of its three sub-arrays.",
      "metadata": {}
    },
    {
      "cell_type": "markdown",
      "source": "### Exercise 2\n\nCreate this array:\n\n$$\n\\begin{bmatrix}\n1 & 2 & 3 & 4 \\\\\n5 & 6 & 7 & 8 \\\\\n9 & 10 & 11 & 12 \\\\\n\\end{bmatrix}\n$$",
      "metadata": {}
    },
    {
      "cell_type": "markdown",
      "source": "**Answer.**",
      "metadata": {
        "tags": [
          "ans_st"
        ]
      }
    },
    {
      "cell_type": "markdown",
      "source": "### Exercise 3\n\nCreate this array:\n\n$$\n\\begin{bmatrix}\n[1 & 4] & [7 & 10] \\\\\n[3 & 6] & [9 & 12] \\\\\n\\end{bmatrix}\n$$",
      "metadata": {}
    },
    {
      "cell_type": "markdown",
      "source": "**Answer.**",
      "metadata": {
        "tags": [
          "ans_st"
        ]
      }
    },
    {
      "cell_type": "markdown",
      "source": "To access elements from an array, index it as you would a nested list:",
      "metadata": {}
    },
    {
      "cell_type": "code",
      "source": "table",
      "metadata": {},
      "execution_count": null,
      "outputs": []
    },
    {
      "cell_type": "code",
      "source": "table[0]",
      "metadata": {},
      "execution_count": null,
      "outputs": []
    },
    {
      "cell_type": "code",
      "source": "table[1]",
      "metadata": {},
      "execution_count": null,
      "outputs": []
    },
    {
      "cell_type": "code",
      "source": "table[1][2]",
      "metadata": {},
      "execution_count": null,
      "outputs": []
    },
    {
      "cell_type": "markdown",
      "source": "## Matrix arithmetic\n\nYou can do math on arrays just like with \"normal\" numbers. From here on in, we'll refer to arrays as **matrices**, which are 2-dimensional representations of arrays (with rows and columns).\n\n### Matrix addition and subtraction\n\nLet $A$ and $B$ be two matrices such that\n\n$$\nA = \\begin{bmatrix}\n1 & 2 & 3 \\\\\n10 & 20 & 30\n\\end{bmatrix}\n$$\n\nand\n\n$$\nB = \\begin{bmatrix}\n4 & 8 & 16 \\\\\n3 & 9 & 27\n\\end{bmatrix}\n$$\n\nTwo matrices must have the same shape in order to be added together. Their sum would be equal to the sum of each element in $A$ with the element that is exactly in the same location (same indexes) in $B$:\n\n$$\nA + B = \\begin{bmatrix}\n1+4 & 2+8 & 3+16 \\\\\n10+3 & 20+9 & 30+27\n\\end{bmatrix} = \\begin{bmatrix}\n5 & 10 & 19 \\\\\n13 & 29 & 57\n\\end{bmatrix}\n$$\n\nAdding two matrices in `numpy` is easy:",
      "metadata": {}
    },
    {
      "cell_type": "code",
      "source": "A = np.array([\n    [1,2,3],\n    [10,20,30]\n])\n\nB = np.array([\n    [4,8,16],\n    [3,9,27]\n])\n\nA + B",
      "metadata": {},
      "execution_count": null,
      "outputs": []
    },
    {
      "cell_type": "markdown",
      "source": "Doing this same addition using just Python lists would have required us to write [some complicated for loops](https://www.geeksforgeeks.org/python-program-add-two-matrices/). We love tools that make our lives easier, and `numpy` arrays do exactly that.",
      "metadata": {}
    },
    {
      "cell_type": "markdown",
      "source": "### Exercise 4\n\nCan you guess how to subtract $B$ from $A$ in `numpy`?",
      "metadata": {}
    },
    {
      "cell_type": "markdown",
      "source": "**Answer.**",
      "metadata": {
        "tags": [
          "ans_st"
        ]
      }
    },
    {
      "cell_type": "markdown",
      "source": "### Scalar multiplication\n\nYou can multiply a matrix and a real number together (this real number is referred to as a **scalar**). For instance,\n\n$$\nA = \\begin{bmatrix}\n1 & 2 & 3 \\\\\n10 & 20 & 30\n\\end{bmatrix}\n$$\n\nif multiplied by $5$ would yield\n\n$$\n5 \\cdot A = \\begin{bmatrix}\n5 \\times 1 & 5 \\times 2 & 5 \\times 3 \\\\\n5 \\times 10 & 5 \\times 20 & 5 \\times 30\n\\end{bmatrix}= \\begin{bmatrix}\n5 & 10 & 15 \\\\\n50 & 100 & 150\n\\end{bmatrix}\n$$\n",
      "metadata": {}
    },
    {
      "cell_type": "markdown",
      "source": "### Exercise 5\n\nCan you guess how to get $5 \\cdot A$ in `numpy`?",
      "metadata": {}
    },
    {
      "cell_type": "markdown",
      "source": "**Answer.**",
      "metadata": {
        "tags": [
          "ans_st"
        ]
      }
    },
    {
      "cell_type": "markdown",
      "source": "### Linear combinations\n\nYou can **linearly combine** two matrices by using matrix addition *and* scalar multiplication at the same time. Mathematically, this is the formula for a linear combination of $A$ and $B$:\n\n$$\\alpha \\cdot A + (1 - \\alpha) \\cdot B$$\n\nwhere $\\alpha$ is a scalar.\n\nThis can be a little bit difficult to visualize using only matrices with numbers. Let's use a pair of images instead, taking advantage of the fact that 2D images are simply matrices in which each element tells you the color of the corresponding pixel.\n\nLet's first import a library that we need in order to import the images into Jupyter and display them inline:",
      "metadata": {}
    },
    {
      "cell_type": "code",
      "source": "from PIL import Image # The library is PIL. We import a module from that library. The module is Image.",
      "metadata": {},
      "execution_count": null,
      "outputs": []
    },
    {
      "cell_type": "markdown",
      "source": "And now let's load two images:",
      "metadata": {}
    },
    {
      "cell_type": "code",
      "source": "A = Image.open(\"data/images/macaw.jpg\", \"r\") # \"r\" stands for \"read\"\nB = Image.open(\"data/images/tigers.jpg\", \"r\")",
      "metadata": {},
      "execution_count": null,
      "outputs": []
    },
    {
      "cell_type": "markdown",
      "source": "This is image `A`:",
      "metadata": {}
    },
    {
      "cell_type": "code",
      "source": "A",
      "metadata": {},
      "execution_count": null,
      "outputs": []
    },
    {
      "cell_type": "markdown",
      "source": "And this is image `B`:",
      "metadata": {}
    },
    {
      "cell_type": "code",
      "source": "B",
      "metadata": {},
      "execution_count": null,
      "outputs": []
    },
    {
      "cell_type": "markdown",
      "source": "Now let's convert both images to `numpy` arrays and inspect their shapes.",
      "metadata": {}
    },
    {
      "cell_type": "code",
      "source": "A_array = np.asarray(A)\nB_array = np.asarray(B)\nA_array",
      "metadata": {},
      "execution_count": null,
      "outputs": []
    },
    {
      "cell_type": "markdown",
      "source": "### Question\n\nWhy do you think each element in this array has three integers inside?\n\n\n**Answer.** Pixels are made up of three colors: Red, Green, and Blue (the RGB standard). Therefore, each element in the array (each pixel) has one number for red, one number for green, and one number for blue. It is the combination of these three primary colors which creates all the colors we see on our screens.\n\nNow let's view the shapes of the arrays:",
      "metadata": {}
    },
    {
      "cell_type": "code",
      "source": "print(A_array.shape)\nprint(B_array.shape)",
      "metadata": {},
      "execution_count": null,
      "outputs": []
    },
    {
      "cell_type": "markdown",
      "source": "Both images are 250 x 250 pixels in size and have three color channels (RGB).",
      "metadata": {}
    },
    {
      "cell_type": "markdown",
      "source": "### Exercise 6\n\nCreate a function that takes two matrices and one scalar as arguments and outputs the linear combination of the matrices. Call it `linear_combination`.\n\n**Note:** We will be plotting the linear combinations that this function will generate. For technical reasons related to how images are handled under the hood, Python requires that the result of `linear_combinations` is of an `np.uint8` data type. To convert an array `a` into this data type you simply run `a = a.astype(np.uint8)`.",
      "metadata": {}
    },
    {
      "cell_type": "markdown",
      "source": "**Answer.**",
      "metadata": {
        "tags": [
          "ans_st"
        ]
      }
    },
    {
      "cell_type": "markdown",
      "source": "Let's now linearly combine `A_array` and `B_array` using $\\alpha=0.5$:",
      "metadata": {}
    },
    {
      "cell_type": "code",
      "source": "lin_AB_array = linear_combination(A_array, B_array, 0.5)\nlin_AB_array",
      "metadata": {},
      "execution_count": null,
      "outputs": []
    },
    {
      "cell_type": "markdown",
      "source": "Let's now visualize the result:",
      "metadata": {}
    },
    {
      "cell_type": "code",
      "source": "Image.fromarray(\n    lin_AB_array\n)",
      "metadata": {},
      "execution_count": null,
      "outputs": []
    },
    {
      "cell_type": "markdown",
      "source": "So you can see that a linear combination does actually combine both matrices. It has combined our macaw and our tiger in a single image! And even better, you can control the amount of each image that will end up in the mixed version. This one, for instance, used $\\alpha=0.5$, which means that both images were mixed in equal parts.",
      "metadata": {}
    },
    {
      "cell_type": "markdown",
      "source": "### Exercise 7\n\nCalculate and display the linear combination of the photos with:\n\n* $\\alpha = 0$\n* $\\alpha = 1$\n* $\\alpha = 0.25$\n* $\\alpha = 0.75$",
      "metadata": {}
    },
    {
      "cell_type": "markdown",
      "source": "**Answer.**",
      "metadata": {
        "tags": [
          "ans_st"
        ]
      }
    },
    {
      "cell_type": "markdown",
      "source": "This is great. Now you know how filmmakers create fade-ins and fade-outs! They simply linearly vary the amount of each image in each successive frame using the parameter $\\alpha$.",
      "metadata": {}
    },
    {
      "cell_type": "markdown",
      "source": "You can *slice* these arrays as well. To slice an array, you use a syntax similar to the one you use when you slice a list. You use positional indexes between brackets, like this: `my_array[6]`. Since `numpy` is zero-indexed, this example would get you the item that is in the seventh position of the array `my_array`. If you have nested arrays, you can do multiple indexing like this: `my_array[6][3]`. This code would get you the fourth element of the seventh sub-array of `my_array`.\n\nAdditionally, you can use `:` to tell `numpy` to return all the elements in an array. Thus, `my_array[:]` is the same as `my_array`, and `my_array[6][:]` is the same as `my_array[6]`. This shortcut becomes more useful when you need to access all the <i>n</i>-th elements of all the sub-arrays. For instance, `my_array[:, 4]` will get you *all* the fifth elements of *all* the sub-arrays of `A`. Notice that this is *different* from `my_array[:][4]`, which first retrieves all the elements of `my_array` and then *only* the fifth element of the result.\n\nTo slice using ranges of positions, you use `my_array[start_range:end_range]`, and so `my_array[3:7]` would retrieve the elements of `my_array` that are between those positions.\n\nLet's slice our photos:",
      "metadata": {}
    },
    {
      "cell_type": "code",
      "source": "Image.fromarray(\n    A_array[50:100, :] # Slice vertically, show all pixels horizontally\n)",
      "metadata": {},
      "execution_count": null,
      "outputs": []
    },
    {
      "cell_type": "code",
      "source": "Image.fromarray(\n    A_array[: ,50:100] # Show all pixels vertically, then slice horizontally\n)",
      "metadata": {},
      "execution_count": null,
      "outputs": []
    },
    {
      "cell_type": "code",
      "source": "Image.fromarray(\n    A_array[:][50:100]\n)",
      "metadata": {},
      "execution_count": null,
      "outputs": []
    },
    {
      "cell_type": "markdown",
      "source": "### Exercise 8\n\nSlice the tiger photo to crop it to 200 x 200 pixels (you need to remove 25 pixels from each border).",
      "metadata": {}
    },
    {
      "cell_type": "markdown",
      "source": "**Answer.**",
      "metadata": {
        "tags": [
          "ans_st"
        ]
      }
    },
    {
      "cell_type": "markdown",
      "source": "### Other useful operations\n\nWe can extract just the red component of an image by doing some clever slicing (here, the reddest parts of the image are shown as the brightest - since we got rid of the G and B channels, we're not in the RGB standard anymore and therefore Python interprets this as a greyscale image):",
      "metadata": {}
    },
    {
      "cell_type": "code",
      "source": "Image.fromarray(\n    # The first \":\" means \"Take all the pixels from the first dimension (height)\"\n    # The second \":\" means: \"Take all the pixels from the second dimension (width)\"\n    # The 0 means \"Take only the red channel (the first color value - index 0)\"\n    # Try with 1 (green) or 2 (blue) instead and see what happens\n    A_array[:, :, 0]\n)",
      "metadata": {},
      "execution_count": null,
      "outputs": []
    },
    {
      "cell_type": "markdown",
      "source": "We can also add random noise using `numpy`'s random number generation function **`np.random.rand()`** and matrix addition. `np.random.rand()` produces a random float number between 0 and 1:",
      "metadata": {}
    },
    {
      "cell_type": "code",
      "source": "random_noise = np.random.rand(250,250,3)  # 250 x 250 pixels, 3 color channels\nrandom_noise = random_noise * 255 # Multiply the noise matrix by a scalar to make the noise more noticeable\n\nA_noisy = A_array + random_noise # This is matrix addition!\nA_noisy = A_noisy.astype(np.uint8) # Converting to the required data type\n\nImage.fromarray(\n        A_noisy\n)",
      "metadata": {},
      "execution_count": null,
      "outputs": []
    },
    {
      "cell_type": "markdown",
      "source": "### Exercise 9\n\nAdapt the code from the previous cell to create a function that adds noise to an image in proportion to some user-defined scalar. Call it `add_random_noise`.",
      "metadata": {}
    },
    {
      "cell_type": "markdown",
      "source": "**Answer.**",
      "metadata": {
        "tags": [
          "ans_st"
        ]
      }
    },
    {
      "cell_type": "markdown",
      "source": "Now we can parametrize our noise addition:",
      "metadata": {}
    },
    {
      "cell_type": "code",
      "source": "Image.fromarray(\n        add_random_noise(A_array, 100) # Try with different values!\n)",
      "metadata": {},
      "execution_count": null,
      "outputs": []
    },
    {
      "cell_type": "markdown",
      "source": "**Note:** A common application of `numpy` is random number generation between two integers. You can use this code to generate a random number between 4 and 15, for instance:",
      "metadata": {}
    },
    {
      "cell_type": "code",
      "source": "np.random.randint(4,15) # Run this cell several times to see how the output changes at random",
      "metadata": {},
      "execution_count": null,
      "outputs": []
    },
    {
      "cell_type": "markdown",
      "source": "In the RGB standard, `(0,0,0)` is the color black, and `(255,255,255)` is the color white. All the other colors are created by varying the channel values within those limits. For instance, we can create arrays of black images by telling numpy to generate a matrix with all its values set to zero. For this, we use **`np.full()`**:",
      "metadata": {}
    },
    {
      "cell_type": "code",
      "source": "black = np.full(shape=(250,250,3), fill_value=0)\nblack = black.astype(np.uint8)\n\nImage.fromarray(\n        black\n)",
      "metadata": {},
      "execution_count": null,
      "outputs": []
    },
    {
      "cell_type": "markdown",
      "source": "Blue is `(0,0,255)`. We can create and display a blue square of 250 x 250 pixels by first creating a black square and then replacing its blue channel with the integer `255`:",
      "metadata": {}
    },
    {
      "cell_type": "code",
      "source": "blue = black.copy()\nblue[:, :, 2] = 255\nblue",
      "metadata": {},
      "execution_count": null,
      "outputs": []
    },
    {
      "cell_type": "code",
      "source": "Image.fromarray(\n        blue\n)",
      "metadata": {},
      "execution_count": null,
      "outputs": []
    },
    {
      "cell_type": "markdown",
      "source": "### Exercise 10\n\nCreate a red square and linearly combine it with the blue square we've just created. Use $\\alpha=0.3$ and $\\alpha=0.6$.\n\n**Hint:** Red in the RGB standard is `(255,0,0)`.\n",
      "metadata": {}
    },
    {
      "cell_type": "markdown",
      "source": "**Answer.**",
      "metadata": {
        "tags": [
          "ans_st"
        ]
      }
    },
    {
      "cell_type": "markdown",
      "source": "## Appendix\n\nThis is a summary of the operations we covered in this case.\n\n* **Creating arrays**: `np.array(list_or_lists_of_elements, dtype=a_dtype)`. There are [several data types in `numpy`](https://numpy.org/devdocs/user/basics.types.html), but the ones we used here were `np.int64`, `np.float64`, `np.uint8`, `str`, and `boolean`.\n* **Matrix addition**: `A + B`, where `A` and `B` are `numpy` arrays.\n* **Matrix subtraction**: `A - B`, where `A` and `B` are `numpy` arrays.\n* **Multiplication of a scalar and a matrix**: `r * A`, where `r` is a real number (a scalar), and `A` is a `numpy` array.\n* **Converting an image to a `numpy` array**: `np.asarray(I)` where `I` is a [Pillow image object](https://pillow.readthedocs.io/en/stable/reference/Image.html#PIL.Image.open).\n* **Showing the shape of a `numpy` array**. `A.shape` where `A` is a `numpy` array. Remember that the shape of an array is the number of elements it has in each one of its sub-arrays.\n* **Slicing a `numpy` array:** For the most part, it is just like slicing lists, with the added benefit of being able to use the `:` operator to retrieve all the elements in a subset of the array. For more information, you can find a tutorial [here](https://www.w3schools.com/python/numpy_array_slicing.asp).\n* **Converting an array to another data type**: `A.astype(data_type)`, where `A` is a `numpy` array.\n* **Creating an array of random numbers between 0 and 1:** `np.random.rand(shape)`. For instance, `np.random.rand(250,250,3)` will create a matrix of 250 x 250 where each element is itself an array that has 3 elements.\n* **Generating a random integer between two integers:** `np.random.randint(lower_boundary,upper_boundary)`.\n* **Creating a matrix and filling it with a given number:** `np.full(shape, fill_value)`. For instance, `np.full(shape=(25,25), fill_value=0)` will create a 25x25 array full of zeroes.\n* **Creating a copy of an array:** `A.copy()` where `A` is a `numpy` array.\n\n\nThere are lots of applications of matrices, and `numpy` offers a treasure trove of functions to make them possible. Image processing is just one of those applications. We encourage you to learn more about `numpy` in its [documentation](https://numpy.org/doc/stable/user/quickstart.html).",
      "metadata": {}
    },
    {
      "cell_type": "markdown",
      "source": "## Attribution\n\n*Ara macao - Scarlet Ara*. Quartl. October 9, 2011. Creative Commons Attribution-Share Alike 3.0 Unported license. https://commons.wikimedia.org/wiki/File:Ara_macao_qtl1.jpg\n\n*The two female cubs of T-19 in a playful mood at Ranthambore tiger reserve*. Vedang Vadalkar. June 18, 2015. Creative Commons Attribution-Share Alike 4.0 International license. https://commons.wikimedia.org/wiki/File:Flying_Princess_(cropped).jpg",
      "metadata": {}
    }
  ]
}