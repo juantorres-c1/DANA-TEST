{
  "cells": [
    {
      "cell_type": "markdown",
      "metadata": {},
      "source": [
        "# Google is your friend"
      ]
    },
    {
      "cell_type": "markdown",
      "metadata": {},
      "source": [
        "## Introduction\n",
        "\n",
        "Up until now, all the cases have used the base tools that are included with the Python language. We saw some examples of errors, and you probably ran into a few errors of your own here and there. \n",
        "\n",
        "In your day-to-day life as a data practitioner, you will need to do a fair amount of research in order to solve the problems you encounter. This means using the Internet and using Google! Chances are that someone else has also experienced the same problem as you before, and they either posted their solution or asked for someone else's solution in some obscure online forum, and someone who knew how to solve it posted the correct code.\n",
        "\n",
        "There is not a single legitimate programmer alive (not a single one) who doesn't use the Internet and/or Google daily to code. **Don't try to be the exception.** The reason technology is at the stage it is today, where anyone with the time and energy has the tools at their disposal for building new and amazing things, is because all of us collectively stand on top of what was built before us. Even very experienced programmers (*especially* very experienced programmers) know that they don't know all there is to know in the world of programming:\n",
        "\n",
        "<img src=\"data/images/nothing.jpg\" alt=\"Nothing.\" style=\"width:500px;\"/>\n",
        "\n",
        "In this case, we will first learn how to install and import external libraries or packages - pieces of code and programs that were built by someone else for some specific purpose and which save us an inordinate amount of time. Then, we will learn how to understand these packages by going through their documentation. And finally, we will learn how to solve common problems using online resources such as Google and StackOverflow."
      ]
    },
    {
      "cell_type": "markdown",
      "metadata": {},
      "source": [
        "## External libraries\n",
        "\n",
        "It is rare to write 100% of a program from scratch. For example, calculating the square root of a number seems like a simple thing. But in the operators you've learned so far, there is no square root function.\n",
        "\n",
        "As it happens, someone already wrote a piece of code that finds the square root of any number! So we can go ahead and use that function to save us the time of having to code it ourselves. To do this, we must **import** the **package** that contains this function into our program. This means that we tell our program to read all of the code in that package in order to have it available for our use:"
      ]
    },
    {
      "cell_type": "code",
      "execution_count": null,
      "metadata": {},
      "outputs": [],
      "source": [
        "# First we import the package\n",
        "import math\n",
        "\n",
        "a = 36\n",
        "\n",
        "# Then we can use its functions by calling the package, followed by a '.', followed by the function.\n",
        "b = math.sqrt(a)\n",
        "print(b)"
      ]
    },
    {
      "cell_type": "code",
      "execution_count": null,
      "metadata": {},
      "outputs": [],
      "source": [
        "# We can also import exclusively the function we need. This is preferable most of the time.\n",
        "# We use the syntax from ... import ...\n",
        "from math import sqrt\n",
        "\n",
        "a = 36\n",
        "\n",
        "# Then we can use the function directly without calling the package.\n",
        "b = sqrt(a)\n",
        "print(b)"
      ]
    },
    {
      "cell_type": "markdown",
      "metadata": {},
      "source": [
        "In the example above, we imported the **`math`** package and, in particular, its `sqrt` function. Once you import a package, there is no need to import it again in the program or notebook. Generally, in Jupyter notebooks, it is best practice to import all the libraries you need in one of the first code blocks.\n",
        "\n",
        "There are many more functions inside the `math` package. How do we know what they are and what they do? Google! Go ahead and Google \"python math package\". The first result in such a query will more often than not be the **documentation** for that package. For this particular example, look in the documentation for the math package for the `math.sqrt(x)` function. As you can see, its description is very simple: \"Return the square root of x.\"\n",
        "\n",
        "The documentation for a package is absolutely critical. The first thing you do when you try to use a new package or function of a package **should and will be to Google the package to find its documentation**.\n",
        "\n",
        "There is **no excuse** for not being able to solve a problem that can be solved by reading the documentation of a package. A good amount of the bugs you will find are solved by reading the documentation. Wrong data types somewhere? The documentation defines what types are accepted by a function. Don't know what the results of a function represent? The documentation tells you that. Your TAs during the program, and more importantly, your future co-workers and boss, will not tolerate or even bother trying to help you with problems that can easily be solved by reading the documentation. It is a *given* that when you ask a question, you will have already read through the documentation and still could not resolve the issue."
      ]
    },
    {
      "cell_type": "markdown",
      "metadata": {},
      "source": [
        "### Exercise 1\n",
        "\n",
        "We will now use the documentation for the `math` package to calculate the greatest common divisor between 2 numbers. Read the documentation and find the function that does this. Then, use it in the code cell below to calculate the greatest common divisor of the 2 numbers."
      ]
    },
    {
      "cell_type": "code",
      "execution_count": null,
      "metadata": {},
      "outputs": [],
      "source": [
        "# Either use the already imported math package, or import the greatest common divisor function below this line.\n",
        "\n",
        "# Now use the function with these 2 variables as arguments.\n",
        "a = 759254556\n",
        "b = 420"
      ]
    },
    {
      "cell_type": "markdown",
      "metadata": {
        "tags": [
          "ans_st"
        ]
      },
      "source": [
        "**Answer.**"
      ]
    },
    {
      "cell_type": "markdown",
      "metadata": {},
      "source": [
        "This is the magic of open-source software such as Python - anyone can contribute to it, and everyone can benefit from it."
      ]
    },
    {
      "cell_type": "markdown",
      "metadata": {},
      "source": [
        "## Installing new packages\n",
        "\n",
        "The `math` package is special in that it comes pre-installed in Python. Another way we say this is that it is part of the *standard library*. But sometimes, we need functions that are not part of the standard library. We will now install a couple of packages that are not part of the standard library and use them.\n",
        "\n",
        "Let's try installing the `pillow` package. This is the Python 3 version of the package name `PIL` (which stands for \"Python Imaging Library\"). As the name implies, this package will give us the power to manipulate images in Python. The default installation tool in Python is called `pip`. Under normal circumstances, you would open the Terminal and then run the following command:\n",
        "\n",
        "``` bash\n",
        "pip install Pillow\n",
        "```\n",
        "\n",
        "However we will be unable to run a terminal in the browser. This is okay! We can install right in a jupyter notebook using the following command:\n",
        "\n",
        "```python\n",
        "%pip install Pillow\n",
        "```\n",
        "\n",
        "When you install through the terminal, you should get some messages telling you what packages are being installed, and if everything is successful, `pip` will let you know at the very end:\n",
        "\n",
        "<img src=\"data/images/installation.png\" alt=\"Installation\"/>\n",
        "\n",
        "Sometimes the package will already be installed for you (the workspace you're working in comes with a number of packages pre-installed). If this is the case, there is no harm in running the `pip install` again; the Terminal will simply tell you that the package is already installed:\n",
        "\n",
        "<img src=\"data/images/already_installed.png\" alt=\"Already Installed\"/>\n",
        "\n",
        "When you install right in a jupyter notebook, you may or may not get installation messages. You will, however, be notified if the installation fails."
      ]
    },
    {
      "cell_type": "code",
      "execution_count": null,
      "metadata": {},
      "outputs": [],
      "source": [
        "%pip install Pillow"
      ]
    },
    {
      "cell_type": "markdown",
      "metadata": {},
      "source": [
        "So...what can we do with `pillow`?\n",
        "\n",
        "The first thing you should do when you try to use a new package or function of a package is to **Google it and read its documentation**.\n",
        "\n",
        "Google \"pillow python\" and open the documentation. For me, the first result took me to the readthedocs page for the package: https://pillow.readthedocs.io/en/stable/. Once there, click \"Handbook\" on the left, which will take you to a table of contents. Click \"Tutorial\", this will lead to the main documentation and examples:\n",
        "\n",
        "<img src=\"data/images/pillow.png\" alt=\"Tutorial\"/>"
      ]
    },
    {
      "cell_type": "markdown",
      "metadata": {},
      "source": [
        "The documentation has some simple examples of typical use cases throughout. (Don't mind the \">>>\" signs, they are just indicators of what is code and what is being printed.) Let's replicate the first bit of the example:"
      ]
    },
    {
      "cell_type": "code",
      "execution_count": null,
      "metadata": {},
      "outputs": [],
      "source": [
        "from PIL import Image\n",
        "im = Image.open(\"data/images/eggs.jpg\") # data/images/ is the relative path to the image file\n",
        "print(im.format, im.size, im.mode)"
      ]
    },
    {
      "cell_type": "markdown",
      "metadata": {},
      "source": [
        "Neat - now we know that this `eggs.jpg` is a 1920x1277 image. But what does this image actually look like? If we scroll down in the documentation, we will find the `show()` function. It's not compatable with this format, but we can still see the image by simply typing the name of the variable where we saved the image:"
      ]
    },
    {
      "cell_type": "code",
      "execution_count": null,
      "metadata": {},
      "outputs": [],
      "source": [
        "im"
      ]
    },
    {
      "cell_type": "markdown",
      "metadata": {},
      "source": [
        "There we go! We used a completely novel package, looked at its documentation and other resources, and got it to render an image through Python."
      ]
    },
    {
      "cell_type": "markdown",
      "metadata": {
        "tags": []
      },
      "source": [
        "### Exercise 2\n",
        "\n",
        "Using the `pillow` package and its documentation, apply a filter to `eggs.jpg` to display a contour of the image.\n",
        "\n",
        "**Hint**: Clicking the names of objects in the docs typically links to a detailed explanation of how to use that object. For example, if you wanted to rotate the image and you wanted to know what all your rotating options were, you would click `rotate()` to see the details:\n",
        "\n",
        "<img src=\"data/images/rotate_hint.png\" alt=\"Rotate\"/>\n",
        "\n",
        "And when in doubt, remember that Google is your friend."
      ]
    },
    {
      "cell_type": "markdown",
      "metadata": {
        "tags": [
          "ans_st"
        ]
      },
      "source": [
        "**Answer.**"
      ]
    },
    {
      "cell_type": "markdown",
      "metadata": {
        "jp-MarkdownHeadingCollapsed": true,
        "tags": []
      },
      "source": [
        "## Installing from `requirements.txt`\n",
        "\n",
        "For most cases using python, there will be a list of packages that we know in advance will be needed to run the case. Python has a way of allowing us to install these packages en masse, without having to do it one-by-one.\n",
        "\n",
        "For each such case, you will receive a `requirements.txt` file. This is a file with a list of packages. In this case's `requirements.txt`, we have two very common (arguably the most common) data packages: `numpy` and `pandas`. You will learn a great deal about these throughout the program, but for the time being, we will just install them.\n",
        "\n",
        "You can view the `requirements.txt` file in the file tree on the left, if it is enabled. When this notebook is rendered, it takes that file with it and installs whatever dependencies are required.\n",
        "\n",
        "When you're running python on your own machine, you would install dependencies on your own. In order to install the packages in the `requirements.txt` file using `pip`, you would open a Terminal and navigate to where the `requirements.txt` file is located using the `cd` and `ls` commands and then run:\n",
        "\n",
        "```\n",
        "pip install -r requirements.txt\n",
        "```\n",
        "\n",
        "![Requirements](data/images/requirements.png)\n",
        "\n",
        "If successful, you will now have installed whatever packages you need(or they may have already been installed)! This method works for any number of packages. When you share work with colleagues, it is common (mandatory, to be honest) to share a `requirements.txt` file as well so they can install the same packages you used to create your work."
      ]
    },
    {
      "cell_type": "markdown",
      "metadata": {},
      "source": [
        "## Fixing problems (or, how to learn to love Stack Overflow)\n",
        "\n",
        "So what happens when you come across an error that you have no idea how to fix, and you've already parsed through the documentation? Well, it's Google to the rescue!\n",
        "\n",
        "It is very, very unlikely that you are the first to encounter this issue. Say we want to build a program that prints out a ranking of the 5 most populous countries in the world, together with their position in the ranking on the left and their official language on the right:"
      ]
    },
    {
      "cell_type": "code",
      "execution_count": null,
      "metadata": {},
      "outputs": [],
      "source": [
        "countries = ['China', 'India', 'United States', 'Indonesia', 'Pakistan']\n",
        "languages = ['Cantonese', 'Hindi', 'English', 'Indonesian', 'Urdu']\n",
        "\n",
        "counter = 1\n",
        "for country in countries:\n",
        "    print(counter, country, languages)\n",
        "    counter += 1"
      ]
    },
    {
      "cell_type": "markdown",
      "metadata": {},
      "source": [
        "We got the rankings right, but the languages wrong. We don't want to list all the languages every time, only the ones in the same position as the country. Now, how do we iterate over 2 lists at the same time? Think of an answer, and try it out here:"
      ]
    },
    {
      "cell_type": "code",
      "execution_count": null,
      "metadata": {},
      "outputs": [],
      "source": [
        "# Try to fix the snippet on your own. Don't take too much time; we will look up a solution online soon!"
      ]
    },
    {
      "cell_type": "markdown",
      "metadata": {},
      "source": [
        "If you fixed it, congratulations! But if you didn't and are scratching your head, don't worry. Most of us are like that the first time we run into this type of problem.\n",
        "\n",
        "Let's Google \"how to iterate over 2 lists simultaneously python\" and see what we get:\n",
        "\n",
        "![StackOverflow](data/images/stackoverflow.png)"
      ]
    },
    {
      "cell_type": "markdown",
      "metadata": {},
      "source": [
        "The very first result in this situation, and very often the first result in most situations, is a Stack Overflow link. **Stack Overflow is THE online forum for programming questions**. Thanks to the online programming community, it is chock-full of answers for even the most obscure problems. And even if you can't find an answer, you can ask the question and get it answered! There are many other resources, but this is *by far* the most complete.\n",
        "\n",
        "When we open the first result, we see that someone asked a very similar question (although not quite the same) to the one we have, and that the most upvoted answer has solutions for both Python 2 and Python 3. (We are using Python 3, in case you were wondering. The number refers to the version of Python). So, let's try out the code snippet in the most upvoted answer:"
      ]
    },
    {
      "cell_type": "code",
      "execution_count": null,
      "metadata": {},
      "outputs": [],
      "source": [
        "for f, b in zip(foo, bar):\n",
        "    print(f, b)"
      ]
    },
    {
      "cell_type": "markdown",
      "metadata": {},
      "source": [
        "Oops - it seems the code doesn't run perfectly out of the box. This is to be expected! You need to take that code, edit it for your purposes, and then try it out. Inputting the specifics of our particular problem, we get to something that should work:"
      ]
    },
    {
      "cell_type": "code",
      "execution_count": null,
      "metadata": {},
      "outputs": [],
      "source": [
        "countries = ['China', 'India', 'United States', 'Indonesia', 'Pakistan']\n",
        "languages = ['Cantonese', 'Hindi', 'English', 'Indonesian', 'Urdu']\n",
        "\n",
        "counter = 1\n",
        "for country, language in zip(countries, languages):\n",
        "    print(counter , country, language)\n",
        "    counter += 1"
      ]
    },
    {
      "cell_type": "markdown",
      "metadata": {},
      "source": [
        "We got it! In your day-to-day life, you will use Google and Stack Overflow a lot, and more often than not, you will be able to solve the issue. But sometimes, even after reading the documentation, Googling, and even asking in Stack Overflow, you may still be stuck. In that case, fret not. **After** you've done your research, you can always reach out to your teachers, peers, and co-workers. Just make sure you do your own research beforehand - it's very bad form not to do so before asking a question."
      ]
    },
    {
      "cell_type": "markdown",
      "metadata": {},
      "source": [
        "### Exercise 3\n",
        "\n",
        "Take the same snippet of code that we just used to enumerate the countries and their languages correctly, but enumerate their position in the list without using the auxiliary variable `counter`.\n",
        "\n",
        "Remember, you can copy a cell by selecting it, hitting `Escape`, and then hitting `c`. Then select the cell you want to paste below, hit `Escape`, and then hit `v`."
      ]
    },
    {
      "cell_type": "markdown",
      "metadata": {
        "tags": [
          "ans_st"
        ]
      },
      "source": [
        "**Answer.**"
      ]
    },
    {
      "cell_type": "markdown",
      "metadata": {},
      "source": [
        "This process for resolving problems is problem-agnostic. This means you can use it for anything you may encounter. Some examples are:\n",
        "\n",
        "1. Errors caused by new packages - Using a new package and getting a weird error? Read the documentation, and if you can't solve it, just copy-paste the error message into Google.\n",
        "2. Algorithmic issues - Don't know how to find the inverse of a binary tree? Just Google it!\n",
        "3. Needing new packages - Need a package to apply some filters to an image? Google to see if such a thing exists! (It does.)"
      ]
    },
    {
      "cell_type": "markdown",
      "metadata": {},
      "source": [
        "## Conclusion\n",
        "\n",
        "You are now more knowledgeable in Python programming than 99.5% of the world's population. It is estimated that less than 0.5% of the population knows how to code in any way, and not all of those know Python. So congratulations! You are now part of those with the power to build technology and, therefore, the power to build the world of tomorrow.\n",
        "\n",
        "But with great power comes great responsibility. You must first be forever humble, knowing that there will always be more to learn. Hubris is the downfall of many of those with power, and programming is no exception. Technology moves quickly, and in order to stay up to date, you must always be looking out for new inventions, techniques, and discoveries in the world of programming. Perhaps one day, Python won't be as important, and you will need to learn a new programming language.\n",
        "\n",
        "Secondly, and perhaps more importantly, the power can be used for great good or great evil. Ethics in programming and data is a hot topic right now. Always be mindful of what your creations are capable of doing in order to make sure that you are a force for good in the world."
      ]
    },
    {
      "cell_type": "markdown",
      "metadata": {},
      "source": [
        "## Attribution\n",
        "\n",
        "\"Pastel-colored candy eggs\", March 10, 2021, Debby Hudson, Unsplash License, https://unsplash.com/photos/nYH0S4wqytk"
      ]
    }
  ],
  "metadata": {
    "c1_recart": "7.66.0-57c20131aabc1dc2a8c675852d80a7da",
    "kernelspec": {
      "display_name": "Python (Pyodide)",
      "language": "python",
      "name": "python"
    },
    "language_info": {
      "codemirror_mode": {
        "name": "python",
        "version": 3
      },
      "file_extension": ".py",
      "mimetype": "text/x-python",
      "name": "python",
      "nbconvert_exporter": "python",
      "pygments_lexer": "ipython3",
      "version": "3.8"
    }
  },
  "nbformat": 4,
  "nbformat_minor": 5
}