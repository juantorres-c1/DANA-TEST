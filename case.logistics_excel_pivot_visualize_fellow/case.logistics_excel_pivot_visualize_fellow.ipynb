{
 "cells": [
  {
   "cell_type": "markdown",
   "metadata": {},
   "source": [
    "# How can we clean and visualize census data for market research?"
   ]
  },
  {
   "cell_type": "markdown",
   "metadata": {},
   "source": [
    "## Goals\n",
    "\n",
    "By the end of this case, you will learn how to clean, filter, pivot, and visualize census information to derive valuable insights from messy data.\n",
    "\n",
    "There are videos embedded in this lesson, so we need to run every line of code so you can see them. To load all videos at once, click on \"Kernel\" in the top menu, then select \"Restart and Run All\". \n",
    "\n",
    "You can also run each cell individually by clicking the cell and pressing `SHIFT+ENTER` on your keyboard - or - clicking the \"Run\" button. \n",
    "\n",
    "For the upcoming videos to load, please run the following code cell:"
   ]
  },
  {
   "cell_type": "code",
   "execution_count": null,
   "metadata": {},
   "outputs": [],
   "source": [
    "# import package for playing videos\n",
    "from IPython.display import HTML # only need to run this line once "
   ]
  },
  {
   "cell_type": "markdown",
   "metadata": {},
   "source": [
    "**Tip**: The video play speed can be changed in the video settings, which you can find by clicking the gear icon for each video."
   ]
  },
  {
   "cell_type": "markdown",
   "metadata": {},
   "source": [
    "### Introduction\n",
    "\n",
    "**Business Context.** You are an analyst at a consumer research group that specializes in helping companies bring new products to market. For your next project, your team wants to know what the fastest-growing consumer demographics are in the U.S. and use that information to determine what products they can develop to cater to those demographics.\n",
    "\n",
    "**Business Problem.** Your team lead asks you to pull data from the U.S. Census to find the population size of different age groups, separated by sex (Male/Female). Your task is to **produce an interactive report that visualizes the size of the different demographic groups.**\n",
    "\n",
    "**Analytical Context.** A senior analyst on your team has done you a favor and pulled the Census data for you. They have sent you the data in a file titled [census-data.xlsx](/case.logistics_excel_pivot_visualize_jlite_fellow/files/data/census-data.xlsx). "
   ]
  },
  {
   "cell_type": "markdown",
   "metadata": {
    "tags": [
     "5_min"
    ]
   },
   "source": [
    "## What is the Census?\n",
    "\n",
    "Below is an excerpt from the census.gov [website](https://www.census.gov/programs-surveys/censuses.html#par_textimage):\n",
    "\n",
    ">Also known as the Population and Housing Census, the Decennial U.S. Census is designed to count every resident in the United States. It is mandated by Article I, Section 2 of the Constitution and takes place every 10 years. The data collected by the decennial census determine the number of seats each state has in the U.S. House of Representatives and is also used to distribute hundreds of billions of dollars in federal funds to local communities.\n",
    "\n",
    ">The census tells us who we are and where we are going as a nation, and helps our communities determine where to build everything from schools to supermarkets and from homes to hospitals. It helps the government decide how to distribute funds and assistance to states and localities. It is also used to draw the lines of legislative districts and reapportion the seats each State holds in Congress.\n",
    "\n",
    "The U.S. Census Bureau manages and distributes many different tables of information, but for this case, we will be using the [S0101 - AGE AND SEX](https://data.census.gov/cedsci/table?q=United%20States&t=Age%20and%20Sex&tid=ACSST5Y2020.S0101) table from the [American Community Survey](https://www.census.gov/programs-surveys/acs)."
   ]
  },
  {
   "cell_type": "markdown",
   "metadata": {
    "tags": [
     "5_min"
    ]
   },
   "source": [
    "## Taking a look at the data\n",
    "\n",
    "If you haven't already, open the [census-data.xlsx](/case.logistics_excel_pivot_visualize_jlite_fellow/files/data/census-data.xlsx) workbook to follow along with the rest of this case. On the first tab titled `census_data_raw`, you should see a view that looks like this:\n",
    "\n",
    "![raw data](data/images/raw-data_eo.png)\n",
    "\n"
   ]
  },
  {
   "cell_type": "markdown",
   "metadata": {},
   "source": [
    "### Discussion 1\n",
    "\n",
    "What are some things that you notice about this data? Are you able to easily look at it and have a good sense of what the information is telling you?"
   ]
  },
  {
   "cell_type": "markdown",
   "metadata": {
    "tags": [
     "5_min"
    ]
   },
   "source": [
    "## Wide Data vs. Long data\n",
    "\n",
    "If you thought the data was hard to read, then you are certainly not alone. You can see that while there are only three rows in this table, there are many more columns that make the spreadsheet very wide horizontally. This data format does not easily lend itself to the type of analysis that we want to do, mainly due to the fact that each demographic group is in its own column.  This will make it difficult to perform the grouping and aggregations necessary to calculate the population totals by demographic group. We will be cleaning up this data shortly, but first, we will dive deeper into this wide data format.\n",
    "\n",
    "![wide vs long data](data/images/wide-long-data_eo.png)\n",
    "\n",
    "**Wide format data** is characterized by having values that do not repeat in the first column. In the above diagram, you can see that each row is dedicated to the stats of one candidate, and each candidate is not present in more than one row. Each column associated with a candidate's row contains different data points about them, including age, sex, and votes. When we look back at our census data, we can see that the first row corresponds to the census variable of a particular demographic group, the second row refers to the name of that group, and the third row refers to the population size of that group.\n",
    "\n",
    "On the other hand, with **long format data**, instead of each row being unique across multiple columns, there are now repeating values in the first column as well as the non-numeric columns. The type of data format you need depends largely on the type of analysis we want to do, but for our census data, we need to transform it from wide format to long format."
   ]
  },
  {
   "cell_type": "markdown",
   "metadata": {
    "tags": [
     "10_min"
    ]
   },
   "source": [
    "## Transforming Our Census Data For Analysis\n",
    "\n",
    "In order to transform our raw data from wide format to long format, we will need to perform an operation called a **transpose.** Borrowed from the field of linear algebra, a transpose flips a **matrix** or table of values on its diagonal so that the rows and columns of that table are flipped. The illustration below demonstrates what we will soon be doing to our census data on a larger scale.\n",
    "\n",
    "![transpose](data/images/Matrix_transpose.gif)\n",
    ">\"Matrix transpose\", Lucas Vieira, Oct 4, 2012, Public Domain, https://commons.wikimedia.org/wiki/File:Matrix_transpose.gif\n",
    "\n",
    "Fortunately, Excel can perform this transpose for us, without us having to know any linear algebra or write any fancy functions. All we need to do is perform the following steps:\n",
    "\n",
    "1. Select all the data in the `census_data_raw` tab. One way you can do this is to click on cell A1 and press `Ctrl + A` (`Cmd + A` on a Mac).\n",
    "2. When all the data is highlighted, copy the data to your clipboard by either hitting `Ctrl`/`Cmd` + `C` or right-clicking and selecting \"Copy\" from the context menu.\n",
    "3. Click on the `census_data_pivot` tab, and make sure that cell A1 is highlighted. Right-click on cell A1, hover your mouse over the \"Paste Special\" option in the context menu, and then select \"Transpose\" from the sub-menu.\n",
    "\n",
    "**Video Note**: As previously stated, to see the video below, click on the cell and then press `SHIFT+ENTER`. If this does not work, be sure you ran the previous cell that read from `IPython.display import HTML`. To avoid having to run each code cell, click the fast-forward symbol in the menu bar, then select \"Restart and Run All Cells\"."
   ]
  },
  {
   "cell_type": "code",
   "execution_count": null,
   "metadata": {},
   "outputs": [],
   "source": [
    "HTML('<div style=\\\"padding:49.52% 0 0 0;position:relative;\\\"><iframe src=\\\"https://player.vimeo.com/video/795350817?h=406083056c&amp;badge=0&amp;autopause=0&amp;player_id=0&amp;app_id=58479\\\" frameborder=\\\"0\\\" allow=\\\"autoplay; fullscreen; picture-in-picture\\\" allowfullscreen style=\\\"position:absolute;top:0;left:0;width:100%;height:100%;\\\" title=\\\"transpose\\\"></iframe></div><script src=\\\"https://player.vimeo.com/api/player.js\\\"></script>')"
   ]
  },
  {
   "cell_type": "markdown",
   "metadata": {
    "tags": [
     "10_min"
    ]
   },
   "source": [
    "Now that our data has been transposed into long format, we are one step closer to being able to start our report. We have all of our demographic groups and population values in one column, which will make it much easier for us to work with. However, in column B, the data still looks very messy due to the multiple levels of categorization found within each cell. Let's take a look at one of these values in cell B5:\n",
    "\n",
    "\n",
    "`Estimate!!Total!!Total population!!AGE!!Under 5 years`\n",
    "\n",
    "\n",
    "What do you think this string of text is telling us? Try coming up with your own guess before continuing with his case. You can refer back to the [S0101 - AGE AND SEX](https://data.census.gov/cedsci/table?q=United%20States&t=Age%20and%20Sex&tid=ACSST5Y2020.S0101) table from the census.gov website.\n",
    "\n",
    "\n",
    "![census.gov site](data/images/census-site.png)\n",
    "\n",
    "On the webpage report, you can see that there are multiple group levels, or **indices**, along the left and top of the data that show you how the information is organized. This type of table formatting is great for visually scanning, but not so great for analyzing and performing calculations. In order to capture all of these levels in the raw data export, all of those levels of groupings have to be compressed into a single line of text. Keeping in mind our original `Estimate!!Total!!Total population!!AGE!!Under 5 years` string, you can find the second column in the report titled \"Estimate\", which also falls under the \"Total\" and \"United States\" headings. In the first column, you can also see \"Total Population\" and \"AGE\" and row headers, with each distinct age group listed underneath.\n",
    "\n",
    "This is how the dataset maps each of these multiple sub-groups to their unique values, but what if we wanted to combine or aggregate these values across the different levels? We will do just that by separating these group strings into their individual parts. Please make sure there is no data in the next columns after the group strings column, otherwise, the data will be replaced by their individual parts:\n",
    "\n",
    "1. First, delete the first two rows of our table by clicking and holding on the first-row bar, dragging down to the second, right-clicking on the second-row bar and clicking the \"Delete Sheet Rows\" option on the context menu. These rows are just telling us that we're looking at data for the entire population of the United States, and they are not relevant for our future analysis.\n",
    "2. Click on the Column C header in order to highlight the entire column, then click \"Cut\". \n",
    "3. Click on the Column B header in order to highlight the entire column, then select \"Insert Cut Cells\".\n",
    "4. Click on the Column C header in order to highlight the entire column. \n",
    "5. Click the \"Data\" tab in the top ribbon on your Excel window.\n",
    "6. Click the \"Text to Columns\" button to open up the wizard tool.\n",
    "7. Under the list of options under \"Select Delimiters\", check the \"Custom\" box and enter the `!` character in the text box.\n",
    "9. Check the \"Preview\" section to validate the separation, then click \"Apply\".\n",
    "10. Delete all empty columns\n",
    "11. Click on the Column B header in order to highlight the entire column, then click \"Cut\".\n",
    "12. Click on the Column H header, then select \"Insert Cut Cells\". "
   ]
  },
  {
   "cell_type": "code",
   "execution_count": null,
   "metadata": {},
   "outputs": [],
   "source": [
    "HTML('<div style=\"padding:49.52% 0 0 0;position:relative;\"><iframe src=\"https://player.vimeo.com/video/795350742?h=65c2c73025&amp;badge=0&amp;autopause=0&amp;player_id=0&amp;app_id=58479\" frameborder=\"0\" allow=\"autoplay; fullscreen; picture-in-picture\" allowfullscreen style=\"position:absolute;top:0;left:0;width:100%;height:100%;\" title=\"text-to-columns\"></iframe></div><script src=\"https://player.vimeo.com/api/player.js\"></script>')"
   ]
  },
  {
   "cell_type": "markdown",
   "metadata": {
    "tags": [
     "10_min"
    ]
   },
   "source": [
    "You can now see that our original column has been split into 5 separate columns, one for each group level. We no longer see our original column of combined values since it has been replaced. "
   ]
  },
  {
   "cell_type": "markdown",
   "metadata": {
    "tags": [
     "5_min"
    ]
   },
   "source": [
    "## Filtering and Subsetting the Data\n",
    "\n",
    "It took a little bit of elbow grease, but our efforts have paid off and given us a clean table of census data to use for our report. If you happen to get stuck along the way, you can go back to the first `census_data_raw` sheet and repeat the directions in this section. We've also included a hidden sheet titled `census_data_pivot(cleaned)` that you can use to continue following along with the case. Just right-click one of the worksheet tabs and click \"Unhide...\" on the context menu, then select the name of the hidden sheet to unhide it.\n",
    "\n",
    "The data that we have here contains the estimated population totals of each age group along with reported margins of error and percent totals, but for our analysis, we are only interested in the total population estimates. We will use **filters** to select only the subset of data we're interested in, but first, we must name our columns. Right-click on the first row and select the \"Insert Rows\" option to add a blank row at the top of the worksheet. Enter the following column names above each column starting with A: `variable`, `calculation`, `segment`, `group`, `age`, `age group`, and `population`."
   ]
  },
  {
   "cell_type": "code",
   "execution_count": null,
   "metadata": {},
   "outputs": [],
   "source": [
    "HTML('<div style=\"padding:49.59% 0 0 0;position:relative;\"><iframe src=\"https://player.vimeo.com/video/795350009?h=b2d97aef37&badge=0&autopause=0&player_id=0&app_id=58479/embed\" allow=\"autoplay; fullscreen; picture-in-picture\" allowfullscreen frameborder=\"0\" style=\"position:absolute;top:0;left:0;width:100%;height:100%;\"></iframe></div>')"
   ]
  },
  {
   "cell_type": "markdown",
   "metadata": {
    "tags": [
     "5_min"
    ]
   },
   "source": [
    "In order to add filters to our data, highlight columns A through G by clicking on column A and dragging your cursor over to column G. Under the \"Data\" tab in the top ribbon, which should still be active, click the \"Filter\" button to add filter dropdowns to each column header. Next, configure the following filters:\n",
    "\n",
    "1. Click the `calculation` column filter. Leave only the \"Estimate\" value selected.\n",
    "2. Click the `segment` column filter. Leave only the \"Female\" and \"Male\" values selected.\n",
    "3. Click the `age` column filter. Leave only the \"AGE\" value selected."
   ]
  },
  {
   "cell_type": "code",
   "execution_count": null,
   "metadata": {},
   "outputs": [],
   "source": [
    "HTML('<div style=\"padding:49.59% 0 0 0;position:relative;\"><iframe src=\"https://player.vimeo.com/video/795349312?h=29747830bb&amp;badge=0&amp;autopause=0&amp;player_id=0&amp;app_id=58479\" frameborder=\"0\" allow=\"autoplay; fullscreen; picture-in-picture\" allowfullscreen style=\"position:absolute;top:0;left:0;width:100%;height:100%;\" title=\"add-filters\"></iframe></div><script src=\"https://player.vimeo.com/api/player.js\"></script>')"
   ]
  },
  {
   "cell_type": "markdown",
   "metadata": {
    "tags": [
     "5_min"
    ]
   },
   "source": [
    "Now that we have our data filtered, we can start building our report! We will need to copy our filtered data and paste it into the `census_data_report` worksheet. To paste the data, right-click on cell A1 in the `census_data_report` and under the \"Paste\" option, select \"Values\". Then, delete the `calculation`, `group`, and `age` columns, which now contain only one distinct value, so they are no longer useful for our analysis."
   ]
  },
  {
   "cell_type": "code",
   "execution_count": null,
   "metadata": {},
   "outputs": [],
   "source": [
    "HTML('<div style=\"padding:49.59% 0 0 0;position:relative;\"><iframe src=\"https://player.vimeo.com/video/795350048?h=50de3e42e9&amp;badge=0&amp;autopause=0&amp;player_id=0&amp;app_id=58479\" frameborder=\"0\" allow=\"autoplay; fullscreen; picture-in-picture\" allowfullscreen style=\"position:absolute;top:0;left:0;width:100%;height:100%;\" title=\"paste-values\"></iframe></div><script src=\"https://player.vimeo.com/api/player.js\"></script>')"
   ]
  },
  {
   "cell_type": "markdown",
   "metadata": {
    "tags": [
     "10_min"
    ]
   },
   "source": [
    "## Creating a PivotTable\n",
    "\n",
    "In order to start creating the visual portion of our report, we will use our data to create a **PivotTable**. A PivotTable is a powerful tool to calculate, summarize, and analyze data that lets you see comparisons, patterns, and trends in your data. They are especially useful for analyzing select columns in relation to each other, which is what we will do with our census data.\n",
    "\n",
    "In the `census_data_report` sheet, we begin by selecting the range `A1:D37`. With the range of cells highlighted, click Insert > PivotTable. In the \"Create PivotTable\" menu, select \"Existing Worksheet\" and set the Table/Range option to cell F1."
   ]
  },
  {
   "cell_type": "code",
   "execution_count": null,
   "metadata": {},
   "outputs": [],
   "source": [
    "HTML('<div style=\"padding:49.59% 0 0 0;position:relative;\"><iframe src=\"https://player.vimeo.com/video/795349357?h=c3e689cba8&amp;badge=0&amp;autopause=0&amp;player_id=0&amp;app_id=58479\" frameborder=\"0\" allow=\"autoplay; fullscreen; picture-in-picture\" allowfullscreen style=\"position:absolute;top:0;left:0;width:100%;height:100%;\" title=\"add-pivot-table\"></iframe></div><script src=\"https://player.vimeo.com/api/player.js\"></script>')"
   ]
  },
  {
   "cell_type": "markdown",
   "metadata": {
    "tags": [
     "10_min"
    ]
   },
   "source": [
    "You should now see an empty pivot table window like in the screenshot below. As you can see, there are empty check boxes next to each column in our data table as well as sections for Filters, Columns, Rows, and Values."
   ]
  },
  {
   "cell_type": "markdown",
   "metadata": {
    "tags": [
     "10_min"
    ]
   },
   "source": [
    "![empty pivot table](data/images/empty-pivot-table_eo.png)"
   ]
  },
  {
   "cell_type": "markdown",
   "metadata": {
    "tags": [
     "10_min"
    ]
   },
   "source": [
    "To begin making your PivotTable, drag the `segment` variable into the Rows section and the `population` value in the Values section. You can see that we quickly get a nice and simple view of the size of the female and male populations.\n",
    "\n",
    "![male-female](data/images/male-female-totals_eo.png)\n",
    "\n",
    "We also want these totals broken down by age groups, so drag the `age group` variable into the Rows section below the `segment` variable. We now have a view of all of the age group populations listed under both the Male and Female groups.\n",
    "\n",
    "Is this the best way to configure our PivotTable layout? That largely depends on the type of analysis that you're trying to do, as well as personal preference. The beauty of PivotTables is that they let you easily reorganize your data into multiple different views without having to change anything about the underlying data. In fact, a PivotTable is created using a **cache**, or copy, of your original data, so it makes no changes to the original information. To generate a different view of our table, we will now drag the `age_group` variable up above the `segment` variable. We now see that the age groups are included in the row labels, with Male and Female totals under each group. Lastly, drag the `segment` variable diagonally across to the Columns section, and observe how the entire data table fits into the view. This will be the final format of our PivotTable.\n",
    "\n",
    "**Tip!** To re-open the \"Pivot Table Fields\" menu, right-click on the Pivot Table and chose the option \"Show Field List\"."
   ]
  },
  {
   "cell_type": "code",
   "execution_count": null,
   "metadata": {},
   "outputs": [],
   "source": [
    "HTML('<div style=\"padding:56.25% 0 0 0;position:relative;\"><iframe src=\"https://player.vimeo.com/video/795349460?h=93c63992a7&amp;badge=0&amp;autopause=0&amp;player_id=0&amp;app_id=58479\" frameborder=\"0\" allow=\"autoplay; fullscreen; picture-in-picture\" allowfullscreen style=\"position:absolute;top:0;left:0;width:100%;height:100%;\" title=\"configure-pivot-table\"></iframe></div><script src=\"https://player.vimeo.com/api/player.js\"></script>')"
   ]
  },
  {
   "cell_type": "markdown",
   "metadata": {
    "tags": [
     "5_min"
    ]
   },
   "source": [
    "## PivotCharts\n",
    "\n",
    "While PivotTables provide effective tabular views of data, we also want to provide our boss with a graph in order to provide a visual representation of the data. **PivotCharts** build off of PivotTables by creating charts and graphs that dynamically update based on the current view of the data.\n",
    "\n",
    "To create our first PivotChart, we will click on our PivotTable to ensure that it is active, then select Insert > Chart. You will see a grouped bar chart come into view, and you can drag it to the top of the sheet to adjust its size and positioning."
   ]
  },
  {
   "cell_type": "code",
   "execution_count": null,
   "metadata": {},
   "outputs": [],
   "source": [
    "HTML('<div style=\"padding:49.59% 0 0 0;position:relative;\"><iframe src=\"https://player.vimeo.com/video/795350091?h=8e7c137f7f&badge=0&autopause=0&player_id=0&app_id=58479/embed\" allow=\"autoplay; fullscreen; picture-in-picture\" allowfullscreen frameborder=\"0\" style=\"position:absolute;top:0;left:0;width:100%;height:100%;\"></iframe></div>')"
   ]
  },
  {
   "cell_type": "markdown",
   "metadata": {
    "tags": [
     "5_min"
    ]
   },
   "source": [
    "We now have a nice view of a graph alongside our PivotTable that visualizes the size of the U.S. population broken down by sex and age group. As mentioned previously, a PivotChart will dynamically change based on the data that's currently displayed in the PivotTable, so if we want to see fewer age groups in our sheet, all we have to do is filter the PivotTable. Click the dropdown button that's in the \"age group\" cell and select \"Filter\". Uncheck the \"Select All\" checkbox to unselect all age groups, then select the first 3 age groups. When you exit the menu, you will now see that only those 3 age groups are present in the PivotTable and PivotChart. To reset the view and see all the rows again, simply go back into the filter menu and select \"Select All\", or simply press the \"Clear Filter\" button."
   ]
  },
  {
   "cell_type": "code",
   "execution_count": null,
   "metadata": {},
   "outputs": [],
   "source": [
    "HTML('<div style=\"padding:49.59% 0 0 0;position:relative;\"><iframe src=\"https://player.vimeo.com/video/795349540?h=14795b393a&amp;badge=0&amp;autopause=0&amp;player_id=0&amp;app_id=58479\" frameborder=\"0\" allow=\"autoplay; fullscreen; picture-in-picture\" allowfullscreen style=\"position:absolute;top:0;left:0;width:100%;height:100%;\" title=\"filter-view\"></iframe></div><script src=\"https://player.vimeo.com/api/player.js\"></script>')"
   ]
  },
  {
   "cell_type": "markdown",
   "metadata": {},
   "source": [
    "Now it's time to change the Chart title! To do this choose \"Chart\" at the top of the toolbar, and then from the drop-down menu on \"Chart Title\", select \"Edit Chart Title\". You can also custimize the Chart, such as adding Axis Titles, modifying the legends, modifying gridlines, etc., under the \"Chart\" tab."
   ]
  },
  {
   "cell_type": "code",
   "execution_count": null,
   "metadata": {},
   "outputs": [],
   "source": [
    "HTML('<div style=\"padding:49.59% 0 0 0;position:relative;\"><iframe src=\"https://player.vimeo.com/video/795349419?h=6ecccffafc&badge=0&autopause=0&player_id=0&app_id=58479/embed\" allow=\"autoplay; fullscreen; picture-in-picture\" allowfullscreen frameborder=\"0\" style=\"position:absolute;top:0;left:0;width:100%;height:100%;\"></iframe></div>')"
   ]
  },
  {
   "cell_type": "markdown",
   "metadata": {},
   "source": [
    "You may have noticed that PivotChart we just created isn't sorted. Sorting data is helpful when you have large amounts of data in a PivotTable or PivotChart. You can sort in alphabetical order (Sort Ascending/Descending), from highest to lowest values or the other way around (Sory By Value). Sorting is one way of organizing your data, so it’s easier to find specific items that need more scrutiny.\n",
    "\n",
    "**Here are a few things to remember about sorting data**:\n",
    "\n",
    "- Sort orders vary by locale setting. Ensure that you have the proper locale setting in Regional Settings or Regional and Language Options in Control Panel on your computer. For information about changing the locale setting, see the [Windows Help system](https://support.microsoft.com/en-us/office/change-the-windows-regional-settings-to-modify-the-appearance-of-some-data-types-edf41006-f6e2-4360-bc1b-30e9e8a54989).\n",
    "\n",
    "- Data that has leading spaces will affect the sort results. For optimal results, remove any leading spaces before you sort the data.\n",
    "\n",
    "- You can’t sort case-sensitive text entries.\n",
    "\n",
    "- You can’t sort data by a specific format, such as cell color or font color. Nor can you sort by conditional formatting indicators, such as icon sets."
   ]
  },
  {
   "cell_type": "markdown",
   "metadata": {},
   "source": [
    "Let's say we want to sort the PivotChart based on age group by Ascending order. What do you notice from the sorted PivotChart below?"
   ]
  },
  {
   "cell_type": "markdown",
   "metadata": {},
   "source": [
    "![sorted-pivotchart](data/images/sorted-pivotchart_eo.png)"
   ]
  },
  {
   "cell_type": "markdown",
   "metadata": {},
   "source": [
    "The age group is now partially sorted but not completely. We expect to see \"Under 5 years\", \"5 to 9 years\", \"10 to 14 years\", \"15 to 19 years\", etc. Since this age group column is in text format, Excel will sort the text in a lexicographical/dictionary order. When sorting, the algorithm scans from left to right. For example, comparing 10 and 2, it sees a 1 and a 2. The 2 is larger, so it goes after 1 (ascending) even if the 1 is actually part of a larger number (10).\n",
    "\n",
    "In order to correctly sort the PivotChart based on age group, we need to change \"Under 5 years\" to **\"0 to 5 years\"** and \"5 to 9 years\" to **\"05 to 9 years\"**"
   ]
  },
  {
   "cell_type": "code",
   "execution_count": null,
   "metadata": {},
   "outputs": [],
   "source": [
    "HTML('<div style=\"padding:49.59% 0 0 0;position:relative;\"><iframe src=\"https://player.vimeo.com/video/795348600?h=f5ceae52c1&amp;badge=0&amp;autopause=0&amp;player_id=0&amp;app_id=58479\" frameborder=\"0\" allow=\"autoplay; fullscreen; picture-in-picture\" allowfullscreen style=\"position:absolute;top:0;left:0;width:100%;height:100%;\" title=\"sorted-pivotchart\"></iframe></div><script src=\"https://player.vimeo.com/api/player.js\"></script>')"
   ]
  },
  {
   "cell_type": "markdown",
   "metadata": {
    "tags": [
     "5_min"
    ]
   },
   "source": [
    "Let's start asking some questions about our data:"
   ]
  },
  {
   "cell_type": "markdown",
   "metadata": {},
   "source": [
    "### Exercise 1\n",
    "\n",
    "#### 1.1\n",
    "\n",
    "By visually scanning the bar chart, what is the largest single demographic group? In other words, what group corresponds to the highest bar in the chart?"
   ]
  },
  {
   "cell_type": "markdown",
   "metadata": {
    "tags": [
     "ans_st"
    ]
   },
   "source": [
    "**Answer.**"
   ]
  },
  {
   "cell_type": "markdown",
   "metadata": {
    "tags": [
     "2_min"
    ]
   },
   "source": [
    "#### 1.2\n",
    "\n",
    "Refer back to the PivotTable. What is the population size of the largest group?"
   ]
  },
  {
   "cell_type": "markdown",
   "metadata": {
    "tags": [
     "ans_st"
    ]
   },
   "source": [
    "**Answer.**"
   ]
  },
  {
   "cell_type": "markdown",
   "metadata": {
    "tags": [
     "5_min"
    ]
   },
   "source": [
    "### Exercise 2\n",
    "\n",
    "What are the 4 smallest age groups in terms of population size? (**Hint**: you can use the same filter menu to filter by values.)"
   ]
  },
  {
   "cell_type": "markdown",
   "metadata": {
    "tags": [
     "ans_st"
    ]
   },
   "source": [
    "**Answer.**"
   ]
  },
  {
   "cell_type": "code",
   "execution_count": null,
   "metadata": {},
   "outputs": [],
   "source": [
    "HTML('<div style=\"padding:49.59% 0 0 0;position:relative;\"><iframe src=\"https://player.vimeo.com/video/795348577?h=2e81827637&amp;badge=0&amp;autopause=0&amp;player_id=0&amp;app_id=58479\" frameborder=\"0\" allow=\"autoplay; fullscreen; picture-in-picture\" allowfullscreen style=\"position:absolute;top:0;left:0;width:100%;height:100%;\" title=\"bottom-4\"></iframe></div><script src=\"https://player.vimeo.com/api/player.js\"></script>')"
   ]
  },
  {
   "cell_type": "markdown",
   "metadata": {
    "tags": [
     "10_min"
    ]
   },
   "source": [
    "## Adding Another Chart and Filter Control\n",
    "\n",
    "While our current view provides an effective view of the sex and age group population sizes, we can add an additional graph to provide our audience with a different perspective on the data. To complement the bar chart, we will be adding a line chart to our view. We do this by creating a PivotChart the same way as before or simply by copying the PivotChart and pasting it somewhere. Under the \"Chart\" tab on the top ribbon, we will select \"Change Chart Type\" and select the first line chart option in the menu.\n"
   ]
  },
  {
   "cell_type": "code",
   "execution_count": null,
   "metadata": {},
   "outputs": [],
   "source": [
    "HTML('<div style=\"padding:49.59% 0 0 0;position:relative;\"><iframe src=\"https://player.vimeo.com/video/795348548?h=061daa6eb4&amp;badge=0&amp;autopause=0&amp;player_id=0&amp;app_id=58479\" frameborder=\"0\" allow=\"autoplay; fullscreen; picture-in-picture\" allowfullscreen style=\"position:absolute;top:0;left:0;width:100%;height:100%;\" title=\"change-chart-type.mp4\"></iframe></div><script src=\"https://player.vimeo.com/api/player.js\"></script>')"
   ]
  },
  {
   "cell_type": "markdown",
   "metadata": {},
   "source": [
    "### Exercise 3\n",
    "\n",
    "What types of insights could you get from the line chart that you couldn't get as easily from the bar chart or PivotTable?"
   ]
  },
  {
   "cell_type": "markdown",
   "metadata": {
    "tags": [
     "ans_st"
    ]
   },
   "source": [
    "**Answer.**"
   ]
  },
  {
   "cell_type": "markdown",
   "metadata": {
    "tags": [
     "5_min"
    ]
   },
   "source": [
    "To finish off our visual report, we will add a **slicer** to our sheet, which is a tool that makes it easier and faster to filter your data than going through the filter menu. While the PivotTable is highlighted, select the \"PivotTable\" tab in the top ribbon, then click the \"Insert Slicer\" button. Select the `age group` variable as the column we want our slicer to filter the data by. Once the slicer appears in the middle of the screen, you can drag and resize it to fit the rest of the view. \n",
    "\n",
    "When you click on one of the age group buttons in the slicer, you can see how the PivotTable and two PivotCharts all dynamically change to show just the group that the slicer is filtering on. You can also select the multiselect icon at the top right of the slicer or by pressing \"shift\" keyboard when selecting in order to select multiple age groups."
   ]
  },
  {
   "cell_type": "code",
   "execution_count": null,
   "metadata": {},
   "outputs": [],
   "source": [
    "HTML('<div style=\"padding:49.59% 0 0 0;position:relative;\"><iframe src=\"https://player.vimeo.com/video/795344596?h=78ee3dea14&amp;badge=0&amp;autopause=0&amp;player_id=0&amp;app_id=58479\" frameborder=\"0\" allow=\"autoplay; fullscreen; picture-in-picture\" allowfullscreen style=\"position:absolute;top:0;left:0;width:100%;height:100%;\" title=\"add-slicer.mp4\"></iframe></div><script src=\"https://player.vimeo.com/api/player.js\"></script>')"
   ]
  },
  {
   "cell_type": "markdown",
   "metadata": {
    "tags": [
     "10_min"
    ]
   },
   "source": [
    "### Exercise 4\n",
    "\n",
    "Based on some preliminary market research that your team has done, they have determined that the target demographics for the new group of products they want to pitch are adults ages 55 and over. What is the largest demographic group according to that criteria? Filter your PivotTable to reflect this new criteria."
   ]
  },
  {
   "cell_type": "markdown",
   "metadata": {
    "tags": [
     "ans_st"
    ]
   },
   "source": [
    "**Answer.**"
   ]
  },
  {
   "cell_type": "code",
   "execution_count": null,
   "metadata": {},
   "outputs": [],
   "source": [
    "HTML('<div style=\"padding:49.59% 0 0 0;position:relative;\"><iframe src=\"https://player.vimeo.com/video/795344056?h=a12b7b4fe6&badge=0&autopause=0&player_id=0&app_id=58479/embed\" allow=\"autoplay; fullscreen; picture-in-picture\" allowfullscreen frameborder=\"0\" style=\"position:absolute;top:0;left:0;width:100%;height:100%;\"></iframe></div>')"
   ]
  },
  {
   "cell_type": "markdown",
   "metadata": {},
   "source": [
    "## Conclusion\n",
    "\n",
    "Congratulations! You have just created a rudimentary dashboard visualizing real census data in order to solve a business problem. You also learned how to transpose data, clean messy text fields, and create PivotTables and PivotCharts to provide a dynamic view of your data. We encourage you to keep experimenting with the filter and chart options in Excel to see what new insights you can create."
   ]
  }
 ],
 "metadata": {
  "c1_recart": "7.52.0-57c20131aabc1dc2a8c675852d80a7da",
  "kernelspec": {
   "display_name": "Python 3 (ipykernel)",
   "language": "python",
   "name": "python3"
  },
  "language_info": {
   "codemirror_mode": {
    "name": "ipython",
    "version": 3
   },
   "file_extension": ".py",
   "mimetype": "text/x-python",
   "name": "python",
   "nbconvert_exporter": "python",
   "pygments_lexer": "ipython3",
   "version": "3.9.7"
  }
 },
 "nbformat": 4,
 "nbformat_minor": 4
}
