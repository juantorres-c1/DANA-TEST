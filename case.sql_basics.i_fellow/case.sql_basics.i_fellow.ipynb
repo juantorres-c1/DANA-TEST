{
  "metadata": {
    "c1_recart": "7.56.0-57c20131aabc1dc2a8c675852d80a7da",
    "kernelspec": {
      "display_name": "SQLite",
      "language": "sql",
      "name": "SQLite"
    },
    "language_info": {
      "codemirror_mode": "sql",
      "file_extension": "",
      "mimetype": "",
      "name": "sql",
      "version": "3.32.3"
    }
  },
  "nbformat_minor": 4,
  "nbformat": 4,
  "cells": [
    {
      "cell_type": "markdown",
      "source": "# Murder in Sequel City: Can you solve the mystery?\n\n![](data/images/spy.png)",
      "metadata": {}
    },
    {
      "cell_type": "markdown",
      "source": "## Goals\n\nThis case will introduce you to the basics of databases and give you a first exposure to the SQL programming language, which we use to communicate with them.",
      "metadata": {
        "tags": []
      }
    },
    {
      "cell_type": "markdown",
      "source": "## Introduction\n\nIt is a misty September morning in Sequel City, California. You are relaxing at your office, reading the newspaper and drinking coffee, when the telephone rings. It's the familiar voice of one of your high-profile contacts from Washington. He wants you, the most renowned private investigator in town, to help the FBI solve a top-secret cold case. Will you be up to the challenge?\n\n![The Red Telephone](data/images/phone.jpg)\n\nHe tells you there was a murder back in 2018, but the first investigation didn't produce any definitive results. The bad news is that the original crime scene data was lost because it was stored in Excel workbooks, and the Excel files got corrupted some time after the case was archived. As if that was not enough, the detective who led the inquiry back then forgot many of the key details of the case! The only thing she vaguely recalls is that the crime occurred sometime on Feb. 18, 2018. The good news is that the data was copied to a \"relational database\" (more on that later) before the Excel files were corrupted. All the clues that you will need to solve the case are buried there.\n\nYou are always down for a good mystery, so you *of course* say yes!",
      "metadata": {}
    },
    {
      "cell_type": "markdown",
      "source": "## The database enigma\n\nMany people know how to handle data in Excel spreadsheets, which are intuitive and easy to use and access. But that is *so mainstream*! There are other tools with greater potential.\n\n![from_excel_to_db](./data/images/from_excel_to_db.png)\n\nAlthough Excel is great, it has its limitations. For starters, [Excel](https://support.microsoft.com/en-us/office/excel-specifications-and-limits-1672b34d-7043-467e-8e27-269d656771c3) files have a maximum size of 1,048,576 rows by 16,384 columns, and in practice the limit is much smaller than that because many personal computers can't handle that amount of data along with Excel's user interface at the same time. Furthermore, while having a single very large table may not be so bad, the situation becomes more complicated when you have to look up the data in that table in another very large table, which in turn references another table, etc. After a bunch of [`VLOOKUP`](https://support.microsoft.com/en-us/office/vlookup-function-0bbc8083-26fe-4963-8ab8-93a18ad188a1)s across several large tables, not only will your Excel crash, but you will also risk losing your data!\n\n\nOn top of that, collaboration is difficult in Excel - how would you allow your colleagues to work together on the same spreadsheet as you? One option could be to use Excel Online or Google Spreadsheets, but although these tools are excellent for collaboration on small datasets, they are not optimal for bigger tasks like the one we are describing.\n\nFor these reasons, and many more, professional data analysts (and professional private detectives too!) use [**relational databases**](https://en.wikipedia.org/wiki/Relational_database) instead. Relational databases are purpose-built to do all the tasks we have just mentioned in a very efficient and secure way.",
      "metadata": {}
    },
    {
      "cell_type": "markdown",
      "source": "### What is a relational database?\n\nThere's no single definition for the word database. In general, databases are systems for managing information. Databases can have varying amounts of structure imposed on the data. When the data is more structured, it can help people and computers work with the data more efficiently.\n\nRelational databases are probably the most well-known kind of database. At their heart, relational databases are made up of **tables**, which are a lot like spreadsheets. Each column in the table has a name and a data type (text, number, etc.), and each row in the table is a specific instance of whatever the table is about. Relational databases get their name from the term **relations**, which is another way to refer to tables. So you could say that relational databases are indeed \"table-based databases\"!\n\nFor example, one of the tables (relations) in the cold case database contains information about people. The first few rows of that table are below:\n\n\n| id |                name |  driver_id |               address |         ssn |    income |\n|---:|--------------------:|-----------:|----------------------:|------------:|----------:|\n|  1 |         Herve Lilie | 7023162704 | 9663 Mockingbird Lane | 156-14-0067 | \\$63163.25 |\n|  2 |    Jacqueline Colam | 4722687668 |  1396 Westport Circle | 733-53-7490 | \\$94851.22 |\n|  3 |       Keenan Treker | 9198946080 |   4 Glendale Junction | 380-51-1574 | \\$58070.55 |\n|  4 |     Kimbell Everill |   39201465 |      107 Hovde Circle | 415-98-5200 | \\$40770.06 |\n|  5 | Abramo De Bernardis | 7411450154 |  8251 Maple Wood Park | 657-03-1688 | \\$89059.97 |\n\nYou can see that this table has an `id` column to uniquely identify each person. We call identifying columns **primary keys**. Thus, `id` is this table's primary key. You can also see other columns like `name`, `driver_id`, `address`, etc. These are called **attributes**. Each row corresponds to one person and is called a **tuple**.",
      "metadata": {}
    },
    {
      "cell_type": "markdown",
      "source": "## The conspiracy puzzle\n\nAs a seasoned private detective, the first thing you do when you start on a new case is to rush to buy some pins and thread at Walmart and make an evidence board, [*don't you?*](https://qr.ae/pvOGXe) Evidence boards are great because they help you see all the evidence at a glance.\n\n![investigation](data/images/investigation.jpg)\n\n\nTurns out we can have evidence boards in relational databases too! We call them **Entity Relationship Diagrams**, or **ERD**s for short.\n\nAn ERD is a visual representation of the relationships between all the relevant tables within a database. You can find the ERD of our cold case database below. Take some time to go over all the tables and understand the structure of the database. The diagram shows that each table has a name (at the top) and a list of the attributes with their data types. A key icon indicates that the column is the primary key of the corresponding table. The blue lines mean that two tables are linked to each other. We link tables using **foreign keys**. A foreign key is an attribute that is used to reference data in one table from another table. For example, the attribute `driver_id` in the `individual` table is a foreign key because it points to an attribute in another table, the `id` attribute of the `drivers` table.\n\n![ERD](data/images/er.png)\n\nBy knowing how all the relations in the database are linked to each other, you can narrow down your research to find out exactly what data you need to extract and where to look for it.",
      "metadata": {}
    },
    {
      "cell_type": "markdown",
      "source": "## The query inquiry\n\nJust as a detective interrogates a suspect, a data analyst can interrogate a database. We call that action **querying** the database.\n\nDatabases are very particular subjects that won't cooperate if you don't ask the right way. As rightful citizens of Sequel City (databases enjoy the same civil rights that human beings have here), they demand their interrogations to be conducted in the language of the land. That language is **SQL** (pronounced \"sequel,\" just like the city) and stands for **Structured Query Language**.\n\nAre you ready to grill the database? Let's make it speak!",
      "metadata": {}
    },
    {
      "cell_type": "markdown",
      "source": "### Initializing the database\n\nLet's load our database. We will be using a database that is in the [SQLite](https://www.sqlite.org/index.html) file format. This format is very popular for small databases. In fact, chances are your cell phone uses hundreds of SQLite databases for keeping things like your contact lists and apps up-to-date.\n\nIn order to load the SQLite file (which you can find at [`data/crime_database.db`](data/crime_database.db)), we need to import the `sqlalchemy` Python library and run some boilerplate code (below). Don't worry about learning that code; it's not SQL.",
      "metadata": {}
    },
    {
      "cell_type": "code",
      "source": "%FETCH https://amzn-dana.workspace-lite.correlation-one.com/case.sql_basics_fellow/files/data/crime_database.db crime_database",
      "metadata": {
        "tags": []
      },
      "execution_count": null,
      "outputs": []
    },
    {
      "cell_type": "code",
      "source": "%LOAD crime_database RW",
      "metadata": {},
      "execution_count": null,
      "outputs": []
    },
    {
      "cell_type": "markdown",
      "source": "### The basics of queries\n\nIf you were to look at the data in this database, you would see that the tables are huge! There are so many data points; it is simply not possible to go through the tables row by row to find the information we need. What are we supposed to do?\n\nThis is where queries come in. A good thing about SQL is that queries read like natural English (for the most part), although they have a much more limited vocabulary. The word that databases like the most is **`SELECT`**, which lets you access data from a table or set of tables. They like it even more if once you have finished your query, you end it with a semicolon (**`;`**), which lets it know you're done asking. Saying `SELECT` and `;` to a database is like saying \"please\" and \"thank you\" to a Sesame Street character. It makes it sing!",
      "metadata": {}
    },
    {
      "cell_type": "markdown",
      "source": "### Example 1\n\nTo ask a database to show you the data from all the columns in a table, you use the **`*`** character. To specify the table, you use the **`FROM`** keyword. For example, below, we query all the data from all the columns of the `interrogation` table (the cell starts with `%%sql`, which is a piece of code we add to be able to execute SQL code inside a notebook, but it isn't actual SQL language syntax):",
      "metadata": {}
    },
    {
      "cell_type": "code",
      "source": "SELECT * FROM interrogation;",
      "metadata": {
        "tags": []
      },
      "execution_count": null,
      "outputs": []
    },
    {
      "cell_type": "markdown",
      "source": "Locate the `interrogation` table in the Entity-Relationship Diagram. Are all column names the same?\n\nIf you find that the output is taking too long to appear, you might want to limit the number of retrieved tuples (rows). You may want to have only 10 results, for instance. For this, you would use, rather unsurprisingly, the **`LIMIT`** keyword:",
      "metadata": {}
    },
    {
      "cell_type": "code",
      "source": "SELECT * FROM interrogation LIMIT 10;",
      "metadata": {
        "tags": []
      },
      "execution_count": null,
      "outputs": []
    },
    {
      "cell_type": "markdown",
      "source": "### Exercise 1\n\nIt's your turn. Ask the database (and remember to do it politely) to show you all the data from the `individual` table. Limit your results to only 20 rows.",
      "metadata": {}
    },
    {
      "cell_type": "markdown",
      "source": "**Answer.** Shown below:",
      "metadata": {}
    },
    {
      "cell_type": "code",
      "source": "SELECT * FROM individual LIMIT 20;",
      "metadata": {},
      "execution_count": null,
      "outputs": []
    },
    {
      "cell_type": "markdown",
      "source": "### Example 2\n\nLet's now say we only want to know about a specific person, not about all the people in the database. Is there a way to filter the table to include only the rows that meet a certain condition, say, a name match?\n\nFret not! We need only use the **`WHERE`** keyword. For example, the below code asks the database to:\n\n1. Locate the `individual` table (with `FROM`),\n1. `SELECT` all columns (`*`) from that table,\n1. and filter the results to show only those where the `name` column matches the name 'Finlay Mathiassen' (notice the single quotes, they are important to let the database know that the text between them must be treated as ordinary text and not as SQL words).",
      "metadata": {}
    },
    {
      "cell_type": "code",
      "source": "SELECT * FROM individual WHERE name = 'Finlay Mathiassen';",
      "metadata": {},
      "execution_count": null,
      "outputs": []
    },
    {
      "cell_type": "markdown",
      "source": "### Exercise 2\n\nFollowing the model from the example, find everything you can about Julianne McClaurie.",
      "metadata": {}
    },
    {
      "cell_type": "markdown",
      "source": "**Answer.** Shown below.",
      "metadata": {}
    },
    {
      "cell_type": "code",
      "source": "SELECT * FROM individual WHERE name = 'Julianne McClaurie';",
      "metadata": {},
      "execution_count": null,
      "outputs": []
    },
    {
      "cell_type": "markdown",
      "source": "### Example 3\n\nNow that we're building rapport with the database (the good cop strategy is really working so far!), we can start digging in a bit more and ask for more nuanced information. Enter the **`AND`** keyword. It lets you include more than one condition in your query. For example, the below query retrieves all the rows in the `crime_scene` table that are robberies <u>and</u> happened in Chicago:",
      "metadata": {}
    },
    {
      "cell_type": "code",
      "source": "SELECT * FROM crime_scene  \nWHERE type = 'robbery' AND city = 'Chicago';",
      "metadata": {
        "tags": []
      },
      "execution_count": null,
      "outputs": []
    },
    {
      "cell_type": "markdown",
      "source": "### Exercise 3\n\nLet's now investigate the clue given by the original detective. She remembers that the crime was a *murder* that occurred sometime on *Feb 18, 2018*, and took place in *Sequel City*.\n\nGet all the rows in the `crime_scene` whose\n\n* `type` is `murder` and\n* whose `city` is `Sequel City`.",
      "metadata": {}
    },
    {
      "cell_type": "markdown",
      "source": "**Answer.** Shown below:",
      "metadata": {}
    },
    {
      "cell_type": "code",
      "source": "SELECT * FROM crime_scene\nWHERE type = 'murder' \nAND city = 'Sequel City';",
      "metadata": {},
      "execution_count": null,
      "outputs": []
    },
    {
      "cell_type": "markdown",
      "source": "These are interesting results indeed! Jot down the output of this query. We will likely find it useful down the road.",
      "metadata": {}
    },
    {
      "cell_type": "markdown",
      "source": "## The similarity conundrum\n\nSometimes you only know part of the information you need. SQL can handle that. Special symbols that represent unknown characters are called \"wildcards\". The most common is the `%` wildcard.\n\nWhen you place a `%` wildcard in a query string, the SQL system will return results that match the rest of the string exactly, and have anything (or nothing) where the wildcard is. For example, `Ca%a` matches `Canada` and `California` because both words start with \"Ca\" and end with an \"a\".\n\nThe other, less commonly used wildcard, is `_`. This one means 'match the rest of the text, as long as there's exactly one character in exactly the position of the `_`, no matter what it is. So, `B_b` would match `Bob` and `Bub` but not `Babe` or `Bb`.\n\n**Important:** When using wildcards, you don't use the `=` symbol; you use the **`LIKE`** keyword instead.\n\n![](data/images/fingerprints.jpg)",
      "metadata": {}
    },
    {
      "cell_type": "markdown",
      "source": "### Example 4:\n\nThe query below only returns records from cities with names starting with the character `I` (or with the character `i`, since `LIKE` in SQLite is case insensitive). One thing to notice is that we didn't use the `*` syntax in it. That is because we only want to get one column in the output (the `city` column), not all columns.",
      "metadata": {}
    },
    {
      "cell_type": "code",
      "source": "SELECT city \nFROM crime_scene \nWHERE city LIKE 'I%';",
      "metadata": {},
      "execution_count": null,
      "outputs": []
    },
    {
      "cell_type": "markdown",
      "source": "### Exercise 4\n\nModify the above query to make it retrieve the names of the cities whose names start with an S (instead of an I).",
      "metadata": {}
    },
    {
      "cell_type": "markdown",
      "source": "**Answer.** Shown below.",
      "metadata": {}
    },
    {
      "cell_type": "code",
      "source": "SELECT city \nFROM crime_scene \nWHERE city LIKE 'S%';",
      "metadata": {
        "tags": []
      },
      "execution_count": null,
      "outputs": []
    },
    {
      "cell_type": "markdown",
      "source": "### Exercise 5\n\nYou surely noticed that there were duplicate city names in the above queries, which is because one city can have more than one crime associated with it. If we wanted to get only the unique names (i.e., if we wanted to drop all the duplicate records), we would use **`SELECT DISTINCT`** instead of `SELECT`.\n\nRewrite the query from the previous exercise so that it shows each city once and only once.",
      "metadata": {}
    },
    {
      "cell_type": "markdown",
      "source": "**Answer.** See below.",
      "metadata": {}
    },
    {
      "cell_type": "code",
      "source": "SELECT DISTINCT city \nFROM crime_scene \nWHERE city LIKE 'S%';",
      "metadata": {
        "tags": []
      },
      "execution_count": null,
      "outputs": []
    },
    {
      "cell_type": "markdown",
      "source": "### Exercise 6\n\nTry your hand at writing queries with wildcards like `%a` and `%A_a` and then explore a few more if you like.",
      "metadata": {}
    },
    {
      "cell_type": "markdown",
      "source": "**Answer.** Possible queries are shown below:",
      "metadata": {}
    },
    {
      "cell_type": "code",
      "source": "SELECT DISTINCT city \nFROM crime_scene\nWHERE city LIKE '%a';",
      "metadata": {},
      "execution_count": null,
      "outputs": []
    },
    {
      "cell_type": "code",
      "source": "SELECT DISTINCT city \nFROM crime_scene\nWHERE city LIKE '%A_a';",
      "metadata": {},
      "execution_count": null,
      "outputs": []
    },
    {
      "cell_type": "markdown",
      "source": "## The shiftiness of the witnesses\n\nWe found an interesting lead in the output of Exercise 3:\n\n> A security camera in the neighborhood captured two figures who may be witnesses. The first one lives at 513 Hamilton Dr. The second one was tentatively identified by one of the police officers as a man named George, who lives on Independence St.\n\nThey might be the witnesses of our murder case. Let's investigate a bit more.",
      "metadata": {}
    },
    {
      "cell_type": "markdown",
      "source": "### Exercise 7\n\nWrite a query that identifies the first witness based on the clue.\n",
      "metadata": {}
    },
    {
      "cell_type": "markdown",
      "source": "**Answer.** Shown below:",
      "metadata": {
        "tags": []
      }
    },
    {
      "cell_type": "code",
      "source": "SELECT *\nFROM individual\nWHERE address LIKE '%Hamilton Dr%';",
      "metadata": {
        "tags": []
      },
      "execution_count": null,
      "outputs": []
    },
    {
      "cell_type": "markdown",
      "source": "Looks like Fidel Mancktelow is our guy!",
      "metadata": {}
    },
    {
      "cell_type": "markdown",
      "source": "### Exercise 8\n\nWrite a query to identify the second witness.",
      "metadata": {}
    },
    {
      "cell_type": "markdown",
      "source": "**Answer.** See below:",
      "metadata": {
        "tags": []
      }
    },
    {
      "cell_type": "code",
      "source": "SELECT *\nFROM individual\nWHERE name LIKE 'George%' AND address LIKE '%Independence St%';",
      "metadata": {
        "tags": []
      },
      "execution_count": null,
      "outputs": []
    },
    {
      "cell_type": "markdown",
      "source": "Gotcha!",
      "metadata": {
        "tags": []
      }
    },
    {
      "cell_type": "markdown",
      "source": "## The joining of the alibis\n\nSo far, we have been asking questions that can be answered by considering data from a single table alone. But what if we need to ask more complex questions that simultaneously require data from two different tables? There's a way to ask a database to merge two tables together and bring the result. It's by using the **`JOIN`** and **`ON`** keywords. The most common way to join tables is by using their primary and foreign keys.",
      "metadata": {}
    },
    {
      "cell_type": "markdown",
      "source": "### Example 5\n\nLet's say we wanted to find out the ages of the people in the database (as of Jan 1, 2019), so that the result table has the individual's `name` (which you can find in the `individual` table) and their `age` (which is present in the `drivers` table). Here is how to do that:",
      "metadata": {}
    },
    {
      "cell_type": "code",
      "source": "SELECT individual.name, drivers.age\nFROM drivers \nJOIN individual ON drivers.id = individual.driver_id\nLIMIT 10",
      "metadata": {},
      "execution_count": null,
      "outputs": []
    },
    {
      "cell_type": "markdown",
      "source": "There are a bunch of interesting things you can see in the above query. First, we called the *table* name and then the *column* name, separating them with dots, like this: `individual.name`, `drivers.age`. This is useful to differentiate between columns that are from different tables but have the same names.\n\nSecondly, we used `FROM` and then the name of one of the tables (`drivers` in this case) and then `JOIN` followed by the second table (`individual`). This makes it very explicit which tables we want to join.\n\nFinally, we used `ON` to specify the condition to join on. This last bit is very important, because it tells the database how to find the records in one table that correspond to the records in the other one. Here, we tell it to match people by their driver's licenses  (the `drivers.id` column and the `individual.driver_id` column), so that if a record in the `drivers` table has a certain `id` and one person in the `individual` table has the same `driver_id`, they should be matched in the output.",
      "metadata": {}
    },
    {
      "cell_type": "markdown",
      "source": "### Exercise 9\n\nWrite a query that shows the names of the witnesses and their associated interview transcripts. We give you a portion of the code, but you will need to replace the `...`s with the correct answers:\n\n~~~sql\n%%sql\nSELECT individual.name, interrogation.description\nFROM ...\nJOIN ... ON ...\nWHERE individual.id = 201 OR individual.id = 328;\n~~~\n\n**Hint:** The **`OR`** keyword above retrieves all people with either `individual.id = 201` <u>or</u> `individual.id = 328` (the IDs we obtained in the previous exercises). If we use `AND` instead, the query will not give any results because no single person has two different `id`s simultaneously.",
      "metadata": {}
    },
    {
      "cell_type": "markdown",
      "source": "**Answer.** Shown below:",
      "metadata": {}
    },
    {
      "cell_type": "code",
      "source": "SELECT individual.name, interrogation.description\nFROM individual\nJOIN interrogation ON individual.id = interrogation.individual_id\nWHERE individual.id = 201 OR individual.id = 328;",
      "metadata": {},
      "execution_count": null,
      "outputs": []
    },
    {
      "cell_type": "markdown",
      "source": "## Cards on the table 🃏",
      "metadata": {}
    },
    {
      "cell_type": "markdown",
      "source": "Now you know enough SQL to solve the mystery. Let's go get the murderer and head on to the big reveal!",
      "metadata": {}
    },
    {
      "cell_type": "markdown",
      "source": "### Exercise 10\n\n#### 10.1\n\nHere's Fidel Mancktelow's testimony:\n\n> I heard a scream and then saw someone run away. I thought it was just a robbery, but then I saw the pool of blood and freaked out. The guy that escaped accidentally left a card from the \"Muscle Hassle\" Gym. The ID member number was damaged but it starts with a 33. A minute later, I heard tyre screeches and saw a car pass by real fast, and the plate had \"ZDI\" or something like that.\n\nWrite a query on the `gym_affiliated` table that retrieves all people with `id`s that start with `33-` and whose `status` is `Muscle Hassle`.",
      "metadata": {}
    },
    {
      "cell_type": "markdown",
      "source": "**Answer.** Shown below:",
      "metadata": {}
    },
    {
      "cell_type": "code",
      "source": "SELECT *\nFROM gym_affiliated\nWHERE id LIKE '33-%' AND status = 'Muscle Hassle'",
      "metadata": {},
      "execution_count": null,
      "outputs": []
    },
    {
      "cell_type": "markdown",
      "source": "#### 10.2\n\nNow take the `individual_id`s you've just found and find their license plate numbers.\n\n**Hint:** You will need to join the `individual` and the `drivers` tables.",
      "metadata": {}
    },
    {
      "cell_type": "markdown",
      "source": "**Answer.** Shown below.",
      "metadata": {}
    },
    {
      "cell_type": "code",
      "source": "SELECT *\nFROM individual\nJOIN drivers ON individual.driver_id = drivers.id \nWHERE individual.id = 647 OR individual.id=146 OR individual.id=981 OR individual.id=45",
      "metadata": {},
      "execution_count": null,
      "outputs": []
    },
    {
      "cell_type": "markdown",
      "source": "## A crooked twist\n\nYou may be thinking that you've solved the mystery... But did you?\n\nTurns out, there's more to this case than meets the eye. The prime suspect has a surprising ace up his sleeve, which means that this cold case is...\n\n![](data/images/to_be_continued.png)\n\n(aka, wait for the *sequel*! 🥁)",
      "metadata": {}
    },
    {
      "cell_type": "markdown",
      "source": "## Takeaways & conclusion",
      "metadata": {}
    },
    {
      "cell_type": "markdown",
      "source": "In this case, we learned the differences between spreadsheets and databases. We also built a foundation of basic SQL commands to extract data from a database. Specifically, we performed `SELECT...FROM` queries and learned the `WHERE`, `DISTINCT`, `LIKE`, and `JOIN` keywords.\n\nWhen working with large datasets, SQL is a powerful tool that can help us navigate and understand data in ways that Excel cannot. Sometimes, it can even serve as the first stage of an exploratory data analysis and can help us answer questions all by itself.",
      "metadata": {}
    },
    {
      "cell_type": "markdown",
      "source": "## Appendix: Basic SQL cheat sheet\n\n**`SELECT`**\n\n```SQL\n- SELECT * FROM table_name -- Select all columns from a table\n- SELECT column_name(s) FROM table_name -- Select some columns from a table\n- SELECT DISTINCT column_name(s) FROM table_name -- Select only the different values\n- SELECT column_name(s) FROM table_name -- Select data filtered with the WHERE clause\n  WHERE condition\n```\n\n**Operators**\n\n- `=` - Equal\n- `LIKE` - Search pattern. Use `%` as a wildcard. E.g., `%o%` matches \"o\", \"bob\", \"blob\", etc.",
      "metadata": {}
    },
    {
      "cell_type": "markdown",
      "source": "## Attribution\n\nThe database used in this notebook has been adapted from NUKnightLab's `sql-mysteries` database, [MIT license](https://github.com/NUKnightLab/sql-mysteries/blob/master/LICENSE), https://github.com/NUKnightLab/sql-mysteries\n\n\"Fingerprints example\", Public Domain, https://www.flickr.com/photos/publicdomainreview/24866294309\n\n\"President answering the red phone during cold war\", Marco Verch, CC-BY, https://www.flickr.com/photos/149561324@N03/29283544077\n\n\n\"Investigation image\", June 17th, 2021, [Pexels license](https://www.pexels.com/es-es/license/), https://www.pexels.com/es-es/foto/gente-mano-boligrafo-crimen-8369520/\n\n\n\n",
      "metadata": {}
    }
  ]
}