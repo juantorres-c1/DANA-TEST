{
  "metadata": {
    "c1_recart": "7.49.0-57c20131aabc1dc2a8c675852d80a7da",
    "kernelspec": {
      "name": "python",
      "display_name": "Python (Pyodide)",
      "language": "python"
    },
    "language_info": {
      "codemirror_mode": {
        "name": "python",
        "version": 3
      },
      "file_extension": ".py",
      "mimetype": "text/x-python",
      "name": "python",
      "nbconvert_exporter": "python",
      "pygments_lexer": "ipython3",
      "version": "3.8"
    }
  },
  "nbformat_minor": 4,
  "nbformat": 4,
  "cells": [
    {
      "cell_type": "markdown",
      "source": "# Calculating order prices in a convenience store",
      "metadata": {
        "tags": [
          "46_min",
          "83_min"
        ]
      }
    },
    {
      "cell_type": "markdown",
      "source": "## Goals\n\nThis case will introduce you to the basics of working with Excel. As we progress, we will start to unlock its amazing features. You will learn the following in Excel:\n\n1. How to add data to an Excel file.\n2. How to write formulas using various arithmetic operations like multiplication, addition, and subtraction.\n3. How to copy and paste values and formulas.\n4. Some useful keyboard shortcuts for copying, pasting, and undoing changes.",
      "metadata": {
        "tags": [
          "2_min"
        ]
      }
    },
    {
      "cell_type": "markdown",
      "source": "## Introduction\n\n**Business Context.** You have recently been hired as an assistant in a small convenience store that specializes in confectionery. To keep up with current consumer trends, the shop's owner has decided to start serving delivery orders that customers place via WhatsApp. Last week, several unusually large orders were returned because their prices were incorrectly calculated. So far, this process has been carried out manually using pen, paper, and a pocket calculator. It seems that news about the ability to order via WhatsApp is spreading very rapidly via word-of-mouth, and the shop owner is worried that the shop will not be able to keep up with the increasing number of large orders that require lengthy and error-prone calculations.\n\n**Business Problem.** Your task is to **come up with a way to simplify the process of calculating the total price of each order and make it more exact and reliable**.\n\n**Analytical Context.** The owner has provided you with an order from one of her most loyal customers and a laptop with Microsoft Excel installed on it. She wants you to set up a demo of how the new process would work. Here's the order:\n\n<img src=\"data/images/order.png\" alt=\"Michelle's order\" style=\"width:220px\">\n\n**Note:** The screenshots below show the \"classic\" look of Excel Online's ribbon, which may be different from the default look you get the first time you open it. In order to switch to classic you can click on the down arrow at the bottom of the ribbon and select it:\n\n![](data/images/ribbon.png)",
      "metadata": {
        "tags": [
          "5_min"
        ]
      }
    },
    {
      "cell_type": "markdown",
      "source": "## Workbooks and worksheets\n\nExcel files are also called **workbooks**. Once you open a workbook, you will see that it contains one or more **worksheets** that you can access from the tabs at the bottom of the screen:\n\n![Worksheet tab](data/images/worksheets.png)\n\nIn each worksheet, you will see a horizontal row of letters at the top border of the grid. Those letters represent the columns in which information is being stored:\n\n![Columns](data/images/columns.png)\n\nThere's also a column of numbers to the left. These numbers represent the rows in which information is being stored:\n\n![Rows](data/images/rows.png)\n\nTo identify a cell, we use its column and row coordinates. Thus, this cell:\n\n![A1](data/images/a1.png)\n\nwill be called A1, and this cell:\n\n![s50](data/images/s50.png)\n\nwill be called S50. When a cell is selected, its border becomes green and visually thicker than the borders of the surrounding cells.\n\n\nAt the top of your screen, you will see various menus that allow you to change font size and color (similar to Microsoft Word), add borders, insert plots, and access a myriad of other functions that we will cover in future cases. Below the menus, you will also see the formula bar (denoted with $f_x$ to the left), where you can see the contents of the cell which is currently selected (we highlighted the formula bar with an orange rectangle in the image below):\n\n![menus](data/images/menus.png)",
      "metadata": {
        "tags": [
          "7_min"
        ]
      }
    },
    {
      "cell_type": "markdown",
      "source": "## Inputting data\n\nLet's start populating our spreadsheet with the order data. To insert data into a cell, you simply select the cell with a single click and then start typing. Once you are finished, you can hit the \"Enter\" key (&#9166;) to move to the cell immediately below.",
      "metadata": {
        "tags": [
          "1_min"
        ]
      }
    },
    {
      "cell_type": "markdown",
      "source": "### Example 1\n\nInput the items in the spreadsheet. Remember to hit \"Enter\" each time to give each item its own row.",
      "metadata": {
        "tags": [
          "4_min"
        ]
      }
    },
    {
      "cell_type": "markdown",
      "source": "**Answer.** The image below shows how we inserted the data into the spreadsheet. First click the cell and then start typing in it.  \n\n![Order items](data/images/order_items.png)",
      "metadata": {}
    },
    {
      "cell_type": "markdown",
      "source": "### Exercise 1\n\nDownload [this Excel workbook](/case.intro_to_excel_fellow/files/data/insert_quantity_exercise.xlsx), open it, and insert the quantities from Michelle's order. Your spreadsheet should look like this:\n\n![Quantity model](data/images/qty_model.png)\n\n**Hint:** To open an Excel workbook, double-click on it.",
      "metadata": {
        "tags": [
          "8_min"
        ]
      }
    },
    {
      "cell_type": "markdown",
      "source": "**Answer.**",
      "metadata": {
        "tags": [
          "ans_st"
        ]
      }
    },
    {
      "cell_type": "markdown",
      "source": "### Exercise 2\n\nUsing the same workbook, insert the unit prices. These are the values:\n\n![Unit price model](data/images/unit_price_model.png)\n\n**Hint:** Do *not* insert the dollar symbol (`$`) before each value. That is, you should enter \"\\\\$1.59\" as \"1.59\", NOT as \"\\\\$1.59\".",
      "metadata": {
        "tags": [
          "7_min"
        ]
      }
    },
    {
      "cell_type": "markdown",
      "source": "**Answer.**",
      "metadata": {
        "tags": [
          "ans_st"
        ]
      }
    },
    {
      "cell_type": "markdown",
      "source": "## Calculating the total order price\n\nLet's now calculate the total order price. We will need to:\n\n1. Calculate the total price per item.\n2. Apply discounts to selected items.\n3. Sum all the item totals to get the grand total.",
      "metadata": {
        "tags": [
          "2_min"
        ]
      }
    },
    {
      "cell_type": "markdown",
      "source": "### Total price per item\n\nIn order to get this number, we need to multiply each item's quantity by its unit price. For instance, Revels bags cost \\\\$10 each, and the customer ordered two bags, which means that the total price to charge for the Revels bags is $10 \\times 2 = 20$ dollars.\n\nIn order to perform arithmetic operations like this one, we need to learn about Excel **formulas**. Formulas are our way of asking Excel to calculate something. If we insert a formula in a cell instead of just plain data, we are telling Excel that we need it to do something beyond just storing our data. Formulas always start with the equals sign (`=`).",
      "metadata": {
        "tags": [
          "3_min"
        ]
      }
    },
    {
      "cell_type": "markdown",
      "source": "### Example 2\n\nCompute the total amount of dollars to charge for the Revels bags using Excel.",
      "metadata": {
        "tags": [
          "5_min"
        ]
      }
    },
    {
      "cell_type": "markdown",
      "source": "**Answer.** Let's first insert the `=` sign in an appropriate cell (the logical place is `E2`):\n\n![Insert equals](data/images/insert_equals.png)\n\nAnd now, let's use some Excel \"magic.\" To let Excel know which cells contain the numbers we want to multiply, we simply select them by clicking on them! (Alternatively, you can also type in the names of the cells.) Here is how to add the quantity to the formula:\n\n![Select quantity formula](data/images/select_quantity_formula.png)\n\nNow we need to add the $\\times$ sign. In Excel, multiplication is represented with an asterisk (`*`, never the letter `x`!), so that is what we type in next:\n\n![Insert asterisk formula](data/images/insert_asterisk_formula.png)\n\nFinally, we add the second number (unit price) and hit `Enter`. *Voilà!* The price has been calculated for us:\n\n![Finish multiplication Revels](data/images/finish_multiplication_revels.png)",
      "metadata": {}
    },
    {
      "cell_type": "markdown",
      "source": "### Exercise 3\n\nCompute the item totals for Jordan almonds and Mars bars.",
      "metadata": {
        "tags": [
          "7_min"
        ]
      }
    },
    {
      "cell_type": "markdown",
      "source": "**Answer.**",
      "metadata": {
        "tags": [
          "ans_st"
        ]
      }
    },
    {
      "cell_type": "markdown",
      "source": "Now that we have the prices for three of the items, let's finish the job and do the same for the other products. We could keep repeating the process, but there is an easier way: we can just copy our formula, and it will update itself!\n\nTo see how this works, let's go back to our Excel file and click on the E4 cell, then go to the \"Clipboard\" menu and select `Copy` from the dropdown list. The border of the E4 cell will start flickering like \"marching ants\":\n\n![Cell copy](data/images/cell_copy.png)\n\nNow place the cursor on the E5 cell and go to \"Clipboard\" and then \"Paste\":\n\n![Cell paste](data/images/paste_cell.png)",
      "metadata": {
        "tags": [
          "8_min"
        ]
      }
    },
    {
      "cell_type": "markdown",
      "source": "The E5 cell now has the price! Notice that the new price is *not* `4.45` but `3.96`. That is because you did not paste the *value* of cell E4 but rather the *formula*. You can check that the formula in cell E5 says `=C5*D5` instead of `=C4*C4` by looking at the formula bar:\n\n![Checking the formula](data/images/checking_formula.png\n\nThis is indeed the correct formula for Twix bars because $0.99 \\times 4 = 3.96$! So Excel automatically updated the formula for you without you needing to change the cell inputs.\n\nSome people prefer to use **keyboard shortcuts** to avoid having to use the mouse when copying and pasting. The way these shortcuts work is that you select the cell you want to copy and then hit **\"Ctrl + C\"** to copy it. Then, you select the cell where you want to paste it and hit **\"Ctrl + V\"**. Another important shortcut that you will probably be using a lot is **\"Ctrl + Z\"**. This one undoes the most recent edit, so if you made a mistake in one of your formulas, you simply hit \"Ctrl + Z\" to undo the changes and write your formula again.",
      "metadata": {}
    },
    {
      "cell_type": "markdown",
      "source": "### Exercise 4\n\nCopy the formula from E4 and paste it from E5 all the way down to E12 to get the total prices for all items. You can use your mouse or your keyboard, whichever you prefer.",
      "metadata": {
        "tags": [
          "5_min"
        ]
      }
    },
    {
      "cell_type": "markdown",
      "source": "**Answer.**",
      "metadata": {
        "tags": [
          "ans_st"
        ]
      }
    },
    {
      "cell_type": "markdown",
      "source": "### A few more nifty shortcuts\n\nYou may have noticed that as we were solving the previous exercise, we repeatedly clicked on a new cell and hit \"Ctrl + V\" *nine* times. We're lucky that our items list was relatively small to begin with. In many real-life situations, we will have to work with hundreds, if not thousands, of entries! Luckily, there are quite a few mouse and/or keyboard shortcuts you can use to expedite this process:\n\n1. Left-click on cell E4 and hold down the mouse while dragging the cursor down to the last cell you want to paste the formula in (in this case, cell E12), then hit \"Ctrl + V\" just once. (This is shown at the end of the GIF above.)\n2. After selecting cell E4, hit **\"Ctrl + Shift + &darr;\"** to highlight everything in column E from cell E4 onwards. Then hit \"Ctrl + V\" just once. (However, note that this will paste the formula beyond cell E12).\n3. Left-click on the green square in the bottom right-hand corner of cell E4 and hold down the mouse while dragging the cursor down to cell E12. Release the mouse, and you're done! (You don't even need to hit \"Ctrl + V\".)\n\nTry these out (especially 2 and 3)! We will use the latter two much more in future Excel cases.",
      "metadata": {
        "tags": [
          "5_min"
        ]
      }
    },
    {
      "cell_type": "markdown",
      "source": "### Incorporating discounts\n\nWe're almost there! Before we call it a day, we need to take product discounts into account. Only two products have discounts from the entire list: Kit Kat boxes and Jordan almonds. The discount is 20\\% for both products. These products must be sold at their tag price minus the discount. For example, if the total price for Jordan almonds is nine dollars, the discount will be:\n\n$$\n9 \\times 0.2 = 1.8\n$$\n\nand the final price will be:\n\n$$\n9 - 1.8 = 7.2\n$$",
      "metadata": {
        "tags": [
          "2_min"
        ]
      }
    },
    {
      "cell_type": "markdown",
      "source": "### Exercise 5\n\nCalculate the discounts for all the products (call that column `DISCOUNT`) and then calculate the final price (call that column `FINAL PRICE`).\n\n**Hint:** The symbol for subtraction in Excel is a hyphen (`-`).",
      "metadata": {
        "tags": [
          "10_min"
        ]
      }
    },
    {
      "cell_type": "markdown",
      "source": "**Answer.**",
      "metadata": {
        "tags": [
          "ans_st"
        ]
      }
    },
    {
      "cell_type": "markdown",
      "source": "### Getting the grand total\n\nAfter taking into account the quantity she ordered and the applicable discounts, we now know how much the customer should be charged for each item. Now, let's calculate the order total by adding up all the items' final prices. We can do this by using the addition operator `+` and including all the item prices in the formula like this:\n\n![Calculating the grand total](data/images/calculating_total.png)\n\nThe grand total is 237 dollars and 53 cents. That was quite an order! ",
      "metadata": {
        "tags": [
          "3_min"
        ]
      }
    },
    {
      "cell_type": "markdown",
      "source": "## Conclusions & Takeaways\n\nYou now have a demo to present to the shop owner! Hopefully, she will like the results and leave the pocket calculator approach for this more modern, Excel-based one. She will surely like the fact that mistakes are much easier to fix in Excel than with her current process (simply hit \"Ctrl + Z\" and start again). Another advantage is that Excel workbooks can be saved for later, making it much easier for her to keep track of orders over time!\n\nNow, you might be thinking that having to insert unit prices manually is still a bit error-prone, and that is absolutely correct. To spare you from having to do this, Excel also has some more advanced functions (not covered here) that allow you to have all the unit prices in one dedicated spreadsheet, which you can pull in as needed from other spreadsheets.",
      "metadata": {
        "tags": [
          "4_min"
        ]
      }
    }
  ]
}