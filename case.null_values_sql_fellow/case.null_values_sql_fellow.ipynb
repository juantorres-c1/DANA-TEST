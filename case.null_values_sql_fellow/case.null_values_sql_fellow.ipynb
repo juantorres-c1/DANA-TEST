{
  "metadata": {
    "c1_recart": "7.58.0-57c20131aabc1dc2a8c675852d80a7da",
    "kernelspec": {
      "display_name": "SQLite",
      "language": "sql",
      "name": "SQLite"
    },
    "language_info": {
      "codemirror_mode": "sql",
      "file_extension": "",
      "mimetype": "",
      "name": "sql",
      "version": "3.32.3"
    }
  },
  "nbformat_minor": 5,
  "nbformat": 4,
  "cells": [
    {
      "cell_type": "markdown",
      "source": "# How do we handle NULL values in SQL?",
      "metadata": {},
      "id": "8ce0ec0c-ab2f-4ad2-b841-abf2e3521000"
    },
    {
      "cell_type": "markdown",
      "source": "## Goals\n\nIn this case, we will work with a dataset that has large number of missing values - the type of dataset that you will most likely be working with in a job setting. We hope to provide you with a framework for tackling missing data, a common problem in large datasets. You will learn to assess the cleaning needs of a dataset and come up with strategies to prepare it appropriately for further analysis, as well as practice writing SQL queries.",
      "metadata": {},
      "id": "5b14b9fd-2351-42fa-a457-5734f15e6bd4"
    },
    {
      "cell_type": "markdown",
      "source": "## Introduction\n\n**Business Context.** You're a data analyst for the Los Angeles Lakers, and you currently work with the finance team. Part of your responsibility is to conduct analysis and determine a player's bonus.\n\n![Basketball](data/images/Basketball_pic.png)\n\n**Business Problem.** Your task is to first address the completeness of the dataset, and then assess the data for how much of a bonus should be paid.\n\n**Analytical Context.** The data for a player is provided in a SQLite database, which you will convert to a database format. Once you have explored and organized the data, your task is to report the amount of that player's bonus based on the following *5 criteria:*\n\n|Criteria   | Bonus Amount|\n|:---|:---|\n|Averages 30 points in each game where they are active| 500k|\n|Plays at least 65% of the season| 500k|\n|Plays against every team at least once during the season| 100k|\n|Plays in more home games than away games| 250k|\n|Plays in at least one game every month of the season| 50k|\n\nGiven the criteria above, analyze the season stats of LeBron James and determine how much his bonus should be. ",
      "metadata": {},
      "id": "5ce8bb79-8ffb-4953-9b50-f5428bd3dc09"
    },
    {
      "cell_type": "markdown",
      "source": "### Preparation\n\nLoad the following packages to begin working with SQLite.",
      "metadata": {},
      "id": "3da73251-57dc-4ea6-9b70-6b6f61b532fa"
    },
    {
      "cell_type": "markdown",
      "source": "### Initializing the database\n\nRun the following code to load our database. ",
      "metadata": {},
      "id": "83b047fc-ffb9-409c-b4a4-2f52ba2ce185"
    },
    {
      "cell_type": "code",
      "source": "%FETCH https://amzn-dana.workspace-lite.correlation-one.com/case.null_values_sql_jlite_fellow/files/data/bron.db bron",
      "metadata": {},
      "execution_count": null,
      "outputs": [],
      "id": "ab957e2f-a550-4d11-860f-9de8dc222409"
    },
    {
      "cell_type": "code",
      "source": "%LOAD bron RW",
      "metadata": {},
      "execution_count": null,
      "outputs": [],
      "id": "6241b6ba-467e-41bb-92bc-ab4553b8cdf1"
    },
    {
      "cell_type": "markdown",
      "source": "There is only one table in this database, called `king_james`. Let's query the first five rows of data to get an idea of what our table looks like.",
      "metadata": {},
      "id": "df8e9e21-2f59-4e2c-939b-fff942146e7b"
    },
    {
      "cell_type": "code",
      "source": "SELECT * FROM king_james LIMIT 5;",
      "metadata": {},
      "execution_count": null,
      "outputs": [],
      "id": "2978030c-80d3-4f54-befe-9d99cbd340d9"
    },
    {
      "cell_type": "markdown",
      "source": "The columns are easier to understand if you are familiar with sports statistics. As an analyst with a basketball team, you would likely be aware that the columns are as follows:\n1. **G:** The number of games played by the LA Lakers. This runs from `1` to `82`, the number of regular season games the team played.\n2. **GP:** The number of games LeBron has played in. For games he didn't play, it will show an \"NaN\", which stands for \"not a number\" and represents a missing value. The first game he started is `1`, then `2`, etc.\n3. **Date:** The date of the game in the format year-month-day hour:minute:second. You do not need the time details, so it is okay that those are zeros. To learn more about SQL date formatting, or how to extract information from the timestamp, read the information [here.](https://dataschool.com/learn-sql/dates/) \n4. **Month:** The calendar month of the game.\n5. **Year:** The calendar year of the game.\n6. **Home/Away:** Home games are played in Los Angeles, away games are played at the opponent's stadium.\n7. **Opp:** A three-letter designation of the team they played. For instance, 'GSW' stands for the 'Golden State Warriors'.\n8. **GS:** Game started; shows if LeBron started the game. If he did, the value is `1`. Otherwise, the column is empty and registers as \"NaN\".\n9. **REBS:** Number of rebounds.\n10. **AST:** Number of assists.\n11. **STL:** Number of steals.\n12. **BLK:** Number of blocks.\n13. **PF:** Number of personal fouls.\n14. **PTS:** Number of points scored.\n\nNote that REBS, AST, STL, BLK, PF, and PTS are personal stats that give an idea of how the player performed in the game. High numbers are better than low numbers, except for PF. You can find more details on basketball statistics [here](https://en.wikipedia.org/wiki/Basketball_statistics) or [here.](https://www.basketball-reference.com/)",
      "metadata": {},
      "id": "7899d9cd-a109-442f-9a30-b8b1630e8ac7"
    },
    {
      "cell_type": "markdown",
      "source": "### NULL values\n\nA **NULL value** is a special marker used in SQL to indicate that a data value does not exist in the database.\n\nIt is important to note that while NULL values represent missing data, they are different from the value of \"zero\". In fact, a value of zero is not a NULL value, and in a given context, it's useful for them to be differentiated. Let's explore this a little more. Consider the BLK (Number of Blocks) column which has both zeros (like in row 2) and NULL values (like in rows 4 and 5). The zeros in this context state two things: LeBron played in the game and in said game, LeBron didn't block any shots, whereas the NULL values are missing because he didn't play the game, so of course he couldn't have made any blocks. If the NULL values were represented as zeros, and you wanted to know how many games LeBron played where he had zero blocks, it would be much more difficult to do so.\n\nThere will be countless times in which you will be working with data that has many missing values. Throughout this case, you will learn how to identify counts, percentages and best practices to work with missing data in SQL. ",
      "metadata": {},
      "id": "989036a5-07f9-4f8e-9a59-e9fce1610383"
    },
    {
      "cell_type": "markdown",
      "source": "### From looking at the data, why would it be important to identify the NULL values throughout each column?\n\n1. Aggregating accurately: Being able to find accurate means, medians and modes of multiple columns can be difficult if instead of NULL, there is a zero. SQL ignores NULL values, so if you want to take the mean of a column, and there are 30 rows with 10 NULLS, the function will sum up the existing rows and divide by 20.   \n\n\n2. If a certain number of null values are present, it might not even be worth analyzing the data. We need to determine the minimum amount of null values in the dataset in order to conduct a valuable analysis. In the case of the basketball data we're using, the NULL values are important, because they represent games the player has not played. When computing performance data, we may need to know what is missing, as much as we need to know what is there. If we were looking at survey data, and more than half of the data is missing, we might need to find a better dataset to represent the population.  \n\nIn the data here, nulls carry information. They mean the player was not active, and did not accrue any statistics. We're going to use this dataset to practice counting NULL values and using them to find out how much data is present, and how much is missing.",
      "metadata": {},
      "id": "781e62b3-7c34-43e7-b14c-63a3d3f44031"
    },
    {
      "cell_type": "markdown",
      "source": "### Discovering NULL and Non-NULL values\n\nAs an example, we will start by calculating the points per game when the points are NULL. In this case, we're asking for an average of the NULL values, which should return nothing, unless we did something very, very wrong.\n\nNotice the \"2\" in this query is part of the `ROUND()` function; it specifies the number of decimal places to which the average of the points per game should be rounded.",
      "metadata": {},
      "id": "d54e282a-a347-4ac3-96d9-740830e6d17b"
    },
    {
      "cell_type": "code",
      "source": "SELECT ROUND(AVG(PTS),2) AS Points_Per_Game \nFROM king_james \nWHERE PTS IS NULL;",
      "metadata": {},
      "execution_count": null,
      "outputs": [],
      "id": "b7bf8279-9a40-4db8-88de-dff410f448f3"
    },
    {
      "cell_type": "markdown",
      "source": "We see that the output is `None`, which means there is nothing there.\n\nNotice that when you are searching for NULL values of a specific column, you include the column after the WHERE statement followed by \"IS NULL\".\n\nNow, we replace `WHERE PTS IS NULL` with `WHERE PTS IS NOT NULL` to get the results we're looking for.",
      "metadata": {},
      "id": "dd336f50-928b-4305-b302-929b0d9f33e0"
    },
    {
      "cell_type": "code",
      "source": "SELECT ROUND(AVG(PTS),2) AS Points_Per_Game \nFROM king_james \nWHERE PTS IS NOT NULL;",
      "metadata": {},
      "execution_count": null,
      "outputs": [],
      "id": "d39520bc-c91b-440b-bb8c-8140dc458328"
    },
    {
      "cell_type": "markdown",
      "source": "This gives us the answer to the first question regarding James' bonus:\n\n\"Any player who averages at least 30 points in each game where the player was active  automatically gets a 500k bonus.\"\n\nIf we had divided the total number of games and not ignored the nulls, then we would have arrived at the wrong answer!",
      "metadata": {},
      "id": "678a3cc3-dcdb-4eb6-83c0-ca1ccaab8fd3"
    },
    {
      "cell_type": "markdown",
      "source": "### Exercise 1\n\nWrite a query that returns the first 5 rows in the dataset where `GP` is NULL.",
      "metadata": {},
      "id": "65a50122-05fe-429d-a353-9149ec78dcc1"
    },
    {
      "cell_type": "markdown",
      "source": "**Answer.**",
      "metadata": {
        "tags": [
          "ans_st"
        ]
      },
      "id": "da30f889-74bb-4342-805e-94c2ca995823"
    },
    {
      "cell_type": "markdown",
      "source": "### Exercise 2\n\nWrite a query that shows `G`, `HomeAway`, and `Opp` for only the games that LeBron DID NOT play in.\n\n**Hint:** Consider when `GP` is NULL. There should be 26 rows in total.",
      "metadata": {},
      "id": "58fd5816-2af4-48ba-84d7-a0aaf04c105b"
    },
    {
      "cell_type": "markdown",
      "source": "**Answer.**",
      "metadata": {
        "tags": [
          "ans_st"
        ]
      },
      "id": "181e1992-8ebc-4c1c-92b6-5134de199d1b"
    },
    {
      "cell_type": "markdown",
      "source": "### Calculating percentages of null-values in a given column\n\nTo calculate the percentage of null-values, you will need to do the following:\n\n1. Count the number of null values in the column\n2. Get the count of the entire column\n3. Divide the number of null values by the count of the entire column\n\nLet's see an example and calculate the percent of NULL values for the `GP` column:",
      "metadata": {},
      "id": "9f3cee0a-9845-4fa0-806d-5a20a0c79e2d"
    },
    {
      "cell_type": "code",
      "source": "SELECT GP, COUNT(*) AS Total_Season_Games\nFROM king_james \nWHERE GP IS NULL;",
      "metadata": {},
      "execution_count": null,
      "outputs": [],
      "id": "eb132121-5425-49cd-b651-34fa27afc953"
    },
    {
      "cell_type": "code",
      "source": "SELECT GP, COUNT(*) AS Total_Season_Games \nFROM king_james;",
      "metadata": {},
      "execution_count": null,
      "outputs": [],
      "id": "f3295b7a-49b8-4f71-862f-72ae2f23f458"
    },
    {
      "cell_type": "markdown",
      "source": "Notice that the first query counted only the number of NULLs, and the second query counted all of the rows, including the NULLs. `COUNT(*)` will count all of the rows, whether they contain values or not unless you specify what you want with a `WHERE` statement. We can calculate the percentage of games missed by dividing the number of NULLs, `26`, by the number of games, `82`.\n\nOr, you can perform the operation in one cell with a `CASE` function. You can read more about these commands [here.](https://www.w3schools.com/sql/sql_case.asp) Below, we use the `CASE` command to count the non-NULL rows as `1`, and the NULLs as `0`. Then, we divide that number by the total count of rows.\n\nThis also reminds us that understanding the context is important. A sports analyst would be aware that basketball seasons are 82 games, not including the playoffs. The Lakers did not make the playoffs in the 2021-2022 season, a fact that warms my heart as the reviewer of this case but will certainly irk the writer, who can do nothing about my glee.",
      "metadata": {},
      "id": "916e2611-162a-46d6-ac24-2cfbf8543e19"
    },
    {
      "cell_type": "code",
      "source": "SELECT 100.0 * SUM(CASE WHEN GP IS NULL THEN 1 ELSE 0 END) / COUNT(*) AS Percent_Null\nFROM king_james;",
      "metadata": {},
      "execution_count": null,
      "outputs": [],
      "id": "9d5acad3-de2b-4444-87b9-daa923c37d71"
    },
    {
      "cell_type": "markdown",
      "source": "This also allows us to calculate the second part of James' bonus: \n\n>\"Has a player played at least 65% of the season? If yes, they get a 500K bonus.\" \n\nSince he missed 31.7% of his games, this means he played in more than 65% of them.",
      "metadata": {},
      "id": "0b21b1d3-6278-464a-811f-5cc52c892c80"
    },
    {
      "cell_type": "markdown",
      "source": "### Exercise 3\n\nWhich teams did LeBron miss the most games against? \n\n**Hint:** Use `GROUP BY` and `ORDER BY` in your answer. ",
      "metadata": {},
      "id": "e4c26989-a2e7-4245-a349-2ff04b893fe8"
    },
    {
      "cell_type": "markdown",
      "source": "**Answer.**",
      "metadata": {
        "tags": [
          "ans_st"
        ]
      },
      "id": "e5d2bf3b-0435-4a13-bd3b-74b9ff330d67"
    },
    {
      "cell_type": "markdown",
      "source": "### Exercise 4\n\nNow, write a query to find out if James gets a bonus based on these criteria:\n\n>Has a player played against every team during the season at least one time? If so, they get a 100K bonus.",
      "metadata": {},
      "id": "36f1d4a8-62d8-45f3-8fc8-77e8be4a3fb9"
    },
    {
      "cell_type": "markdown",
      "source": "**Answer.**",
      "metadata": {
        "tags": [
          "ans_st"
        ]
      },
      "id": "3613a895-f79c-4f58-9d60-9980a365a949"
    },
    {
      "cell_type": "markdown",
      "source": "### Exercise 5\n\nIn order to find the answer to this question regarding James' bonus:\n\n>\"Has a player played in more home games than away games? If so, they get a 250K bonus.\"\n\nFind out whether LeBron played in more `Home` or `Away` games.",
      "metadata": {},
      "id": "e0754030-8a75-40f3-bc14-0e7d674433e7"
    },
    {
      "cell_type": "markdown",
      "source": "**Answer.**",
      "metadata": {
        "tags": [
          "ans_st"
        ]
      },
      "id": "f7510cfb-55bb-413c-b10c-9b81c2f3433f"
    },
    {
      "cell_type": "markdown",
      "source": "### Exercise 6\n\nThe last question to answer in order to calculate LeBron's total bonus is this:\n\n\"Has a player played in a game every month of the season? If so, they get a 50K bonus.\"\n\nDid LeBron play in at least one game each month?",
      "metadata": {},
      "id": "67fd77d9-2afb-4815-af8a-3a388aaf4ea8"
    },
    {
      "cell_type": "markdown",
      "source": "**Answer.**",
      "metadata": {
        "tags": [
          "ans_st"
        ]
      },
      "id": "46f454d0-3a52-4930-afff-878e104d47bb"
    },
    {
      "cell_type": "markdown",
      "source": "### Exercise 7\nGiven the criteria above, analyze the season stats of LeBron James and determine how much his bonus should be.",
      "metadata": {},
      "id": "5d9715c8-61c9-49fd-bf4b-a5e2c56d0d06"
    },
    {
      "cell_type": "markdown",
      "source": "**Answer.**",
      "metadata": {
        "tags": [
          "ans_st"
        ]
      },
      "id": "5661cf53-dc4e-47f2-8252-de5ad8eaacfa"
    },
    {
      "cell_type": "markdown",
      "source": "### (Optional) Exercise 8 \n\nWhat game number of the year was this player's last game played?\nWhat game number was it for them? \nTo answer these questions, you'll need to find the value in `G` and the corresponding highest value in `GP`.",
      "metadata": {},
      "id": "3141fb7c-c92b-49e5-9b89-d677357b07f4"
    },
    {
      "cell_type": "markdown",
      "source": "**Answer.**",
      "metadata": {
        "tags": [
          "ans_st"
        ]
      },
      "id": "5c6ff531-4fb7-4e87-a947-61b13d82244d"
    },
    {
      "cell_type": "markdown",
      "source": "## Conclusion\n\nNULL values are inevitable, but with much practice, curiosity, and application, you *will* master working with them! NULL values tell you that data is missing, and this is important information in your analysis.",
      "metadata": {},
      "id": "bd0118d6-1247-437a-8a01-6bb0a60ca635"
    },
    {
      "cell_type": "markdown",
      "source": "## Takeaways\n1. The difference between NULL values and zeros\n2. How to use aggregations when working with NULL values\n3. How to use case statements to help us calculate percentages of NULL values for specific columns",
      "metadata": {},
      "id": "886232a9-105a-463e-84e0-a2ea6c8189b6"
    },
    {
      "cell_type": "markdown",
      "source": "## Attribution\n\n\"Basketball pic\", 4 October 2014, Pixbay, Creative Commons Zero, https://commons.wikimedia.org/wiki/File:Basketball_pic.png",
      "metadata": {},
      "id": "c0bfb4ec-7a1b-4b0a-95ab-5f5bc419868c"
    }
  ]
}