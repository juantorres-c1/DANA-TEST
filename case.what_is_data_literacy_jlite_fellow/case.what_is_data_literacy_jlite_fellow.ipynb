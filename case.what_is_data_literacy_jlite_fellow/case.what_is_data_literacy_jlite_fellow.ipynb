{
  "metadata": {
    "c1_recart": "7.49.0-57c20131aabc1dc2a8c675852d80a7da",
    "kernelspec": {
      "name": "python",
      "display_name": "Python (Pyodide)",
      "language": "python"
    },
    "language_info": {
      "codemirror_mode": {
        "name": "python",
        "version": 3
      },
      "file_extension": ".py",
      "mimetype": "text/x-python",
      "name": "python",
      "nbconvert_exporter": "python",
      "pygments_lexer": "ipython3",
      "version": "3.8"
    }
  },
  "nbformat_minor": 4,
  "nbformat": 4,
  "cells": [
    {
      "cell_type": "markdown",
      "source": "# What is data literacy?",
      "metadata": {
        "tags": [
          "51_min",
          "92_min"
        ]
      }
    },
    {
      "cell_type": "markdown",
      "source": "## Introduction\n\nFor much of human history, most of the population didn't know how to read or write. Therefore virtually all of the writing that remains from ancient civilizations was produced by a tiny minority of highly-educated scribes (people who specialized in writing and reading).\n\nScribes were very important people in society. There were even statues made of them! Here's a statuette of a famous Egyptian scribe from 3,500 years ago. This man was called Minnakht, and you can see him reading hieroglyphs from the papyrus on his lap:\n\n![Egyptian scribe](data/images/minnakht.jpg)",
      "metadata": {
        "tags": [
          "10_min"
        ]
      }
    },
    {
      "cell_type": "markdown",
      "source": "Fast-forward to the twenty-first century and you have [a world in which](https://en.wikipedia.org/wiki/List_of_countries_by_literacy_rate) 86% of all people over 15 know how to read and write in their native language. The figure is even higher (nearly 100%) in most developed countries. Imagine if we had to hire a scribe in order to write an email, make a grocery shopping list, or understand TV ads!\n\n**Data literacy** is becoming the new literacy. Increases in computer processing and storage power are adding to the value of data, and those who know how to work with data are the new scribes. Today, understanding how to interpret data is becoming as important as traditional literacy. \n\nNot many people can reliably interpret a bar chart, a line chart, or a frequency table, yet being able to do so would make them much more attuned to the world around them. People with data literacy skills can find better jobs, make better health decisions, plan their financial lives more judiciously, and be more informed citizens. Many companies hire highly-skilled data analysts and data scientists to help them make sense of all the data they routinely gather, but sometimes these people struggle to make the wider organization understand what they do and how the insights they produce can be useful for the business. In some sense, data workers are modern scribes.\n\nIt doesn't have to be this way. Although data scientists and analysts are still necessary, the modern economy demands people who are confident about their data skills and can help disseminate and take action on data-derived knowledge across their organizations. The good news is that just as we learned how to read and write in our native human languages in school, we can also learn how to read and write in the language of data. That is what this program is all about!\n\nBut what *is* data literacy? We define it as *the ability to read, write, translate, and think about data*:\n\n<img src=\"data/images/data_literacy_diagram.svg\" alt=\"COVID dashboard\" style=\"width:620px\">\n\nLet's break down what we mean by this.",
      "metadata": {}
    },
    {
      "cell_type": "markdown",
      "source": "## Reading data\n\n![Read](data/images/read.png)\n\nIn order to become proficient at reading data, you need to develop at least two fundamental skills:\n\n1. Recognizing the symbols used to represent data. When reading text, we need to recognize letters and words - in data, we need to understand what each chart type, table, statistic, etc. means.\n2. Understanding the relationships between those symbols so that they can be connected to create coherent narratives or stories (just like how words are strung together to create articles and books).\n\nIn that sense, data analyses are like stories that need to be read correctly to be fully understood, similar to when you read a story in the news. In a proper data analysis, you will have charts, tables, and statistical quantities that, when considered together, can effectively answer the questions that the analyst needs to answer. Below are some examples of *dashboards* (organized aesthetic pages consisting of charts, tables, and statistical quantities). Don't worry if you don't understand them yet - by the end of this program you will be reading (and *creating*!) beautiful, professional dashboards like these.",
      "metadata": {
        "tags": [
          "5_min"
        ]
      }
    },
    {
      "cell_type": "markdown",
      "source": "### Johns Hopkins University coronavirus dashboard\n\nWhen the COVID-19 global pandemic broke out in early 2020, Johns Hopkins University began collecting health data from the Internet and using it to create visualizations and tables that have helped governments all around the world make better public health decisions. Click on the image below to access the dashboard:\n\n<a href=\"https://coronavirus.jhu.edu/map.html\"><img src=\"data/images/covid.png\" alt=\"COVID dashboard\" style=\"width:620px\"></a>",
      "metadata": {
        "tags": [
          "1_min"
        ]
      }
    },
    {
      "cell_type": "markdown",
      "source": "### Discussion 1\n\n1. From the map alone, which countries or continents seem to have the fewest confirmed cases of COVID-19? (In the map, the red bubbles represent the number of confirmed cases - the larger the size of the bubble, the larger the number of cases in that particular location.)\n2. Now look at the table in the left sidebar. Do the figures there agree with your initial impressions?\n3. Repeat steps 1 and 2 but with the U.S. map (access it by clicking on the \"U.S. Map\" tab at the top of the dashboard). In this map, instead of bubbles you have tiles that get darker as the number of cases gets larger. Were your guesses more accurate this time?",
      "metadata": {
        "tags": [
          "7_min"
        ]
      }
    },
    {
      "cell_type": "markdown",
      "source": "### Web analytics dashboard\n\nHave you ever wondered how Amazon knows what the most viewed products are on their website? The answer is data analytics, of course! More specifically, web analytics. Web analysts look at dashboards that tell them in real-time what the most clicked-on pages are on a website, how much time users spend looking at their content, and even how many users made a purchase during their visit. The industry standard tool for web analytics is Google Analytics. Click on the image to access a Google Analytics demo account with data from a real e-shop (it requires a Gmail account):\n\n**Note:** If you are redirected to a Google Support page, just scroll down until you find a link that says `ACCESS DEMO ACCOUNT` or `Universal Analytics property: Google Merchandise Store (web data)` and click on it.\n\n<a href=\"https://analytics.google.com/analytics/web/demoAccount\"><img src=\"data/images/ganalytics.png\" alt=\"Google Analytics dashboard\" style=\"width:620px\"></a>",
      "metadata": {
        "tags": [
          "8_min"
        ]
      }
    },
    {
      "cell_type": "markdown",
      "source": "This dashboard has data from the Google Merchandise Store, which is a website that sells Google swag. The Google Analytics home is a bit daunting at first sight because of its seemingly endless assortment of menus and options, but that is exactly what power users like about it! To get an idea about the kind of information that Google Analytics can offer, let's find out what products drive the most revenue on the website.\n\nGo to `Conversions`, `E-commerce`, and then `Product performance` on the left sidebar (alternatively, follow the steps shown in the animation below):\n\n![Product performance tutorial](data/images/product_performance_tutorial.gif)\n\nIf you scroll down a bit to the table, you will see that the first column has the names of the products sold in the store, and the second column tells you the revenue they have generated in the associated time period. Which products have generated the most revenue?",
      "metadata": {}
    },
    {
      "cell_type": "markdown",
      "source": "### NASA's Earth Observation Dashboard\n\nSatellite imagery has become a very important source of data for scientists in the last decades, and its huge potential for many applications is still only starting to be realized. One institution that has produced a large number of satellite images over the years is NASA (you can view some of them [here](https://earthobservatory.nasa.gov/map)). What is even more interesting is that NASA has a publicly accessible dashboard - the Earth Observing (EO) Dashboard - that aggregates data from multiple sources and combines them with its own satellite data to create amazing analyses. Click on the image below to access NASA's EO Dashboard. It will open a global map of CO<sub>2</sub> air pollution:\n\n<a href=\"https://eodashboard.org/?poi=W4-N2&indicator=N2\"><img src=\"data/images/nasa.png\" alt=\"NASA dashboard\" style=\"width:620px\"></a>\n\nOnce you're on the website, click on the \"Full Screen\" button at the top right of the map to access the map in full screen mode.\n\n![Full screen map](data/images/full_screen_button.png)",
      "metadata": {
        "tags": [
          "3_min"
        ]
      }
    },
    {
      "cell_type": "markdown",
      "source": "### Discussion 2\n\nOn the map, the redder the area, the higher the concentration of CO<sub>2</sub>, and the bluer the area, the lower the concentration. White areas have CO<sub>2</sub> concentrations that are intermediate. Can you detect any interesting patterns just from looking at the map?",
      "metadata": {
        "tags": [
          "5_min"
        ]
      }
    },
    {
      "cell_type": "markdown",
      "source": "### U.S. Census Bureau statistical profiles\n\nThe U.S. Census Bureau is the government body in charge of providing data about the nation's people and economy. It routinely conducts surveys and occasional censuses (typically every ten years) to get snapshots of many important demographic and economic variables that policymakers can use to make informed decisions. There are many ways to consult the U.S. Census Bureau data, but one of the most popular is via its interactive statistical profiles. Click on the image below to access the United States' statistical profile. This is a dashboard that contains figures and charts created with data from surveys conducted in 2012, 2016, and 2019:\n\n<a href=\"https://data.census.gov/cedsci/profile?g=0100000US\"><img src=\"data/images/us_census.png\" alt=\"US statistical profile\" style=\"width:620px\"></a>",
      "metadata": {
        "tags": [
          "2_min"
        ]
      }
    },
    {
      "cell_type": "markdown",
      "source": "### Discussion 3\n\n1. Read the figures just below the map at the top of the profile. Do you find them surprising? Why?\n2. There is a treasure trove of additional information in this profile. Scroll down and read the sub-headers to get a sense of all the categories on this dashboard that have data.\n3. If you scroll all the way down, you will find links to state profiles. Choose your state and see what interesting facts you can find about it!",
      "metadata": {
        "tags": [
          "8_min"
        ]
      }
    },
    {
      "cell_type": "markdown",
      "source": "## Writing data\n\n![Write](data/images/write.png)\n\nOnce you become familiar with the art of reading data and interpreting dashboards, you can begin learning how those dashboards and analyses are created. Here is a sneak peek of some of the tools that you will be using to \"write\" data in the coming weeks. You can think of them as your data \"pen and paper.\"",
      "metadata": {
        "tags": [
          "2_min"
        ]
      }
    },
    {
      "cell_type": "markdown",
      "source": "### Excel\n\nMany data analyses start with an Excel spreadsheet. Some of the key factors which make Excel such a useful tool are:\n\n* It is easy to learn\n* It is very intuitive and the user interface just \"makes sense\"\n* You can relatively easily calculate some fairly sophisticated data quantities \n* Many data analytics tools can work directly with Excel files\n\nOne of the most helpful things about Excel is that you can actually \"look\" at your dataset as soon as you open it. Here is an example:\n\n![Looking at a dataset in Excel](data/images/excel.gif)\n\nAll of the data in this dataset is immediately visible by navigating the Excel user interface. This is NOT the case with most other data tools.",
      "metadata": {
        "tags": [
          "4_min"
        ]
      }
    },
    {
      "cell_type": "markdown",
      "source": "### Looker Studio\n\nLooker Studio, formerly Google Data Studio, is the dashboarding tool of choice for this program. Some reasons for this are its ease of use, its wide range of visualization options, and its highly customizable aesthetics. Whenever you stumble upon a beautiful dashboard on the Internet, there is a good chance that it was made using Looker Studio or a commercial dashboarding tool (e.g. Tableau, Power BI).",
      "metadata": {
        "tags": [
          "1_min"
        ]
      }
    },
    {
      "cell_type": "markdown",
      "source": "### Discussion 4\n\nClick the image below to go to Looker Studio's Public gallery:\n\n<a href=\"https://datastudio.google.com/gallery\"><img src=\"data/images/gds.png\" alt=\"Looker Studio Public Gallery\" style=\"width:620px\"></a>\n\nPick a dashboard that catches your eye. Share it with the class. What made you choose it?",
      "metadata": {
        "tags": [
          "5_min"
        ]
      }
    },
    {
      "cell_type": "markdown",
      "source": "### SQL and Python\n\nSome complex tasks can be difficult to accomplish using Excel alone. In those cases, you can use other tools like SQL and Python. *SQL (Structured Query Language)* is a programming language that uses basic English words to search for or calculate specific things using your available datasets. To give you an idea of what working with SQL looks like, we have recorded a GIF of a data scientist querying a more extensive database consisting of hundreds of thousands of data points:\n\n![SQL demo](data/images/sql.gif)\n\nLarger databases like this one quickly become impractical to manage using Excel.\n \nPython is another tool that lets you perform very complex analyses on your data. Many *AI (artificial intelligence)* applications, like self-driving cars or stock market prediction models, are developed using Python. Although most of this program will focus on teaching you Excel and dashboarding, we will also introduce you to SQL and show you a little of what Python can do.",
      "metadata": {
        "tags": [
          "4_min"
        ]
      }
    },
    {
      "cell_type": "markdown",
      "source": "## Translating your data\n\n![Translate](data/images/translate.png)\n\nAs you progress as a data professional, you will find that not everyone around you will be as data-savvy as you. In many situations, you will be asked to take data analyses and their associated charts, graphs, tables, and/or numbers and explain them to a non-technical audience. A typical scenario would be in a business meeting, in which you'd have to present and explain the significance of metrics to stakeholders who are not very familiar with data. Your analyses may seem like Egyptian hieroglyphs to them, so you will be expected to translate! We will teach you in later cases how to do this effectively.",
      "metadata": {
        "tags": [
          "2_min"
        ]
      }
    },
    {
      "cell_type": "markdown",
      "source": "### Discussion 5\n\nSwedish scholar [Hans Rosling](https://en.wikipedia.org/wiki/Hans_Rosling) was renowned for his excellent skills as a data translator. Watch the first 5 minutes of this lecture he delivered back in 2006, then discuss with your classmates what you found interesting or noteworthy (the video will open in a new tab):\n\n<a href=\"https://www.youtube.com/watch?v=hVimVzgtD6w\"><img src=\"data/images/rosling.png\" alt=\"Hans Rosling TED talk\" style=\"width:620px\"></a>",
      "metadata": {
        "tags": [
          "10_min"
        ]
      }
    },
    {
      "cell_type": "markdown",
      "source": "## Thinking about data\n\n![Think](data/images/think.png)\n\nData literacy is about reading, writing, and translating data *with a purpose*. That purpose is usually made explicit in the form of a \"research question\" or \"business question.\" Coming up with great questions that are feasible and pertinent with the aim to produce actionable insights is probably the most important skill you will need to develop to truly become data literate - i.e., the art of \"thinking about data.\"\n\nThinking about data involves:\n\n* Defining a good research or business question\n* Determining what data needs to be gathered in order to answer the question\n* Avoiding common pitfalls when interpreting statistical quantities\n* Being aware of what can and can't be inferred from a limited amount of data points",
      "metadata": {
        "tags": [
          "4_min"
        ]
      }
    },
    {
      "cell_type": "markdown",
      "source": "### Discussion 6\n\nEarlier, we looked at a demo Google Analytics dashboard and tried to answer a very simple business question: \"What products drive the most revenue on the Google Merchandise Store website?\". Now come up with other business questions that you think would be interesting to the store's Management. Share them with the class.",
      "metadata": {
        "tags": [
          "6_min"
        ]
      }
    },
    {
      "cell_type": "markdown",
      "source": "## Conclusions & Takeaways\n\nData literacy is one of the most important skills to have in the 21st century. Data literate people are able to make better financial decisions, are more employable, and are generally more informed citizens. We can group data literacy skills into four main pillars:\n\n1. \"Reading\" data - being able to read data representations such as charts, tables, and statistical figures, which not only involves understanding what they mean by themselves but also understanding how they make up part of a coherent narrative\n2. \"Writing\" data - being able to produce charts, tables, statistical quantities, and dashboards for other people to read.\n3. \"Translating\" data - communicating data analyses to non-technical audiences\n4. \"Thinking\" about data - understanding how your analyses relate to the business questions that matter to your stakeholders\n\nYou will encounter many interesting concepts and tools along your journey as a data professional. Some of them will be challenging, but we are all here to help you and make sure you learn as much as possible and enjoy the journey!",
      "metadata": {
        "tags": [
          "5_min"
        ]
      }
    },
    {
      "cell_type": "markdown",
      "source": "## Attribution\n\n[Scribe Statue of Min-nakht, Walters Art Museum, Creative Commons Attribution-Share Alike 3.0 Unported](https://commons.wikimedia.org/wiki/File:Egyptian_-_Scribe_Statue_of_Min-nakht_-_Walters_22230_-_Three_Quarter.jpg)",
      "metadata": {}
    }
  ]
}