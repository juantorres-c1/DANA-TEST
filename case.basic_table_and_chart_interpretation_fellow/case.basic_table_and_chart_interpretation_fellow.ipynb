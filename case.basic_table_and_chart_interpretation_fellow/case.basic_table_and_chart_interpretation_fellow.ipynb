{
  "cells": [
    {
      "cell_type": "markdown",
      "metadata": {
        "tags": [
          "49_min",
          "70_min"
        ]
      },
      "source": [
        "# Which car makes and models are the most popular in the US?\n",
        "\n",
        "![Ford Mustang](data/images/ford.jpg)"
      ]
    },
    {
      "cell_type": "markdown",
      "metadata": {
        "tags": [
          "1_min"
        ]
      },
      "source": [
        "## Goals\n",
        "\n",
        "By the end of this case, you will have learned how to interpret tables, bar charts, and pie charts. You will also be introduced to the concepts of absolute and relative frequency."
      ]
    },
    {
      "cell_type": "markdown",
      "metadata": {
        "tags": [
          "4_min"
        ]
      },
      "source": [
        "## Introduction\n",
        "\n",
        "**Business Context.** You work as an analyst at a small car dealership. The dealership is planning to expand its marketing campaigns to give better coverage to car makes and models that have proven to be more popular with consumers.\n",
        "\n",
        "**Business Problem.** Your job is to *write a short report that summarizes car sales data from the first half of 2020 in the United States*. Though car sales were abnormally down during this period, you can still compare what models were popular to what models were unpopular. Your boss will use your report to make decisions about what makes and models to promote via advertising in the coming months.\n",
        "\n",
        "**Analytical Context.** You have found [this article](https://www.forbes.com/wheels/news/top-20-selling-vehicles-first-six-months-2020/) in Forbes Wheels magazine. It contains information about how many cars were sold in the United States between January and June 2020. You will use the car sales table in the article as your data source to write your report. You have asked one of your colleagues to take the data and prepare some simple visualizations to help you and your boss make sense of the numbers."
      ]
    },
    {
      "cell_type": "markdown",
      "metadata": {
        "tags": [
          "4_min"
        ]
      },
      "source": [
        "## How to read a table\n",
        "\n",
        "Tables are made up of two things - columns and rows. **Rows** typically represent people, transactions, items, or any kind of \"thing\" in general. **Columns** generally represent characteristics or attributes that those \"things\" have. For instance, in this table:\n",
        "\n",
        "| First name | Last name | Favorite food |\n",
        "| --- | --- | --- |\n",
        "| Fred | Johnson | Burger |\n",
        "| Anna | Stevens | Pasta |\n",
        "| Jean | Fischer | Broccoli |\n",
        "\n",
        "Rows represent people (so the \"things\" are people), and columns represent the information we have about these people, namely their first names, last names, and favorite foods. Each one of the boxes where a column and a row meet is called a **cell**.\n",
        "\n",
        "To read a table, you usually start by locating the row you are interested in and then the column. Or, if you know the attribute and want to find out more about the \"thing,\" you first locate the column and then the row."
      ]
    },
    {
      "cell_type": "markdown",
      "metadata": {
        "tags": [
          "3_min"
        ]
      },
      "source": [
        "### Example 1\n",
        "\n",
        "What is the first name of the person whose last name is Fischer?"
      ]
    },
    {
      "cell_type": "markdown",
      "metadata": {},
      "source": [
        "**Answer**. We know the attribute (the last name) but don't have more information about the element. So, let's locate the column with the attribute:\n",
        "\n",
        "\n",
        "| First name | <font color=\"red\">**Last name**</font> | Favorite food |\n",
        "| --- | --- | --- |\n",
        "| Fred | <font color=\"red\">**Johnson**</font> | Burger |\n",
        "| Anna | <font color=\"red\">**Stevens**</font> | Pasta |\n",
        "| Jean | <font color=\"red\">**Fischer**</font> | Broccoli |\n",
        "\n",
        "Next, we locate the row that corresponds to the last name Fischer:\n",
        "\n",
        "| First name | Last name | Favorite food |\n",
        "| --- | --- | --- |\n",
        "| Fred | Johnson | Burger |\n",
        "| Anna | Stevens | Pasta |\n",
        "| Jean | <font color=\"red\">**Fischer**</font> | Broccoli |\n",
        "\n",
        "Now that we know the column and the row, we can go ahead and find the attribute of this row that represents the first name of the person:\n",
        "\n",
        "| First name | Last name | Favorite food |\n",
        "| --- | --- | --- |\n",
        "| Fred | Johnson | Burger |\n",
        "| Anna | Stevens | Pasta |\n",
        "| <font color=\"red\">**Jean**</font> | Fischer | Broccoli |\n",
        "\n",
        "The answer is, therefore, \"Jean.\""
      ]
    },
    {
      "cell_type": "markdown",
      "metadata": {
        "tags": [
          "2_min"
        ]
      },
      "source": [
        "### Exercise 1\n",
        "\n",
        "What is Anna Stevens's favorite food?"
      ]
    },
    {
      "cell_type": "markdown",
      "metadata": {
        "tags": [
          "ans_st"
        ]
      },
      "source": [
        "**Answer.**"
      ]
    },
    {
      "cell_type": "markdown",
      "metadata": {
        "tags": [
          "5_min"
        ]
      },
      "source": [
        "## Frequency tables\n",
        "\n",
        "Tables are extremely useful for representing virtually any kind of data - from a person's medical records in a hospital database to their entire network of friends on Facebook.\n",
        "\n",
        "One of the most frequently used kinds of tables are **frequency tables** (pun intended). These are tables that list how often a particular element appears in a dataset - i.e., its frequency in that dataset.\n",
        "\n",
        "Here is our car sales table (we have extracted only the 10 highest-selling car models):\n",
        "\n",
        "| Make      | Model     | Cars sold from Jan 2020 - Jun 2020 |\n",
        "|-----------|-----------|------------------------------------|\n",
        "| Ford      | F-Series  | 367,387                            |\n",
        "| Chevrolet | Silverado | 264,442                            |\n",
        "| Ram       | Pickup    | 246,253                            |\n",
        "| Toyota    | RAV4      | 183,360                            |\n",
        "| Honda     | CR-V      | 138,898                            |\n",
        "| Honda     | Civic     | 127,858                            |\n",
        "| Toyota    | Camry     | 125,899                            |\n",
        "| Chevrolet | Equinox   | 124,251                            |\n",
        "| Nissan    | Rogue     | 106,965                            |\n",
        "| GMC       | Sierra    | 106,833                            |\n",
        "\n",
        "Source: [Motor Intelligence (June 2020) via Forbes Wheels.](https://www.forbes.com/wheels/news/top-20-selling-vehicles-first-six-months-2020/)"
      ]
    },
    {
      "cell_type": "markdown",
      "metadata": {
        "tags": [
          "3_min"
        ]
      },
      "source": [
        "### Question 1\n",
        "\n",
        "Can you say why this is a frequency table? Share your thoughts with the class."
      ]
    },
    {
      "cell_type": "markdown",
      "metadata": {
        "tags": [
          "3_min"
        ]
      },
      "source": [
        "### Exercise 2\n",
        "\n",
        "Answer the following two questions:\n",
        "\n",
        "1. What was the model with the highest sales?\n",
        "2. How many Honda Civic units were sold?"
      ]
    },
    {
      "cell_type": "markdown",
      "metadata": {
        "tags": [
          "ans_st"
        ]
      },
      "source": [
        "**Answer.**"
      ]
    },
    {
      "cell_type": "markdown",
      "metadata": {
        "tags": [
          "10_min"
        ]
      },
      "source": [
        "## Bar charts\n",
        "\n",
        "The car sales frequency table can also be represented graphically via a **bar chart**. Bar charts are one of the most popular ways to represent data. In a bar chart, you have a set of bars (one bar for each row in the table) whose heights represent the frequency that is associated with that row:\n",
        "\n",
        "![Bar chart](data/images/barchart.png)"
      ]
    },
    {
      "cell_type": "markdown",
      "metadata": {},
      "source": [
        "Let's discuss each of the major components of this bar chart. First, you have your *titles* and *axis labels*. These provide key information because they tell you what the chart is trying to represent:\n",
        "\n",
        "![Bar chart (titles and labels)](data/images/barchart_titles_labels.png)"
      ]
    },
    {
      "cell_type": "markdown",
      "metadata": {},
      "source": [
        "The vertical axis (`Units sold`) is commonly known as the *$y$ - axis*. The horizontal axis (`model`) is the *$x$ - axis*. As you may have noticed, this plot has a subtitle that tells us the source of the data. This is generally good practice because it helps readers understand where the data came from, which in turn can help them assess the quality and trustworthiness of the information conveyed in the plot.\n",
        "\n",
        "Next, you have *tick labels* on each axis. These tell you what each bar represents (in the case of $x$ - axis tick labels) and what magnitudes the $y$-axis represents (in the case of $y$-axis labels):\n",
        "\n",
        "![Bar chart (tick labels)](data/images/barchart_tick_labels.png)"
      ]
    },
    {
      "cell_type": "markdown",
      "metadata": {},
      "source": [
        "Finally, we have the *bars*, the *bar labels*, and the *grid*. The height of each bar is proportional to the frequency associated with the respective model; that is, the taller the bar, the more units sold of that particular model. We sometimes see labels on top of each bar that tell us the exact frequency of that model. They are often unnecessary, but they can be useful in many situations. We also have the grid (the gray horizontal lines), which helps us compare the heights of different bars at a glance:\n",
        "\n",
        "![Bar chart (bars and grid)](data/images/barchart_bars_grid.png)"
      ]
    },
    {
      "cell_type": "markdown",
      "metadata": {
        "tags": [
          "5_min"
        ]
      },
      "source": [
        "### Exercise 3\n",
        "\n",
        "One of the main advantages of bar charts is that they allow you to quickly compare different bars without having to look at the actual numbers. Here's the same plot without bar and $y$ - axis tick labels:\n",
        "\n",
        "![Barchart with no Y axis tick labels](data/images/barchart_no_axis.png)\n",
        "\n",
        "Just by looking at the grid (don't look at the numbers in the previous plots), pick two models so that one has sales that are approximately twice those of the other. Your answer should be in the form: \"Model A had approximately twice the sales of Model B\"."
      ]
    },
    {
      "cell_type": "markdown",
      "metadata": {
        "tags": [
          "ans_st"
        ]
      },
      "source": [
        "**Answer.**"
      ]
    },
    {
      "cell_type": "markdown",
      "metadata": {
        "tags": [
          "5_min"
        ]
      },
      "source": [
        "### Exercise 4\n",
        "\n",
        "We've added the tick labels back in the chart below. Try to validate your answers from the previous exercise using this bar chart. Can you do it easily? What is wrong with this plot?\n",
        "\n",
        "![Barchart shrunk](data/images/barchart_shrunk.png)"
      ]
    },
    {
      "cell_type": "markdown",
      "metadata": {
        "tags": [
          "ans_st"
        ]
      },
      "source": [
        "**Answer.**"
      ]
    },
    {
      "cell_type": "markdown",
      "metadata": {},
      "source": [
        "It is very important that you are aware of the minimum and maximum values of the $y$ - axis whenever you are reading a bar chart. Bar charts whose vertical axes don't start at zero should make you immediately suspicious because they can be easily misleading. There are cases in which an axis can legitimately start at a value that is nonzero, but that is the exception, not the norm."
      ]
    },
    {
      "cell_type": "markdown",
      "metadata": {
        "tags": [
          "7_min"
        ]
      },
      "source": [
        "## Pie charts\n",
        "\n",
        "Bar charts are not the only way to represent count data. There is a popular alternative that is sometimes useful - the pie chart. Pie charts look like pies - hence the name. Each category gets a slice of the pie, and the size of the slice is proportional to the frequency of the category in the frequency table, whereby more frequent categories get a larger slice.\n",
        "\n",
        "Pie charts are good for representing frequencies not only as absolute numbers but also as percentages, i.e., what we call **relative frequencies** (as opposed to the **absolute frequencies** we have been plotting so far). In a relative frequency pie chart, the total area of the pie is considered to represent the number 100%:\n",
        "\n",
        "![Pie chart 100%](data/images/pie100.png)"
      ]
    },
    {
      "cell_type": "markdown",
      "metadata": {},
      "source": [
        "For instance, our car sales table has 1,792,146 units sold. Therefore, the total area of the pie chart would represent that number as 100% of total sales:\n",
        "\n",
        "![Pie chart 100% of sales](data/images/pie100_model_sales.png)"
      ]
    },
    {
      "cell_type": "markdown",
      "metadata": {},
      "source": [
        "Ford F-Series sales amounted to 367,387 units sold; i.e. 20.5% of 1,792,146. It is almost exactly one-fifth of the total sales, which means that one-fifth of the pie chart area should be assigned to the Ford F-Series like this:\n",
        "\n",
        "![Pie chart two categories](data/images/pie_chart_two_categories.png)\n",
        "\n",
        "This plot has two categories: `Ford F-Series`, with an absolute frequency of 367,387 and a relative frequency of 20.5%, and `Other models`, with an absolute frequency of 1,424,759 units sold and a relative frequency of 79.5%. If you sum both absolute frequencies, you get the total sales (1,792,146), and if you sum both relative frequencies, you get 100%.\n",
        "\n",
        "You can also see that this pie chart has a text box to the right. This is the *legend*. It tells us what each color represents in the pie chart - orange represents the Ford F-Series, and blue represents all the other models combined."
      ]
    },
    {
      "cell_type": "markdown",
      "metadata": {
        "tags": [
          "3_min"
        ]
      },
      "source": [
        "### Question 2\n",
        "\n",
        "Here's the pie chart equivalent of our bar charts from before:\n",
        "\n",
        "![Pie chart all categories](data/images/pie_chart_all_categories.png)\n",
        "\n",
        "Do you consider it to be easier or more difficult to read? Why?"
      ]
    },
    {
      "cell_type": "markdown",
      "metadata": {
        "tags": [
          "4_min"
        ]
      },
      "source": [
        "The pie chart version of the frequency table is arguably more difficult to read than the bar chart version. That is because when there are many categories, it becomes difficult to compare the sizes of the slices since they can't easily be measured against an axis and grid lines. This is why many people prefer bar charts over pie charts. Pie charts are still useful, but they work best when the number of categories is reasonably small. In general, bar charts should be your first option unless a pie chart could be more easily understood.\n",
        "\n",
        "One way to reduce the number of categories is by grouping those with the smallest counts under an `Other` category. For example:\n",
        "\n",
        "![Pie chart with Others category](data/images/pie_chart_with_others.png)\n",
        "\n",
        "This is easier to read, but we lost a lot of information about the categories grouped under `Others`. If that information is not critical, we can go with this plot instead of a bar chart. This pie chart gives us additional information that was *not* apparent from the bar chart - it is now much more evident that three models comprise almost half of the market share out of the ten models in this top 10 list. However, if the information about the other models is important, a bar chart would probably be the best option."
      ]
    },
    {
      "cell_type": "markdown",
      "metadata": {
        "tags": [
          "6_min"
        ]
      },
      "source": [
        "### Exercise 5\n",
        "\n",
        "This is a pie chart of total sales by car *make* (previously we plotted total sales by car *model*).\n",
        "\n",
        "![Pie chart make no labels](data/images/pie_chart_sales_make_exercise.png)\n",
        "\n",
        "Try to estimate the relative frequencies to fill the missing spaces below (you can make approximations):\n",
        "\n",
        "* Chevrolet: ___\n",
        "* Ford: ___\n",
        "* GMC: ___\n",
        "* Honda: ___\n",
        "* Others: ___"
      ]
    },
    {
      "cell_type": "markdown",
      "metadata": {
        "tags": [
          "ans_st"
        ]
      },
      "source": [
        "**Answer.**"
      ]
    },
    {
      "cell_type": "markdown",
      "metadata": {
        "tags": [
          "5_min"
        ]
      },
      "source": [
        "## Conclusions & Takeaways\n",
        "\n",
        "Now that you know how to read frequency tables, bar charts, and pie charts, you are very well equipped to write your news summary and hand it to your boss. Here are some key ideas to keep in mind as you write it:\n",
        "\n",
        "* To read a table, you can start by locating the relevant column(s) and then the relevant row(s) or vice versa, depending on which initial information you have.\n",
        "* Absolute frequencies are counts, and relative frequencies are percentages.\n",
        "* Bar heights in bar charts are proportional to frequencies.\n",
        "* $y$ - axes in bar charts should *always* start at zero unless there is a *very* good reason for not doing so.\n",
        "* Pie charts can show the same information as bar charts but are more difficult to read when there are many categories."
      ]
    },
    {
      "cell_type": "markdown",
      "metadata": {},
      "source": [
        "## Attribution\n",
        "\n",
        "\"Ford Mustang V6 Coupé (VI) – Frontansicht, 2. Oktober 2016, New York\", M 93, Oct 2, 2016, Creative Commons Attribution-Share Alike 3.0 Germany License, https://commons.wikimedia.org/wiki/File:Ford_Mustang_V6_Coup%C3%A9_(VI)_%E2%80%93_Frontansicht,_2._Oktober_2016,_New_York.jpg"
      ]
    }
  ],
  "metadata": {
    "c1_recart": "7.49.0-57c20131aabc1dc2a8c675852d80a7da",
    "kernelspec": {
      "name": "python",
      "display_name": "Python (Pyodide)",
      "language": "python"
    }
  },
  "nbformat": 4,
  "nbformat_minor": 2
}