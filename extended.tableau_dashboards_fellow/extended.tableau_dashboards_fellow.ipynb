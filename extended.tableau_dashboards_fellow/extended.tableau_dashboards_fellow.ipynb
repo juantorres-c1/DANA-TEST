{
  "metadata": {
    "c1_recart": "7.56.0-57c20131aabc1dc2a8c675852d80a7da",
    "celltoolbar": "Tags",
    "kernelspec": {
      "name": "python",
      "display_name": "Python (Pyodide)",
      "language": "python"
    },
    "language_info": {
      "codemirror_mode": {
        "name": "ipython",
        "version": 3
      },
      "file_extension": ".py",
      "mimetype": "text/x-python",
      "name": "python",
      "nbconvert_exporter": "python",
      "pygments_lexer": "ipython3",
      "version": "3.8.8"
    }
  },
  "nbformat_minor": 5,
  "nbformat": 4,
  "cells": [
    {
      "cell_type": "markdown",
      "source": "# Analyzing student grades in the Open University",
      "metadata": {
        "tags": [
          "168_min"
        ]
      },
      "id": "55760d0c-e67d-405c-baf6-2db5ec1f357a"
    },
    {
      "cell_type": "markdown",
      "source": "## Introduction\n\n**Business context:** The [Open University](https://www.openuniversity.edu/) is one of the largest universities in the world by number of enrolled students. In recent years, it has been working on developing an analytics platform called [OU Analyse](https://analyse.kmi.open.ac.uk/) to track student performance across its many programs, with the aim of reducing dropout and increasing student engagement and learning. Their analytics team is growing, and they have been actively looking to hire strong candidates. You have been shortlisted as one of them.\n\n**Business problem:** As part of the interviewing process, you have been given an anonymized dataset and asked to **compute the GPA (Grade Point Average) for all students in the October 2014 cohort and create a Tableau dashboard that includes their GPAs and demographic data**.\n\n**Analytical context:** You will be working with a subset of the [OULA dataset](https://analyse.kmi.open.ac.uk/open_dataset), which contains demographic and assessment data for a number of UK-based students from the October 2014 cohort (coded as `2014J`). The data is in the [OULA.xlsm](data/OULA.xlsm) file (click on the file name to download the file). You will find four worksheets in this Excel file:\n\n* `student_info` contains demographic information about students as well as which \"module\" (course) they were enrolled in and whether they received a pass or a fail, or dropped out.\n* `modules` lists the different modules that the students could enroll in. The actual names have been replaced with three-letter codes for privacy reasons.\n* `assessments` has a table with all the assessments for each module, indicating the weight that each assessment had in the final grade.\n* `student_assessment` contains the actual grades that each student received in each assessment on a 0-100 scale. Most students in this sample only enrolled in one course, but there are some who enrolled in more.\n\nThe full documentation can be found [here](https://analyse.kmi.open.ac.uk/open_dataset#description).\n\n**Deliverable:** In this extended case, you will be submitting 1 excel file that contains all of the exercise answers and your Tableau Dashboard link.",
      "metadata": {
        "tags": [
          "8_min"
        ]
      },
      "id": "2621a03e-5788-4299-ba52-c420a1ef3a34"
    },
    {
      "cell_type": "markdown",
      "source": "## Preparing the dataset\n\nBefore you create the dashboard, you need to prepare the dataset and compute the GPAs.\n\n**Important Note:** *You may notice missing values*. This is common in large datasets. The tools we're using will generally ignore missing values, but it is a good idea to start thinking about how to handle them. For instance, in this dataset, at one point Excel converted all `10-20` under `imd_band` to `October 20`, which is a typical behavior for Excel. Those anomalous values were later removed, but this leaves us with missing values. You are not expected to do any data cleaning here.",
      "metadata": {},
      "id": "27a1976d-2f30-4fd9-93d5-2caf1189a5ed"
    },
    {
      "cell_type": "markdown",
      "source": "### Exercise 1\n\n**Instructions:** Go to the `student_assessment` worksheet and complete `Column F` with the **code_module** to which each assessment corresponds. The modules associated to each assessment are in the `assessments` worksheet.\n\nFor example, the **Code_Module** for **Student #569505** with **Assessment ID 1758** is \"AAA\".\n\nHint: You will need to use `INDEX` & `MATCH` functions.",
      "metadata": {
        "tags": [
          "12_min"
        ]
      },
      "id": "3910436a-3f57-4442-a058-80595fbf3b34"
    },
    {
      "cell_type": "markdown",
      "source": "**Answer.**",
      "metadata": {
        "tags": [
          "ans_st"
        ]
      },
      "id": "0e096e51-06e2-42ec-8cf0-e524bac7b7ab"
    },
    {
      "cell_type": "markdown",
      "source": "### Exercise 2\n\n**Instructions:** Go to the `student_assessment` worksheet and complete `Column G` with the weight that is associated with each assessment. Name Column G `weight`.\n\nRemember that the weights are in the `assessments` worksheet.",
      "metadata": {
        "tags": [
          "8_min"
        ]
      },
      "id": "748754bd-a0f9-4b42-8219-068e9bbc397a"
    },
    {
      "cell_type": "markdown",
      "source": "**Answer.**",
      "metadata": {
        "tags": [
          "ans_st"
        ]
      },
      "id": "babe9854-9cc7-4ec9-8b7b-da7a003f6d62"
    },
    {
      "cell_type": "markdown",
      "source": "After solving the previous exercises, your worksheet should look like this:\n\n![Prepared dataset](data/images/prepared_dataset.png)",
      "metadata": {},
      "id": "d614e56d-aab2-4fa0-9358-469792810b8f"
    },
    {
      "cell_type": "markdown",
      "source": "## Calculating the GPAs\n\nNow we are ready to compute the GPA for each student-module pair. Since every assessment has a different weight, this will need to be a *weighted* GPA; i.e. a weighted average. The formula for a weighted average is this:\n\n$$\nWeighted Average = \\frac{score_1 \\times weight_1 + score_2 \\times weight_2 + ... + score_n \\times weight_n}{\\text{sum of } weight}\n$$\n\nYou can see that the points earned on each assignment are multiplied by the total possible points for each assignment. Those values are all added together, and then divided by the `sum of weight`, which is calculated by adding together the total possible points for all assignments.\n\nThe calculations we are going to use for GPA will look different than those on a typical `0 - 4.0` scale. Be sure to follow the instructions for each exercise in calculating GPA as it is used in this dataset.",
      "metadata": {
        "tags": [
          "5_min"
        ]
      },
      "id": "14645d8a-ce70-48c0-a4e1-3ee60625ec31"
    },
    {
      "cell_type": "markdown",
      "source": "### Exercise 3\n\nBefore we can compute the GPAs, we need to know the sums of the weights for each module (the $\\text{sum of } weight$ terms in the formula above). In theory, the assessments in each module should add up to a total of 200 points (100 points for ordinary assessments plus 100 points for the final exam). However, this isn't true for all modules in this sample.\n\n**Instructions:** Using the `assessments` worksheet, calculate the sum of the weights for each `code_module` using a **pivot table**. Place it in the worksheet called `Weight_Sums` in `Cell A1`.\n\nAfter you have completed the Pivot Table in the `Weight_Sums` worksheet, go to the `ANSWER` worksheet and answer the following question: What is the `sum of weight` for **code_module** `BBB`? Enter your response in `Cell X84`.",
      "metadata": {
        "tags": [
          "10_min"
        ]
      },
      "id": "c2a95f59-d6ae-4988-bfff-7c05ee1262b1"
    },
    {
      "cell_type": "markdown",
      "source": "**Answer.**",
      "metadata": {
        "tags": [
          "ans_st"
        ]
      },
      "id": "340423bd-1353-4899-b3d0-3bd3194380bc"
    },
    {
      "cell_type": "markdown",
      "source": "### Exercise 4\n\n**Instructions:** Go to the `student_assessment` worksheet and complete `Column H` using the `VLOOKUP()` function with the sums of the weights you calculated in Exercise 3. Remember that the sum of weights is particular to each module.\n\nName the column `weight_sum`.",
      "metadata": {
        "tags": [
          "7_min"
        ]
      },
      "id": "b29caacf-05a5-4085-b190-1e17adbf3f74"
    },
    {
      "cell_type": "markdown",
      "source": "**Answer.**",
      "metadata": {
        "tags": [
          "ans_st"
        ]
      },
      "id": "c99991fe-f971-4c99-8584-2c26db4b9e92"
    },
    {
      "cell_type": "markdown",
      "source": "### Exercise 5\n\n#### 5.1\n\n**Instructions:** Compute the product *score × weight* in `Column I` of the `student_assessment` worksheet for each student-assessment pair.\n\nName the column `score x weight`.",
      "metadata": {
        "tags": [
          "3_min"
        ]
      },
      "id": "b5d8966c-0e40-4c0f-a070-8330068b303e"
    },
    {
      "cell_type": "markdown",
      "source": "**Answer.**",
      "metadata": {
        "tags": [
          "ans_st"
        ]
      },
      "id": "36de859a-85e7-4ccd-9413-10725ed3a5cd"
    },
    {
      "cell_type": "markdown",
      "source": "#### 5.2\n\n**Instructions:** For each student and assessment pair, compute the quantity\n\n$$\n\\frac{score \\times weight}{\\text{sum of } weight}\n$$\n\nComplete Column J in the `student_assessment` worksheet using the formula above.\n\nName the Column **(score x weight)/weight_sum**.\n\nThe `student_assessment` worksheet should look like this after you add this column:\n\n![Student assessment worksheet](data/images/student_assessment.png)",
      "metadata": {
        "tags": [
          "3_min"
        ]
      },
      "id": "e6677e1d-6715-414d-a926-a6b4f40cd06d"
    },
    {
      "cell_type": "markdown",
      "source": "**Answer.**",
      "metadata": {
        "tags": [
          "ans_st"
        ]
      },
      "id": "1c47d3ff-c980-412d-8672-ca86278d57bb"
    },
    {
      "cell_type": "markdown",
      "source": "### Exercise 6\n\nCalculate the GPAs for each student in each course, using a pivot table. Put it in a new worksheet called `gpas`. The rows should be the individual students' IDs, and the columns should be the modules. Each cell should correspond to the GPA that each particular student obtained in each module.\n\nThis is a sample of what your pivot table should look like:\n\n<table>\n<thead>\n  <tr>\n    <th>Row Labels</th>\n    <th>AAA</th>\n    <th>BBB</th>\n    <th>CCC</th>\n    <th>DDD</th>\n    <th>EEE</th>\n    <th>FFF</th>\n    <th>GGG</th>\n  </tr>\n</thead>\n<tbody>\n  <tr>\n    <td>6516</td>\n    <td>31.75</td>\n    <td></td>\n    <td></td>\n    <td></td>\n    <td></td>\n    <td></td>\n    <td></td>\n  </tr>\n  <tr>\n    <td>8462</td>\n    <td></td>\n    <td></td>\n    <td></td>\n    <td>21.5</td>\n    <td></td>\n    <td></td>\n    <td></td>\n  </tr>\n  <tr>\n    <td>23698</td>\n    <td></td>\n    <td></td>\n    <td>49.99</td>\n    <td></td>\n    <td></td>\n    <td></td>\n    <td></td>\n  </tr>\n  <tr>\n    <td>24734</td>\n    <td>23.75</td>\n    <td></td>\n    <td></td>\n    <td></td>\n    <td></td>\n    <td></td>\n    <td></td>\n  </tr>\n  <tr>\n    <td>25261</td>\n    <td></td>\n    <td></td>\n    <td>0.52</td>\n    <td></td>\n    <td></td>\n    <td></td>\n    <td></td>\n  </tr>\n  <tr>\n    <td>25572</td>\n    <td></td>\n    <td></td>\n    <td></td>\n    <td>3.5</td>\n    <td></td>\n    <td></td>\n    <td></td>\n  </tr>\n  <tr>\n    <td>26192</td>\n    <td>43.15</td>\n    <td></td>\n    <td></td>\n    <td></td>\n    <td></td>\n    <td></td>\n    <td></td>\n  </tr>\n  <tr>\n    <td>26315</td>\n    <td></td>\n    <td>31.9</td>\n    <td></td>\n    <td></td>\n    <td></td>\n    <td></td>\n    <td></td>\n  </tr>\n  <tr>\n    <td>26734</td>\n    <td></td>\n    <td>9.25</td>\n    <td></td>\n    <td></td>\n    <td></td>\n    <td></td>\n    <td></td>\n  </tr>\n  <tr>\n    <td>27116</td>\n    <td></td>\n    <td></td>\n    <td>62.67333333</td>\n    <td></td>\n    <td></td>\n    <td></td>\n    <td></td>\n  </tr>\n  <tr>\n    <td>27417</td>\n    <td></td>\n    <td></td>\n    <td></td>\n    <td>14.025</td>\n    <td></td>\n    <td></td>\n    <td></td>\n  </tr>\n  <tr>\n    <td>28061</td>\n    <td>38.7</td>\n    <td></td>\n    <td></td>\n    <td></td>\n    <td></td>\n    <td></td>\n    <td></td>\n  </tr>\n  <tr>\n    <td>28787</td>\n    <td></td>\n    <td></td>\n    <td>18.66</td>\n    <td></td>\n    <td></td>\n    <td></td>\n    <td></td>\n  </tr>\n  <tr>\n    <td>28952</td>\n    <td></td>\n    <td></td>\n    <td>2.006666667</td>\n    <td></td>\n    <td></td>\n    <td></td>\n    <td></td>\n  </tr>\n  <tr>\n    <td>29411</td>\n    <td></td>\n    <td></td>\n    <td>0.42</td>\n    <td></td>\n    <td></td>\n    <td></td>\n    <td></td>\n  </tr>\n  <tr>\n    <td>...</td>\n    <td>...</td>\n    <td>...</td>\n    <td>...</td>\n    <td>...</td>\n    <td>...</td>\n    <td>...</td>\n    <td>...</td>\n  </tr>\n</tbody>\n</table>\n\n**Instructions:** Create a Pivot Table in the `GPAS` worksheet, position it in `Cell A1`. Then, enter the value under column `CCC` for **student 29639** in `Cell X235` in the `ANSWER` worksheet.\n\nHint: You can remove the \"Grand Totals\" row and column from your pivot table. To do so, after you have created it, right-click on it and select `Show settings`. Then uncheck the boxes below `Show grand totals for` (if you are using a Mac, after you right-click you will probably see the option to remove the grand total immediately).",
      "metadata": {
        "tags": [
          "7_min"
        ]
      },
      "id": "2ffd3500-4c9c-4ffa-85ba-6effc22b74dd"
    },
    {
      "cell_type": "markdown",
      "source": "**Answer.**",
      "metadata": {
        "tags": [
          "ans_st"
        ]
      },
      "id": "1d88f948-7431-4f11-b853-28a47d847a8b"
    },
    {
      "cell_type": "markdown",
      "source": "### Exercise 7\n\nNow reference the GPAs from the pivot table in the `gpas` worksheet to a new column in the `student_info` worksheet. Call the new column `student_module_gpa`. Your worksheet should end up looking like this:\n\n![Student & module GPA](data/images/student_module_gpa.png)\n\n**Instructions:** Complete **Column M** in the `student_info` worksheet. Use the header **student_module_gpa** for Column M. Using the `GPAS` pivot table, fill in the GPAs of each student.\n\nHints: \n1. Use `INDEX()` + `MATCH()` (get the positions of the assessment and the student ID with `MATCH()` - one `MATCH()` for the column and another one for the row). Remember that there is one GPA for each student-module pair.\n2. Make sure the formula performs an [exact match](https://support.microsoft.com/en-us/office/match-function-e8dffd45-c762-47d6-bf89-533f4a37673a).\n\n**Note:** Some students have a \"Fail\" as their final result even though they obtained a relatively high grade. This is because those students did not present the final exam and therefore were disqualified from receiving a degree. Recall that we may have missing values, and they can be ignored.",
      "metadata": {
        "tags": [
          "15_min"
        ]
      },
      "id": "0ee8d3bf-76c0-45cd-bd61-109f00c31ff3"
    },
    {
      "cell_type": "markdown",
      "source": "**Answer.**",
      "metadata": {
        "tags": [
          "ans_st"
        ]
      },
      "id": "26bd9036-ed64-4bab-a31b-a8c8e34be4f5"
    },
    {
      "cell_type": "markdown",
      "source": "## Creating the dashboard\n\n### Exercise 8\n\nNow we have all the data that we need! Load the `student_info` worksheet into Tableau and make a [workbook](https://www.linkedin.com/pulse/explain-difference-between-tableau-workbook-story-upendar-sheethala/) (with several dashboards if needed) that allows the user to visualize the relationships between the *following metrics*:\n\n* Average GPA (*The aggregate statistic must be \"Average\"*)\n* Student count (*The aggregate statistic must be \"Count distinct\"*)\n\nand the *following dimensions*:\n\n\n* Age\n* Gender\n* Module\n* Region\n* Previous education\n\nThey should also allow for filtering the data by multiple dimensions; e.g. You should be able to answer \"What is the average GPA of students who took the AAA module *and* were in Scotland?\" with the dashboard.\n\n#### Design factors to keep in mind:\n\n* The dashboard pages **shouldn't be cluttered**. Keep it as clean as you can, and if you need to add several charts, distribute them in pages (dashboards).\n\n* The Tableau charts should **employ the \"Use as filter\" functionality**. This way an arbitrary number of filters can be applied to the charts using all the dimensions without requiring the addition of new charts or filter controls. For instance, you can have a vertical bar graph with age range, and when you select one of the bars, the rest of the charts adjust to show you the students by region, gender, etc. for that age range.\n\n* All the **charts must be of the appropriate type according to the data they represent**. In this case, going with all bar charts (or column charts) is a safe option. You do not have to create a choropleth map. It may be especially difficult to do so because the region data is not formatted for Tableau. \n\n* Every chart must have a **descriptive title and chart axes must be clearly labeled**.\n\nYou will need to both *design and implement* the dashboards yourself, using the principles and tutorials you saw in previous cases. Paste the link to the Tableau Public dashboard in a new cell below. Also submit your completed Excel sheet in order to receive credit for your pivot tables.",
      "metadata": {
        "tags": [
          "90_min"
        ]
      },
      "id": "eab80ed3-c70a-4bd3-ae4e-358f3eaa3250"
    },
    {
      "cell_type": "markdown",
      "source": "### Submission\n\nCongratulations! You have completed this Extended Case! The last step is to submit your excel file. Please make sure that the following is complete.\n\n1. Your Excel file has been rename to include your full name.\n2. Your Tableau Link is inserted into `Cell X308` in the `ANSWER` worksheet.",
      "metadata": {},
      "id": "4cb66f03-b08c-48b7-b4be-5002e6714587"
    },
    {
      "cell_type": "markdown",
      "source": "**Answer.**",
      "metadata": {
        "tags": [
          "ans_st"
        ]
      },
      "id": "be717d7c-0134-4aec-9f7a-c5a89519106b"
    },
    {
      "cell_type": "markdown",
      "source": "## Attribution\n\n\"Open University Learning Analytics dataset\", Kuzilek J., Hlosta M., Zdrahal Z., 2017, Creative Commons Attribution 4.0, https://www.nature.com/articles/sdata2017171, Sci. Data 4:170171 doi: 10.1038/sdata.2017.171",
      "metadata": {},
      "id": "db0459f7-1f89-4cf9-b70c-10b44ee4fdba"
    }
  ]
}