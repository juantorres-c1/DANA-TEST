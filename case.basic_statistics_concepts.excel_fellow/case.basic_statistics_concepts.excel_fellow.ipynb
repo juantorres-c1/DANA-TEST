{
 "cells": [
  {
   "cell_type": "markdown",
   "id": "44797564-54f9-413b-a654-1f2a1f6be20f",
   "metadata": {
    "tags": [
     "127_min"
    ]
   },
   "source": [
    "# What generalizable patterns can we find about health care costs for smokers?"
   ]
  },
  {
   "cell_type": "markdown",
   "id": "edca2d35-18c1-42fa-b82f-db2ffdad475d",
   "metadata": {
    "tags": [
     "5_min"
    ]
   },
   "source": [
    "## Goals\n",
    "\n",
    "Up to this point, we have been focusing on analyzing data from an *empirical* perspective - that is, working with tangible data points. However, more advanced techniques in data analysis (such as hypothesis testing & inference, predictive modeling, and machine learning) often require some *theoretical* background as well, where we work with abstractions of the truth that aren't completely bound by the data we have. This case will focus on building the core mathematical foundations necessary for further study of data analysis while also discussing some conceptual topics. By the end of this case, you will be able to:\n",
    "- Describe various types of data and methods for working with each\n",
    "- Differentiate between the mean, median, and mode\n",
    "- Explain why measuring variability is important in comparing groups\n",
    "- Use probability to draw conclusions about different groups"
   ]
  },
  {
   "cell_type": "markdown",
   "id": "75aa19e5-b5ec-4955-9bfc-43605920d764",
   "metadata": {
    "tags": [
     "5_min"
    ]
   },
   "source": [
    "## Introduction\n",
    "\n",
    "**Business Context.** You are an employee at a health insurance company. Your employer wants to better understand how their competition adjusts charges for smokers. You have been asked to investigate some historical data from this company to clarify the characteristics of smokers as part of this project.\n",
    "\n",
    "**Business Problem.** Your manager has asked you to answer the following question: **\"What is a smoker's payment, personal, and regional profile?\"**\n",
    "\n",
    "**Analytical Context.** The relevant data is a public CSV file called `insurance.csv,` which contains information on various features that may affect health insurance charges.\n",
    "\n",
    "In this case, you will use what you know about basic statistics and focus on ensuring that you have chosen appropriate metrics and plots to convey your observations."
   ]
  },
  {
   "cell_type": "markdown",
   "id": "dbcac625-c64b-469a-a8b1-efd7b269c18d",
   "metadata": {
    "tags": [
     "4_min"
    ]
   },
   "source": [
    "## Loading up the data\n",
    "\n",
    "Let's take a look at the health insurance dataset available [here](data/insurance.csv). The dataset consists of the following features:\n",
    "\n",
    "* **age:** the person's age in years\n",
    "* **sex:** male or female\n",
    "* **bmi:** the person's Body Mass Index (MBI)\n",
    "* **children:** the number of children the person has\n",
    "* **smoker:** whether the person is a smoker or not\n",
    "* **region:** Northeast, Northwest, Southeast, Southwest\n",
    "* **charges:** the total insurance charges for that person"
   ]
  },
  {
   "cell_type": "markdown",
   "id": "88043551-ed20-499c-9beb-37de43bc2800",
   "metadata": {
    "nbgrader": {
     "grade": false,
     "grade_id": "cell-748925ed7516618f",
     "locked": true,
     "schema_version": 3,
     "solution": false,
     "task": false
    },
    "tags": [
     "8_min"
    ]
   },
   "source": [
    "We can summarize the variables above as follows:\n",
    "\n",
    "| **Type**       | **Columns**         |\n",
    "|----------------|---------------------|\n",
    "| **Ratio**      | age, children, charges  |\n",
    "| **Interval**   | bmi                     |\n",
    "| **Ordinal**    | -                       |\n",
    "| **Nominal**    | sex, smoker, region     |\n",
    "\n",
    "It is useful to understand the type of data you're working with before computing any summary statistics. **Ratio data** has a true zero, meaning comparing values is generally easy. If you are charged five dollars, and someone else is charged 10 dollars, you can easily say they were charged twice as much as you. **Interval data**, having no true zero, is similar. You can still create many of the same plots and use the same statistics, but since it is impossible to have a BMI of zero, it doesn't really make sense to say someone has double the BMI of someone else. **Ordinal data** is when you have categories with a natural order. BMI could be converted into an example here if you group people into the categories of underweight, normal, overweight, and obese. Those four categories contain a wide range of values but have clear boundaries between categories. This also helps us to see that it is not the name of the variable that tells us its type of data but rather the way the variable is measured. **Nominal data** is simply a collection of categories without a natural ranking. For instance, in the variable of biological sex, you can assign *female* as 0 and *male* as 1, but those values do not mean anything other than representing two different groups."
   ]
  },
  {
   "cell_type": "markdown",
   "id": "bb3c8ea9-e20f-435d-af0b-7dbc4fa66db7",
   "metadata": {
    "nbgrader": {
     "grade": false,
     "grade_id": "cell-63143ed129d88b51",
     "locked": true,
     "schema_version": 3,
     "solution": false,
     "task": false
    },
    "tags": [
     "5_min"
    ]
   },
   "source": [
    "## Summary statistics \n",
    "\n",
    "Recall our original business problem - we want to ascertain smokers' payment, personal, and regional profiles in the US. A good place to start is by looking at **summary statistics** of data on smokers - examples being the mean, median, and mode of a dataset. All three are central tendency measures; that is, they give us an idea of what the typical (most central) element looks like in a dataset for a given variable. Remember that:\n",
    "\n",
    "* **Mean**, also known as the average, is the sum of all observations for a particular variable over the number of observations for that variable\n",
    "* **Median** is another measure of the data's \"center\" and gives the middlemost value when data is listed in order (i.e., the 50th percentile)\n",
    "* **Mode** gives us the most common value that appears in the data\n",
    "\n",
    "Mean, median, and mode are all useful with ratio and interval data. However, ordinal and nominal data are often only described with the mode or even simply by reporting the number of values for each category, especially when only a small number of possible categories exist."
   ]
  },
  {
   "cell_type": "markdown",
   "id": "74a43b47-7899-4e45-aef1-0c7f4b996ed9",
   "metadata": {
    "nbgrader": {
     "grade": false,
     "grade_id": "cell-d16647f718bc082b",
     "locked": true,
     "schema_version": 3,
     "solution": false,
     "task": false
    },
    "tags": [
     "15_min"
    ]
   },
   "source": [
    "### Exercise 1:\n",
    "\n",
    "We can get a lot of information on mean, median, and mode using Excel functions. Another word for the `mean` is the `average`, which is the term Excel uses. To find the mean, use `AVERAGE()`. You can find the `median` with `MEDIAN()`. If you want to compare groups, as you see below in question 2, you can use pivot tables or `AVERAGEIF()` or `AVERAGEIFS()`. \n",
    "\n",
    "1. What is the mean charge of all cases?\n",
    "2. Is the mean charge for people who smoke greater than that for non-smokers? What is the percentage difference?\n",
    "3. Is smoking more prevalent in males or females within the dataset?\n",
    "4. What is the average cost of insurance for a female smoker?\n",
    "\n",
    "**Hint**: Percent Difference is calculated with this formula:  \n",
    "\n",
    "$${|(n_{1} - n_{2})| \\over (n_{1} + n_{2})/2} *100$$  \n",
    "\n",
    "Where $n_1$ is the first mean you calculate, and $n_2$ is the second mean you calculate. You can calculate the absolute value in Excel with `ABS()`."
   ]
  },
  {
   "cell_type": "markdown",
   "id": "72ab72ba-8cdf-4715-855a-0e82f0b0c7bd",
   "metadata": {
    "tags": [
     "ans_st"
    ]
   },
   "source": [
    "**Answer.**"
   ]
  },
  {
   "cell_type": "markdown",
   "id": "0a03c881-8007-4b8d-b94b-097953e377d1",
   "metadata": {
    "tags": [
     "10_min"
    ]
   },
   "source": [
    "### Histograms\n",
    "\n",
    "It is extremely important to practice making various charts to represent our data because sometimes, something as simple as looking at the visual representation can help us understand how to analyze it.\n",
    "The next question we want to ask is whether the mean or the median is a better representation of our variables. \n",
    "\n",
    "**Histograms** can be used to display the frequency of values in a variable. This allows for a visual understanding of the spread of the data. There is a similar chart to the histogram called a **column chart**. While histograms are used with ratio and interval data, column charts are used with ordinal and nominal data. In a column chart, there is generally a space between the bars to show that the bars represent different categories, but in histograms, there is no space. An additional type of chart, called a **bar chart**, is similar to a column chart but oriented horizontally.\n",
    "\n",
    "We can create a histogram by selecting the column we want to use, selecting the `Insert` tab, and then `Other Charts`. Choose the first item on the left under `Statistical`.\n",
    "\n",
    "![Histograms 1](data/images/bmi_histogram.png)\n",
    "\n",
    "You will produce a basic histogram that looks like this (here, we added a title and axis labels):\n",
    "\n",
    "![Histograms 2](data/images/bmi_histogram1.png)\n",
    "\n",
    "At the bottom of this histogram, you can see that each column represents a range of BMI values. You can adjust the width of these values by using the chart format panel and expanding the area that says `Series bmi`. (If you don't see this panel, click `Format` under the `Chart` tab. From there, next to where it says `bins`, the default is `Auto`. You can switch `Auto` to `Number of bins` and then change that default number that appears. By making that number larger or smaller, you can see how the histogram changes.\n",
    "\n",
    "In our case, this appears to be a reasonable number of bins to represent the data. This **distribution** looks like what is called a **normal distribution**. A distribution shows us the various values that occur for a variable. In a normal distribution, the mean, median, and mode are all equal, and the data are symmetrical around the median. This distribution has a high peak in the center and tapers off towards the left and right ends. It has been said that the normal distribution is so prevalent in nature that had the Ancient Greeks discovered it, they would have had a god for it. You can find more about distributions [here.](https://medium.com/data-science-in-your-pocket/various-data-distributions-in-statistics-362dc92558db)"
   ]
  },
  {
   "cell_type": "markdown",
   "id": "0370ffed-6f72-4fa0-8854-47b7dd2af59f",
   "metadata": {
    "tags": [
     "10_min"
    ]
   },
   "source": [
    "### Exercise 2\n",
    "\n",
    "1. Create a histogram for the `charges` column in your dataset.\n",
    "2. Contrast the two histograms you created.\n",
    "3. Calculate the mean and median for both `bmi` and `charges`. \n",
    "4. Describe how the mean and median relate to each other for `bmi` and how they relate to each other for `charges`."
   ]
  },
  {
   "cell_type": "markdown",
   "id": "3649d4c8-186c-46da-be3a-324dda0be7eb",
   "metadata": {
    "tags": [
     "ans_st"
    ]
   },
   "source": [
    "**Answer.**"
   ]
  },
  {
   "cell_type": "markdown",
   "id": "0f91a897-c0d6-4180-a665-7a3747c974d5",
   "metadata": {
    "tags": [
     "3_min"
    ]
   },
   "source": [
    "### Exercise 3:\n",
    "\n",
    "This is a table of the count of smokers per region as a proportion of the total number of smokers in the dataset. Why does the Southeast have higher charges than the other regions? Also, consider whether this data would be better represented by a histogram or a bar chart.\n",
    "\n",
    "|   Region  | % of smokers | Mean charges |\n",
    "|:---------:|:------------:|--------------|\n",
    "| Northwest |      21%     | \\$12,418      |\n",
    "| Northeast |      24%     | \\$13,406      |\n",
    "| Southeast |      33%     | \\$14,735      |\n",
    "| Southwest |      21%     | \\$12,347      |"
   ]
  },
  {
   "cell_type": "markdown",
   "id": "31c38c00-c52b-4cfa-b43f-a2e331a8fc81",
   "metadata": {
    "tags": [
     "ans_st"
    ]
   },
   "source": [
    "**Answer.**"
   ]
  },
  {
   "cell_type": "markdown",
   "id": "72ff67fb-dd49-4a77-9fa3-88755acb5b3e",
   "metadata": {
    "tags": [
     "3_min"
    ]
   },
   "source": [
    "### Probability\n",
    "\n",
    "It is often necessary or useful to calculate the **probability** of an event occurring. Here we will calculate the probability of event $A$ occurring, which takes on a value from 0 to 1 and is denoted $P(A)$. A probability of 0 means that an event is certain not to occur, and a probability of 1 means that it is certain to occur. To calculate the probability of events occurring, we can use the following rules (here, $A$ and $B$ are the two events): \n",
    "\n",
    "1. $\\displaystyle P(A) = \\frac {\\textrm{# of outcomes when } A \\textrm{ occurs}} {\\textrm{# of total outcomes}}$\n",
    "2. $P(A \\textrm{ AND } B) = P(A) * P(B)$ (only applies to [independent events](https://www.statisticshowto.com/probability-and-statistics/dependent-events-independent/))\n",
    "3. $P(A \\textrm{ OR } B) = P(A) + P(B)$ (only applies to [mutually exclusive events](https://en.wikipedia.org/wiki/Mutual_exclusivity))"
   ]
  },
  {
   "cell_type": "markdown",
   "id": "be5bcc40-8622-41d7-9298-133278713f5d",
   "metadata": {
    "tags": [
     "10_min"
    ]
   },
   "source": [
    "### Exercise 4:\n",
    "\n",
    "The company is considering offering a lucky draw to give one client zero charges for the next month. They want to know how likely it is that a smoker is selected. Specifically:\n",
    "\n",
    "1. If the company did one lucky draw for each region individually, what is the probability that the selected person in the region that smokes the most is a smoker?\n",
    "2. If the company did one lucky draw for all regions together, what is the probability of a smoker from the region that smokes the most being selected?"
   ]
  },
  {
   "cell_type": "markdown",
   "id": "35685aea-e8d1-43bb-ae10-a493b68d9e39",
   "metadata": {
    "tags": [
     "ans_st"
    ]
   },
   "source": [
    "**Answer.**"
   ]
  },
  {
   "cell_type": "markdown",
   "id": "a2790690-6df1-4ce3-a70f-4ec06643cb67",
   "metadata": {
    "tags": [
     "5_min"
    ]
   },
   "source": [
    "### Relationships between variables\n",
    "\n",
    "As we have seen in previous cases, the properties of individual variables are important, but they are not the only important thing. Rather, data science often consists of the study of relationships between multiple variables. One way to give a quick numerical summary of a relationship between two variables is via the concept of **correlation**.\n",
    "\n",
    "The **Pearson correlation coefficient** (also called Pearson's $R$) is commonly used for this purpose and has values in the range \\[-1:1\\], and can be useful in describing ratio and interval data. A positive correlation ($R > 0$) means that as one variable increases in value, the common trend is that the other variable increases in value, while a negative correlation ($R < 0$) means that as one variable increases, the other decreases. If $R = 1$, that means there is a perfect positive linear relationship between the two variables; if $R = -1$, there is a perfect negative linear relationship.\n",
    "\n",
    "The image below shows a strong positive correlation on the left, a weak positive correlation in the middle, and no correlation on the right. For the positive correlations, you can see the data are clustered in a trend that runs from the lower left to the upper right, appearing to be \"rising.\" In a negative correlation, the data would be clustered from the upper left to the lower right, appearing to be \"falling\".\n",
    "\n",
    "![Scatter](data/images/Strong--weak--no-correlation.png)\n",
    "\n",
    "We can create a simple scatter plot in Excel by selecting the `A` above the `age` column, then holding `ctrl` on pc or `command` on mac, and selecting the `C` above the `bmi` column. Then, on the `Insert` tab, choose the `Scatter` image and select the option in the upper right of the drop-down menu. \n",
    "\n",
    "![Scatter](data/images/scatter1.png)\n",
    "\n",
    "After labeling and adjusting our indices, our scatter plot looks like this:\n",
    "\n",
    "![Scatter](data/images/scatter2.png)\n",
    "\n",
    "It does not appear that there is a relationship between age and BMI. There is no upward or downward trend in the data; if we chose an age at random, we would find a similar distribution of BMIs."
   ]
  },
  {
   "cell_type": "markdown",
   "id": "7e11f7ef-8d79-4421-8458-f26a1e76cb27",
   "metadata": {
    "tags": [
     "8_min"
    ]
   },
   "source": [
    "### Exercise 5\n",
    "\n",
    "1. Create scatter plots to show the relationship between BMI and charges and age and charges.\n",
    "2. For each of your plots, state whether the relationship is positive, negative, or none. If the relationship is positive or negative, estimate the strength of the relationship as strong or weak. Make a note of any other patterns you find."
   ]
  },
  {
   "cell_type": "markdown",
   "id": "f2a85e82-9280-4cf3-acba-5b0afb629809",
   "metadata": {
    "tags": [
     "ans_st"
    ]
   },
   "source": [
    "**Answer.**"
   ]
  },
  {
   "cell_type": "markdown",
   "id": "9f2d5f40-2a5d-4099-b107-d2fff4736a95",
   "metadata": {
    "tags": [
     "10_min"
    ]
   },
   "source": [
    "### Probability theory and distributions (optional)\n",
    "\n",
    "Thus far, we have been concerned with calculating statistical values which give insight into the data we already have; i.e., we have been taking a more *empirical* approach. However, we often have to be forward-looking and also predict the likelihood of future events, which are more *theoretical* in nature. We had a sampling of this in Exercise 4, but here we will talk more in detail about distributions and some of the basic theories around them.\n",
    "\n",
    "Suppose we were to plot the distribution of BMIs for the smokers in our dataset — that would give us a histogram. But a histogram is entirely based on a limited sample of past data and doesn't allow us to directly make predictions about the general smoker population, *independent of our specific dataset*. To do this, we need a **probability density function (PDF)**, which is a theoretical construct that helps us compute the probability of where any randomly chosen smoker's BMI would fall and which is not strictly beholden to the limits of our dataset (caveat: In order to use a PDF as an aid for inference, i.e., to make general claims about a population using data from a sample, we need to pair it with some other techniques that make sure that the sample is representative of the whole).\n",
    "\n",
    "Notice that we didn't say that the PDF can directly tell us the probability that a randomly chosen smoker's BMI would be exactly a given value, say, 30. This is because BMI is a *continuous* value rather than a *discrete* value; it can take on any decimal value, so the probability that a person's BMI is *exactly* 30 is pretty much zero. It's virtually guaranteed that what we think is a 30 BMI is actually a 29.99 BMI, or a 30.01 BMI, or even a 30.001 BMI. Either way, finding a person with a BMI of exactly 30 is like trying to find a unicorn."
   ]
  },
  {
   "cell_type": "markdown",
   "id": "b5085e2f-a037-40ab-85e2-852c14fcc4d3",
   "metadata": {
    "tags": [
     "5_min"
    ]
   },
   "source": [
    "### Area under the curve (optional)\n",
    "\n",
    "Because of this, it makes more sense to compute the probability that a smoker's BMI lies within a certain range, say, between 29 and 31. The PDF is perfectly made for this - specifically, if we plot the PDF on a standard 2-dimensional coordinate plane (with an $x$-axis and $y$-axis), this probability is the area of the region that lies under the PDF and above 0 (the $x$-axis), with $x$ values between 29 and 31. For those familiar with calculus, this is called the **area under the curve**.\n",
    "\n",
    "One interesting consequence of this property of the PDF is that the total area under the PDF and above the $x$-axis, with no limits on what the $x$ values can be, has to be 1 (because the probability of an event has to lie between 0 and 1).\n",
    "\n",
    "One of the most famous distributions is the **normal distribution**, for which the mean, median, and mode are all equal and symmetric around the median. This distribution has a high peak in the center and tapers off towards the left and right ends."
   ]
  },
  {
   "cell_type": "markdown",
   "id": "0ff66beb-60cb-43f7-a2f2-bf035390c29c",
   "metadata": {
    "tags": [
     "10_min"
    ]
   },
   "source": [
    "### Z-scores (optional)\n",
    "\n",
    "An ideal normal distribution looks like this:\n",
    "\n",
    "![\"A normal curve\"](data/images/normal.png)\n",
    "\n",
    "As you can see, there are some vertical lines overlaid on the curve. These represent rules of thumb that are *very* helpful to remember:\n",
    "\n",
    "* Approximately 68% of samples in a normal distribution fall within one standard deviation of the mean\n",
    "* Approximately 95% of samples in a normal distribution fall within two standard deviations of the mean\n",
    "* Approximately 99.7% of samples in a normal distribution fall within three standard deviations of the mean\n",
    "\n",
    "It is common practice to refer to a data point's number of standard deviations from the mean as its **$z$-score**.\n",
    "\n",
    "If we relate this back to our discussion about the area under the curve, the above rules of thumb can be interpreted as:\n",
    "\n",
    "* The area under the normal distribution PDF and above the $x$-axis, with a $z$-score between -1 and 1 is approximately 0.68.\n",
    "* The area under the normal distribution PDF and above the $x$-axis, with a $z$-score between -2 and 2 is approximately 0.95.\n",
    "* The area under the normal distribution PDF and above the $x$-axis, with a $z$-score between -3 and 3 is approximately 0.997.\n",
    "\n",
    "It is common in statistics to consider values that have a $z$-score lower than -2 and greater than 2 as \"extreme\" and relatively rare. This represents 2.5% at the lower end of the distribution and 2.5% at the upper end of the distribution. \n",
    "\n",
    "To calculate the $z$-score for a value, you subtract the mean from the value and divide that product by the standard deviation:\n",
    "\n",
    " $$\\displaystyle z-score = \\frac {\\textrm{(value - mean) } } {\\textrm{standard deviation}}$$\n",
    "\n",
    "Standard deviation is calculated in Excel using `STDEV()`. If we wanted to see how an insurance charge of $5,300$ compares to the population, we would first calculate the mean charge $13,270.42$, the standard deviation as $12,110.01$, and then we could calculate the $z$-score like this:\n",
    "\n",
    "$${5300 - 13270.42 \\over 12110.01} = -.66$$\n",
    "\n",
    "The negative z-score tells us that $5,300$ is below the average insurance charge by 0.66 standard deviations. Note: $z$-score is not appropriate for charges because the data are not normally distributed. It is only used as an example to demonstrate the formula.\n",
    "\n",
    "To learn more about $z$-scores, click [here.](https://www.statisticshowto.com/probability-and-statistics/z-score/)"
   ]
  },
  {
   "cell_type": "markdown",
   "id": "814bb220-b2d1-4a5a-a631-2c3cec9f72a6",
   "metadata": {
    "tags": [
     "6_min"
    ]
   },
   "source": [
    "### Exercise 6 (optional):\n",
    "\n",
    "Assume for now that the distribution of BMIs is perfectly normal. Compute the following:\n",
    "\n",
    "1. What is the probability that a person in this dataset has a BMI of more than 30 (the threshold for obesity)? A rough estimate is fine. Explain your reasoning.\n",
    "2. What is the probability that a person in this dataset has a BMI of more than 37?\n",
    "3. What are the BMI values for a $z$-score of -2 and a $z$-score of 2?\n",
    "\n",
    "**Hint**: look at the z-score distribution above for reference."
   ]
  },
  {
   "cell_type": "markdown",
   "id": "b100b2c0-1b09-4943-a2a9-5f0814bd4ed0",
   "metadata": {
    "tags": [
     "ans_st"
    ]
   },
   "source": [
    "**Answer.**"
   ]
  },
  {
   "cell_type": "markdown",
   "id": "ddb5a8ec-ac69-4121-9d2c-c7d3b0160236",
   "metadata": {
    "tags": [
     "2_min"
    ]
   },
   "source": [
    "## Conclusions\n",
    "\n",
    "From our analysis, we have seen that smokers pay substantially higher fees than non-smokers. Fees for smokers are also strongly correlated with BMI, particularly above the threshold for obesity. It seems that smoking is more common in males than females and is particularly prevalent in the Southeast region, which could account for the higher median charge in that region."
   ]
  },
  {
   "cell_type": "markdown",
   "id": "42cf3169-bb9b-4119-ad39-ba8c3baa7c75",
   "metadata": {
    "tags": [
     "4_min"
    ]
   },
   "source": [
    "## Takeaways\n",
    "\n",
    "In this case, you saw that by analyzing historical data to understand the trends within it, we could use those trends and some theoretical understanding of probability and statistics to predict the likelihood of future events. Key points include:\n",
    "\n",
    "1. Summary statistics can be used to quickly indicate where the \"center\" of a dataset is or how spread out the dataset is.\n",
    "3. We can investigate correlations between variables. This is especially useful during exploratory data analysis and when (as you will see in future cases) building models that predict the value of one variable of interest based on several others.\n",
    "3. The probability density function allows us to move from the fully empirical world of histograms, which are an imperfect and limited representation of the entire population, to modeling and inferring characteristics of that population. The area under the PDF between two specific $x$-values $a$ and $b$ gives the probability that a randomly chosen sample from that population will have an $x$-value for that variable between $a$ and $b$.\n",
    "4. The normal distribution is a particularly special PDF that is perfectly symmetrical and has its mean, median, and mode all equal. It is a pretty good fit for many natural phenomena."
   ]
  },
  {
   "cell_type": "markdown",
   "id": "a4407b01-9926-4eff-bdce-c52626bbf5d4",
   "metadata": {},
   "source": [
    "## Attribution\n",
    "\n",
    "\"Strong--weak--no-correlation\", V. Atanassova, 10 March 2010, Creative Commons Attribution 3.0 Unported license, https://commons.wikimedia.org/wiki/File:Strong--weak--no-correlation.png  \n",
    "\"Standard deviation diagram\", M.W. Toews, 7 April 2007, Creative Commons Attribution 2.5 Generic license, https://commons.wikimedia.org/wiki/File:Standard_deviation_diagram.svg"
   ]
  }
 ],
 "metadata": {
  "c1_recart": "7.54.0-57c20131aabc1dc2a8c675852d80a7da",
  "kernelspec": {
   "display_name": "Python 3 (ipykernel)",
   "language": "python",
   "name": "python3"
  },
  "language_info": {
   "codemirror_mode": {
    "name": "ipython",
    "version": 3
   },
   "file_extension": ".py",
   "mimetype": "text/x-python",
   "name": "python",
   "nbconvert_exporter": "python",
   "pygments_lexer": "ipython3",
   "version": "3.9.7"
  }
 },
 "nbformat": 4,
 "nbformat_minor": 5
}
