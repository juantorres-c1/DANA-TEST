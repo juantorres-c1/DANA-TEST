{
  "cells": [
    {
      "cell_type": "markdown",
      "metadata": {
        "id": "80772a37-398f-4d98-8006-d84099a62d5f"
      },
      "source": [
        "# Welcome to the wonderful world of data!"
      ]
    },
    {
      "cell_type": "markdown",
      "metadata": {
        "id": "b048bb6c-d636-4650-a92f-3f16daf76aa7"
      },
      "source": [
        "## Introduction\n",
        "\n",
        "Over the past few decades, there have been astronomical advances in computing power and device interconnectivity. It has reached the point where we can harness the power of a vast quantity of data to make better decisions faster. Over the last 5 years or so, the field of work dedicated to doing all that’s needed to make this happen has become what is now known as **data science**.\n",
        "\n",
        "Data science is booming at the moment, with many opportunities for innovation and job placement across industries. But who exactly is a \"Data Scientist\"? What do they do in day-to-day life? What tools do they use?\n",
        "\n",
        "### \"Data science\" is a misnomer\n",
        "\n",
        "First things first - **the VAST majority of jobs that leverage data skills are NOT \"Data Scientist\" jobs**. This means that the term \"data science\" is a misnomer. Job families such as \"Data Analyst\", \"Data Engineer\", and \"Business Intelligence Analyst\" (among others) have significantly more job openings than \"Data Scientist\" while still leveraging data skills to a considerable extent. In fact, a large number of \"Data Scientist\" jobs are misclassified and would fit better under one of the other three job families mentioned above. The figure below shows the difference in the type of tasks and tools used among Data Scientists, Data Analysts, Data Engineers and Business Analysts\n",
        "\n",
        "![Job Differences](data/images/Job_Differnces.png)\n",
        "\n",
        "Regardless, all of these jobs fall under the general umbrella of **data professionals**. A data professional is someone who combines knowledge across 3 main disciplines in some combination (the exact combination will depend on the job family):\n",
        "\n",
        "* **Math & Statistics (mainly statistics).** We need the skills of analysis & modeling, which is the art of deducing and representing things about the world using logical principles. Assorted mathematical knowledge is sometimes necessary or very helpful here.\n",
        "* **Computer Science.** We need the skill of coding or programming, which is the practice of writing instructions that a computer can understand to bring our analysis & modeling to life.\n",
        "* **Business Expertise.** We need this in order to guide our analysis & modeling and to act on the results of it correctly.\n",
        "\n",
        "\n",
        "![Venn](data/images/venn.png)"
      ]
    },
    {
      "cell_type": "markdown",
      "metadata": {
        "id": "1490a0a5-4d67-4d95-9bc5-f0b1cefcd97d"
      },
      "source": [
        "## Tools of a data professional\n",
        "\n",
        "The cases in the pre-foundational program will guide you through the very basics of the Computer Science discipline. By the end of these four weeks, you should be able to create a basic program from end to end using the Python programming language.\n",
        "\n",
        "After the pre-foundational program, you will continue to build on these Computer Science skills and learn much more about the Math & Statistics discipline. Business & Domain Expertise can only be gained through experience and the study of specific problems, so you must count on your own motivation and curiosity!\n",
        "\n",
        "Let's begin with the very basic Computer Science tools of a data professional."
      ]
    },
    {
      "cell_type": "markdown",
      "metadata": {
        "id": "411a9c84-b0e7-4b7e-844a-1c2b963b4be4"
      },
      "source": [
        "### The programming language\n",
        "\n",
        "In order to code something for our computer to do, we must communicate with it in a language that both we and the computer can understand. This common language is known as a **programming language**. A programming language translates instructions readable by a human into instructions readable by the computer, commonly known as **machine code**.\n",
        "\n",
        "Programming languages have some things in common with languages like English or Spanish. For example (and this is very important!), they are (or really should be) understandable by humans. Similar to English or Spanish, they have rules on how they should be used (i.e., spelling, grammar, syntax).\n",
        "\n",
        "However, programming languages are much more strict in enforcing these rules than human languages are. If the rules of a programming language are not followed exactly, your program won’t **compile**, which means that the computer was not able to translate your instructions into machine code. On the flip side, the fact that they are strict makes it easier for a group of people to read and work on code together (a huge boon as great things are often created by teams) and makes what the code does unambiguous.\n",
        "\n",
        "There are many, many programming languages, but for this program and for most data work out there, there is one king above all...\n",
        "\n",
        "### Enter Python\n",
        "\n",
        "The programming language of choice for data work today is **Python**. (There are others such as R, Scala, or Julia, but they are much further behind in market share and in the amount of functionality they offer for data work.)\n",
        "\n",
        "![Python](data/images/python.png)\n",
        "\n",
        "\n",
        "Python is great for three important reasons:\n",
        "\n",
        "* It is easy to learn\n",
        "* It is easy to read (many other programming languages are not!)\n",
        "* It is **open-source**, which means that it is free to use and, even better - other people in the Python community constantly add more functionality to the language for free!\n",
        "\n",
        "When you are going to code a program, you almost never start from scratch - you usually use code that was built by someone else beforehand that does a certain thing. For example, if I want to write a program that analyzes data and needs to find the average of a set of numbers, I don’t need to write the code that finds the average myself! Since it is a common problem, it’s likely that someone else already created code specifically for that purpose. I can then download that functionality from the Internet, import it into my program, and use it without much hassle.\n",
        "\n",
        "Such functionalities written by other people and usable by anyone in a language are called **libraries** or **packages**. Python has libraries for anything you can think of. For the previous example, there’s the `numpy` library, which contains functionality for numerous math-heavy computations. You want to visualize your data through plots? You can use `matplotlib`, it will enable you to plot different kind of charts such as scatter plots, bar plots and much more. You want something for interacting with Excel files? You can use `openpyxl`.\n",
        "There is something for everything - at the moment there are over 200,000 Python packages publicly available."
      ]
    },
    {
      "cell_type": "markdown",
      "metadata": {
        "id": "64e04276-19c0-4c1c-8b6c-aa0425f37c06"
      },
      "source": [
        "### The IDE\n",
        "\n",
        "You might have noticed that the file you are currently reading lives inside a \"container\" called **Jupyter**. What's the big deal with Jupyter?\n",
        "\n",
        "To understand this, we must first understand what an **Integrated Development Environment (IDE)** is. An IDE is the main tool you’ll be looking at when writing code. Code files are actually nothing more than text files and could just as well be written in Microsoft Word, Notepad, or any other text editor. But none of those basic text editors provide other essential coding functionalities, like checking if you wrote a keyword in the wrong location or allowing you to actually run your code immediately to test if it works.\n",
        "\n",
        "This means that IDEs are essentially text editors on steroids, with functionality that greatly assists the coding process. One of the most popular ones for Python and data work is Jupyter because it does something almost no other IDE allows - it lets you write and run code alongside standard text (similar to combining a Word document with a code file)!\n",
        "\n",
        "### Jupyter\n",
        "\n",
        "This ability is what makes Jupyter very special for prototyping projects, testing solutions, and creating deliverables that include not only code but also graphs, text, and explanations. Remember when we said that performing data analysis required not only coding but also leveraging domain knowledge? One of the most important parts of data analysis, if not the most important, is explaining your results to others, and Jupyter makes this very easy\n",
        "\n",
        "It does this through a file format called a **Jupyter notebook**. That's the kind of file you're looking at right now! To create a Jupyter notebook file, start from the Jupyter File Explorer, which popped up immediately after you launched it. Navigate to the folder you want to create your new file in, click on the \"File -> New -> Notebook\" button in the upper-left and then select \"Python (Pyodide)\":\n",
        "![Creating New Files](data/images/new_notebook.png)\n",
        "\n",
        "This will create a new, empty notebook file. Go ahead and create one with any name you want. The newly created file will automatically open up in your browser as well."
      ]
    },
    {
      "cell_type": "markdown",
      "metadata": {
        "id": "afa6584f-62fa-4b21-bb9b-18acb4a7fb04"
      },
      "source": [
        "## Cells"
      ]
    },
    {
      "cell_type": "markdown",
      "metadata": {
        "id": "f3c1b58e-8aea-463f-96bf-5a24b47855fb"
      },
      "source": [
        "You will see a mostly empty screen, with one line that says `In [ ]:`. This line is known as a code cell:\n",
        "![Empty File](data/images/empty.png)\n",
        "\n",
        "\n",
        "Jupyter Notebooks have a building block called a **cell**. Cells can be one of several types, but the two most important ones are **code cells** and **Markdown cells**. Code cells, like the one you have in your empty file, let you write and run code in the notebook. Markdown cells, like the one you are reading right now, let you place formatted text (and other non-code elements, like the image above) in the notebook.\n",
        "\n",
        "Below you will find a code cell that calculates the sum of two numbers and prints the result to the screen. While Markdown cells only have text, code cells have 2 parts. The first part shows the code itself, and the second part shows what the code prints out after running it (click the code block below and then hit `Ctrl+Enter`on your keyboard):"
      ]
    },
    {
      "cell_type": "code",
      "execution_count": null,
      "metadata": {
        "id": "fffaa51e-ba5a-4f74-9f1a-b51dd425cde8"
      },
      "outputs": [],
      "source": [
        "result = 3 + 4\n",
        "print(f\"The result of 3 plus 4 is {result}\")"
      ]
    },
    {
      "cell_type": "markdown",
      "metadata": {
        "id": "88fa7456-01d1-4c73-9955-74bb86a61c3e"
      },
      "source": [
        "One cool thing about code cells is that you can edit them and run them again right away without hassle. For example, try changing the value 3 to 5 in the code cell above, and then press `Ctrl+Enter` to run it. The text below it should change accordingly!"
      ]
    },
    {
      "cell_type": "markdown",
      "metadata": {
        "id": "51c9c3c7-0ce5-4c12-a209-24c7bb7d0ce7"
      },
      "source": [
        "### Editing and creating cells\n",
        "\n",
        "You can readily convert a code cell to a Markdown cell and vice versa. The paragraph below the following image contains some code, but it is sitting in a Markdown cell, so the code won't run. In order to change it to a code cell, just double-click on it, and in the drop-down menu at the top, change the option from Markdown to Code. Then press `Ctrl+Enter` to run it."
      ]
    },
    {
      "cell_type": "markdown",
      "metadata": {
        "id": "d49a8690-89b0-4075-9e0d-82a4b4825d89"
      },
      "source": [
        "![Change Cell Type](data/images/changeCell.png)"
      ]
    },
    {
      "cell_type": "markdown",
      "metadata": {
        "id": "7482b002-cdbc-425f-a2ea-e5e791739777"
      },
      "source": [
        "text1 = 'This is a Code Cell '\n",
        "\n",
        "text2 = 'and Jupyter Notebooks are amazing!'\n",
        "\n",
        "finalText = text1+text2\n",
        "\n",
        "print(finalText)"
      ]
    },
    {
      "cell_type": "markdown",
      "metadata": {
        "id": "a7323d1d-0375-4ee9-8bed-3d4df98b4598"
      },
      "source": [
        "You should now be able to see text below the code cell showing a complete phrase. You can go ahead and edit the components of the phrase to make the code print something different!\n",
        "\n",
        "You can also create and delete cells - in the toolbar at the top left; there is a \"+\" sign and a scissors sign. The \"+\" sign creates a new Code cell immediately below the cell which you have currently selected, then you can change it to a Markdown cell if needed. The scissors sign deletes the cell which you have currently selected.\n",
        "\n",
        "There are many other useful buttons in the top toolbar - such as copy, paste, or reorder cells. All of these actions have a corresponding keyboard shortcut. By far, the most important shortcut is `Ctrl+S`, which saves your work. Make sure you use it often! For a full list of shortcuts, go [here](https://towardsdatascience.com/jypyter-notebook-shortcuts-bf0101a98330).\n",
        "\n",
        "Some of the most useful shortcuts include:\n",
        "* `b` - create a new cell below the current cell\n",
        "* `a` - create a new cell above the current cell\n",
        "* `c` - copy the current cell\n",
        "* `v` - paste a copied cell\n",
        "* `dd` - delete the current cell\n",
        "* `m` - turn the current cell into a markdown cell\n",
        "* `y` - turn the current cell into a code cell\n",
        "\n",
        "Note: You need to press the escape key before using these shortcuts."
      ]
    },
    {
      "cell_type": "markdown",
      "metadata": {
        "id": "5ff711d9-c578-4963-90d2-81207e252a85"
      },
      "source": [
        "### Formatting Markdown cells\n",
        "\n",
        "Markdown cells can be formatted to look prettier and more understandable. Markdown is not exclusive to Jupyter Notebooks - in fact it is used in some form for a lot of the text you see on web pages!\n",
        "\n",
        "There are many ways to format your text. For example, the titles in this notebook are each formatted to give them their emphasis and size - you can double-click on them to check! To see all the formatting options at your disposal, check out this [cheat sheet](https://www.markdownguide.org/cheat-sheet/).\n"
      ]
    },
    {
      "cell_type": "markdown",
      "metadata": {
        "id": "c8f1a47f-8392-47c3-9fdd-0ad43e96d1a1"
      },
      "source": [
        "### Controlling the execution of code cells\n",
        "\n",
        "There are four other buttons in the main menu that we want to call out. \"Run\" runs the code in the current cell, which is pretty straightforward (`Ctrl+Enter` also runs the current cell).\n",
        "\n",
        "The black square button is a \"Stop\" sign and interrupts the **kernel** (think of the kernel as the \"engine\" that runs your code in the Jupyter environment). What this means is that it interrupts any code execution that may be going on at that moment. It's important to know this button exists because sometimes you may write a program that gets stuck and takes much longer than anticipated or is clearly doing something entirely different from what you expected. In that case, you can stop your code prematurely with this button.\n",
        "\n",
        "The circular arrow button restarts the kernel. This is a more extreme version of stopping the kernel. When you run code, the kernel saves your results and variables as you work. When you stop it, those variables are still there. But when you restart it, all the variables are lost, and you go back to a blank slate. Sometimes stopping the kernel is not enough to resolve certain issues, so it becomes necessary to restart it altogether.\n",
        "\n",
        "The last button with the 2 arrows facing forward runs all cells in the notebook sequentially. After some time, there will be many cells in your notebook, and you don't want to go through and run each one manually. This button allows you to run everything in one click!"
      ]
    },
    {
      "cell_type": "markdown",
      "metadata": {
        "id": "cb748291-c19c-4fc9-8f2c-ddf790545935"
      },
      "source": [
        "## Exercise 1\n",
        "\n",
        "Please select and copy the following line of code `Ctrl+C`, paste it into a code cell `Ctrl+V` and execute it `Ctrl+Enter`.\n",
        "\n",
        "```python\n",
        "import math\n",
        "```"
      ]
    },
    {
      "cell_type": "markdown",
      "metadata": {
        "id": "0db3bdb8-561f-4c2f-afd6-e92590fc7bb1"
      },
      "source": [
        "**Answer.**"
      ]
    },
    {
      "cell_type": "code",
      "execution_count": null,
      "metadata": {
        "id": "c0910fa9-96e7-43bf-9784-7250c2a10991"
      },
      "outputs": [],
      "source": [
        "import math"
      ]
    },
    {
      "cell_type": "markdown",
      "metadata": {
        "id": "571efe65-043a-424c-9a44-99007719f914",
        "tags": []
      },
      "source": [
        "## Exercise 2\n",
        "\n",
        "Please select and copy the following line of code `Ctrl+C`, paste it into a code cell `Ctrl+V` and execute it `Ctrl+Enter`.\n",
        "\n",
        "```python\n",
        "x = math.pi\n",
        "print(x is True)\n",
        "print(x is False)\n",
        "print(x is not True or False)\n",
        "print(x is x)"
      ]
    },
    {
      "cell_type": "code",
      "execution_count": null,
      "metadata": {
        "id": "d4eadbdb-519b-47da-bafa-cd2e0a0a4ef1",
        "outputId": "aa93050d-f02f-4e62-c263-d9b1d866848f"
      },
      "outputs": [],
      "source": [
        "x = math.pi\n",
        "print(x is True)\n",
        "print(x is True)\n",
        "print(x is not True or False)\n",
        "print(x is x)"
      ]
    },
    {
      "cell_type": "markdown",
      "metadata": {
        "id": "040886c8-d39b-42d7-b9e7-6d3046cd5284"
      },
      "source": [
        "## Conclusion\n",
        "\n",
        "In this case, you learned what it means to be a data professional, the tools we need from computer science to be an effective data professional, and what a programming language and an IDE are.\n",
        "\n",
        "You also learned the basics of how to open, create, and edit Jupyter Notebook files and saw your very first snippets of code.\n",
        "\n",
        "In the coming weeks, you may occasionally get frustrated. This is normal. Learning to code is anything but trivial, even if it is Python. But this is a rewarding path, both personally and financially. In no time, you will begin to realize the great doors that programming can open for you as a professional and as a human being.\n",
        "\n",
        "And if you ever feel lost, please do go to your TAs, instructors, and other fellows. We pride ourselves on being open to teaching and helping anyone who needs a push to get to the next step. Soon enough, it will be you who is teaching others."
      ]
    }
  ],
  "metadata": {
    "c1_recart": "7.63.0-57c20131aabc1dc2a8c675852d80a7da",
    "colab": {
      "provenance": []
    },
    "kernelspec": {
      "display_name": "Python (Pyodide)",
      "language": "python",
      "name": "python"
    },
    "language_info": {
      "codemirror_mode": {
        "name": "python",
        "version": 3
      },
      "file_extension": ".py",
      "mimetype": "text/x-python",
      "name": "python",
      "nbconvert_exporter": "python",
      "pygments_lexer": "ipython3",
      "version": "3.8"
    }
  },
  "nbformat": 4,
  "nbformat_minor": 5
}