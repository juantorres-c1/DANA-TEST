{
  "metadata": {
    "c1_recart": "7.64.0-57c20131aabc1dc2a8c675852d80a7da",
    "kernelspec": {
      "name": "python",
      "display_name": "Python (Pyodide)",
      "language": "python"
    },
    "language_info": {
      "codemirror_mode": {
        "name": "ipython",
        "version": 3
      },
      "file_extension": ".py",
      "mimetype": "text/x-python",
      "name": "python",
      "nbconvert_exporter": "python",
      "pygments_lexer": "ipython3",
      "version": "3.10.6"
    }
  },
  "nbformat_minor": 4,
  "nbformat": 4,
  "cells": [
    {
      "cell_type": "markdown",
      "source": "# Adding nutritional labels to foods\n\n**Learning goal:** In this case, you will learn what Python functions are and how to create and execute them.\n\nYou and your classmates are conducting a research project to determine how precise food manufacturers' claims about the nutritional contents of their products are. You have already gathered data for about 500 products in your local supermarket, and now you want to label each one according to its calorie density and sugar and fat content.\n\nFor this, you want to use labeling criteria that the FDA (Food and Drug Administration) has defined for the country:\n\n| Category \t| Label        \t| Criteria                                     \t|\n|----------\t|--------------\t|----------------------------------------------\t|\n| Calories \t| Calorie free \t| Less than 5 calories per serving             \t|\n| Calories \t| Low calorie  \t| Less than 40 calories per serving            \t|\n| Fat      \t| Fat free     \t| Less than 0.5 grams of total fat per serving \t|\n| Fat      \t| Low fat      \t| 3 grams or less of total fat per serving     \t|\n| Sugar    \t| Sugar free   \t| Less than 0.5 grams of sugar per serving     \t|\n\nSource: [American Diabetes Association](https://www.diabetes.org/healthy-living/recipes-nutrition/reading-food-labels) and [Institute of Medicine](https://www.ncbi.nlm.nih.gov/books/NBK209851/).\n",
      "metadata": {}
    },
    {
      "cell_type": "markdown",
      "source": "## Adding calorie labels\n\nLet's start easy. When writing long pieces of code, it is always a good idea to split the task into smaller units to make things more manageable. This is the decision tree for the calorie labels:\n\n![Calories tree](data/images/calories_tree.png)\n\nLet's write code that implements this decision tree and prints the resulting label. We will use this sample food to test our code (nutritional facts taken from the [US Department of Agriculture](https://fdc.nal.usda.gov/fdc-app.html#/food-details/362759/nutrients)):\n\n~~~python\nbanana = {\n    \"serving_size\":28, # In grams\n    \"calories\":94.1, # In Kcal\n    \"fat\":300, # In milligrams\n    \"sodium\":1.96, # In milligrams\n    \"sugar\":16, # In grams\n    \"fiber\":0.504 # In grams\n}\n~~~",
      "metadata": {}
    },
    {
      "cell_type": "code",
      "source": "banana = {\n    \"serving_size\":28,\n    \"calories\":94.1,\n    \"fat\":300,\n    \"sodium\":1.96,\n    \"sugar\":16,\n    \"fiber\":0.504\n}\n\nif banana[\"calories\"] < 5:\n    calories_label = \"CALORIE FREE\"\nelif banana[\"calories\"] < 40:\n    calories_label = \"LOW CALORIE\"\nelse:\n    calories_label = None\n\nprint(calories_label)",
      "metadata": {},
      "execution_count": null,
      "outputs": []
    },
    {
      "cell_type": "markdown",
      "source": "Banana doesn't have a label because it has too many calories and therefore doesn't qualify as `CALORIE FREE` or `LOW CALORIE`. Its label is a `None` Python object.",
      "metadata": {}
    },
    {
      "cell_type": "markdown",
      "source": "### Exercise 1\n\nDo the same for this [food](https://fdc.nal.usda.gov/fdc-app.html#/food-details/1103276/nutrients):\n\n~~~python\ntomato = {\n    \"serving_size\":125,\n    \"calories\":22.5,\n    \"fat\":250,\n    \"sodium\":6.25,\n    \"sugar\":3.29,\n    \"fiber\":1.5\n}\n~~~",
      "metadata": {}
    },
    {
      "cell_type": "markdown",
      "source": "**Answer.**",
      "metadata": {
        "tags": [
          "ans_st"
        ]
      }
    },
    {
      "cell_type": "markdown",
      "source": "Since a whole tomato (~125g) has more than 5 calories and less than 40 calories, it should be labeled as `LOW CALORIE`.\n\nDid you notice that you had to rewrite parts of the code to match the new food? If you were to do this for a watermelon, then you would have to modify those parts of the code again. Imagine having to do that for the whole supermarket!\n\nThis is where **functions** can be useful. When you have a bit of code that you find yourself using again and again, with only small adjustments each time, you might be better off just writing a function. Functions are great if you want to generalize your code so that it can be used in a variety of situations. For instance, we can turn this code:\n\n~~~python\nif banana[\"calories\"] < 5:\n    calories_label = \"CALORIE FREE\"\nelif banana[\"calories\"] < 40:\n    calories_label = \"LOW CALORIE\"\nelse:\n    calories_label = None\n\nprint(calories_label)\n~~~\n\ninto a function so that you don't have to change `banana` for the name of the food every time you run it. You can have a placeholder instead, like this:",
      "metadata": {}
    },
    {
      "cell_type": "code",
      "source": "def assign_calories_label(food):\n    if food[\"calories\"] < 5: # We changed \"banana\" to \"food\"\n        calories_label = \"CALORIE FREE\"\n    elif food[\"calories\"] < 40: # We changed \"banana\" to \"food\"\n        calories_label = \"LOW CALORIE\"\n    else:\n        calories_label = None\n    print(calories_label)",
      "metadata": {},
      "execution_count": null,
      "outputs": []
    },
    {
      "cell_type": "markdown",
      "source": "Let's talk about some of the code here. You'll notice that much of the code is the same as before, but \"banana\" has been replaced with \"food\", and there is a new line `def assign_calories_label(food):` that precedes everything else. This line is known as the **function declaration statement**. It always starts with the restricted keyword **`def`**, followed by what we wanted to name the function (in this case, `assign_calories_label`), then a collection of **arguments** enclosed in parentheses, and finally ends with a colon. In this case, `food` is the only argument, though later, you will see functions with multiple arguments, as well as some with no arguments.\n\nYou can think of arguments as if they're part of a conversation. For example, the function name `assign_calories_label` is the topic of conversation, and the argument `food` is the discussion item. So if we were talking about assigning a calorie label and you said, \"what is the label for a banana?\" then \"banana\" becomes the argument you **passed** into our conversation (you *pass* arguments to functions).\n\nIf you run the cell above, you won't see anything get printed. Why is that? Well, a function is meant to generalize our code, but without giving it information about the specific situation we want to use it for, it won't know what to do for us! That's the purpose of the argument(s) (in this case, `food`) - they are placeholders that we are allowed to replace with information specific to our current situation so that the function can give us the relevant output. In this case, the specific information (the type of food) we are dealing with is a tomato, so let's replace \"food\" with \"tomato\" and run:",
      "metadata": {}
    },
    {
      "cell_type": "code",
      "source": "assign_calories_label(tomato)",
      "metadata": {},
      "execution_count": null,
      "outputs": []
    },
    {
      "cell_type": "markdown",
      "source": "### Exercise 2\n\nTest the `assign_calories_label()` function using `banana` instead.",
      "metadata": {}
    },
    {
      "cell_type": "markdown",
      "source": "**Answer.**",
      "metadata": {
        "tags": [
          "ans_st"
        ]
      }
    },
    {
      "cell_type": "markdown",
      "source": "So you see that when you call a function, you don't have to modify the code of the function itself, but only the arguments you pass (the standard way of saying that you executed a function is that you **called** it).\n\nIt is important to note that the code inside the function **must be indented** in order for it to work correctly.\n\nIt is also a good idea to add a **[`docstring`](https://www.programiz.com/python-programming/docstrings)** to your function. Docstrings are useful because if you come back to your code in the future, you will be able to easily see in plain English what each function was meant to do. Docstrings are placed inside triple quotes (`\"\"\"`). `assign_calorie_labels` with a suitable docstring could look like this:",
      "metadata": {}
    },
    {
      "cell_type": "code",
      "source": "def assign_calories_label(food):\n    \"\"\"\n    Assign a calorie label according to FDA rules.\n    \n    Arguments:\n    food: A Python dictionary that has at least a \"calories\" key.\n    \n    Outputs:\n    No outputs. This function simply prints the label.\n    \"\"\"\n    if food[\"calories\"] < 5:\n        calories_label = \"CALORIE FREE\"\n    elif food[\"calories\"] < 40:\n        calories_label = \"LOW CALORIE\"\n    else:\n        calories_label = None\n    print(calories_label)",
      "metadata": {},
      "execution_count": null,
      "outputs": []
    },
    {
      "cell_type": "markdown",
      "source": "### Exercise 3\n\nRun `help(assign_calories_label)`. What do you see?",
      "metadata": {}
    },
    {
      "cell_type": "markdown",
      "source": "**Answer.**",
      "metadata": {
        "tags": [
          "ans_st"
        ]
      }
    },
    {
      "cell_type": "markdown",
      "source": "So far, our function prints something to the screen, but it doesn't have any **outputs**; i.e., it does not produce anything of value to the computer. (The computer does not consider something displayed on the screen to be an output, even though that definition may seem natural to us since we are visual creatures - this is a very important distinction to remember!)\n\nTo have our function return an output, we can use the `return` keyword. This new version of our function does not immediately print the label but returns it as a string object instead (or `None` if no label was applicable):",
      "metadata": {}
    },
    {
      "cell_type": "code",
      "source": "def assign_calories_label(food):\n    \"\"\"\n    Assign a calorie label according to FDA rules.\n    \n    Arguments:\n    food: A Python dictionary that has at least a \"calories\" key.\n    \n    Outputs:\n    calories_label: A string, either \"CALORIE FREE\", \"LOW CALORIE\" or None\n    \"\"\"\n    if food[\"calories\"] < 5:\n        calories_label = \"CALORIE FREE\"\n    elif food[\"calories\"] < 40:\n        calories_label = \"LOW CALORIE\"\n    else:\n        calories_label = None\n    return calories_label",
      "metadata": {},
      "execution_count": null,
      "outputs": []
    },
    {
      "cell_type": "markdown",
      "source": "So now we can save the label values to variables to print them later on:",
      "metadata": {}
    },
    {
      "cell_type": "code",
      "source": "tomato_calorie_label = assign_calories_label(tomato)\nbanana_calorie_label = assign_calories_label(banana)",
      "metadata": {},
      "execution_count": null,
      "outputs": []
    },
    {
      "cell_type": "code",
      "source": "print(\"The label for tomato is\", tomato_calorie_label)\nprint(\"And the label for banana is\", banana_calorie_label)",
      "metadata": {},
      "execution_count": null,
      "outputs": []
    },
    {
      "cell_type": "markdown",
      "source": "This diagram summarizes the different parts of a user-defined function definition in Python:\n\n![Def](data/images/def_anatomy.png)",
      "metadata": {}
    },
    {
      "cell_type": "markdown",
      "source": "## Adding fat labels\n\nNow our function is ready to add calorie labels. Let's do the same for fat content. This is the decision tree:\n\n![Fat decision tree](data/images/fat_tree.png)",
      "metadata": {}
    },
    {
      "cell_type": "markdown",
      "source": "### Exercise 4\n\nCreate the function `assign_fat_label()` to implement this decision tree.",
      "metadata": {}
    },
    {
      "cell_type": "markdown",
      "source": "**Answer.**",
      "metadata": {
        "tags": [
          "ans_st"
        ]
      }
    },
    {
      "cell_type": "markdown",
      "source": "Let's test this out with `tomato`:",
      "metadata": {}
    },
    {
      "cell_type": "code",
      "source": "print(assign_fat_label(tomato))",
      "metadata": {},
      "execution_count": null,
      "outputs": []
    },
    {
      "cell_type": "markdown",
      "source": "Well, this is surprising! Tomatoes are supposed to be `FAT FREE`, aren't they? So, what happened here?\n\nLet's inspect our data:",
      "metadata": {}
    },
    {
      "cell_type": "code",
      "source": "tomato",
      "metadata": {},
      "execution_count": null,
      "outputs": []
    },
    {
      "cell_type": "markdown",
      "source": "We know that a whole tomato weighs about 125 grams, but here we see that it has 250 units of fat! These certainly can't be grams!\n\nIt turns out our dataset has fat content *in milligrams*, not grams. Thus, 250mg is equivalent to 0.25 grams. That's more like it!\n\nFor our conditionals to work properly, we need to convert the fat content to grams. Since 1 gram is equal to 1,000 milligrams, we need to divide the number by 1,000.",
      "metadata": {}
    },
    {
      "cell_type": "markdown",
      "source": "### Exercise 5\n\nModify the `assign_fat_label()` function to use grams instead of milligrams in the conditionals.",
      "metadata": {}
    },
    {
      "cell_type": "markdown",
      "source": "**Answer.**",
      "metadata": {
        "tags": [
          "ans_st"
        ]
      }
    },
    {
      "cell_type": "markdown",
      "source": "Let's test our modified function:",
      "metadata": {}
    },
    {
      "cell_type": "code",
      "source": "print(assign_fat_label(tomato))",
      "metadata": {},
      "execution_count": null,
      "outputs": []
    },
    {
      "cell_type": "markdown",
      "source": "This is the expected output! We're done here.",
      "metadata": {}
    },
    {
      "cell_type": "markdown",
      "source": "## Adding sugar labels\n\nFor sugar, our task is more straightforward: If there are less than 0.5 grams of sugar per serving, it is `SUGAR FREE`. If there are more than 0.5 grams, then the food receives no label. In code, this is:",
      "metadata": {}
    },
    {
      "cell_type": "code",
      "source": "def assign_sugar_label(food):\n    \"\"\"\n    Assign a sugar label according to FDA rules.\n    \n    Arguments:\n    food: A Python dictionary that has at least a \"sugar\" key.\n    \n    Outputs:\n    sugar_label: A string, either \"SUGAR FREE\" or None\n    \"\"\"\n    if food[\"sugar\"] < 0.5:\n        sugar_label = \"SUGAR FREE\"\n    else:\n        sugar_label = None\n    return sugar_label",
      "metadata": {},
      "execution_count": null,
      "outputs": []
    },
    {
      "cell_type": "markdown",
      "source": "Let's test a banana, which is definitely *not* sugar free (its label should be `None`):",
      "metadata": {}
    },
    {
      "cell_type": "code",
      "source": "print(assign_sugar_label(banana))",
      "metadata": {},
      "execution_count": null,
      "outputs": []
    },
    {
      "cell_type": "markdown",
      "source": "## Putting it all together\n\n### Exercise 6\n\nThink of a strategy to make these three functions into a single function while writing the least amount of redundant code. Don't write any code yet - just note what course of action you would follow.",
      "metadata": {}
    },
    {
      "cell_type": "markdown",
      "source": "**Answer.**",
      "metadata": {
        "tags": [
          "ans_st"
        ]
      }
    },
    {
      "cell_type": "markdown",
      "source": "## Anonymous functions\n\nWe generally don't want to create functions that we won't be using often, so we can use **anonymous functions** instead. These are just like ordinary \"`def`\" functions, only that you don't have to give them a name (that's why they're anonymous). To tell Python that some piece of code is going to be an anonymous function, we replace `def` with the keyword **`lambda`** and use the following syntax:\n\n~~~python\nlambda my_input: <do_something_with_my_input> # You can have more than 1 input, just separate them with commas\n~~~\n\nAnd then, to evaluate our function, we use\n\n~~~python\n(lambda my_input: <do_something_with_my_input>)(the_actual_input)\n~~~\n\nSo our anonymous version of `assign_fda_labels(food)` could be:\n\n~~~python\nlambda food: [assign_calories_label(food), assign_fat_label(food), assign_sugar_label(food)]\n~~~\n\nand to actually run it, we would do this:",
      "metadata": {}
    },
    {
      "cell_type": "code",
      "source": "(lambda food: [assign_calories_label(food), assign_fat_label(food), assign_sugar_label(food)])(banana)",
      "metadata": {},
      "execution_count": null,
      "outputs": []
    },
    {
      "cell_type": "markdown",
      "source": "Generally speaking, you want to use `lambda` functions when you have extremely readable code that you intend to use only once. You should not use `lambda` if you plan to copy and paste your code again and again in different parts of your script, especially if that code is not immediately readable.",
      "metadata": {}
    },
    {
      "cell_type": "code",
      "source": "",
      "metadata": {},
      "execution_count": null,
      "outputs": []
    }
  ]
}