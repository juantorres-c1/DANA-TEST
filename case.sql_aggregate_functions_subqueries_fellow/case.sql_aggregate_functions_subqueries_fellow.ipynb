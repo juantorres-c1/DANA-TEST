{
  "metadata": {
    "c1_recart": "7.58.0-57c20131aabc1dc2a8c675852d80a7da",
    "celltoolbar": "Tags",
    "kernelspec": {
      "display_name": "SQLite",
      "language": "sql",
      "name": "SQLite"
    },
    "language_info": {
      "codemirror_mode": "sql",
      "file_extension": "",
      "mimetype": "",
      "name": "sql",
      "version": "3.32.3"
    }
  },
  "nbformat_minor": 4,
  "nbformat": 4,
  "cells": [
    {
      "cell_type": "markdown",
      "source": "# Evaluating employee performance",
      "metadata": {
        "tags": [
          "61_min",
          "110_min"
        ]
      }
    },
    {
      "cell_type": "markdown",
      "source": "## Goals\n\nIn this case you will learn how to use aggregate functions to summarize data within a database. You will also develop a greater understanding of the structure of databases and how to use this structure to perform more advanced queries across multiple tables.",
      "metadata": {
        "tags": [
          "1_min"
        ]
      }
    },
    {
      "cell_type": "markdown",
      "source": "## Introduction\n\n**Business Context.** You are an HR representative at a large financial services firm that sells a diverse set of products. In order to make these sales, the firm relies on a call center where sales agents make calls to current as well as prospective customers. The company would like you to analyze their data about the performance of their sales agents and determine who to promote/keep and who to cut.\n\n**Business Problem.** You are tasked with answering the following question: **\"Which of our sales agents are the most/least productive?**\n\n**Analytical Context.** he data has been given to you as an SQLite database with 3 tables: `agent`, `call`, and `customer`.\n\nThe case is sequenced as follows: you will (1) practice the fundamentals of databases and SQL; (2) use SQL `SELECT` statements to identify potentially interesting customers; and (3) use SQL aggregation functions to compute summary statistics on your agents and identify the most/least productive ones.",
      "metadata": {
        "tags": [
          "4_min"
        ]
      }
    },
    {
      "cell_type": "markdown",
      "source": "## Initializing the SQLite database\n\nRun the following cell to load our database into the notebook:\n\n**Note:** Don't worry about learning this code; it isn't SQL!",
      "metadata": {
        "tags": [
          "2_min"
        ]
      }
    },
    {
      "cell_type": "code",
      "source": "%FETCH https://amzn-dana.workspace-lite.correlation-one.com/case.sql_aggregate_functions_subqueries_jlite_fellow/files/data/call_center_database2.db call_center_database2",
      "metadata": {},
      "execution_count": null,
      "outputs": []
    },
    {
      "cell_type": "code",
      "source": "%LOAD call_center_database2 RW",
      "metadata": {},
      "execution_count": null,
      "outputs": []
    },
    {
      "cell_type": "markdown",
      "source": "### Taking a look at the database\n\nThe following is an [**entity-relationship diagram (ERD)**](https://en.wikipedia.org/wiki/Entity%E2%80%93relationship_model) that shows our three tables, their components, and the connections between the tables. Diagrams like the one below are useful for conceptualizing how our database looks from a top-down perspective. As you can see the [primary keys](https://www.w3schools.com/sql/sql_primarykey.ASP) (`AgentID` and `CustomerID`) from the `agent` and `customer` table exist as [foreign keys](https://www.w3schools.com/sql/sql_foreignkey.ASP) on the `call` table. Note the call table also has its own primary key, `CallID`:\n\n![ERDiagram](data/images/ERDiagram.png)\n\nIt's important to know exactly how our tables interact with one another to perform more advanced queries. For instance, SQL uses these connections in order to properly execute `JOIN` operations. Use this diagram as a reference throughout the case to help visualize how our data is structured.",
      "metadata": {
        "tags": [
          "5_min"
        ]
      }
    },
    {
      "cell_type": "markdown",
      "source": "## Using aggregate functions\n\nIn order to evaluate our agents' performance, we'll need the help of [**aggregate functions**](https://mode.com/sql-tutorial/sql-aggregate-functions/). An aggregate function allows you to perform a mathematical calculation on a set of values in your database, then returns a single value that summarizes those values in some way. The following are the most commonly-used SQL aggregate functions:\n\n1. **`COUNT()`** - counts rows in a specified column or table\n2. **`SUM()`** - calculates the sum of values\n3. **`AVG()`** - calculates the average of a set of values\n4. **`MIN()`** - finds the minimum value in a set of values\n5. **`MAX()`** - finds the maximum value in a set of values\n\nIn order to get a general idea of how our agents are performing, let's get a tally of how many calls were made vs. the total products sold. We'll be using `COUNT()` to get the total number of rows in the calls table and `SUM()` to add up all the 1s in the `ProductSold` column:",
      "metadata": {
        "tags": [
          "6_min"
        ]
      }
    },
    {
      "cell_type": "code",
      "source": "SELECT COUNT(*) AS TotalCalls, SUM(ProductSold) AS TotalSales \nFROM call",
      "metadata": {},
      "execution_count": null,
      "outputs": []
    },
    {
      "cell_type": "markdown",
      "source": "Note that we used `COUNT(*)` in this example. `COUNT(*)`, like `SELECT *`, can be read as \"Count all\" and counts every row in a table without needing to specify a column.",
      "metadata": {}
    },
    {
      "cell_type": "markdown",
      "source": "### Evaluating our agents individually\n\nIt looks like our agents have a ~21% success rate as a group, but this doesn't tell us anything about their individual performance. To look at success rate on an agent-by-agent basis, we'll need a new keyword: **`GROUP BY`**. [`GROUP BY`](https://www.w3schools.com/sql/sql_groupby.asp) combines rows that have the same value in a particular column and is often used in conjunction with aggregate functions to perform multiple mathematical operations at once. The syntax is:\n~~~sql\n\nGROUP BY column_name\n\n~~~\n\nwhere the rows are grouped by identical values within the column specified. For instance, using `GROUP BY Occupation` on the customer table will create a single row for each unique occupation. Any aggregate function will then be applied to the values in the rows that were grouped together for a particular occupation.\n\n`GROUP BY` is used after `SELECT` and any conditionals such as `WHERE` or `CASE...END`, but before `ORDER BY`.",
      "metadata": {
        "tags": [
          "4_min"
        ]
      }
    },
    {
      "cell_type": "markdown",
      "source": "### Exercise 1\n\nWrite a query that outputs each agent's name, the total calls made, and their total successful sales. Order the new query by agent name in ascending order.",
      "metadata": {
        "tags": [
          "6_min"
        ]
      }
    },
    {
      "cell_type": "markdown",
      "source": "**Answer.**",
      "metadata": {
        "tags": [
          "ans_st"
        ]
      }
    },
    {
      "cell_type": "markdown",
      "source": "We could now divide the number of successful sales by the total number of calls for each agent to determine each agent's success rate, but there's an easier way to get this information with the `AVG()` function. Since our `ProductSold` column is either a 0 or 1, taking the average will give us the percentage success rate for each of our agents. Let's try using `AVG()` on the `ProductSold` column and order this new column from largest to smallest (descending):",
      "metadata": {
        "tags": [
          "7_min"
        ]
      }
    },
    {
      "cell_type": "code",
      "source": "SELECT agent.name, COUNT(*) AS TotalCalls, AVG(call.ProductSold) AS SuccessPercent FROM call\nJOIN agent ON agent.AgentID = call.AgentID\nGROUP BY agent.name\nORDER BY SuccessPercent DESC",
      "metadata": {},
      "execution_count": null,
      "outputs": []
    },
    {
      "cell_type": "markdown",
      "source": "We can see that in terms of the percentage of calls that end in a sale, our highest-performing agent is Gloria Singh, and our lowest-performing agent is Angel Briggs. From our earlier query, we know the success rate is ~21%. Most of our agents fall within ~1% of this average, with Angel Briggs being an obvious outlier.",
      "metadata": {}
    },
    {
      "cell_type": "markdown",
      "source": "While our `SuccessPercent` metric is useful, it may not be entirely fair to judge our agents' performance entirely based on this. For instance, this metric doesn't consider whether a call was even answered or not, nor does it consider the age of the customer answering. ",
      "metadata": {}
    },
    {
      "cell_type": "markdown",
      "source": "### Exercise 2\n\nModify the query in Exercise 1 to only consider calls which the customer answered, and where the customer's age is at least 18.\n\nNote that calls answered should be marked as 1 (unanswered calls are marked as 0).\n\n**Hint:** You may want to use the **`AND`** and **`OR`** keywords.",
      "metadata": {
        "tags": [
          "10_min"
        ]
      }
    },
    {
      "cell_type": "markdown",
      "source": "**Answer.**",
      "metadata": {
        "tags": [
          "ans_st"
        ]
      }
    },
    {
      "cell_type": "markdown",
      "source": "### Exercise 3\n\nWrite a query to find the average, minimum, and maximum call duration for *each* of our agents. Include a conditional to ensure that only calls with durations greater than 0 are used.",
      "metadata": {
        "tags": [
          "8_min"
        ]
      }
    },
    {
      "cell_type": "markdown",
      "source": "**Answer.**",
      "metadata": {
        "tags": [
          "ans_st"
        ]
      }
    },
    {
      "cell_type": "markdown",
      "source": "## The `IN` keyword\n\nAnother useful tool for creating conditional statements (and a quick shorthand for the `OR` keyword) is the keyword **`IN`**. [IN](https://mode.com/sql-tutorial/sql-in-operator/) is used in the following way:\n\n~~~sql\nSELECT * FROM customer\nWHERE age IN (18,20,25,30,35)\n~~~\n\nThis would select any records where the age was 18, 20, 25, 30, *or* 35.\n\n`IN` can also use a `SELECT` statement as a parameter. For instance,\n\n~~~sql\nSELECT * FROM call\nWHERE CustomerID IN (SELECT CustomerID FROM customer)\n~~~\n\nThis would first select all of the values in the `CustomerID` column from the `customer` table and then uses that as a parameter to select all of the rows from the `call` table where one of those `CustomerID` values is present. This is especially useful if you have a column with values from multiple tables and would like your query to only select for ones that come from a single table.\n\nIn the case of our `call` table, it should only have `AgentID` values that match values from the `agent` table, but we can use the `IN` keyword to make sure. We ran a query at the start that showed we have 9,940 calls in our `call` table. Let's now write a query using `IN` to make sure all of the values in the `AgentID` column of the `call` table have a match in the `agent` table:",
      "metadata": {
        "tags": [
          "10_min"
        ]
      }
    },
    {
      "cell_type": "code",
      "source": "SELECT COUNT(*) FROM call\nWHERE AgentID IN (SELECT AgentID FROM agent)",
      "metadata": {},
      "execution_count": null,
      "outputs": []
    },
    {
      "cell_type": "markdown",
      "source": "Notice this appears to be 1 short of the number we are looking for. Let's run a clean query of the table without any conditionals to confirm:",
      "metadata": {}
    },
    {
      "cell_type": "code",
      "source": "SELECT COUNT(*) FROM call",
      "metadata": {},
      "execution_count": null,
      "outputs": []
    },
    {
      "cell_type": "markdown",
      "source": "This confirms there may be an issue with our database. A single row in the `call` table appears to not have a valid `AgentID`. If we sort the `AgentID` column by ascending values, we can see that our first row has a \"-1\" in the `AgentID` column. There is no corresponding \"-1\" on the `agent` table, so this may be a mistake. \n\nIn a real-life context, we would probably investigate further as to why this row exists and whether it needs to be deleted or modified. We would also want to re-assess the relational integrity amongst our tables. For now though, we can look at how the `IN` function can be used to perform more advanced conditional statements.",
      "metadata": {}
    },
    {
      "cell_type": "markdown",
      "source": "### Exercise 4\n\nBased on our filtered `SuccessPercent` metric from Exercise 2, we currently have a list of our top 5 employees in terms of sales:\n\n\n| Agent         | AgentID   |\n| -----------   | ----------|\n| Todd Morrow   |     3     |\n| Gloria Singh  |     6     |\n| Dana Hardy    |     9     |\n| Jocelyn Parker|     1     |\n| Agent X       |     10    | \n\nFind the ID numbers for the bottom 6 employees in terms of sales.",
      "metadata": {
        "tags": [
          "15_min"
        ]
      }
    },
    {
      "cell_type": "markdown",
      "source": "**Answer.**",
      "metadata": {
        "tags": [
          "ans_st"
        ]
      }
    },
    {
      "cell_type": "markdown",
      "source": "### Exercise 5\n\nNow use what you've learned so far to write two queries, one for our top five agents and another for the bottom six agents. Each query should show the agent's name, the total number of calls they made, and their product sales conversion percentage. Filter each query to only include calls with customers who are 35 or older and whose job contains the word \"Engineer\".",
      "metadata": {}
    },
    {
      "cell_type": "markdown",
      "source": "**Answer.**",
      "metadata": {
        "tags": [
          "ans_st"
        ]
      }
    },
    {
      "cell_type": "markdown",
      "source": "## Aliasing and the implicit `JOIN`\n\nWe've already learned how to assign a new name to a column in a query using the `AS` keyword. This operation is known as an **alias** and is useful for more than just tidying up the result of your queries (read more about aliases [here](https://www.w3schools.com/sql/sql_alias.asp)). One functional use of an alias is in what's called an *implicit* `JOIN`, which is a join statement that doesn't use the `JOIN` keyword at all. Instead it uses aliases to identify which table to query the requested information from. The syntax for an implicit `JOIN` is as follows:\n\n~~~sql\nSELECT a.column_from_table_a, b.column_from_table_b\nFROM table_a AS a, table_b AS b\nWHERE a.shared_column = b.shared_column\n~~~\n\nAs you can see, we defined the alias for each of our tables in the `FROM` statement and then referenced the alias in our requested columns by using a `.` in the `SELECT` statement, referred to as **dot notation.** We still use our `WHERE` statement to say on what column our tables are to be joined.\n\nBy putting both our requested tables in the `FROM` statement and then using our aliases, SQL can infer that we intend to `JOIN` these tables without needing to use the specific keyword.\n\nNote that \"_\" isn't part of the actual SQL syntax; it is just a way to write table names when they have spaces in them. in SQL it is best to avoid having spaces in table names, so instead of naming a table \"my table\" you should name it \"my_table\".",
      "metadata": {
        "tags": [
          "5_min"
        ]
      }
    },
    {
      "cell_type": "markdown",
      "source": "### Example 1\n\nUse an implicit `JOIN` to find the average duration of calls for *each* `agent` in the `call` table.",
      "metadata": {
        "tags": [
          "5_min"
        ]
      }
    },
    {
      "cell_type": "markdown",
      "source": "**Answer.** Shown below:",
      "metadata": {}
    },
    {
      "cell_type": "code",
      "source": "SELECT a.name, AVG(b.Duration)\nFROM agent a, call b\nWHERE a.AgentID = b.AgentID\nGROUP BY a.name",
      "metadata": {},
      "execution_count": null,
      "outputs": []
    },
    {
      "cell_type": "markdown",
      "source": "Note in this case we don't even need to use the `AS` keyword to create an alias. Using `AS` can make your code clearer for others to read, but is optional and the code will function the same either way.",
      "metadata": {}
    },
    {
      "cell_type": "markdown",
      "source": "## Subqueries\n\nIn our discussion of the `IN` keyword, we saw how we could use a set of values *or* another query within a conditional statement. Using another query within a query is formally known as a **subquery**. A [subquery](https://www.w3resource.com/sql/subqueries/understanding-sql-subqueries.php) isn't just a useful time-saver; it also helps maintain the integrity of your queries by making your queries *relational* to other values in your tables.\n\nA subquery can be a part of your `SELECT` or `FROM` statements, or as a conditional in a `WHERE` statement. It must be enclosed in parentheses and can include most of the operators of a normal query, the most notable exception being `ORDER BY`. Below is an example of a subquery for our current dataset:\n\n~~~sql\n\nSELECT name, CustomerID, age FROM customer\nWHERE age >= (SELECT AVG(age) FROM customer)\n\n~~~\n\nA subquery first executes the inner query:",
      "metadata": {
        "tags": [
          "10_min"
        ]
      }
    },
    {
      "cell_type": "code",
      "source": "SELECT AVG(age) FROM customer",
      "metadata": {},
      "execution_count": null,
      "outputs": []
    },
    {
      "cell_type": "markdown",
      "source": "It then uses this value to perform the outer query. We can plug in the number that results from the inner query into our outer query to see our result without explicitly using a subquery:",
      "metadata": {}
    },
    {
      "cell_type": "code",
      "source": "SELECT name, CustomerID, age FROM customer\nWHERE age >= 24.435\nLIMIT 15",
      "metadata": {},
      "execution_count": null,
      "outputs": []
    },
    {
      "cell_type": "markdown",
      "source": "It turns out that at this moment in time, this will give the same result. However, using a constant in place of a dynamic subquery creates significant problems down the line. For example, if even a single value in the `age` column of our `customer` table changes, that constant will no longer be valid, and our outer query will return an incorrect result. By using a subquery, we ensure that the entire query remains *relational* to our dataset and maintains integrity even when changes are made to the database.",
      "metadata": {}
    },
    {
      "cell_type": "markdown",
      "source": "### Exercise 6\n\nUse a subquery to get the name, call ID, and duration for every call where the duration is greater than the average call duration. Make sure to *exclude* calls with a `Duration` of 0 from the average calculation. Limit the results to the first 15 calls.",
      "metadata": {
        "tags": [
          "10_min"
        ]
      }
    },
    {
      "cell_type": "markdown",
      "source": "**Answer.**",
      "metadata": {
        "tags": [
          "ans_st"
        ]
      }
    },
    {
      "cell_type": "markdown",
      "source": "## Conclusions & Takeaways\n\nIn this case, you used aggregate functions to evaluate employee performance and learned how to perform more advanced queries using multiple joins and complex conditional logic. You developed a better understanding of the structure of a database and how the data amongst multiple tables connects and interacts. You also learned how to use aliases, implicit `JOIN`s, and subqueries.",
      "metadata": {
        "tags": [
          "2_min"
        ]
      }
    },
    {
      "cell_type": "markdown",
      "source": "## Appendix\n\n**Aggregate Functions**\n\n- `COUNT()` - counts rows in a specified column or table \n- `SUM()` - calculates the sum of values \n- `AVG()` - calculates the average of a set of values \n- `MIN()` - gets the minimum value in a set of values \n- `MAX()` - gets the maximum value in a set of values\n\n**New Functions**\n\n- `GROUP BY` - Combines rows with identical values, often used in combination with aggregate functions\n\n~~~sql\nSELECT SUM(value) FROM table\nGROUP BY value\n\n~~~\n\n- `WHERE ... IN` - Used as shorthand for multiple `OR` conditionals\n\n~~~sql\nWHERE column_name IN (value1, value2, ...)\nWHERE column_name IN (SELECT query)\n\n~~~\n\n- Alias - Created using the optional `AS` keyword, used in subqueries and implicit joins\n\n~~~sql\n\nSELECT a.column_from_table_a, b.column_from_table_b\nFROM table_a AS a, table_b AS b\n\n~~~\n\n- Implicit `JOIN` - A join using aliases that doesn't require the `JOIN` keyword\n\n~~~sql\n\nSELECT a.column_from_table_a, b.column_from_table_b\nFROM table_a AS a, table_b AS b\nWHERE a.shared_column = b.shared_column\n\n~~~\n\n- Subquery - A query used within another query to help maintain relational integrity of more complex queries\n\n~~~sql\n\nSELECT column FROM table\nWHERE (Select value FROM table)     \n\n~~~\n",
      "metadata": {}
    }
  ]
}