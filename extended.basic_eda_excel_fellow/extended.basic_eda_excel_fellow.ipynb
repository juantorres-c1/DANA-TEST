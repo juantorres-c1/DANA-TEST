{
  "metadata": {
    "c1_recart": "7.51.0-57c20131aabc1dc2a8c675852d80a7da",
    "kernelspec": {
      "name": "python",
      "display_name": "Python (Pyodide)",
      "language": "python"
    },
    "language_info": {
      "name": ""
    }
  },
  "nbformat_minor": 5,
  "nbformat": 4,
  "cells": [
    {
      "cell_type": "markdown",
      "source": "# How have the Olympic games' athletes changed over time?",
      "metadata": {},
      "id": "64dfc67e-3507-4819-8eb3-d8d7cc3bcec0"
    },
    {
      "cell_type": "markdown",
      "source": "## Introduction\n\n**Business Context.** You work for a company that specializes in analyzing data for a variety of clients in the sports industry. Some questions that you frequently encounter include determining if a new player is promising enough to invest money in their development, which teams are the most likely to win certain matches, what events will be the most attractive to advertisers, etc.\n\n**Business Problem.** As part of one of your projects, you have been asked to perform an exploratory data analysis of historical data to **detect patterns in the provenance, physical profile, and other characteristics of the athletes who compete in the Olympic games**. The conclusions of your analysis will help the rest of the team prepare a report for a new client who helps sports gear manufacturers find advertising opportunities.\n\n**Analytical Context.** You have scraped a dataset from the Internet, which contains data for all the Olympic games from Nagano 1998 to Rio 2016. It comprises data for 46,349 individual athletes and has 13 columns for each one of them. There are 69,847 rows instead of 46,533 rows in the `olympics_data` worksheet because some athletes have won multiple medals:\n\n* **ID**: A unique number assigned to each athlete\n* **Name**: The athlete's name\n* **Sex**: The athlete's sex\n* **Age**: The athlete's age at the moment of the games\n* **Height**: The athlete's height in centimeters\n* **Weight**: The athlete's weight in kilograms\n* **Team**: The athlete's team (country)\n* **Year**: The year\n* **Season**: The season\n* **City**: The host city\n* **Sport**: The sport the athlete competed in\n* **Medal**: The medal that the athlete won, if any (can be Gold, Silver, Bronze, or NA)\n* **Won medal?**: 1 if the athlete won a medal, 0 otherwise\n\nThe dataset can be downloaded from [this link](/extended.basic_eda_excel_jlite_fellow/files/data/olympics_fellow_rubric.xlsm).\n\n**Instructions:** For this case, you will need to submit the Excel file with your work on it.\n- Please write all your answers (formulas and text responese) in the `ANSWER` worksheet.\n- Each question will have a designated area where you can write your answer.\n- Further instructions will be given when you reach those questions.\n\n**Note:** Some individuals have competed in more than one Olympics game, which means that there are duplicate athletes. You don't need to take that into account when solving the exercises.",
      "metadata": {
        "tags": [
          "4_min"
        ]
      },
      "id": "3e3243e6-0ca1-42c2-8754-103ddf4fa7ac"
    },
    {
      "cell_type": "markdown",
      "source": "## Height, weight, and age\n\n### Exercise 1\n\n#### 1.1\n\nCalculate the average height, weight, and age of athletes in Rio 2016 across all sports.\n\n**Instructions:**   \n- Write your formulas in cell `AB8`, `AB10`, and `AB12` in the `ANSWER` tab.",
      "metadata": {
        "tags": [
          "6_min"
        ]
      },
      "id": "5cba8890-34d6-4bbd-849b-c5154a70843c"
    },
    {
      "cell_type": "markdown",
      "source": "**Answer.**",
      "metadata": {
        "tags": [
          "ans_st"
        ]
      },
      "id": "2bf9545d-8680-41a4-be58-ff72d9c2591f"
    },
    {
      "cell_type": "markdown",
      "source": "#### 1.2\n\nRepeat Exercise 1.1 but for Sydney 2000.   \nHave the averages changed noticeably?\n\n**Instructions:**  \n- Write your formulas in cells `AB51`, `AB53`, and `AB55` in the `ANSWER` tab.\n- Write your written answer in cell `AR49` in the `ANSWER` tab.",
      "metadata": {
        "tags": [
          "4_min"
        ]
      },
      "id": "d84b70b9-f26e-46b6-b9fc-fb3dc845737d"
    },
    {
      "cell_type": "markdown",
      "source": "**Answer.**",
      "metadata": {
        "tags": [
          "ans_st"
        ]
      },
      "id": "2adb5679-2a24-4284-9106-a57d3cf2adea"
    },
    {
      "cell_type": "markdown",
      "source": "### Geographic representation\n\n### Exercise 2 \n\nThis is a chart of the number of countries that participated in the games from 1998 to 2016. What can you conclude from it?\n\n![Teams per year](data/images/teams_per_year.png)\n\n**Hint:** Keep in mind that Summer and Winter games are not held in the same year. In the Winter games, the number of teams is typically lower than in the Summer games.\n\n**Instructions:**  \n- Write your written analysis in cell `X94` in the `ANSWER` tab.\n- Respond to the question with at least two sound arguments that are supported by the graph.\n- Use at least two evidence-based examples to support arguments. Your paragraph should be logical, easy to understand, and generally free of spelling errors.",
      "metadata": {
        "tags": [
          "5_min"
        ]
      },
      "id": "53df58cd-5fa7-4024-adda-3abdaf905535"
    },
    {
      "cell_type": "markdown",
      "source": "**Answer.**",
      "metadata": {
        "tags": [
          "ans_st"
        ]
      },
      "id": "307b7321-9a9c-4f73-9094-92efeabda86e"
    },
    {
      "cell_type": "markdown",
      "source": "### Exercise 3\n\nBelow are bar charts for the top 10 countries by number of athletes sent for all the games between 1998 and 2016. Examine the bar charts and look for similarities and differences in the data over the years and the seasons (Winter vs. Summer). What trends do you notice?\n\n**Instructions:**  \n- Write your written analysis in cell `X126` in the `ANSWER` tab.\n- Respond in at least three sentences. At least two claims should be made and backed with evidence from the graph to support them. Responses should be clear, with minimal spelling and grammatical errors.\n\n![1998](data/images/top_1998.png)\n![2000](data/images/top_2000.png)\n![2002](data/images/top_2002.png)\n![2004](data/images/top_2004.png)\n![2006](data/images/top_2006.png)\n![2008](data/images/top_2008.png)\n![2010](data/images/top_2010.png)\n![2012](data/images/top_2012.png)\n![2014](data/images/top_2014.png)\n![2016](data/images/top_2016.png)",
      "metadata": {
        "tags": [
          "10_min"
        ]
      },
      "id": "d707a7b2-28ea-4b8f-a32e-8196b92ac7e8"
    },
    {
      "cell_type": "markdown",
      "source": "**Answer.**",
      "metadata": {
        "tags": [
          "ans_st"
        ]
      },
      "id": "bacd2ae1-5330-4d76-ae71-51c35537479d"
    },
    {
      "cell_type": "markdown",
      "source": "## Athletes by sex\n\nThese pie charts show the number of athletes by sex in Sydney 2000 and Rio 2016:\n\n![Male and female Sydney](data/images/male_female_sydney.png)\n![Male and female Rio](data/images/male_female_rio.png)",
      "metadata": {
        "tags": [
          "1_min"
        ]
      },
      "id": "ba49a58f-e685-4d9d-988b-50e4ebe109eb"
    },
    {
      "cell_type": "markdown",
      "source": "### Exercise 4\n\n#### Exercise 4.1\n\nWe want to be more precise. How many male and female athletes were there in Rio 2016 and Sydney 2000?\n\n**Hint:** You can use the **`COUNTIFS()`** function to solve this exercise. This function works very similarly to the `COUNTA()` function, with the difference that it only counts those cells that meet a certain condition. Feel free to look this function up on the Internet!\n\n**Instructions:**  \n- Write your formulas in cell `AB159`, `AB161`, `AB166`, and `AB168` in the `ANSWER` tab.",
      "metadata": {
        "tags": [
          "10_min"
        ]
      },
      "id": "9194a1ba-6f76-4550-8f23-de7b8540fd1d"
    },
    {
      "cell_type": "markdown",
      "source": "**Answer.**",
      "metadata": {
        "tags": [
          "ans_st"
        ]
      },
      "id": "437dc2d2-77df-4e0b-a36e-1aa2d1d11a87"
    },
    {
      "cell_type": "markdown",
      "source": "#### Exercise 4.2\n\nUse Excel to calculate the ratio of $\\frac{male}{female}$ athletes in both Rio and Sydney. Has it changed?\n\n**Instructions:**   \n- Write your formulas in cell `AB210`, and `AB212` in the `ANSWER` tab.   \n- Write your written analysis in cell `AR208` in the `ANSWER` tab.",
      "metadata": {
        "tags": [
          "2_min"
        ]
      },
      "id": "bfda7ae3-52cd-4475-aafb-9ac976d8e93d"
    },
    {
      "cell_type": "markdown",
      "source": "**Answer.**",
      "metadata": {
        "tags": [
          "ans_st"
        ]
      },
      "id": "48b298f4-7006-442c-b599-8128246a7234"
    },
    {
      "cell_type": "markdown",
      "source": "#### 4.3\n\nComplete the table in the `sport_by_sex` tab. \n\n**Hint:** Use the **`COUNTIFS()`** function. It works like `COUNTIF()` but allows you to have more than one condition over more than one column.\n\n**Instructions:**\n- Complete Column C in the `sport_by_sex`\n- Complete Column D in the `sport_by_sex`\n- Complete Column E in the `sport_by_sex`",
      "metadata": {
        "tags": [
          "10_min"
        ]
      },
      "id": "4a6b951c-c5f6-4837-8e30-a8b4c229811b"
    },
    {
      "cell_type": "markdown",
      "source": "#### Exercise 4.4\n\nInterpret the results of your completed table from Exercise 4.3. What can you say?\n\n**Instructions:**\n- Write your written analysis in cell `X289` in the `ANSWER` tab.\n- Respond with two observations from the data and previous calculations made. Responses should be backed with evidence from the data. Write at least three sentences that are clear and concise, with few grammatical and spelling errors.",
      "metadata": {
        "tags": [
          "8_min"
        ]
      },
      "id": "2366422c-a62f-4d55-8701-35f4485058bf"
    },
    {
      "cell_type": "markdown",
      "source": "**Answer.**",
      "metadata": {
        "tags": [
          "ans_st"
        ]
      },
      "id": "8d7560c7-f1a7-4a40-bd72-ca1595de88af"
    },
    {
      "cell_type": "markdown",
      "source": "### Medals\n\n### Exercise 5\n\n#### Exercise 5.1\n\nHow many medals were awarded between 1998 and 2016, inclusive?\n\n**Hint:** Use the `Won a medal?` column.\n\n**Instructions:**  \n- Write your formulas in cell `X318` in the `ANSWER` tab.",
      "metadata": {
        "tags": [
          "6_min"
        ]
      },
      "id": "6ece7181-6389-47f2-a7b6-0ef57634ba5b"
    },
    {
      "cell_type": "markdown",
      "source": "**Answer.**",
      "metadata": {
        "tags": [
          "ans_st"
        ]
      },
      "id": "5e97ed0b-4496-4542-a3c2-33604b609dea"
    },
    {
      "cell_type": "markdown",
      "source": "#### Exercise 5.2\n\nWhat is the average number of medals won per athlete in Rio 2016?\n\n**Instructions:**\n- Write your formulas in cell `X352` in the `ANSWER` tab.\n",
      "metadata": {
        "tags": [
          "5_min"
        ]
      },
      "id": "dc1cda81-a672-429c-98dd-6cd38eb412c0"
    },
    {
      "cell_type": "markdown",
      "source": "**Answer.**",
      "metadata": {
        "tags": [
          "ans_st"
        ]
      },
      "id": "6b736b7c-510a-4119-936f-ac31bcac5aeb"
    },
    {
      "cell_type": "markdown",
      "source": "#### Exercise  5.3\n\nWhat is the average number of medals won per athlete in Sydney in 2000? Is this higher or lower than the average in Rio 2016?\n\n**Instruction:**\n- Write your formulas in cell `X386` in the `ANSWER` tab.\n- Write your written analysis in cell `AR384` in the `ANSWER` tab.",
      "metadata": {
        "tags": [
          "4_min"
        ]
      },
      "id": "70a314fe-22df-44d0-9e86-8245f6c0bead"
    },
    {
      "cell_type": "markdown",
      "source": "**Answer.**",
      "metadata": {
        "tags": [
          "ans_st"
        ]
      },
      "id": "f0bd9b8a-a017-4aae-b40e-35bc317594f8"
    },
    {
      "cell_type": "markdown",
      "source": "### Exercise 6\n\n#### Exercise 6.1\n\nComplete the table in the `medals_sport` worksheet to find the top 10 sports with the most medals per athlete in Rio 2016 and Sydney 2000.\n\n**Instruction:**\n- Complete Column C in the medals_sport worksheet\n- Complete Column D in the medals_sport worksheet\n- Complete Column E in the medals_sport worksheet\n- Sort the data to find the top 10 sports in 2016 and in 2000.  \n\n**Hint 1:** To find the top tens, you will need to use custom sort to sort multiple columns. Namely by year followed by medals per athlete. If you need help, don't hesitate to ask your LI or TA.\n\n**Hint 2:** You can use `COUNTIF()` and `SUMIF()`.\n\n**Hint 3:** Your sorted chart will appear automatically in the `ANSWER` sheet.",
      "metadata": {
        "tags": [
          "20_min"
        ]
      },
      "id": "cb738c91-61f8-4e7b-87c0-bd8d72bff34e"
    },
    {
      "cell_type": "markdown",
      "source": "**Answer.**",
      "metadata": {
        "tags": [
          "ans_st"
        ]
      },
      "id": "f1c78d91-74e6-46d6-bb4c-ba3260b9d2ed"
    },
    {
      "cell_type": "markdown",
      "source": "#### Exercise 6.2\n\nWhich sports are included in both rankings? What could be the reason that these sports show up in both tables?\n\n**Instructions:**\n\n- Compare both sorted tables to find common sports on the lists.\n- Provide reasons why these sports appear in both tables.\n- List the sports that appeared in both Tables in cell `X469` in the `ANSWER` tab.\n- Write your written analysis in cell `X473` in the `ANSWER` tab.\n",
      "metadata": {
        "tags": [
          "5_min"
        ]
      },
      "id": "63813860-3170-41e4-a67f-50a20988c829"
    },
    {
      "cell_type": "markdown",
      "source": "**Answer.**",
      "metadata": {
        "tags": [
          "ans_st"
        ]
      },
      "id": "a55e6fb6-a411-470c-a95d-9750b855e644"
    },
    {
      "cell_type": "markdown",
      "source": "## Attribution\n\n\"120 years of Olympic history: athletes and results\", June 15, 2018, Kaggle (user rgriffin, with data from www.sports-reference.com), Sports Reference [Terms of Use](https://www.sports-reference.com/termsofuse.html), https://www.kaggle.com/heesoo37/120-years-of-olympic-history-athletes-and-results",
      "metadata": {},
      "id": "3a120b8a-0c0e-492c-b590-f475d016e07f"
    }
  ]
}