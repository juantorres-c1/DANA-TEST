{
  "metadata": {
    "c1_recart": "7.63.0-57c20131aabc1dc2a8c675852d80a7da",
    "colab": {
      "provenance": []
    },
    "kernelspec": {
      "display_name": "Python (Pyodide)",
      "language": "python",
      "name": "python"
    },
    "language_info": {
      "codemirror_mode": {
        "name": "python",
        "version": 3
      },
      "file_extension": ".py",
      "mimetype": "text/x-python",
      "name": "python",
      "nbconvert_exporter": "python",
      "pygments_lexer": "ipython3",
      "version": "3.8"
    }
  },
  "nbformat_minor": 5,
  "nbformat": 4,
  "cells": [
    {
      "cell_type": "markdown",
      "source": "# Your first program!",
      "metadata": {
        "id": "85a88e60-bbb7-43f0-ac33-e7e5c3057154"
      },
      "id": "2d5b505f-5f64-4708-a29c-79706f85febd"
    },
    {
      "cell_type": "markdown",
      "source": "## Introduction\n\nYou are already familiar with what a programming language is and have seen a few snippets of code.\nNow, you are ready to write your very own program!\n\n![Hello](data/images/hello.png)\n\nIn order to do this, we will build what is known as a \"Hello World\" program, which accomplishes the most basic task possible - printing something to the Terminal. Then, we will gradually introduce more concepts like errors, comments, data types, lists, and how to run your programs from outside of a Jupyter notebook.",
      "metadata": {
        "id": "d4f0940b-41e4-4753-8d89-9a1dc1e14b1e"
      },
      "id": "9e8ad0fe-95a5-4970-af28-0752027ecc59"
    },
    {
      "cell_type": "markdown",
      "source": " <hr>\n\n## Building blocks of code\nAt its most basic level, all code is composed of four things: **values**, **variables**, **operators**, and **functions**. Every piece of software in history is made up of combinations of these four concepts.",
      "metadata": {
        "id": "08b18a2e-7c88-405c-a7db-45dda3ff7ddd"
      },
      "id": "89b7d185-34e1-45a8-bae9-16a388366df8"
    },
    {
      "cell_type": "markdown",
      "source": "### Values and variables\n\nFirst, we have **values**. A value is simply a piece of data with which we want to do something. The number 5 is a value, for example. There can be many types of values, but the two most common are numbers and strings. When a value is text, it is commonly known as being of type *string*. For example, the piece of text \"This is a cool program\" is a string value.\n\nTypes are important! The string \"5\" is not the same value as the number 5:",
      "metadata": {
        "id": "d79caaea-c3e9-4fc4-bd8b-9bc7a268a18d"
      },
      "id": "d2d9a490-c252-44b5-bd7b-08189bc951c1"
    },
    {
      "cell_type": "code",
      "source": "\"5\"",
      "metadata": {
        "id": "201bd030-31a9-44be-bca9-98f5c09e8c1b",
        "outputId": "1aceeda8-c1f7-43c0-9765-ea96e7f7116d"
      },
      "execution_count": null,
      "outputs": [],
      "id": "25f1e134-2135-4b5b-b54f-b219edb0a3ee"
    },
    {
      "cell_type": "code",
      "source": "5",
      "metadata": {
        "id": "1993ef46-4c40-4045-8055-630d2149def1",
        "outputId": "c96fe65a-ed10-4cc8-f6c7-0bcb01291a22"
      },
      "execution_count": null,
      "outputs": [],
      "id": "03f74cc6-3875-4dcd-af06-c3a08baff9c1"
    },
    {
      "cell_type": "markdown",
      "source": "Next, we have **variables**. A variable is a little holding box we can use to save a value for later in order to use it in one way or another. Typically, we say that we *assign* a *value* to a *variable*, in order to use that value later on in our program.\n\nIn the following cell, you can see an example of a variable being assigned a value. The syntax for assigning a value to a variable is simply to place the name of your variable on the left, followed by the **=** sign, followed by the value to be assigned:",
      "metadata": {
        "id": "aaf5fdcc-cdf1-41eb-b1de-d12698774378"
      },
      "id": "4523e3fa-d562-4d09-8cf6-3794e2e016df"
    },
    {
      "cell_type": "code",
      "source": "a = 5",
      "metadata": {
        "id": "0b5a2dcb-3486-4c69-a2e7-e4243451853d"
      },
      "execution_count": null,
      "outputs": [],
      "id": "2b315951-302e-4efd-acca-26cc4a7dfc68"
    },
    {
      "cell_type": "markdown",
      "source": "Above, we *assigned* the value 5 to the variable `a`. After doing this, we can then use that variable for any purpose.\n\nNotice that nothing was *printed* below the cell. This is because assigning a value to a variable only stores it to your computer's memory, but in order to show the variable you must tell your computer to do so. The act of assigning the value is distinct from the act of showing the variable itself.\n\nOne way of doing this in Jupyter notebooks is to just place the value or variable standalone in a cell, and it will be shown below it after you run it:",
      "metadata": {
        "id": "6c723a64-f492-4430-8712-7300a86eb9de"
      },
      "id": "88ac7bb8-60c3-4403-8bc4-295197ae12b7"
    },
    {
      "cell_type": "code",
      "source": "a",
      "metadata": {
        "id": "25237590-39e7-4654-83c8-0341561b9903",
        "outputId": "a9b5a304-33cd-4504-ddc8-a5aa39ec26ff"
      },
      "execution_count": null,
      "outputs": [],
      "id": "dbedd2fc-007a-492b-a572-f54f3cdf52ef"
    },
    {
      "cell_type": "markdown",
      "source": "### Exercise 1\n\nNow, let's practice! You will find the next code cell empty. In it, assign a numeric value to the variable `b`. It can be any value you want.",
      "metadata": {
        "id": "e0e660b5-26e7-481b-a7e2-7b5c18de9e8f"
      },
      "id": "3b53caed-fc7f-454d-9709-379d97dd4ec8"
    },
    {
      "cell_type": "code",
      "source": "# Replace the number 0 with any other numeric value and press Ctrl+Enter. The value should print below.\nb = 0\nb",
      "metadata": {
        "id": "3f831256-0111-410a-be4b-9be600a7ba1e",
        "outputId": "ba51b51a-6ce2-4717-f23d-e6cff8d9325e"
      },
      "execution_count": null,
      "outputs": [],
      "id": "9b181554-f289-460e-bf85-911b555143b4"
    },
    {
      "cell_type": "markdown",
      "source": "### Functions and operators\n\nThe next concept is that of **functions**. A function is a piece of code that takes an input and does something with it. During this program, you will learn how to write your own functions, but in the meantime, we will use some of the built-in functions from the Python language.\n\nA function is composed of 2 parts: its *name* and its *inputs* (inputs are also known as the function's</mark> **arguments** or **parameters**).\nIn Python, functions are usually named starting with a lowercase letter. Examples of common functions we will use are `print()`, `type()`, and `len()`, among many others.\n\nRemember our variable `a`? If we want to make it visible somewhere without having to place it at the end of our cell, we must use what is probably the most used function in Python - **`print()`**.\n\nThe `print()` function takes as input basically anything you can imagine and shows you that input in the Terminal or after running the current cell inside a notebook. When using the `print()` function to print a string, you should include the input within a single or double quotation marks.\n\nLet's print our variable `a` with a little bit of text:",
      "metadata": {
        "id": "6cacf198-afa7-4a15-a831-fd36a5702f06"
      },
      "id": "263340db-6773-4de6-88c6-166f3d8e8dea"
    },
    {
      "cell_type": "code",
      "source": "print(a)\nprint('We are now using the print function using single quotation mark!')\nprint(\"We are now using the print function using double quotation mark!\")",
      "metadata": {
        "id": "7bbb3d18-f690-4d78-be11-529fc12c576f",
        "outputId": "97daf96d-b438-486a-e385-3c1b067b7728"
      },
      "execution_count": null,
      "outputs": [],
      "id": "edfabab6-0201-4125-bf55-99d0740f6411"
    },
    {
      "cell_type": "markdown",
      "source": "Notice that if we remove the `print()` function from the first line of the above snippet and only type `a`, it doesn't work:",
      "metadata": {
        "id": "477c4468-3846-4f89-af2e-069a2e381598"
      },
      "id": "d039249a-11d9-4275-bacb-20bc96e5bfd1"
    },
    {
      "cell_type": "code",
      "source": "a\nprint('We are now using the print function!')",
      "metadata": {
        "id": "bb695fb3-3969-43c1-88df-b86fe381ff6e",
        "outputId": "7f56ccf8-f6ed-46f0-8aed-d525fa568b08",
        "tags": []
      },
      "execution_count": null,
      "outputs": [],
      "id": "04140dca-5d05-4b4c-880d-9c601266cba0"
    },
    {
      "cell_type": "markdown",
      "source": "The `print()` function is very important! Make a habit of printing your intermediate and final results frequently to ensure your program is working well. The practice of fixing problems with your program is called **debugging**, and often the `print()` function is your main tool to quickly debug both simple and complex problems.",
      "metadata": {
        "id": "645912e1-2adf-4f65-9b14-efcebd4a9058"
      },
      "id": "907dcdf9-dd9d-481b-8ec7-8e936a07cae9"
    },
    {
      "cell_type": "markdown",
      "source": "One last function that you will find useful for your projects is the `input()` function. This allows code to request an input from a user, making your code a little more dynamic (particularly when running python scripts through the Terminal). Let's give it a try:",
      "metadata": {
        "id": "e81c8604-ba05-40ea-987d-6407134d6022"
      },
      "id": "bbffe777-3443-4b41-a160-500d38c97458"
    },
    {
      "cell_type": "code",
      "source": "a = await input(\"What is your name? \")",
      "metadata": {
        "id": "38ac6104-b659-4c50-b6b2-b4b43369c962",
        "outputId": "68dcf367-fabd-457a-ad33-3a09e1cbef21"
      },
      "execution_count": null,
      "outputs": [],
      "id": "092f90d3-8f35-4b4b-97dc-eb35822ad202"
    },
    {
      "cell_type": "code",
      "source": "b = await input(\"What is your quest? \")",
      "metadata": {
        "id": "12348059-810a-4f31-a6a4-8ed214e8318a",
        "outputId": "a036aa30-45b6-411b-953a-84b056d2fd9d"
      },
      "execution_count": null,
      "outputs": [],
      "id": "57e28070-9ff2-4405-ab1b-ff5ce3927d42"
    },
    {
      "cell_type": "code",
      "source": "c = await input(\"What is your favorite color? \")",
      "metadata": {
        "id": "f49e21ad-388b-4c6b-887b-80872c58a508",
        "outputId": "cf183a7c-09ba-4da3-aa70-6d43be10e993"
      },
      "execution_count": null,
      "outputs": [],
      "id": "b606fd8c-16bf-4f66-9470-d41858ead293"
    },
    {
      "cell_type": "code",
      "source": "print(\"---------\")\n\nprint(a)\nprint(\"has the purpose of:\")\nprint(b)\nprint(\"and their favorite color is:\")\nprint(c)",
      "metadata": {
        "id": "43047678-bf56-4563-9bbc-e4274afe9b74",
        "outputId": "511fa482-307a-4e16-c781-d384f704ebc8"
      },
      "execution_count": null,
      "outputs": [],
      "id": "968f16da-1dcb-45c2-9c80-c3cbb63d2d6d"
    },
    {
      "cell_type": "markdown",
      "source": "Finally, we have **operators**. Operators are ways of making values and variables interact with each other. Some common operators are what you may know as **mathematical operators**, such as addition, multiplication, and subtraction, and there are many others.\n\n![Operators](data/images/operators.png)\n\nLet's try a couple of the basic mathematical operators:",
      "metadata": {
        "id": "e08e517d-b9bf-4902-9866-a63e60253f5c"
      },
      "id": "72999ca4-8b0d-4c17-bf5c-d7058e474fcc"
    },
    {
      "cell_type": "code",
      "source": "a = 15\nb = 4\n\nc = a*2\nd = a/2\ne = a+b\n\nprint(c)\nprint(d)\nprint(e)",
      "metadata": {
        "id": "1c0ab26f-ccbd-489a-8a12-52e6d08a44d9",
        "outputId": "806e18a9-00d9-4a70-abc8-88de5d34ebdf"
      },
      "execution_count": null,
      "outputs": [],
      "id": "34e1fc5f-028c-475d-9d5d-f4b2dcafa1ca"
    },
    {
      "cell_type": "markdown",
      "source": "You can also add more than just numbers! A quick and easy way of *joining* 2 strings is to just add them together:",
      "metadata": {
        "id": "b282d0f7-641f-4946-b491-b5af4a30e95c"
      },
      "id": "8038ca69-b07f-4a59-a680-05391464ffc6"
    },
    {
      "cell_type": "code",
      "source": "some_text = 'This is the first part '\nmore_text = 'of a complete sentence.'\ncomplete_sentence = some_text + more_text\nprint(complete_sentence)",
      "metadata": {
        "id": "941e5d33-c5a1-462b-bf56-8e5b92c8420d",
        "outputId": "f8a17378-1001-4f23-a988-c2505815049b"
      },
      "execution_count": null,
      "outputs": [],
      "id": "9a3b9f9a-1ce5-4aa9-8ef4-c612a2bdb76e"
    },
    {
      "cell_type": "markdown",
      "source": "### Exercise 2\n\nWrite a few lines of code that do the following:\n\n1. Assigns the value `a*b` to a new variable named `multiplication_result`\n2. Assigns the value `a**b` to a new variable named `exponential_result`\n2. Prints each variable using the `print()` function\n\nBelow you will see the bolded word \"Answer\" followed by a straight horizontal line. For all of our case exercises, you will see this where you're supposed to come up with an answer. Click on the cell with the horizontal line and then press `b` on your keyboard. This will create a new code cell where you can enter your answer!",
      "metadata": {
        "id": "9a1fee53-f46a-48fe-b1c2-091545aea9a6"
      },
      "id": "cc479a3b-ec7e-4d8c-abb6-7a4a7b0900ca"
    },
    {
      "cell_type": "markdown",
      "source": "**Answer.**",
      "metadata": {
        "id": "00530805-909a-40fb-b59d-1482396c8d36",
        "tags": [
          "ans_st"
        ]
      },
      "id": "1f9b16bd-657b-49b4-b775-5ca117a4195f"
    },
    {
      "cell_type": "markdown",
      "source": "<hr>\n\n##  Variable Names\nVariable names can be almost anything except for select reserved words that Python uses for its internal operations. Additionally, variables cannot start with numbers (but they can have numbers as part of them), so `a1`, `a456`, and `ind33d` are all valid variables, but `1a`, `456a`, and `3xc3ll3nt` are all invalid.\n\nSo instead of just `a` or `b`, we can name our variables almost anything we want! It's important to use descriptive variable names to make your code readable and understandable. The computer doesn't really care what you name your variables, but your colleagues, co-workers, teachers, and anyone else who might read your code sure does!\n\nIt is important to note also, that Python is case-sensitive. As shown in the table below, the variable names myvar, MYVAR and myVar are all accepted but each one corresponds to a unique variable.\n\nWhen it comes to multi-word variable names (like one for \"complete sentence\"), it is best practice to separate the words with an underscore (`_`), as using a space (` `) or a dash (`-`) in a variable name causes errors (and `completesentence` isn't easy to read). Some people like to use a convention called camel case, where you capitalize the first letter of each word, excluding the first (so it creates a bump that looks like one found on a camel). So we would have `completeSentence`. Camel case is common but using underscores is more popular and generally more readable.\n\nNotice also that we assigned the variable `complete_sentence` a value that is the result of the operation between two other variables. This is one of the most common ways of assigning values to variables. You don't need to limit the operations to two variables though - you can operate on as many variables as you want in a single line of code.\n\n![Variable Names](data/images/names_of_variables.png)",
      "metadata": {
        "id": "198c76f9-154f-4c91-bd3a-fcf12ade46e6",
        "tags": []
      },
      "id": "cd42f39c-cb10-478c-96cb-c5e0cc58e950"
    },
    {
      "cell_type": "markdown",
      "source": "The most important thing about variables is that (as their name implies) they can vary over time. That means you can overwrite their current value with any other value at any time. For example, we first assigned the number 5 to the variable `a`. But following that, we can assign it any new value, after which `a` will forget the value 5 and replace it with the latest value assignment:",
      "metadata": {
        "id": "1dcfdc46-50bb-4660-accd-aac2cc9d2561"
      },
      "id": "1676836e-e779-4b95-9f45-4cde8ba1192a"
    },
    {
      "cell_type": "code",
      "source": "print(a)\n\na = 'This is another value'\nprint(a)\n\na = 12\nprint(a)",
      "metadata": {
        "id": "1d11854d-e7c3-4479-9545-4169baa104ea",
        "outputId": "c17cdee4-41f6-49ba-be47-745a0151a08e"
      },
      "execution_count": null,
      "outputs": [],
      "id": "4042dfdb-1bd0-4cf8-bb14-b497caca57c6"
    },
    {
      "cell_type": "markdown",
      "source": "<hr>\n\n## Basics of Python syntax\n\nIn order to write more complex programs, we must acquaint ourselves with the language we will be using. The programming language of choice for data work is Python.\n\nPython is very flexible compared to other languages. Still, as with all programming languages, it has rules that must be followed *perfectly* in order for your computer to understand and execute your commands. As you practice and write more Python code, these rules will become second nature, and you won't even need to think about them anymore. We will start with the two main rules, and we will learn the rest as the program progresses:\n\n1. Python is case-sensitive\n2. There should only be a single statement per line of code\n\nSimple, isn't it? These two, along with the other rules you will soon learn, are *strict* rules. This means that they must be followed completely in order for your code to be understood by your computer.\n\nHere's an example of how Python is case-sensitive. Even though all three variables are named similarly, Python treats them as different because it is case-sensitive:",
      "metadata": {
        "id": "61e8312d-c043-4aec-9db7-9940f505503b"
      },
      "id": "0a87f5cd-c9cd-460c-b26c-1a6e192cad5c"
    },
    {
      "cell_type": "code",
      "source": "oneVar = 'This variable has one value'\nonevar = 'And this one has another'\noNeVaR = 15\nprint(oneVar)\nprint(onevar)\nprint(oNeVaR)",
      "metadata": {
        "id": "469c2700-4e46-495e-ac09-9684d3dd2ce8",
        "outputId": "158686aa-7247-4ccf-cf9a-3df8ee88daac"
      },
      "execution_count": null,
      "outputs": [],
      "id": "1e33b943-87a9-4278-b27c-bec52184d25b"
    },
    {
      "cell_type": "markdown",
      "source": "Here's an example of how Python demands that only one statement be present in each code line. Execute the following snippet of code:",
      "metadata": {
        "id": "e88a1966-45c2-46e4-9e86-aea83b6ea27c"
      },
      "id": "f5732051-e252-4df8-80e0-1654ff4d2e43"
    },
    {
      "cell_type": "code",
      "source": "print(oneVar) print(onevar) print(oNeVaR)",
      "metadata": {
        "id": "887ddbb0-cfcc-4991-8b84-73f72d440856",
        "outputId": "0a1fff5a-291c-4efc-e619-9c259fb6e1ff"
      },
      "execution_count": null,
      "outputs": [],
      "id": "786ee886-8cb8-46d0-a003-d6aebbaa02f0"
    },
    {
      "cell_type": "markdown",
      "source": "You should have gotten an error. Typically, Python is very clear with its error output. The most important part of the error message is the last line, which typically reads \"[SomeError]\" or something similar, followed by a description of what the error means.\n\nWe will see a couple more types of errors in this case. We know that this last error was a *syntax* error. Let's try to fix the syntax.",
      "metadata": {
        "id": "cdb9ade0-b870-4250-88f9-edda3d24cdb2"
      },
      "id": "3cab59ad-d142-4259-9824-a00bd78183b6"
    },
    {
      "cell_type": "markdown",
      "source": "### Exercise 3\n\nCorrect the above code so that it no longer gives a syntax error.",
      "metadata": {
        "id": "d424b846-b69c-4e4d-bf0c-b5271bccf7a8"
      },
      "id": "9e8601b9-3cd9-4860-827a-f410af26c73b"
    },
    {
      "cell_type": "markdown",
      "source": "**Answer.**",
      "metadata": {
        "id": "12fb47f2-773f-422f-838a-f1e80b38fc99",
        "tags": [
          "ans_st"
        ]
      },
      "id": "ea0f66e4-a332-4abf-a84f-bf15415155ab"
    },
    {
      "cell_type": "markdown",
      "source": "Another way you can do this is by making one `print()` function print several values at once. You can do this by separating the values with commas. All values will be printed sequentially, separated by a space:",
      "metadata": {
        "id": "f8d6dfa0-cb14-4d0a-b5c1-79409ac3663b"
      },
      "id": "5857cc0f-183b-40e0-869b-5f708b0c1a5a"
    },
    {
      "cell_type": "code",
      "source": "print(oneVar, onevar, oNeVaR)",
      "metadata": {
        "id": "e39375ce-b7c6-4151-88df-f861f61d57f1",
        "outputId": "95aabd08-0b73-4fb6-8ffd-32ab91f3a437"
      },
      "execution_count": null,
      "outputs": [],
      "id": "ed488797-cc3e-4d48-a7b4-18a85b1cca67"
    },
    {
      "cell_type": "markdown",
      "source": "<hr>\n\n## Hello World!\n\nNow that you know the basic building blocks of code and the main rules of the Python language, you are ready to write your first program.",
      "metadata": {
        "id": "cc3d7ff2-5b0a-4ee1-abdb-28da065b69f2"
      },
      "id": "e33fd0e5-b33d-42a0-9196-04ea16423743"
    },
    {
      "cell_type": "markdown",
      "source": "### Exercise 4\n\nIn the following code cell, write a program that prints the \"Hello World!\" value using the `print()` function.",
      "metadata": {
        "id": "b535051a-4ed4-4576-839e-ab6ba204f4b6"
      },
      "id": "af854620-5de9-4ba9-a4a9-65bb268787ae"
    },
    {
      "cell_type": "markdown",
      "source": "**Answer.**",
      "metadata": {
        "id": "aaf59b62-48fe-4f1e-b569-80042f8ebeae",
        "tags": [
          "ans_st"
        ]
      },
      "id": "b424f475-1dc2-4297-ae57-acae6aed82e0"
    },
    {
      "cell_type": "markdown",
      "source": "You should now be able to see \"Hello World!\" below the code cell. Congratulations! You have now officially created your first \"Hello World!\" program. If it seemed very simple, that's because it is! The truth is, Python is a marvelous language, and it's particularly good for beginners because its syntax is very understandable and short. In other programming languages, writing a \"Hello World!\" program may have taken 3, 5, or even a dozen lines. But in Python, we can do it in one!",
      "metadata": {
        "id": "25e03213-3fd1-4f90-8497-dce121c54b81"
      },
      "id": "4c03cbda-ed12-4927-9013-46622afa2ad5"
    },
    {
      "cell_type": "markdown",
      "source": "<hr>\n\n## Comments\n\nYou may have noticed how in some of the previous cells, there was some text that didn't seem to affect the code below it. This text is what is known as a **comment**. A comment is a bit of text that programmers use to describe what a snippet of code does or should do, to leave instructions for someone else (like we do in these cases), or simply to leave notes for future reference.\n\nIn Python, leaving comments is simple - just start the line with the \"#\" character, and everything after it in that line will not be executed code but just text for someone to read.\n\nThe most typical use for comments is describing what a snippet of code does. Here's an example:",
      "metadata": {
        "id": "f5e346c3-f600-4ec6-964e-b9def623b821"
      },
      "id": "6fa48a7f-8374-4082-9581-353512149b39"
    },
    {
      "cell_type": "code",
      "source": "# This program assigns numerical values to 2 different variables and finds the sum of their squared values\nx = 8\ny = 12\nr = (x**2)+(y**2) # You can also put comments next to code that will run\nprint('The sum of the squared values is')\nprint(r)",
      "metadata": {
        "id": "e7b7c11a-f6be-4a7f-9c07-eaa93765a719",
        "outputId": "d8ef258c-7897-4c54-b1ba-ca2433c587f9"
      },
      "execution_count": null,
      "outputs": [],
      "id": "a7ced282-2518-4c12-a360-55d44626e3c5"
    },
    {
      "cell_type": "markdown",
      "source": "Commenting your code is important in order to make it understandable. Complex programs can be hundreds or even thousands of lines long and commenting what everything does makes it much easier for yourself and others to read the code in the future.",
      "metadata": {
        "id": "007f91a0-089e-40ee-bcbd-2df000a34213"
      },
      "id": "c6a340e2-7da2-49d5-9374-cb756a6f9c1f"
    },
    {
      "cell_type": "markdown",
      "source": "<hr>\n\n## Data types\n\nLet's get into some finer details of how Python understands what you are telling it to do. One of the first things you learned was how to add two numbers or two strings together. But what happens if you try to add a string to a number? Run the following snippet:",
      "metadata": {
        "id": "92a67eba-b40e-476a-92c8-1e151aef7a88"
      },
      "id": "c4a4a496-6a6b-41db-8bf5-7b19a71a64f5"
    },
    {
      "cell_type": "code",
      "source": "# The variable a is holding a number\nprint(a)\n\n\n# The variable completeSentence is holding a string\nprint(complete_sentence)\n\n# What happens when we add them together?\nexperiment = a + complete_sentence\n\n# Let's print the result.\nprint(experiment)",
      "metadata": {
        "id": "0d04a9b7-c5c6-456a-9b9c-ab40f1ca566b",
        "outputId": "0f6f7d06-42a8-43d3-e0c5-4ffbe1004554"
      },
      "execution_count": null,
      "outputs": [],
      "id": "aff566c4-88d2-4cc5-927e-6b2112a79680"
    },
    {
      "cell_type": "markdown",
      "source": "You should have gotten an error - `TypeError: unsupported operand type(s) for +: 'int' and 'str'`\n\nThis error means that the `+` operator doesn't work between strings and numbers. There are two important details to pay attention to here. First, notice how it says `TypeError`, and second how it mentions 2 types, `int` and `str`. This is because in Python, every value and variable has a **type**. A type describes what can and can't be done with a particular piece of data and what that data represents.\n\nYou can find out the type of a value or variable with the **`type()`** function. It takes as input any value or variable and prints its type. There are many data types in Python, and you can even create your own! But for the moment, let's take a look at the main data types that we get out of the box.\n\n",
      "metadata": {
        "id": "a8ca940b-2bc7-4b0e-b1b4-8204e6b6f00c"
      },
      "id": "334aa6e5-170c-4673-a3f8-793e36b0727a"
    },
    {
      "cell_type": "markdown",
      "source": "### `int`\n\nThe `int` data type is used to represent integer numbers, both positive and negative. 5, -5, 1793, -78954 or any other number in which we don't need decimal values can be defined with an `int`.",
      "metadata": {
        "id": "dce9310e-5da5-48fc-8246-656e19b96f0b"
      },
      "id": "7248760e-ec28-44ff-9a81-f05ccfde672c"
    },
    {
      "cell_type": "code",
      "source": "a = 3147483648777\nprint(type(a))\nb = -36\nprint(type(b))",
      "metadata": {
        "id": "19321500-1eca-4462-aaff-4ab9d1c11ce3",
        "outputId": "b84fd472-4ce9-4f7b-fa85-aeeea5692004"
      },
      "execution_count": null,
      "outputs": [],
      "id": "95b07be0-47df-4dea-bb3d-55bfaa35d3ec"
    },
    {
      "cell_type": "markdown",
      "source": "Notice how both of those values have type `int`. Also, notice how we used the `type()` function inside the `print()` function. A function inside a function! (Cool, huh?) When you do that, the order in which the functions run is from inside out: The innermost function runs first and then the outermost.",
      "metadata": {
        "id": "f5b56e2f-8e52-434c-a5ed-17f3b4160a05"
      },
      "id": "e2ed5cd0-3fba-429f-a877-01efe2e44ce8"
    },
    {
      "cell_type": "markdown",
      "source": "### `float`\n\nSo what happens when we need numbers with decimals? In that case, we need the **`float`** data type. `float` can represent numbers with up to 16 digits of precision (this is called \"double-precision\"). Examples of `float` can be -12.5, 3/14, 7813.21629, or any other number with decimals.",
      "metadata": {
        "id": "10c1119e-4f72-4fb2-810a-d36ee752aa9d"
      },
      "id": "6ec07b68-9431-4fa6-9109-3cbfe7d810ec"
    },
    {
      "cell_type": "code",
      "source": "c = -65.452\nc_type = type(c)\nprint(c_type)\n\nd = 1/6\nd_type = type(d)\nprint(d_type)",
      "metadata": {
        "id": "0e064905-8057-4a4c-b799-c4c723a3ab43",
        "outputId": "454ab9eb-3d12-4476-b0af-db20d462eb56"
      },
      "execution_count": null,
      "outputs": [],
      "id": "0f278b69-17f2-4e5b-832b-043e457e185f"
    },
    {
      "cell_type": "markdown",
      "source": "Contrary to what we found with strings and integers, integers and floats can operate between each other with mathematical operators. The result of such an operation is always a float:",
      "metadata": {
        "id": "93b0769f-fd28-4b56-bae0-31525caecd10"
      },
      "id": "163c7672-f6a0-449d-9388-1545d8e132f3"
    },
    {
      "cell_type": "code",
      "source": "# Let's multiply b by d, which should result in -6.\nprint(b * d)\nprint(type(b*d))",
      "metadata": {
        "id": "dc2a09fb-f0f8-43eb-83df-df2a28b4ff88",
        "outputId": "335dcf43-c66a-426d-f00c-3d61fd204032"
      },
      "execution_count": null,
      "outputs": [],
      "id": "f8d6dbe4-dcc9-4051-9f3b-af2a3a302733"
    },
    {
      "cell_type": "markdown",
      "source": "Note how we didn't assign `b*d` to a variable but just used it directly inside `type()`. Operators inside functions inside functions! The same principle applies - the innermost operation is evaluated first, then the next function outwards, and then the next, and so on.",
      "metadata": {
        "id": "08a3bf07-2f85-4cd0-bec3-2a9b42971e22"
      },
      "id": "fc0aaa09-90d9-4bec-80e1-ebc3329d22f1"
    },
    {
      "cell_type": "markdown",
      "source": "### `str`\n\nThe **`str`** type represents *strings*, which are ordered lists of characters, or as we know them in more common parlance, text values! Strings have their own set of operators and functions built into Python, but we will learn more about those in future cases. For the moment, let's remember that you can add them or *join* them with the `+` operator:",
      "metadata": {
        "id": "012a0264-5a8e-4546-bc93-e112ef0462a7"
      },
      "id": "f2b9d3f6-11ce-4132-a9e1-ddab80932058"
    },
    {
      "cell_type": "code",
      "source": "more_text = 'Is this a String?'\nprint(type(more_text))\n\neven_more_text = ' Seems it is.'\n\nfinal_text = more_text + even_more_text\nprint(final_text)\nprint(type(final_text))",
      "metadata": {
        "id": "e7e3e659-22c4-4dee-a82b-d6ddf17ea220",
        "outputId": "627100e7-f2af-4a67-eb0a-c16066386795"
      },
      "execution_count": null,
      "outputs": [],
      "id": "47ecef29-56b7-43ce-a832-a431e2d02557"
    },
    {
      "cell_type": "markdown",
      "source": "You can also find the length (i.e., number of characters) of a string with the `len()` function:",
      "metadata": {
        "id": "4b364fc8-49de-473f-91c8-afa985981b61"
      },
      "id": "5f25320a-34fc-4a4d-b2ab-ec80d2c14e89"
    },
    {
      "cell_type": "code",
      "source": "len(more_text)",
      "metadata": {
        "id": "dfe45b96-70d7-4d3a-a285-90e573b2d7bf",
        "outputId": "34813888-a2b3-4868-d21a-313cf39497ec"
      },
      "execution_count": null,
      "outputs": [],
      "id": "c6102432-11ea-4760-8eab-30f9ca2fb70c"
    },
    {
      "cell_type": "markdown",
      "source": "### `bool`\nThe Boolean type, represented by **`bool`**, is one of the built in data types provided by Python. It is defined by the True or False keywords.",
      "metadata": {
        "id": "0c52cf4a-bd68-49fe-a42e-033a84a1c2fe"
      },
      "id": "003325e8-09ff-459f-977b-39e322fb91db"
    },
    {
      "cell_type": "code",
      "source": "boolean_variable = True\nanother_one = False\nprint(type(boolean_variable))\nprint(type(another_one))",
      "metadata": {
        "id": "936350b9-630f-475a-b8ff-98964b9a39ac",
        "outputId": "a5896b72-4270-4a3c-fd16-43dfe989f4df"
      },
      "execution_count": null,
      "outputs": [],
      "id": "86ada9e8-622e-42e4-b6cc-21330c42957b"
    },
    {
      "cell_type": "markdown",
      "source": "As with strings and integers, you also can't add a boolean and a string together or a boolean and an integer together. There are several operators for boolean values, which we will learn later.",
      "metadata": {
        "id": "b30576b6-4e85-48db-ab03-e334c8ffc820"
      },
      "id": "04e9b3e9-e2dc-4c7e-8851-69e7f931b42d"
    },
    {
      "cell_type": "markdown",
      "source": "### Combining and transforming data types\n\nIf we can't add strings and booleans together or integers and floats, how can we print them together in one line? One way could be using the trick we learned before, separating the values inside the `print()` function with commas. For example:",
      "metadata": {
        "id": "56fd8f45-c816-4c5d-9622-ad6fa3c94f97"
      },
      "id": "975c75ea-d083-4c7c-b33c-4aeb2337933d"
    },
    {
      "cell_type": "code",
      "source": "a = 10\nb = 5\nprint('The result of', a, 'divided by', b, 'is equal to', a/b)",
      "metadata": {
        "id": "aeb6f0d0-6bb9-4a6b-9f90-f878c0ad6432",
        "outputId": "55fccae9-481c-466a-a905-93f4881913bf"
      },
      "execution_count": null,
      "outputs": [],
      "id": "bbc6642d-0144-4c57-a6ec-8983eae43caf"
    },
    {
      "cell_type": "markdown",
      "source": "Another way is to use what is known as the **`format()`** function. This takes a string, several numbers (of any numeric type), and outputs the string using those numbers. Here's the same example as before, using the `format()` function:",
      "metadata": {
        "id": "51397e5d-1a60-4211-9e40-f583db57e8f0"
      },
      "id": "ed40768b-e651-49ce-b3a5-47455de69571"
    },
    {
      "cell_type": "code",
      "source": "a = 10\nb = 5\nprint('The result of {} divided by {} is equal to {}'.format(a, b, a/b))",
      "metadata": {
        "id": "b96a6996-8856-4d21-8cc7-aae31a540a5a",
        "outputId": "5a32b2f7-bb75-4797-cc8d-689723b5960e"
      },
      "execution_count": null,
      "outputs": [],
      "id": "766a6365-ba90-40c2-8e82-151fb88ce337"
    },
    {
      "cell_type": "markdown",
      "source": "Notice how we must place curly braces (`{}`) as placeholders for the actual numbers.\n\nSimilar to `format()`, you can also use an **`f-string`**. This works by including the letter `f` before the first quotation mark in the `print()` function. Then you put any variables you want printed inside the curly braces, and Python figures it out from there:",
      "metadata": {
        "id": "f35c21c8-031a-4f7b-8219-85ce570546db"
      },
      "id": "25d5e795-f93b-4841-b456-dfdf47cb5be4"
    },
    {
      "cell_type": "code",
      "source": "a = 10\nb = 5\nprint(f'The result of {a} divided by {b} is equal to {a/b}')",
      "metadata": {
        "id": "1138e71a-08e1-4513-8d0e-3e7caf88122b",
        "outputId": "78bf5d7a-f0fa-4ab1-9802-b06824298b9b"
      },
      "execution_count": null,
      "outputs": [],
      "id": "9a2f3a12-0906-4eaf-8bed-ed30a986ab46"
    },
    {
      "cell_type": "markdown",
      "source": "The final way is by transforming the numbers into strings and then adding them together. In order to transform a number into a string, we must use the `str()` function, which takes as input a non-string value or variable, and returns its string representation:",
      "metadata": {
        "id": "192d8c7b-b7d6-4de4-9b80-0cb13aacd4f7"
      },
      "id": "134d6215-f722-4338-b935-9fccfcfb6b8d"
    },
    {
      "cell_type": "code",
      "source": "a = 10\nb = 5\nstring_a = str(a)\nstring_b = str(b)\n\nprint(string_a)\nprint(string_b)\nprint(type(string_a))\nprint(type(string_b))\nprint('The result of ' + string_a + ' divided by ' + string_b + ' is equal to ' + str(a/b))",
      "metadata": {
        "id": "853b94d4-45cb-49de-8b67-ef8f09256623",
        "outputId": "37ef1d2e-3884-45b5-a48f-2da8420e25b5"
      },
      "execution_count": null,
      "outputs": [],
      "id": "c4ae511a-185d-47e3-9a26-a891775f70d0"
    },
    {
      "cell_type": "markdown",
      "source": "You may use any of these methods. The more *pythonic* way, which basically means the more accepted way of doing so in Python, is with the `f-string`. But they all do the same thing, and whichever way you prefer is fine. Typically the more *pythonic* way is the shortest, but not always.",
      "metadata": {
        "id": "31d37b8b-f4a1-48b8-bc62-9a1b651fce88"
      },
      "id": "98157399-6d13-44b9-a6ed-9c5b3e0de681"
    },
    {
      "cell_type": "markdown",
      "source": "The last method in which we transformed a variable from one type into another is very useful and should be kept in mind for the future. You can transform numbers into strings, but you could also transform strings with numbers in them into a numeric data type in order to operate on them. There are two main functions for this: the `int()` function, which gets as a parameter a string holding a number and returns its `int` representation, and the `float()` function, which does the same but returns a `float`. For example:",
      "metadata": {
        "id": "5a974a35-6d76-45ac-b886-b0368f0fb103"
      },
      "id": "ff176b18-8bd3-4f6d-8a92-b52a848e3c51"
    },
    {
      "cell_type": "code",
      "source": "a = '5'\nb = '12.57'\n\nint_a = int(a)\nfloat_b = float(b)\n\nprint('The multiplication of a and b is equal to', int_a*float_b)\n",
      "metadata": {
        "id": "ca89a15a-c615-43cd-a057-36497fb2bb0a",
        "outputId": "2871e3a8-b494-4013-b128-80c1d284446e"
      },
      "execution_count": null,
      "outputs": [],
      "id": "307794c0-8186-4448-930a-4d41346982da"
    },
    {
      "cell_type": "markdown",
      "source": "If you use the `int()` function with a string that has a number with decimal places, it will return an error:",
      "metadata": {
        "id": "7dfcb7fe-1222-44ab-af2d-519179f2f1c8"
      },
      "id": "29781d47-3ef1-4621-868b-c0e4798a6749"
    },
    {
      "cell_type": "code",
      "source": "int_b = int(b)",
      "metadata": {
        "id": "38f0a5df-dffb-4ff2-b3c3-f7df0f6b8a51",
        "outputId": "5b697f07-395d-4ba3-b3d9-1534d47600d0"
      },
      "execution_count": null,
      "outputs": [],
      "id": "9f0c5148-a6a1-4a7b-97ec-0354b8f47c42"
    },
    {
      "cell_type": "markdown",
      "source": "If you apply `int()` to a float, it will extract the integer part of it only (the part before the decimal point):",
      "metadata": {
        "id": "c352103e-d4b8-47de-b483-05efb7fbab6a"
      },
      "id": "6d74166b-f232-4d63-b5d8-4fcb627ca271"
    },
    {
      "cell_type": "code",
      "source": "some_float = 15.99\nprint(int(some_float))",
      "metadata": {
        "id": "0c558d0f-0185-4ac8-a117-fe2a302378a1",
        "outputId": "ee70466c-2b8e-4751-8abb-fb69d3009caa"
      },
      "execution_count": null,
      "outputs": [],
      "id": "b3418762-d04c-46e0-b24b-fb3a463bdb72"
    },
    {
      "cell_type": "markdown",
      "source": "You can also transform booleans using these same functions. The `int` representation of `True` is 1, and of `False` is 0. You can also transform them into strings with `str()`:",
      "metadata": {
        "id": "f34099a3-10cb-4913-b3d0-e9d3544ee7de"
      },
      "id": "74a31ae4-6b79-40e5-b2d9-175b5cad0842"
    },
    {
      "cell_type": "code",
      "source": "true_value = True\nprint('The value of the true_value variable is '+(str(True)))\n\nfalse_variable = False\n\nprint('True is evaluated as a {} and False is evaluated as a {} when transformed to ints'.format(int(true_value), int(false_variable)))",
      "metadata": {
        "id": "e0c9db6a-fc33-400d-a955-fcb2ab7391ed",
        "outputId": "85b7385c-9174-44d2-dc3d-f91233a91506"
      },
      "execution_count": null,
      "outputs": [],
      "id": "3a6c5b4a-bef9-4b41-95ae-2af1c3a1c214"
    },
    {
      "cell_type": "markdown",
      "source": "There is, as well, the function `bool` that transforms any data type into a boolean. It is important to know that any data type inserted into the the `bool` function results in True,  except zero results in False. The below table illsurate the result of each stated function inputing different data types: \n\n![Typecast](data/images/typecasting.png)",
      "metadata": {
        "id": "9c08175b-e7a4-4db3-8cf8-4109a72c8aa5"
      },
      "id": "5abfcb57-46ba-4532-a84f-2a027bdcadee"
    },
    {
      "cell_type": "markdown",
      "source": "### Exercise 5\n\nBelow, you will find several variables with values of different types assigned to them. Write code that:\n\n1. Transforms each variable to the correct numeric type\n2. Adds them together\n3. Assigns the result of the addition to a new variable\n4. Transforms this new variable to a string data type\n5. Prints this string along with the phrase written below",
      "metadata": {
        "id": "556908bf-331d-4876-a53b-48437cb8298a"
      },
      "id": "3f5a492b-badf-42b4-80f5-f70d6e6f287a"
    },
    {
      "cell_type": "code",
      "source": "a = True\nb = '12'\nc = '5.67'\n\n# Transform these variables to a numeric data type and add them together\n\n# Now, transform the result to a string. Make sure to assign the result to a new variable!\n\n# Finally, print your result by editing the following print statement. Do not use a new print statement!\n\nprint('The result of the addition was...')",
      "metadata": {
        "id": "7bbc34f2-4e1f-43e1-877d-8eee275f04ea",
        "outputId": "0db4a66a-1fce-44e3-a050-f30b37cb8a3e"
      },
      "execution_count": null,
      "outputs": [],
      "id": "dfce4ae1-e378-4307-8e01-99dffae4c935"
    },
    {
      "cell_type": "markdown",
      "source": "**Answer.**",
      "metadata": {
        "id": "347db01e-6a8d-4666-a052-28bb22bfd06b",
        "tags": [
          "ans_st"
        ]
      },
      "id": "1883e789-7c12-452d-9987-7b0abdafacf0"
    },
    {
      "cell_type": "code",
      "source": "bool(0)",
      "metadata": {
        "id": "d18fbdbd-9956-45e1-afd2-4fa9f54adcda",
        "outputId": "c340e628-acb5-4c0d-a534-a599ef893bf9"
      },
      "execution_count": null,
      "outputs": [],
      "id": "2bb35fa2-6c57-4200-b432-c01e9a71e4a2"
    },
    {
      "cell_type": "markdown",
      "source": "<hr>\n\n## Compound data types\n\nYou now know about the basic data types in Python. There is another important kind of data type that we have not mentioned yet - **compound types**. These data types combine several values into one single variable, hence the name *compound*.\n\nAs with the basic data types, there are several kinds of compound types. The two most common are the **list** and the **dictionary**. For this case, we will check out lists and how they work in Python.",
      "metadata": {
        "id": "6f1d653c-c372-4ffe-847a-0bc69edb5f6b"
      },
      "id": "7d4f9f4d-76ee-4f13-9c32-4704c76ed9a1"
    },
    {
      "cell_type": "markdown",
      "source": "### Lists\n\nThe list is a group of values (typically but not necessarily of the same data type) that are grouped together in a specific order. In Python, we say that a *list* has a group of *items* or *elements*.\n\nThe syntax for defining a list is simple - place your group of values inside square brackets and separate them by commas, like this:",
      "metadata": {
        "id": "3cdd2e8b-86e4-40f7-990e-3d1df1463960"
      },
      "id": "6e63c9ae-b7bf-4e1b-ba07-7c8d98c9e5a5"
    },
    {
      "cell_type": "code",
      "source": "[1,2,3,4,5,6]",
      "metadata": {
        "id": "80aee997-e3bc-4bbe-8842-8b7551e412c0",
        "outputId": "c5b2bafd-e19b-4561-8ed4-29ab37d9f29a"
      },
      "execution_count": null,
      "outputs": [],
      "id": "58a93563-fc68-42a1-8c28-8e32ac2063dc"
    },
    {
      "cell_type": "markdown",
      "source": "We just created a list with 6 `int` values. Lists can be assigned to a variable, just the same as with the basic data types:",
      "metadata": {
        "id": "b9aba43e-b8ef-499f-9a3c-c129aca6a8df"
      },
      "id": "0e1fa96e-74ad-4288-ad87-2fb2da41c0c3"
    },
    {
      "cell_type": "code",
      "source": "our_list = [1,2,3,4,5,6]\nprint(our_list)",
      "metadata": {
        "id": "5d9a7b5b-35d2-4836-bc36-b8401ff36de4",
        "outputId": "49eee9b0-9430-4952-bac3-cfbe1da4c917"
      },
      "execution_count": null,
      "outputs": [],
      "id": "482e160d-0cba-4799-a684-73b2fe9d010c"
    },
    {
      "cell_type": "markdown",
      "source": "Lists can hold any number of values, and the values can be of any type. It's considered bad form to mix more than one data type in a single list, but there are some exceptions:",
      "metadata": {
        "id": "d0f612e5-2719-4b07-be73-7f3e13851928"
      },
      "id": "61acee1f-ffb0-49db-8522-c2df98471084"
    },
    {
      "cell_type": "code",
      "source": "another_list = [True,'two',3.54, 4]\nprint(another_list)",
      "metadata": {
        "id": "a6591cec-c994-4b7a-8b99-fbb78a80dec7",
        "outputId": "67e9f7f3-7f9a-4c4f-979c-0a05296f178a"
      },
      "execution_count": null,
      "outputs": [],
      "id": "cfd01b10-eaaf-460b-b797-747145524f31"
    },
    {
      "cell_type": "markdown",
      "source": "In the following cases, you will learn about all the ways in which you can use lists.",
      "metadata": {
        "id": "359f0bd3-8adb-4771-b7df-abed4db9c3e7"
      },
      "id": "b820218f-3e54-44f2-b660-0282e92ff693"
    },
    {
      "cell_type": "markdown",
      "source": "### Dictionaries\n\nA dictionary consists of keys and values, and it is helpful to compare a dictionary to a list. Instead of the numerical indexes, as in lists, dictionaries have keys. These keys are the keys that are used to access values within a dictionary. \n\n![Dictionary vs. List](data/images/dictionary_vs_list.png)\n\nLike a list, a dictionary holds a sequence of elements. Each element is represented by a key and its corresponding value. Dictionaries are created with two curly brakets containing keys and values, separated by a colon.\n\nThe following example shows a dictionary named players_number and it includes the number of players needed per team for different kind of sports.\n\n![Dictionary Definition](data/images/dict_def.png)\n\nFor every key, there can only be one single value, however, multiplekeys can hold the same value. Keys can only be strings, numbers, or tuples, but values can be any data type.\n\nRun the following code to create the dictionary *number_of_players*: ",
      "metadata": {
        "id": "26651b9a-fe6d-468f-aaf5-efbda470c3e1"
      },
      "id": "35f7ca5d-37c4-4fa9-9339-cd9666012502"
    },
    {
      "cell_type": "code",
      "source": "players_number = { \"football\" : 11 , \"handball\": 7, \"basketball\": 6 }\nprint(players_number)",
      "metadata": {
        "id": "a092fbc0-b8b3-4b66-bd34-31caff946414",
        "outputId": "c7fbc22b-b081-44ee-b4b0-1d7f9164d864"
      },
      "execution_count": null,
      "outputs": [],
      "id": "83b2774c-cca7-47a1-8b72-f35ee0d62d71"
    },
    {
      "cell_type": "markdown",
      "source": "To check the number of players needed in a football team you have to write a code statement that starts with the name of the dictionary, then add the key of football within square brackets.\n\n![Dictionary View](data/images/dict_extract.png)\n\nExecute the following code to check:",
      "metadata": {
        "id": "a5bc3517-bc02-457c-a69a-f22cc79dc588"
      },
      "id": "79a3f572-72be-4d80-a71e-785a1eac0eb0"
    },
    {
      "cell_type": "code",
      "source": "players_number[\"football\"]",
      "metadata": {
        "id": "11c4e524-9e7f-45e8-861d-47747bbdf7fe",
        "outputId": "998b1667-8a40-4cd4-bc80-e0b5981376f1"
      },
      "execution_count": null,
      "outputs": [],
      "id": "76298e09-908c-48ad-a00c-c1ad23ce9a16"
    },
    {
      "cell_type": "markdown",
      "source": "<hr>\n\n## Creating and running non-notebook Python programs\n\nFor our last lesson, in this case, we will learn how to create non-notebook Python programs and how to use them. While Jupyter notebooks are good for learning and sharing methods and results, they are not as efficient or usable outside their own little environment.\n\nPython programs (also called **scripts**) typically have the `.py` file format. Code is nothing more than a text file that your computer can read. So, all we need to do is create a new text file and name it with the `.py` extension at the end.\n\nCreate a new text file in the same folder as this case's notebook. Name it `hello_world.py`:\n\n![New File](data/images/newFile.png)",
      "metadata": {
        "id": "6444713e-af0c-423a-84c6-89af3b22ce29"
      },
      "id": "1a383389-e49a-4c0e-9242-e1fa3db18ff5"
    },
    {
      "cell_type": "markdown",
      "source": "Now, copy the snippet of text in the following code cell and paste it inside the text file you created, then save it:",
      "metadata": {
        "id": "a1f82fe9-89b9-4193-a5ad-967635192baa"
      },
      "id": "27860775-f6c6-486e-8e8b-d7e3e88a6579"
    },
    {
      "cell_type": "code",
      "source": "print('Hello World!')",
      "metadata": {
        "id": "a9379312-b1c8-4000-92e6-540905f86a2f",
        "outputId": "1208bb90-9c37-4edf-a53b-a9792a062320"
      },
      "execution_count": null,
      "outputs": [],
      "id": "f74accfa-6bf9-4ac4-9f61-1fc739556a73"
    },
    {
      "cell_type": "markdown",
      "source": "Finally, right-click on your editor on the `hello_world.py` file, select `Create console for editor`, select the code and go to the `Run` menu, and select `Run code`\n\nYou should now see `Hello World!` on your console.",
      "metadata": {
        "id": "3405d3e6-cceb-4ae6-8b0c-a184ff4617aa"
      },
      "id": "4c21a135-2ee5-4f29-85fd-6e4b663b2ca4"
    },
    {
      "cell_type": "markdown",
      "source": "![Hello World!](data/images/helloWorld.png)",
      "metadata": {
        "id": "294dcdb4-5619-498d-8edd-a631ccea0ac8"
      },
      "id": "2a5bdd75-9544-42d5-bf52-dd7ee4955ea5"
    },
    {
      "cell_type": "markdown",
      "source": "<hr>\n\n## Conclusion\n\nIn this case, you learned about the four core building blocks of Python. You also saw a couple of the most important syntax rules in Python, the most common data types in Python, and how to transform one data type into another.\n\nYou finished by learning about lists (a compound data type) and how to create or export pure Python scripts outside of a notebook.\n\nIn the following cases, you will learn more about these data types and how to work with them. Congratulations on making it this far! Soon enough, you will be a Python expert.",
      "metadata": {
        "id": "560bcbf9-2914-4742-a8cd-59676ed70720",
        "tags": []
      },
      "id": "1df9198c-991d-472c-a9b6-257320689800"
    },
    {
      "cell_type": "markdown",
      "source": "## Attribution\n\n\"HelloWorld.svg\", Dec 13, 2009, Wooptoo, Public Domain, https://en.wikipedia.org/wiki/File:HelloWorld.svg",
      "metadata": {
        "id": "407c2391-3653-4987-9fcd-aa2322c30219"
      },
      "id": "1f8a09db-125f-400c-89b7-2590cfc9e7ee"
    }
  ]
}