{
  "metadata": {
    "c1_recart": "7.49.0-57c20131aabc1dc2a8c675852d80a7da",
    "kernelspec": {
      "name": "python",
      "display_name": "Python (Pyodide)",
      "language": "python"
    },
    "language_info": {
      "codemirror_mode": {
        "name": "python",
        "version": 3
      },
      "file_extension": ".py",
      "mimetype": "text/x-python",
      "name": "python",
      "nbconvert_exporter": "python",
      "pygments_lexer": "ipython3",
      "version": "3.8"
    }
  },
  "nbformat_minor": 4,
  "nbformat": 4,
  "cells": [
    {
      "cell_type": "markdown",
      "source": "# How can I find and summarize tennis player data?",
      "metadata": {
        "tags": [
          "62_min",
          "99_min",
          "109_min"
        ]
      }
    },
    {
      "cell_type": "markdown",
      "source": "## Goals\n\nBy the end of this case, you will be able to efficiently query data in Excel while utilizing common operations such as filtering, indexing, matching, and conditional functions. You will also learn several key Excel functions, including:\n- [VLOOKUP()](https://support.microsoft.com/en-us/office/vlookup-function-0bbc8083-26fe-4963-8ab8-93a18ad188a1)\n- [HLOOKUP()](https://support.microsoft.com/en-us/office/hlookup-function-a3034eec-b719-4ba3-bb65-e1ad662ed95f)\n- [INDEX()](https://support.microsoft.com/en-us/office/index-function-a5dcf0dd-996d-40a4-a822-b56b061328bd)\n- [MATCH()](https://support.microsoft.com/en-us/office/match-function-e8dffd45-c762-47d6-bf89-533f4a37673a)\n- [SUMPRODUCT()](https://support.microsoft.com/en-us/office/sumproduct-function-16753e75-9f68-4874-94ac-4d2145a2fd2e)\n- [SUMIF()](https://support.microsoft.com/en-us/office/sumif-function-169b8c99-c05c-4483-a712-1697a653039b)\n- [COUNTIF()](https://support.microsoft.com/en-us/office/countif-function-e0de10c6-f885-4e71-abb4-1f464816df34)\n- [COUNTIFS()](https://support.microsoft.com/en-us/office/countifs-function-dda3dc6e-f74e-4aee-88bc-aa8c2a866842)",
      "metadata": {}
    },
    {
      "cell_type": "markdown",
      "source": "## Introduction\n\n**Business Context.** You are an analyst for the United States Tennis Association (USTA) and have been tasked with analyzing the results of a local tournament that took place in 2020 in the state of Pennsylvania. Your findings could potentially be used by senior business executives to make changes to the way the tour is run in subsequent years.\n\n**Business Problem.** You need to set up an Excel workbook to **efficiently find specific information and calculate various summary statistics about the player data**.\n\n**Analytical Context.** Your boss has provided you with an Excel workbook file ([`data.xlsx`](/case.basic_queries_in_excel_fellow/files/data/data.xlsx)), which contains information for all tennis matches played during the tournament, as well as historical information about player rankings. You will work on it to calculate the required figures.",
      "metadata": {
        "tags": [
          "3_min"
        ]
      }
    },
    {
      "cell_type": "markdown",
      "source": "## It's rows and columns all the way\n\nAs you've seen in previous cases, Excel's formatting is based on intersecting rows and columns. One thing to note is that the first row is often considered special and is known as the **header row**, which gives names to the data contained in each column. The `data.xlsx` file has several sheets with information about matches, players, and counties. The `Matches` sheet holds information about particular matches, such as the player names, internal numeric IDs, the date of the match, etc.",
      "metadata": {
        "tags": [
          "2_min"
        ]
      }
    },
    {
      "cell_type": "markdown",
      "source": "### Filtering\n\n**Filters** help us manually locate data we need without altering it. In order to create filters in any given sheet, follow these steps:\n\n1. Select the whole table you want to filter. A good shortcut, if the only thing on your sheet is the table, is to click the little triangle in between column A and row 1, which will select the whole sheet:\n\n![Select all](data/images/select_all.png)\n\n2. In the Home tab of the Toolbar, click the \"Sort & Filter\" button. This will open a drop-down menu. Click on \"Filter\".\n\n![Sort and filter](data/images/sort_and_filter.png)\n\nIn the image below, we can see how to filter Column D with the header `AgeAug2021` in the `Players` worksheet so that we only keep players who are 30 years old. Doing this will add a little arrow on the header row for all columns. These arrows allow you to filter the table to find the exact data you need:\n\n![Filtering](data/images/filtering.gif)",
      "metadata": {
        "tags": [
          "3_min"
        ]
      }
    },
    {
      "cell_type": "markdown",
      "source": "### Exercise 1\n\nHow many players are exactly 18 years old?",
      "metadata": {
        "tags": [
          "5_min"
        ]
      }
    },
    {
      "cell_type": "markdown",
      "source": "**Answer.**",
      "metadata": {
        "tags": [
          "ans_st"
        ]
      }
    },
    {
      "cell_type": "markdown",
      "source": "## VLOOKUP & HLOOKUP\n\nFiltering is one way to narrow down our results; however, the process of extracting the data we want is still very manual. How can we extract this data in a more automated way and use it elsewhere?\n\nEnter the `VLOOKUP()` and `HLOOKUP()` functions. These names are short for \"Vertical Lookup\" and \"Horizontal Lookup\". Since our data is in vertical tables, we will use `VLOOKUP()`. (`HLOOKUP()` works the same as `VLOOKUP()`, just with the axes flipped, so it should be a piece of cake after this).\n\nOne example of something we can look up is the name of a player given his internal ID. Let's create a new column in the worksheet `Matches` with the name of the winner.\n\nThe `VLOOKUP()` function has three mandatory arguments and one optional argument:\n\n1. The cell containing the value we will look up to help us find more information.\n2. The table in which to look for the value. This range of cells *must* have the value we are looking for in its first column.\n3. The number of the column where we can find the value we need, counting from the first column in our range.\n4. Optionally, we can tell the function we want an exact match by putting the `FALSE` keyword at this position\n\nHere's an illustrative example:\n\n![](data/images/vlookup.png)\n\n\nNow let's walk through each of the above for our specific goal:\n\n1. The value we want to look up is contained in cell B2.\n2. For the range in which we need to look for the player name, we will use the sheet `Players`, and we will take the range of cells starting with A2 and ending with B346. Note that we start our range in column A since it is the one that contains the player IDs. We end it in column B because it contains the players' names, but we could also end it in any other column after K if we wanted data that was farther to the right.\n3. Column B contains our desired data; since column A contains our lookup value, B is the 2nd column.\n4. We want an exact match, so we use FALSE as the last argument.\n\nThus, our final formula is:\n\n```excel\n=VLOOKUP(D2,Players!$A$2:$B$346,2,FALSE)\n```\nWe can then fill the formula down and see the names of the winners of all matches:\n\n![Winners names](data/images/winner_names.png)",
      "metadata": {
        "tags": [
          "12_min"
        ]
      }
    },
    {
      "cell_type": "markdown",
      "source": "### Exercise 2\n\nCreate a new column in the `Matches` worksheet with the names of the losers of each match.",
      "metadata": {
        "tags": [
          "6_min"
        ]
      }
    },
    {
      "cell_type": "markdown",
      "source": "**Answer.**",
      "metadata": {
        "tags": [
          "ans_st"
        ]
      }
    },
    {
      "cell_type": "markdown",
      "source": "Now we know how to use `VLOOKUP()` and `HLOOKUP()` to find information in a table. But they have some limitations - first, they can only look for data in a column that is *after* the initial column in a range. And second, they will return only the first match in the range every time, so if we want the data after the first match, we are out of luck. This means `VLOOKUP()` is best suited for tables where each row has a *unique identifier*, and that identifier is in the very first column.",
      "metadata": {
        "tags": [
          "2_min"
        ]
      }
    },
    {
      "cell_type": "markdown",
      "source": "## `INDEX()` + `MATCH()`\n\nA more flexible (and all-around better) way to look up information is with the combination of the `INDEX()` and `MATCH()` functions. Using a combination of these, you can look into columns *before* the column with your initial value and look for values *beyond* the first that satisfy your set of conditions. The only downside is that these are a little harder to grasp at first, but as we progress, you will soon become comfortable with them.\n\n`INDEX()` gives you the result of a value in a range given the range and the position of the value in that range. It also works for horizontal ranges, and it even works for ranges with multiple columns and rows! Its arguments are the cell range where you can find the value and the position of the relevant cell in that range.\n\n![Index](data/images/index.gif)\n\n\nThis enables us to find the value of a particular cell in a range by looking at its position in that range. But how can we find the value of a cell if we don't know its position?\n\n`MATCH()` gets the position of any value in a horizontal or vertical range. It needs three arguments:\n\n1. The value to look for.\n2. The horizontal or vertical range in which to look for it.\n3. (Optionally) The number 0 if you want to find an exact match, or 1 if an approximate match is enough. This is important! For most cases you probably want to use 0 for an exact match.\n\n`MATCH()` will return the position of your value in the list if it exists:\n\n![Match](data/images/match.gif)\n\nNow, how do we combine these two functions in order to do a full lookup? In place of the positional arguments of `INDEX()`, we can use `MATCH()`. So, instead of telling `INDEX()` in what row to look for the cell, we let `MATCH()` find the row for us.\n\nFor instance, let's find the winner's ranking for each match:\n\n![Winner rank](data/images/winner_rank.png)\n\nThe formula we write in cell H2 is\n\n~~~plain\n=INDEX(Players!$A$2:$H$346,MATCH(D2,Players!$A$2:$A$346,0),7)\n~~~\n\nLet's break it down:\n\n* `MATCH(D2,Players!$A$2:$A$346,0)` gets the position of the value in cell D2 (the winner's ID in the `Matches` worksheet) in the `Players` worksheet.\n* `=INDEX(Players!$A$2:$H$346,<RESULT FROM MATCH>,7)` takes the row number that the `MATCH()` function generated and passes it as an argument to the `INDEX()` function, which retrieves the value in the 7th column of the `Players` worksheet (the ranking) that corresponds to that row number. Here, `<RESULT FROM MATCH>` is saying that what goes here is the result from the `MATCH()`. Enclosing text between a `<` and a `>` is a customary way of inserting comments when talking about formulas or codes in computer science. For instance, you could also say that the syntax of the `INDEX()` function is `=INDEX(<range>, <row number>, <column number>)`.",
      "metadata": {
        "tags": [
          "12_min"
        ]
      }
    },
    {
      "cell_type": "markdown",
      "source": "### Exercise 3\n\nFind all the losers' ranks.",
      "metadata": {
        "tags": [
          "7_min"
        ]
      }
    },
    {
      "cell_type": "markdown",
      "source": "**Answer.**",
      "metadata": {
        "tags": [
          "ans_st"
        ]
      }
    },
    {
      "cell_type": "markdown",
      "source": "The advantage of using this approach, with `INDEX()` and `MATCH()` instead of `VLOOKUP()`, is that we can look for values in any row or column, which means that the position of the column with the unique identifier does not matter, so it's more flexible.",
      "metadata": {}
    },
    {
      "cell_type": "markdown",
      "source": "## Summarizing data\n\nImagine we want to know how a player's age affects their chances of winning a match. We can find the answer to these questions using **aggregation functions**, which take several values and give us a single result. You have already seen some basic examples of this in previous cases with functions like `SUM()` and `AVERAGE()`.",
      "metadata": {
        "tags": [
          "2_min"
        ]
      }
    },
    {
      "cell_type": "markdown",
      "source": "Another useful function is **`SUMPRODUCT()`**. `SUMPRODUCT()` takes two ranges of the same size, calculates the product of corresponding cells in each range (i.e. the product of the first cells in each range, the product of the second cells in each range, etc.), then sums up all of these products.\n\nOne of the most common uses of this function is for finding a weighted average. You are probably familiar with weighted averages from your grade school days - your grade was divided into several deliverables, each of which had a different weight, and your final grade was decided by the weighted average of all the deliverables.\n\nThe syntax to calculate the weighted average is as follows:\n\n```excel\n=SUMPRODUCT(<range of weights>,<range to be averaged>)/SUM(<range of weights>)\n```\n\nA weighted average is different from a normal average - don't confuse them!",
      "metadata": {
        "tags": [
          "5_min"
        ]
      }
    },
    {
      "cell_type": "markdown",
      "source": "### Exercise 4\n\nFind the weighted average of the amount of winner serve points with the minutes played in each match as the weight. How do you interpret the result?",
      "metadata": {
        "tags": [
          "7_min"
        ]
      }
    },
    {
      "cell_type": "markdown",
      "source": "**Answer.**",
      "metadata": {
        "tags": [
          "ans_st"
        ]
      }
    },
    {
      "cell_type": "markdown",
      "source": "\n## Conditional Functions\n\nSometimes you will only want to average values for a particular player, a particular country, or for any other particular *condition*. **Conditional functions** allow you to do just that - you provide them conditions, and they ignore any value along a range that does not fulfill that condition.\n\n`AVERAGEIF()` is one of these functions and takes two mandatory arguments and one optional one:\n\n1. The range on which to check the criteria or condition.\n2. The condition to check.\n3. (Optional) The range on which to average. If this is not provided, then the operation is carried out on the range given in the first argument.\n\nFor example, let's use `AVERAGEIF()` to find the average duration of matches played where a player from Bradford County won. You can see the formula in cell A1 of the `AverageDuration` sheet:\n\n```excel\n=AVERAGEIF(Matches!J2:J1463,\"=Bradford County\",Matches!C2:C1463)\n```\n\nConditions are given in double quotes. If you wanted to check if the values in a range are above 5, you would type \">5\" as the condition. If you want to check if the values are less than or equal to 30, you would type \"<=30\". In the example above, we check the condition \"=Bradford County\" along column J, which holds the county code for the winner of each match. We also gave the optional third argument with column C, which holds the number of minutes in the match.",
      "metadata": {
        "tags": [
          "6_min"
        ]
      }
    },
    {
      "cell_type": "markdown",
      "source": "### Exercise 5\n\nFind the average duration in minutes for matches played where a player from Fulton County won.",
      "metadata": {
        "tags": [
          "4_min"
        ]
      }
    },
    {
      "cell_type": "markdown",
      "source": "**Answer.**",
      "metadata": {
        "tags": [
          "ans_st"
        ]
      }
    },
    {
      "cell_type": "markdown",
      "source": "More conditional functions include `SUMIF()`, `COUNTIF()`, and `COUNTIFS()`. `SUMIF()` and `COUNTIF()` have similar syntax to `AVERAEGIF()`. For `COUNTIFS()`, you can include up to 127 conditional statements! It is not necessarily good practice to do this, as it would be difficult to keep track of so many conditions in a single function. The formula is:\n\n```excel\n=COUNTIFS(criteria_range1, criteria1, criteria_range2, criteria2,…)\n```\n\nWhere the `...` represents the inclusion of additional conditions.\n\nUse this formula to calculate the number of matches that lasted longer than 120 minutes where the winner had fewer than 60 winner serve points:\n\n```excel\n=COUNTIFS(Matches!C:C,\">120\",Matches!L:L,\"<60\")\n```\n\nWhich should yield a count of `153`.",
      "metadata": {
        "tags": [
          "5_min"
        ]
      }
    },
    {
      "cell_type": "markdown",
      "source": "## Exercise 6\n\nCalculate the number of matches won by a player from Franklin County where the match lasted longer than 100 minutes and there were more than 80 winner serve points. ",
      "metadata": {
        "tags": [
          "5_min"
        ]
      }
    },
    {
      "cell_type": "markdown",
      "source": "**Answer.**",
      "metadata": {
        "tags": [
          "ans_st"
        ]
      }
    },
    {
      "cell_type": "markdown",
      "source": "## Conclusions & Takeaways\n\nIn this case, we learned how to look for information in Excel using a variety of methods like filtering and looking up data with `VLOOKUP()`, `HLOOKUP()`, and `INDEX()` + `MATCH()`.\n\nWe also learned about applying aggregation functions to our data in order to extract more meaning out of it (with functions such as `SUMPRODUCT()` and `AVERAGEIF()`).\n\n",
      "metadata": {
        "tags": [
          "4_min"
        ]
      }
    }
  ]
}