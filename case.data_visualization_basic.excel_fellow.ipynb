{
 "cells": [
  {
   "cell_type": "markdown",
   "metadata": {
    "tags": [
     "50_min",
     "99_min"
    ]
   },
   "source": [
    "# How can we clearly communicate GDP trends using visualizations?"
   ]
  },
  {
   "cell_type": "markdown",
   "metadata": {
    "tags": [
     "2_min"
    ]
   },
   "source": [
    "## Goals\n",
    "\n",
    "By the end of this case, you will have:\n",
    "\n",
    "* Learned how to select an appropriate plot type to visualize specific kinds of data\n",
    "* Learned decision-making skills to set up and present data in a professional manner"
   ]
  },
  {
   "cell_type": "markdown",
   "metadata": {
    "tags": [
     "5_min"
    ]
   },
   "source": [
    "## Introduction\n",
    "\n",
    "**Business Context.** You are an employee for GoodEconomists, an [NGO](https://en.wikipedia.org/wiki/Non-governmental_organization) that campaigns for raising living standards globally. With limited financial resources, GoodEconomists does not have a large budget for outreach and marketing. Instead, they rely on publishing content with compelling stories and excellent visuals to have their voice heard. You have been asked to work on data presentation and graphs for their upcoming report on [GDP](https://en.wikipedia.org/wiki/Gross_domestic_product) and its implications. \n",
    "\n",
    "**Business Problem.** Your manager has asked you to answer the following question: \"*How can we clearly communicate the strong correlations that GDP has to other factors?*\"\n",
    "\n",
    "**Analytical Context.** The relevant data is a pair of public files containing information on GDP for different countries. The first one is on GDP and life expectancy and is called [data/gdp_data.xlsx](/case.data_visualization_basic_jlite_fellow/files/data/gdp_data.xlsx). We also have a dataset [data/gdp_data_years.xlsx](/case.data_visualization_basic_jlite_fellow/files/data/gdp_data_years.xlsx). It is similar, but formatted differently. Each column is a year, so we can see GDP trends over time. It does not include population size and life expectancy data."
   ]
  },
  {
   "cell_type": "markdown",
   "metadata": {
    "tags": [
     "5_min"
    ]
   },
   "source": [
    "## Taking a look at the data\n",
    "\n",
    "Open the Excel files so you can follow along and create these visualizations. Let's take a look at our tables to get an idea of what our data looks like. \n",
    "\n",
    "**Note:** These tables contain a lot of records, so only a summary portion will be shown below."
   ]
  },
  {
   "cell_type": "markdown",
   "metadata": {},
   "source": [
    "First, we have `gdp_data.xlsx`:\n",
    "\n",
    "![GDPData](data/images/case_4.5_gdp_data_2.png)\n",
    "\n",
    "\n",
    "\n",
    "\n",
    "\n",
    "\n",
    "\n",
    "\n"
   ]
  },
  {
   "cell_type": "markdown",
   "metadata": {},
   "source": [
    "We can extract quite a lot of information from this table:\n",
    "\n",
    "1. **Country:** The name of the country \n",
    "2. **Continent:** The name of the continent \n",
    "3. **lifeExp:** The average lifespan of a person in that country in years \n",
    "4. **pop**: The population of the country \n",
    "5. **gdpPercap:** The GDP per capita, or the average economic output of each person in the country "
   ]
  },
  {
   "cell_type": "markdown",
   "metadata": {},
   "source": [
    "Upon opening the file `gdp_data.xlsx`, the data is not formatted. \n",
    "\n",
    "In order to format it as a table, select the area to the left of the `A` column marker and above the `1` row marker so that all the data is highlighted. Then select `Format As Table` to see the available options. In order to make the table look like the above, choose the second option from the left in the top row under `Medium`.\n",
    "\n",
    "![format_as_table](data/images/format_as_table.png)\n",
    "\n",
    "Formatting it as a table allows you to easily filter the data. For instance, you can select the down caret symbol `⌄` to the right of `continent`, and then set it to show only the countries in `Asia`.\n",
    "\n",
    "You can also easily sort the table by population, life expectancy, etc.\n",
    "\n",
    "Note: In some versions of Excel, this could create a table out of the unused columns too. If that happens, undo the change and select only the columns you want in your table.\n",
    "\n",
    "![filtered_view](data/images/filtered_view.png)"
   ]
  },
  {
   "cell_type": "markdown",
   "metadata": {},
   "source": [
    "We also have `gdp_data_years.xlsx`:\n",
    "\n",
    "![GDPDataYears](data/images/case_4.5_gdp_data_years.png)\n",
    "\n"
   ]
  },
  {
   "cell_type": "markdown",
   "metadata": {},
   "source": [
    "We don't see all the columns here because the table is too large, but we can sum up the information from this table as follows:\n",
    "\n",
    "* **Country Name:** The name of the country \n",
    "* **Country Code:** The three-letter code for the country \n",
    "* **1960 - 2019:** The GDP value in USD for each year from 1960 through 2019 (**Note:** Only 1960-1963 is shown here, the rest of the table is the same but continues through 2019.)"
   ]
  },
  {
   "cell_type": "markdown",
   "metadata": {
    "tags": [
     "10_min"
    ]
   },
   "source": [
    "## Data & chart types\n",
    "\n",
    "Nearly any dataset that you want to present or visualize will consist of variables that can be thought of in different ways. Most variables can be thought of either as **categorical** or **numerical** variables. For example, in our dataset, the variable `continent` is a categorical variable because we can categorize countries by which continent they belong to, yet this categorization isn't inherently comparable - we don't know which order the continents go in (though we could invent a way, such as by total population or surface area).\n",
    "\n",
    "We also have the variable `population`, which is numerical. We can clearly order countries by population.\n",
    "\n",
    "While there are hundreds of different charts and variations of charts, the main charts we will focus on are:\n",
    "\n",
    "* [Table](https://en.wikipedia.org/wiki/Table_(information))\n",
    "* [Bar chart](https://en.wikipedia.org/wiki/Bar_chart)\n",
    "* [Pie chart](https://en.wikipedia.org/wiki/Pie_chart)\n",
    "* [Scatter plot](https://en.wikipedia.org/wiki/Scatter_plot)\n",
    "* [Line graph](https://en.wikipedia.org/wiki/Line_graph)\n"
   ]
  },
  {
   "cell_type": "markdown",
   "metadata": {},
   "source": [
    "You should already be familiar with these. Choosing which of these is most appropriate usually comes down to both what kind of data you have (categorical or numerical or both) and what kind of message you are trying to communicate. For example, you might want to show how your data changes over time, how it is distributed, or how two groups compare to each other. It's very common to see others misuse chart types or present data badly, even within a properly chosen chart."
   ]
  },
  {
   "cell_type": "markdown",
   "metadata": {
    "tags": [
     "8_min"
    ]
   },
   "source": [
    "## GDP, population, and life expectancy\n",
    "\n",
    "Let's try visualizing the relative total population of each continent (by summing the population of each country in that continent) using tables, bar charts, and pie charts:"
   ]
  },
  {
   "cell_type": "markdown",
   "metadata": {},
   "source": [
    "Table:\n",
    "\n",
    "<table border=\"1\" class=\"dataframe\">  <thead>    <tr style=\"text-align: right;\">      <th>continent</th>      <th>Total Population</th>    </tr>  </thead>  <tbody>    <tr>      <td>Asia</td>      <td>3,811,953,827</td>    </tr>    <tr>      <td>Africa</td>      <td>929,539,692</td>    </tr>    <tr>      <td>Americas</td>      <td>898,871,184</td>    </tr>    <tr>      <td>Europe</td>      <td>586,098,529</td>    </tr>    <tr>      <td>Oceania</td>      <td>24,549,947</td>    </tr>  </tbody></table>\n",
    "\n",
    "\n"
   ]
  },
  {
   "cell_type": "markdown",
   "metadata": {},
   "source": [
    "An easy way to recreate this table is by creating a pivot table. Select the five columns of your data, click on the `Insert` tab, and then on `Pivot Table`. Select `From Table/Range`, and you'll now see the `Insert PivotTable` pane that gives you the option to place the table in a `+ New sheet` or an `+ Existing sheet`. Select `+ Existing sheet`, and choose any open cell to the right of your data where there is room to build a table. Here, `G4` is selected. Then choose `Insert`, and you will see a new pane that says `PivotTable Fields`."
   ]
  },
  {
   "cell_type": "markdown",
   "metadata": {},
   "source": [
    "![pivot_table](data/images/pivot_table.png)"
   ]
  },
  {
   "cell_type": "markdown",
   "metadata": {},
   "source": [
    "On the left is a list of the column headers. Drag `continent` to the box under `Rows` and drag `pop` under `Values`. It defaults to `Sum of pop`. (You can change the calculation by clicking on `Sum of pop` and selecting `Value Field Settings`, and choosing a different option if that fits your needs.)\n",
    "\n"
   ]
  },
  {
   "cell_type": "markdown",
   "metadata": {},
   "source": [
    "![pivot_table2](data/images/pivot_table2.png)\n",
    "\n"
   ]
  },
  {
   "cell_type": "markdown",
   "metadata": {},
   "source": [
    "Once you've chosen those options, you can see the table with the sum of the population per continent. You can close out of the pivot table pane, and you'll notice the table has a row that says `(blank)`. To get rid of the blank, select the `⌄` next to `continent` in the table you just created. Select `Filter`, and unselect the box next to `(blank)`.\n",
    "\n"
   ]
  },
  {
   "cell_type": "markdown",
   "metadata": {},
   "source": [
    "Note: You may or may not have a `(blank)` on your table, depending on the version you're using or if you created the table a different way.\n",
    "\n"
   ]
  },
  {
   "cell_type": "markdown",
   "metadata": {},
   "source": [
    "![pivot_filter](data/images/pivot_filter.png)"
   ]
  },
  {
   "cell_type": "markdown",
   "metadata": {},
   "source": [
    "Column Chart:\n",
    "\n",
    "\n",
    "To create this chart, select the data in the pivot table you just created, select the `Insert` tab, and `Column`. Choose the first option on the left. Often, the terms `Bar Chart` and `Column Chart` are used interchangeably. However, Excel reserves the term `Bar Chart` for charts where the bars are horizontal and names a chart like this a `Column Chart`. Categorical data can be visualized with either vertical or horizontal bars.\n",
    "\n"
   ]
  },
  {
   "cell_type": "markdown",
   "metadata": {},
   "source": [
    "![bar_chart](data/images/bar_chart.png)"
   ]
  },
  {
   "cell_type": "markdown",
   "metadata": {},
   "source": [
    "You'll notice that this chart looks different from the example. If you `right click` on the chart and choose `Format`, you should see options for changing the appearance of the chart. You can `right click` on the data table and sort by the population, and experiment with the formatting options."
   ]
  },
  {
   "cell_type": "markdown",
   "metadata": {},
   "source": [
    "Pie Chart:\n",
    "\n",
    "<img src=\"data/images/PopPieGraph.png\" width=400>\n",
    "\n",
    "Creating a pie chart is similar to creating a bar chart. Select `Pie` on the same `Insert` tab, and choose the option under `2-D Pie`. \n",
    "\n",
    "![pie](data/images/pie.png)\n",
    "\n",
    "`Right click`, select `Format`, and adjust the settings to change the appearance of the chart."
   ]
  },
  {
   "cell_type": "markdown",
   "metadata": {},
   "source": [
    "When building visualizations, there are some general guidelines to keep in mind to make the images as meaningful as possible for your readers:\n",
    "\n",
    "* The title of each plot should explain the *message* of the visualization, not just a description of the data. So instead of saying \"Population by Continent\", try to find the story behind the data and use that as the title of each graphic.\n",
    "* Use labels and legends as appropriate"
   ]
  },
  {
   "cell_type": "markdown",
   "metadata": {
    "tags": [
     "12_min"
    ]
   },
   "source": [
    "### Exercise 1\n",
    "\n",
    "Explain what the advantages and disadvantages are of each of the three approaches above when visualizing this data."
   ]
  },
  {
   "cell_type": "markdown",
   "metadata": {
    "tags": [
     "ans_st"
    ]
   },
   "source": [
    "**Answer.**"
   ]
  },
  {
   "cell_type": "markdown",
   "metadata": {
    "tags": [
     "3_min"
    ]
   },
   "source": [
    "### Scatter Plots\n",
    "\n",
    "Now that we've taken a quick look at the dataset and population by continent, let's start looking at the data we actually came for: the GDP of each country. Your hypothesis is that GDP affects life expectancy, so you expect to see that people in richer countries live longer. Let's look at a scatter plot of GDP per capita vs. life expectancy:"
   ]
  },
  {
   "cell_type": "markdown",
   "metadata": {},
   "source": [
    "<img src=\"data/images/GDPLifeScatterWorld.png\" width=500>\n",
    "\n",
    "We can see from this plot that our hypothesis is probably correct, so we title the graph accordingly. We use GDP per capita (USD) as our $x$-axis and Life expectancy (years) as our $y$-axis because we want to see the effect GDP has on life expectancy, and scatter plots are usually read in this order. If we calculate the correlation, we find the global correlation between GDP and life expectancy is .68, a fairly strong correlation. You can read more about correlations [here](https://www.investopedia.com/terms/c/correlation.asp).\n",
    "\n",
    "To create this chart, it is often best to first set up the data so the x-axis comes before the y-axis. Start by clicking on the `C` above `lifeExp` to select the whole column and copy the column. Paste it to the right of `gdpPercap`, and then select both `gdpPercap` and the new column you created. Under the `Insert` tab, choose the first option in the upper left under `Scatter`.\n",
    "\n",
    "![scatter](data/images/scatter.png)\n",
    "\n",
    "`Right click` on the plot, choose `Format`, and make adjustments to the plot to update the plot with a better title, add titles to the axis, and make any additional changes you'd like."
   ]
  },
  {
   "cell_type": "markdown",
   "metadata": {
    "tags": [
     "2_min"
    ]
   },
   "source": [
    "### Question 1\n",
    "\n",
    "Why is a scatter plot appropriate for this purpose?"
   ]
  },
  {
   "cell_type": "markdown",
   "metadata": {
    "tags": [
     "ans_st"
    ]
   },
   "source": [
    "**Answer.**"
   ]
  },
  {
   "cell_type": "markdown",
   "metadata": {
    "tags": [
     "6_min"
    ]
   },
   "source": [
    "### Exercise 2\n",
    "\n",
    "#### 2.1\n",
    "\n",
    "The above information is useful for showing there is a fairly strong correlation between GDP and life expectancy worldwide, but we can see from the scatter plot that there are some unusual groupings, especially towards the left side of the plot where GDP is low. What would be a good way to improve our scatter plot to show information more specific to each region of the world?"
   ]
  },
  {
   "cell_type": "markdown",
   "metadata": {
    "tags": [
     "ans_st"
    ]
   },
   "source": [
    "**Answer.**"
   ]
  },
  {
   "cell_type": "markdown",
   "metadata": {
    "tags": [
     "3_min"
    ]
   },
   "source": [
    "#### 2.2\n",
    "\n",
    "What does the clustering on the left side of the plot represent? What do you conclude from it?"
   ]
  },
  {
   "cell_type": "markdown",
   "metadata": {
    "tags": [
     "ans_st"
    ]
   },
   "source": [
    "**Answer.**"
   ]
  },
  {
   "cell_type": "markdown",
   "metadata": {
    "tags": [
     "3_min"
    ]
   },
   "source": [
    "#### 2.3\n",
    "\n",
    "Let's take a look at the correlation broken down by region:\n",
    "\n",
    "<table border=\"1\" class=\"dataframe\">  <thead>    <tr style=\"text-align: right;\">      <th>Continent</th>      <th>GDP_LifeExp</th>    </tr>  </thead>  <tbody>    <tr>      <td>Americas</td>      <td>0.591</td>    </tr>    <tr>      <td>Africa</td>      <td>0.385</td>    </tr>    <tr>      <td>Asia</td>      <td>0.689</td>    </tr>    <tr>      <td>Oceania</td>      <td>1.0</td>    </tr>    <tr>      <td>Europe</td>      <td>0.85</td>    </tr>  </tbody></table>\n",
    "\n",
    "\n",
    "How does this affect our original hypothesis?"
   ]
  },
  {
   "cell_type": "markdown",
   "metadata": {
    "tags": [
     "ans_st"
    ]
   },
   "source": [
    "**Answer.**"
   ]
  },
  {
   "cell_type": "markdown",
   "metadata": {
    "tags": [
     "1_min"
    ]
   },
   "source": [
    "## GDP trends over time\n",
    "\n",
    "So far, we've looked at data for a single point in time and have used bar charts and scatter plots to present it. Our second dataset includes data collected from the 1960s to the 2010s, so we will naturally turn towards line graphs.\n",
    "\n",
    "\n",
    "For this exercise, use the `gdp_data_years.xlsx` file. The data we want is in the tab `line_chart`. \n",
    "\n",
    "To create this chart, select rows `8` and `9`, and on the `Insert` tab, choose the first option in the upper left under `Line`.\n",
    "\n",
    "![line](data/images/line.png)\n",
    "\n",
    "Open the format pane by `right clicking` on the chart and selecting `Format`. "
   ]
  },
  {
   "cell_type": "markdown",
   "metadata": {
    "tags": [
     "8_min"
    ]
   },
   "source": [
    "### Exercise 3\n",
    "\n",
    "You remember that GDP has been growing over time, but you wonder by how much.\n",
    "\n",
    "1. Why is a line plot appropriate for this purpose? \n",
    "2. What labels would you use to best represent the information on your line graph? \n",
    "3. What is one problem you might encounter with just summing up all the country-level GDPs to get the world GDP?"
   ]
  },
  {
   "cell_type": "markdown",
   "metadata": {
    "tags": [
     "ans_st"
    ]
   },
   "source": [
    "**Answer.**"
   ]
  },
  {
   "cell_type": "markdown",
   "metadata": {
    "tags": [
     "7_min"
    ]
   },
   "source": [
    "### Exercise 4\n",
    "\n",
    "Let's pick some countries of interest and create a new line graph that just focuses on those. We'll use the following countries: Brazil, China, India, Japan, and the United States.\n",
    "\n",
    "Select the first 6 rows in the `line_chart` sheet, and then select `Scatter` on the `Insert` tab and choose the first option in the upper left. You may have to select `Switch Row/Column` on the far left of the `Chart` tab. You can see the `Chart` tab appear at the top of the toolbar when you click on the chart. You can select the `Chart` tab by clicking on `Chart`. Then, select `Line` and choose the first option in the upper left. \n",
    "\n",
    "\n",
    "![line2](data/images/line2.png)\n",
    "\n",
    "Adjust the formatting as necessary.\n",
    "\n",
    "What trends can we gather from this graph? What issues are there with how this data is being presented?"
   ]
  },
  {
   "cell_type": "markdown",
   "metadata": {
    "tags": [
     "ans_st"
    ]
   },
   "source": [
    "**Answer.**"
   ]
  },
  {
   "cell_type": "markdown",
   "metadata": {
    "tags": [
     "3_min"
    ]
   },
   "source": [
    "## Conclusions\n",
    "\n",
    "GDP is a metric that has become controversial because it is a very crude way of measuring economic activity. However, it can provide an interesting lens to look at specific countries and how they relate to each other. After looking at correlations like \"people in richer countries live longer\" it's tempting to make a causation link (e.g. \"if poorer countries raise their GDP, their citizens will live longer\"), but correlation is not the same as causation, and we saw that in certain regions of the world, even correlation was tenuous.\n",
    "\n",
    "We saw that the USA and China dwarf most other countries in terms of GDP and that Japan's once-strong GDP growth has leveled off in the last few decades."
   ]
  },
  {
   "cell_type": "markdown",
   "metadata": {
    "tags": [
     "7_min"
    ]
   },
   "source": [
    "## Takeaways\n",
    "\n",
    "To present data well, you need to constantly keep two things in mind:\n",
    "\n",
    "1. Choose the correct way to visualize the data\n",
    "2. Make the story easy to understand by being careful with the presentation details, such as titles and labels\n",
    "\n",
    "In this case, you saw that:\n",
    "\n",
    "* Bar charts are good for basic analysis, showing how categorical variables relate to numerical variables. In very specific circumstances, pie charts can also be used for this when you are interested in relative vs. absolute sizes\n",
    "* Scatterplots are used to show how numerical variables relate to each other and are good for looking at correlations\n",
    "* Line charts are almost always appropriate to show how continuous data changes over time\n",
    "\n",
    "You also saw how important it is to get all of the details right when presenting data. It's very common for people to use wrong or misleading labels or to use titles that don't add anything to the visualization. Always be careful that you are using the correct units and clearly label what these are while using the title to summarize the message behind the data.\n",
    "\n",
    "### Attribution\n",
    "\"Gapminder dataset\", The Gapminder Foundation (via the Vertica package), Creative Commons Attribution 3.0, https://github.com/vertica/VerticaPy/blob/master/verticapy/data/gapminder.csv\n"
   ]
  }
 ],
 "metadata": {
  "c1_recart": "7.49.0-57c20131aabc1dc2a8c675852d80a7da",
  "kernelspec": {
   "display_name": "Python 3 (ipykernel)",
   "language": "python",
   "name": "python3"
  },
  "language_info": {
   "codemirror_mode": {
    "name": "ipython",
    "version": 3
   },
   "file_extension": ".py",
   "mimetype": "text/x-python",
   "name": "python",
   "nbconvert_exporter": "python",
   "pygments_lexer": "ipython3",
   "version": "3.9.7"
  }
 },
 "nbformat": 4,
 "nbformat_minor": 4
}
