{
  "metadata": {
    "c1_recart": "7.63.0-57c20131aabc1dc2a8c675852d80a7da",
    "colab": {
      "provenance": []
    },
    "kernelspec": {
      "display_name": "Python (Pyodide)",
      "language": "python",
      "name": "python"
    },
    "language_info": {
      "codemirror_mode": {
        "name": "python",
        "version": 3
      },
      "file_extension": ".py",
      "mimetype": "text/x-python",
      "name": "python",
      "nbconvert_exporter": "python",
      "pygments_lexer": "ipython3",
      "version": "3.8"
    }
  },
  "nbformat_minor": 4,
  "nbformat": 4,
  "cells": [
    {
      "cell_type": "markdown",
      "source": "# Studying research group applications\n\n**Learning goal**: By the end of this case, you will be able to differentiate between sets, lists, tuples, and dictionaries in Python. Additionally, you will know how to create and use them.\n\nYou are the assistant of a top-rated professor who has been collecting applications for her research group. She has been recording them in a Word document that she updates every time she receives an email from an applicant. So far, there are four people interested in joining the group. Your professor has asked you to help her get some preliminary insight on the kinds of interests that applicants have in common, as well as organize the data for further analysis and interviewing.",
      "metadata": {
        "id": "J3S5IBMJSozO"
      }
    },
    {
      "cell_type": "markdown",
      "source": "## Analysis of affinities\n\nThese are the preferences that the applicants reported (the names of the applicants and the subjects are in no particular order):\n\n* **Dr. Hannah Parker**:\n    - Topology\n    - Applied mathematics\n    - Number theory\n* **Dr. Tim Neely**:\n    - Statistics\n    - Labor economics\n    - Applied mathematics\n    - Medieval literature\n* **Dr. Matt Harford**:\n    - Software development\n    - Statistics\n    - Applied mathematics\n    - Number theory\n* **Dr. Mithuna Patel**:\n    - Quantum mechanics\n    - General relativity\n    - Quantum computing\n    \nLet's create a Python object for each academic to store these preferences:",
      "metadata": {
        "id": "eZ5PoyANSozS"
      }
    },
    {
      "cell_type": "code",
      "source": "hannah_parker_interests = {\"topology\", \"applied mathematics\", \"number theory\"}\ntim_neely_interests = {\"statistics\", \"labor economics\", \"applied mathematics\", \"medieval literature\"}\nmatt_harford_interests = {\"software development\", \"statistics\", \"applied mathematics\", \"number theory\"}\nmithuna_patel_interests = {\"quantum mechanics\", \"general relativity\"}",
      "metadata": {
        "id": "brtwWPa5SozT"
      },
      "execution_count": null,
      "outputs": []
    },
    {
      "cell_type": "markdown",
      "source": "This particular kind of object is called a **set**. Sets are created by placing elements between curly braces and separating them with commas. One important thing about sets is that they don't allow for duplicates. To illustrate this, let's say you wanted to add `quantum computing` to `mithuna_patel`. You can do that easily with the **`.add()`** method.\n\nBefore adding the element:",
      "metadata": {
        "id": "u6YLM2aySozV"
      }
    },
    {
      "cell_type": "code",
      "source": "mithuna_patel_interests",
      "metadata": {
        "id": "uk9JivMiSozV"
      },
      "execution_count": null,
      "outputs": []
    },
    {
      "cell_type": "markdown",
      "source": "After adding it:",
      "metadata": {
        "id": "SOayZcXdSozW"
      }
    },
    {
      "cell_type": "code",
      "source": "mithuna_patel_interests.add(\"quantum computing\")\nmithuna_patel_interests",
      "metadata": {
        "id": "8DvnxsicSozW"
      },
      "execution_count": null,
      "outputs": []
    },
    {
      "cell_type": "markdown",
      "source": "But if we try to add an element that is already present, we simply get the exact same set as before because Python detects that would create a duplicate entry and ignores our attempts to add it again:",
      "metadata": {
        "id": "zcEYTf7QSozX"
      }
    },
    {
      "cell_type": "code",
      "source": "mithuna_patel_interests.add(\"general relativity\")\nmithuna_patel_interests",
      "metadata": {
        "id": "HrAiCxWjSozX"
      },
      "execution_count": null,
      "outputs": []
    },
    {
      "cell_type": "markdown",
      "source": "Sets are super useful if you want to compare collections of items. This is done using **[set logic](https://medium.com/better-programming/mathematical-set-operations-in-python-e065aac07413)**. For instance, we wanted to know what interests our academics have in common - this is called **set intersection**. If you picture a set as a circle, this is what an intersection of two sets (circles) looks like:\n\n![Intersection between two sets](data/images/intersection_two.png)\n\nIntersecting two sets gets you all the elements that are present in both of them. The syntax to do this in Python is:\n\n~~~python\nA & B\n~~~\n\nwhere `A` and `B` are sets, so if we wanted to find the intersection of interests of Dr. Hannah Parker and Dr. Tim Neely, we'd do the following:",
      "metadata": {
        "id": "-1HBdHdISozY"
      }
    },
    {
      "cell_type": "code",
      "source": "hannah_parker_interests & tim_neely_interests",
      "metadata": {
        "id": "-hiwWMBzSozY"
      },
      "execution_count": null,
      "outputs": []
    },
    {
      "cell_type": "markdown",
      "source": "This effectively shows us the subjects that are both in `hannah_parker_interests` *and* `tim_neely_interests`.",
      "metadata": {
        "id": "660IXo6zSozY"
      }
    },
    {
      "cell_type": "markdown",
      "source": "### Exercise 1\n\nFind the interests that Dr. Tim Neely and Dr. Matt Harford have in common. How about the interests that all four applicants have in common?",
      "metadata": {
        "id": "dYPsZaRvSozY"
      }
    },
    {
      "cell_type": "markdown",
      "source": "**Answer.**",
      "metadata": {
        "id": "re4P-ACHSozZ",
        "tags": [
          "ans_st"
        ]
      }
    },
    {
      "cell_type": "markdown",
      "source": "The result of the intersection of all the sets, `set()`, is called the **empty set**. If you look carefully, you'll see that Dr. Hannah Parker, Dr. Tim Neely, and Dr. Tim Harford have `applied mathematics` in common. We can see this in the diagram below:\n\n![Intersection between three sets](data/images/intersection_three.png)\n\nBut when you intersect that with the interests of Dr. Mithuna Patel, the result is the empty set because Dr. Mithuna Patel isn't interested in `applied mathematics`. This is an empty intersection.\n\nYou can check that this set is empty by calling the **`len()`** function, which tells you the number of elements in the set being passed to it:",
      "metadata": {
        "id": "BNsJRZ61SozZ"
      }
    },
    {
      "cell_type": "code",
      "source": "interests_all_common = hannah_parker_interests & tim_neely_interests & matt_harford_interests & mithuna_patel_interests\nlen(interests_all_common)",
      "metadata": {
        "id": "qtAzpjGbSozZ"
      },
      "execution_count": null,
      "outputs": []
    },
    {
      "cell_type": "markdown",
      "source": "You can use the **`in`** keyword to verify that `general relativity` is in Dr. Mithuna Patel's set of subjects but not in Dr. Hannah Parker's:",
      "metadata": {
        "id": "eHk82VDoSozZ"
      }
    },
    {
      "cell_type": "code",
      "source": "print(\"general relativity\" in mithuna_patel_interests)\nprint(\"general relativity\" in hannah_parker_interests)",
      "metadata": {
        "id": "Pqk6e24ySozZ"
      },
      "execution_count": null,
      "outputs": []
    },
    {
      "cell_type": "markdown",
      "source": "Now let's find what interests Dr. Tim Neely has that Dr. Hannah Parker doesn't. This is called a **set difference**:",
      "metadata": {
        "id": "ko_aiaLqSoza"
      }
    },
    {
      "cell_type": "code",
      "source": "tim_neely_interests - hannah_parker_interests",
      "metadata": {
        "id": "C_uMc1TBSoza"
      },
      "execution_count": null,
      "outputs": []
    },
    {
      "cell_type": "markdown",
      "source": "If we wanted to find the reverse; that is, which interests Dr. Hannah Parker has that aren't in Dr. Tim Neely's interests, we would do this:",
      "metadata": {
        "id": "tei0lP1gSoza"
      }
    },
    {
      "cell_type": "code",
      "source": "hannah_parker_interests - tim_neely_interests",
      "metadata": {
        "id": "WGoFmyOwSoza"
      },
      "execution_count": null,
      "outputs": []
    },
    {
      "cell_type": "markdown",
      "source": "You can visualize this by comparing these two set differences. They are indeed different:\n\n![\"Set difference\"](data/images/set_difference_1.png)\n![\"Set difference reversed\"](data/images/set_difference_2.png)\n\nNow, we know that Dr. Tim Neely is interested in labor economics, medieval literature, and statistics, while Dr. Hannah Parker isn't. And we know that Dr. Hannah Parker is interested in number theory and topology, while Dr. Tim Neely isn't. Therefore, the set of all the interests those two colleagues don't have in common are:\n\n* `labor economics`\n* `medieval literature`\n* `statistics`\n* `number theory`\n* `topology`\n\nThis is called the **symmetric difference** between the two sets. It is the result of joining together both set differences. In our circle intersection diagram, this would look like this:\n\n![\"Symmetric difference\"](data/images/symmetric_difference.png)\n\nAnd this would be the code (we use a caret, `^`, as the operator):",
      "metadata": {
        "id": "t0XgwhJCSoza"
      }
    },
    {
      "cell_type": "code",
      "source": "hannah_parker_interests ^ tim_neely_interests",
      "metadata": {
        "id": "B9O6TOC-Soza"
      },
      "execution_count": null,
      "outputs": []
    },
    {
      "cell_type": "markdown",
      "source": "Let's now find how many interests each academic has in common with every other academic:",
      "metadata": {
        "id": "w_JpX0sSSoza"
      }
    },
    {
      "cell_type": "code",
      "source": "hp_tn = (hannah_parker_interests & tim_neely_interests)\nprint(\"Dr. Hannah Parker and Dr. Tim Neely:\", len(hp_tn))\n\nhp_mh = (hannah_parker_interests & matt_harford_interests)\nprint(\"Dr. Hannah Parker and Dr. Matt Harford:\", len(hp_mh))\n\nhp_mp = (hannah_parker_interests & mithuna_patel_interests)\nprint(\"Dr. Hannah Parker and Dr. Mithuna Patel:\", len(hp_mp))\n\ntn_mh = (tim_neely_interests & matt_harford_interests)\nprint(\"Dr. Tim Neely and Dr. Matt Harford:\", len(tn_mh))\n\ntn_mp = (tim_neely_interests & mithuna_patel_interests)\nprint(\"Dr. Tim Neely and Dr. Mithuna Patel:\", len(tn_mp))\n\nmh_mp = (matt_harford_interests & mithuna_patel_interests)\nprint(\"Dr. Matt Harford and Dr. Mithuna Patel:\", len(mh_mp))",
      "metadata": {
        "id": "khNFZYnmSoza"
      },
      "execution_count": null,
      "outputs": []
    },
    {
      "cell_type": "markdown",
      "source": "To wrap up this section, let's print the set of all the interests that the applicants reported. This would be the **union** of the sets, which means the set that includes all the elements that are in any of the sets. The union of two sets is represented by this diagram:\n\n![Union](data/images/union.png)\n\nOr, if they happen to be disjoint (i.e., have no intersection), by this diagram:\n\n![Union disjoint](data/images/union_disjoint.png)\n\nThis is the code to get the union of all four sets of interests (we use a vertical bar, `|`, as our operator):",
      "metadata": {
        "id": "MgAenGl7Sozb"
      }
    },
    {
      "cell_type": "code",
      "source": "hannah_parker_interests | tim_neely_interests | matt_harford_interests | mithuna_patel_interests",
      "metadata": {
        "id": "mdXV1JxNSozb"
      },
      "execution_count": null,
      "outputs": []
    },
    {
      "cell_type": "markdown",
      "source": "## Contact details\n\nThe applicants were asked to provide their phone numbers and emails *in order of priority*, which means that sets wouldn't be enough to encode all the information we want to keep (sets ignore order altogether). One option is to use **lists** instead.\n\nA list is created just like a set, with the difference that instead of curly braces (`{` and `}`), we use square brackets (`[` and `]`). The elements from a list are accessed by indicating their numerical position in the list, *starting from zero* (not from one!).\nAs shown in the below example, the indexes in a list start from 0 but the counting for the length starts from 1.\n\n![My List Example](data/images/my_list.png)\n\nThus, to get the second element of *my_list*, we'd write:",
      "metadata": {
        "id": "mZHp9VU0Sozb"
      }
    },
    {
      "cell_type": "code",
      "source": "my_list = [\"One\", \"Two\", \"Three\", \"Four\", \"Four\"]\nmy_list[1]",
      "metadata": {
        "id": "dxWv8shYSozb",
        "outputId": "731937e7-f363-4baa-cff8-37bfc1e0a464"
      },
      "execution_count": null,
      "outputs": []
    },
    {
      "cell_type": "code",
      "source": "len(my_list)",
      "metadata": {
        "id": "VH_dmvn7Sozc",
        "outputId": "b9f396df-7017-492b-9eea-6a49ef95baa2"
      },
      "execution_count": null,
      "outputs": []
    },
    {
      "cell_type": "markdown",
      "source": "This doesn't output `One` (the first element of the list) as you might expect but instead outputs `Two` (the second element of the list). Additionally, lists do allow duplicates, as you can verify (`Four` appears twice):",
      "metadata": {
        "id": "5pSkmYscSozc"
      }
    },
    {
      "cell_type": "code",
      "source": "my_list",
      "metadata": {
        "id": "oGCHa-KqSozc"
      },
      "execution_count": null,
      "outputs": []
    },
    {
      "cell_type": "markdown",
      "source": "You can **slice** a list by defining a start index and an end index and separating them with a colon (`:`), like this:",
      "metadata": {
        "id": "5i6LCz2zSozc"
      }
    },
    {
      "cell_type": "code",
      "source": "my_list[1:4] # This retrieves the elements in positions 1, 2 and 3 (i.e., 4 is not included)",
      "metadata": {
        "id": "5RzQ_WGLSozc"
      },
      "execution_count": null,
      "outputs": []
    },
    {
      "cell_type": "markdown",
      "source": "These are the contact details of the four academics:\n\n* **Dr. Hannah Parker**:\n    - Phone: +1 978-385-3123, +1 610-684-1514\n    - Email: hannahp@unk.edu, hannah7897@gmail.com\n* **Dr. Tim Neely**:\n    - Phone: +1 503-831-5725, +1 530-832-3841\n    - Email: tim@mij.edu, neelo@outlook.com\n* **Dr. Matt Harford**:\n    - Phone: +44 07872-179187, +44 01279-877139\n    - Email: statistics@nru.ac.uk, mattharx@yahoo.co.uk\n* **Dr. Mithuna Patel**:\n    - Phone: +61 (08)87150531, +61 (08)90881262\n    - Email: mithuna.patel@nua.edu.au, pattmit66@gmail.com\n    \n\nLet's code the contact details of Dr. Hannah Parker. Let's start with her phone numbers first:",
      "metadata": {
        "id": "3S28hYkASozt"
      }
    },
    {
      "cell_type": "code",
      "source": "hannah_parker_phones = [\"+1 978-385-3123\", \"+1 610-684-1514\"]\nhannah_parker_phones",
      "metadata": {
        "id": "_8MEuofdSozt"
      },
      "execution_count": null,
      "outputs": []
    },
    {
      "cell_type": "markdown",
      "source": "We can access her preferred phone number by using the `0` **positional index** (the first element of this list):",
      "metadata": {
        "id": "mi7c4s7PSozt"
      }
    },
    {
      "cell_type": "code",
      "source": "hannah_parker_phones[0]",
      "metadata": {
        "id": "dgaOTxLVSozt"
      },
      "execution_count": null,
      "outputs": []
    },
    {
      "cell_type": "markdown",
      "source": "And here's the same for her emails:",
      "metadata": {
        "id": "B9nesxiiSozt"
      }
    },
    {
      "cell_type": "code",
      "source": "hannah_parker_emails = [\"hannahp@unk.edu\", \"hannah7897@gmail.com\"]\nhannah_parker_emails[0]",
      "metadata": {
        "id": "WmLHtHyuSozu"
      },
      "execution_count": null,
      "outputs": []
    },
    {
      "cell_type": "markdown",
      "source": "### Exercise 2\n\nTranslate Dr. Tim Neely's phone numbers to a Python list and access his second phone number option.",
      "metadata": {
        "id": "U9jdDmJnSozu"
      }
    },
    {
      "cell_type": "markdown",
      "source": "**Answer.**",
      "metadata": {
        "id": "MbZH18vqSozu",
        "tags": [
          "ans_st"
        ]
      }
    },
    {
      "cell_type": "markdown",
      "source": "An alternative way of retrieving his second phone number option would make use of the fact that it is the last element in the list. In Python, you can have **negative indexes** that work just like an ordinary index, only starting from the right to the left.\n\nThus:",
      "metadata": {
        "id": "JzbujQkUSozu"
      }
    },
    {
      "cell_type": "code",
      "source": "tim_neely_phones[-1]",
      "metadata": {
        "id": "4EjnJ_g1Sozv",
        "outputId": "e5b1321e-6afd-4d4c-da9f-bb7bb22f5892"
      },
      "execution_count": null,
      "outputs": []
    },
    {
      "cell_type": "markdown",
      "source": "will give you the same result. If you wanted to get the first element of the list, you would then use this:",
      "metadata": {
        "id": "sXAq9aVESozv"
      }
    },
    {
      "cell_type": "code",
      "source": "tim_neely_phones[-2] # Equivalent to tim_neely_phones[0] in this case, because the list has 2 elements",
      "metadata": {
        "id": "ibVfBLzxSozv"
      },
      "execution_count": null,
      "outputs": []
    },
    {
      "cell_type": "markdown",
      "source": "Here's the code to translate the remaining data:",
      "metadata": {
        "id": "e1thESxySozv"
      }
    },
    {
      "cell_type": "code",
      "source": "tim_neely_emails = [\"tim@mij.edu\", \"neelo@outlook.com\"]\nmatt_harford_phones = [\"+44 07872-179187\", \"+44 01279-877139\"]\nmatt_harford_emails = [\"statistics@nru.ac.uk\", \"mattharx@yahoo.co.uk\"]\nmithuna_patel_phones = [\"+61 (08)87150531\", \"+61 (08)90881262\"]\nmithuna_patel_emails = [\"mithuna.patel@nua.edu.au\", \"pattmit66@gmail.com\"]",
      "metadata": {
        "id": "_OvMm4OgSozv"
      },
      "execution_count": null,
      "outputs": []
    },
    {
      "cell_type": "markdown",
      "source": "The next step would be to consolidate all these lists into a single directory. For this, you can **nest** them inside another list, thus creating a *list of lists* for each person, like this:",
      "metadata": {
        "id": "x6FHR0IkSozw"
      }
    },
    {
      "cell_type": "code",
      "source": "hannah_parker = [hannah_parker_phones, hannah_parker_emails, hannah_parker_interests]\ntim_neely = [tim_neely_phones, tim_neely_emails, tim_neely_interests]\nmatt_harford = [matt_harford_phones, matt_harford_emails, matt_harford_interests]\nmithuna_patel = [mithuna_patel_phones, mithuna_patel_emails, mithuna_patel_interests]\n\n# Inspecting hannah_parker\nhannah_parker",
      "metadata": {
        "id": "qKLDLA1zSozw"
      },
      "execution_count": null,
      "outputs": []
    },
    {
      "cell_type": "markdown",
      "source": "When we inspect `hannah_parker`, we see that we have a list, `hannah_parker`, that has two other lists inside, one corresponding to her phone numbers and another corresponding to her emails. These are nested lists. The third element of the list is a set - the set of interests we created before.\n\nBut now we can go even further and nest these lists again to create our unified directory:",
      "metadata": {
        "id": "TPztlfePSozw"
      }
    },
    {
      "cell_type": "code",
      "source": "# This is a list of lists that have lists inside!\ndirectory = [\n    hannah_parker,\n    tim_neely,\n    matt_harford,\n    mithuna_patel\n]\n\ndirectory",
      "metadata": {
        "id": "oYzOKyd7Sozw"
      },
      "execution_count": null,
      "outputs": []
    },
    {
      "cell_type": "markdown",
      "source": "Now, let's say we wanted to display Dr. Mithuna Patel's primary email. To accomplish this, we would need to use positional indexing. First, we know that she is the last element of the directory (therefore, index `3`, or `-1` if you want to use negative indexing), then we see that emails are the second element of her personal data list (index `1`), and finally we notice that primary emails are always first on the emails list (index `0`). The way to access this element would then be:",
      "metadata": {
        "id": "m4Vle2KkSozw"
      }
    },
    {
      "cell_type": "code",
      "source": "directory[3][1][0] # Equivalent to directory[-1][1][0] with negative indexing",
      "metadata": {
        "id": "W5mboBzASozx"
      },
      "execution_count": null,
      "outputs": []
    },
    {
      "cell_type": "markdown",
      "source": "Notice how we worked hierarchically, starting from the outermost list (the list that nests everything else) and working inwards, creating multiple positional indexes along the way.\n\n**Note**. There is another Python collection type called a **tuple**. Tuples are very similar to lists, with the difference that you can't modify them after you've created them (you can do this with lists). If you need to alter the contents of a tuple, you'd have to rewrite it from scratch. This property is useful sometimes, but lists are generally the preferred option in most cases. To create a tuple, you use ordinary parentheses:",
      "metadata": {
        "id": "o2hE_JnOSozx"
      }
    },
    {
      "cell_type": "code",
      "source": "my_tuple = (\"One\", \"Two\", \"Three\", \"Four\", \"Four\")\nmy_tuple[1]",
      "metadata": {
        "id": "v2ZpV07nSozx"
      },
      "execution_count": null,
      "outputs": []
    },
    {
      "cell_type": "markdown",
      "source": "## Making the directory more user-friendly\n\nThe `directory` list is great - it has all the data we need and is readily accessible. However, it has the downside that if you want to retrieve a particular email or phone number, or the set of interests of a person, you have to be very familiar with the structure of the list and type very meticulously so as not to pass the wrong index number. For example, in extracting Dr. Mithuna Patel's email, we had to correctly pass in three indexes -  leaving many opportunities for error!\n\nThis difficulty can be overcome by using **dictionaries**. Dictionaries are collections in which you can assign **keys** to your elements so that instead of accessing the items using a positional index, you simply ask Python to get you the item (called a **value**) that corresponds to a given key. Dictionaries can't have duplicate keys, but you can have duplicate values, provided they have different keys. Just like lists, dictionaries are **mutable** (i.e., you can modify their contents without having to recreate the dictionary), but they are similar to sets in that they don't preserve the order of the elements.\n\nDictionaries are created using this syntax:",
      "metadata": {
        "id": "oCz-pu_DSozx"
      }
    },
    {
      "cell_type": "code",
      "source": "my_dict = {\n    \"One\":\"This is number 1\",\n    \"Two\":2,\n    \"Four\":4,\n    \"Another four\":4,\n    \"Three\":[\"This\", \"is\", \"a\", \"list\", \"of\", \"strings\"],\n}",
      "metadata": {
        "id": "PYICsQ1GSozx"
      },
      "execution_count": null,
      "outputs": []
    },
    {
      "cell_type": "markdown",
      "source": "And its elements are accessed like this:",
      "metadata": {
        "id": "lx0hbgeGSozx"
      }
    },
    {
      "cell_type": "code",
      "source": "my_dict[\"One\"]",
      "metadata": {
        "id": "xKjZtGxPSozx"
      },
      "execution_count": null,
      "outputs": []
    },
    {
      "cell_type": "markdown",
      "source": "So let's make `directory` a dictionary (observe how we nest dictionaries inside the dictionary):",
      "metadata": {
        "id": "7WgyD5jGSozy"
      }
    },
    {
      "cell_type": "code",
      "source": "directory_dict ={\n    \"hannah_parker\":{ # The key is hannah_parker and the value is another dictionary\n        \"phones\":hannah_parker_phones,\n        \"emails\":hannah_parker_emails,\n        \"interests\":hannah_parker_interests,\n    },\n    \"tim_neely\":{\n        \"phones\":tim_neely_phones,\n        \"emails\":tim_neely_emails,\n        \"interests\":tim_neely_interests,\n    },\n    \"matt_harford\":{\n        \"phones\":matt_harford_phones,\n        \"emails\":matt_harford_emails,\n        \"interests\":matt_harford_interests,\n    },\n    \"mithuna_patel\":{\n        \"phones\":mithuna_patel_phones,\n        \"emails\":mithuna_patel_emails,\n        \"interests\":mithuna_patel_interests,\n    },\n}",
      "metadata": {
        "id": "LtNmCyQgSozy"
      },
      "execution_count": null,
      "outputs": []
    },
    {
      "cell_type": "markdown",
      "source": "Now it's a lot easier to display Dr. Mithuna Patel's primary email address. We first determine the key of the person's contact data (`mithuna_patel`), then we find the key of the email data (`emails`), and then we access the 0th index of the resulting list (we coded `emails` as a nested list inside the dictionary, to preserve the order of the elements):",
      "metadata": {
        "id": "9kHC86QKSozy"
      }
    },
    {
      "cell_type": "code",
      "source": "directory_dict[\"mithuna_patel\"][\"emails\"][0]",
      "metadata": {
        "id": "TQ_VWja9Sozy"
      },
      "execution_count": null,
      "outputs": []
    },
    {
      "cell_type": "markdown",
      "source": "### Exercise 3\n\nUsing `directory_dict`, display Dr. Matt Harford's interests. What kind of data structure is the resulting output?",
      "metadata": {
        "id": "oWqQNvSvSozy"
      }
    },
    {
      "cell_type": "markdown",
      "source": "**Answer.**",
      "metadata": {
        "id": "tabXX1QfSozy",
        "tags": [
          "ans_st"
        ]
      }
    },
    {
      "cell_type": "markdown",
      "source": "## Takeaways\n\nIn this case, you learned about some basic data structures in Python and the important properties of each of those data structures:\n\n* **Sets**. If the order doesn't matter, you can store elements in sets. Sets don't allow for duplicates and don't let you access elements by positional indexing (i.e., by stating the element's position in the object) because they don't naturally have an order. You can't change the elements of a set, but you can add new elements. You can perform various kinds of operations using sets, such as set intersections, set differences, and set unions - these all fall under set logic.\n* **Lists**. Lists are ordered. They allow for duplicates and let you access elements by positional indexing. You can delete, add, or modify elements in a list without needing to create the list again.\n* **Tuples**. These are basically like lists, with the difference that tuples are immutable. This means that if you want to modify the contents of a tuple, you have to create it from scratch with the modified data.\n* **Dictionaries**. Dictionaries act a lot like lists (and are mutable, too), but you don't access the elements using positional indexes. You use key names instead. Dictionaries can't have duplicate keys, but you can have duplicate values, provided they have different keys. Importantly, similar to sets, dictionaries *don't* preserve the order of elements.",
      "metadata": {
        "id": "6SsBd8zsSozy"
      }
    },
    {
      "cell_type": "markdown",
      "source": "## Cheat sheet of `set`, `list`, `tuple` and `dict`\n\nWe can't possibly cover everything here that can be learned about Python data structures, so here's a cheat sheet we've put together for your future reference:\n\n### Set methods\n\n* Initializing a set: `my_set = {13, 47, 56}`\n* Initializing an empty set: `my_set = set()`\n* Union: `A | B`\n* Intersection: `A & B`\n* Difference: `A - B` or `B - A` (this operation is not [commutative](https://en.wikipedia.org/wiki/Commutative_property))\n* Symmetric difference: `A ^ B`\n* Membership test: `item in A`\n* Add an element to a set: `A.add(item)`\n* Remove an element from a set: `A.remove(item)`\n* Remove all elements from a set: `A.clear()`\n* Returning the size of a set: `len(my_set)`\n\nYou can take advantage of the fact that sets don't allow duplicates to remove duplicates from a list by turning it into a set and back into a list again. For instance, if you have a list:\n\n~~~python\nlist_with_duplicates = [1,2,2,2,3]\n~~~\n\nYou can do this to get a list with the duplicates removed:\n\n~~~python\nlist_with_no_duplicates = list( set(list_with_duplicates) )\nlist_with_no_duplicates\n~~~\n\n### List methods\n\n* Creating a list: `my_list = [1, 2, 2, 3]`\n* Creating an empty list: `my_list = []`\n* Append an element to the end of a list: `my_list.append(item)`\n* Append a list to the end of another list: `my_list.extend(another_list)`\n* Retrieve an element of the list: `my_list[positional_index]`\n* Retrieve a slice of the list: `my_list[initial_position:final_position]`\n* Remove an element based on value: `my_list.remove(value)` (this will remove the first element in the list that has a value of `value`)\n* Remove an element based on positional index: `del my_list[positional_index]` (can be used with slices as well)\n* Retrieve a value and remove it from the list at the same time: `my_list.pop([positional_index])`\n* Remove all the elements from a list: `my_list.clear()`\n* Display the index of the first element that has a given value: `my_list.index(value)`\n* Count the number of times a value appears in a list: `my_list.count(value)`\n* Sort the elements of the list: `my_list.sort()` (to sort Z-A, use `my_list.sort(reverse=True)`\n* Reverse the current order of the elements in a list: `my_list.reverse()`\n* Return a copy of the list: `my_list.copy()`\n* Returning the length of a list: `len(my_list)`\n* Membership test: `item in my_list`\n\n### Tuple methods\n\n* Creating a tuple: `my_tuple = (1,2,2,3)`\n* Creating an empty tuple: `my_tuple = ()`\n* Creating a tuple with one element: `my_tuple = (\"One element\",)` (notice the comma)\n* Retrieve an element of the tuple: `my_tuple[positional_index]`\n* Retrieve a slice of the tuple: `my_tuple[initial_position:final_position]`\n* Concatenating two tuples: `tuple1 + tuple2`\n* Repeat a tuple several times: `my_tuple * times_to_repeat`\n* Returning the length of a tuple: `len(my_tuple)`\n* Membership test: `item in my_tuple`\n\n### Dictionary methods\n\n* Creating a dictionary: `my_dict = {\"key\":\"value\", \"another_key\":\"another_value\",}`\n* Retrieving the value that corresponds to a given key: `my_dict[\"key\"]`. Alternatively, `my_dict.get(\"key\")`\n* Deleting an element from the dictionary based on key: `del my_dict[\"key\"]`\n* List all the keys in the dictionary: `list(my_dict)`\n* Membership test: `key in my_dict`\n* Replacing / creating an element: `my_dict[\"key\"] = expression`\n* Remove all the elements from a dictionary: `my_dict.clear()`\n* Return a copy of the dictionary: `my_dict.copy()`\n* Retrieve a value and remove it from the dictionary at the same time: `my_dict.pop(\"key\")`\n* Returning the length of a dictionary: `len(my_dict)`\n\nYou can find more information about Python data structures in the [documentation](https://docs.python.org/3/tutorial/datastructures.html).",
      "metadata": {
        "id": "6vBsGmJKSozz"
      }
    },
    {
      "cell_type": "markdown",
      "source": "## Attribution\n\nVenn0001.svg. Wikimedia Commons. Public Domain. https://commons.wikimedia.org/wiki/File:Venn0001.svg\n\nVenn 0000 0001.svg. Wikimedia Commons. Public Domain. https://commons.wikimedia.org/wiki/File:Venn_0000_0001.svg\n\nVenn0010.svg. Wikimedia Commons. Public Domain. https://commons.wikimedia.org/wiki/File:Venn0010.svg\n\nVenn0110.svg. Wikimedia Commons. Public Domain. https://commons.wikimedia.org/wiki/File:Venn0110.svg\n\nVenn0111.svg. Wikimedia Commons. Public Domain. https://commons.wikimedia.org/wiki/File:Venn0111.svg",
      "metadata": {
        "id": "lJjj3WP_Sozz"
      }
    }
  ]
}