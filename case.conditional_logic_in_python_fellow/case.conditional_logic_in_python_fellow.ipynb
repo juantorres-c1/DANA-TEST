{
  "metadata": {
    "c1_recart": "7.63.0-57c20131aabc1dc2a8c675852d80a7da",
    "language_info": {
      "name": "python"
    },
    "kernelspec": {
      "name": "python",
      "display_name": "Python (Pyodide)",
      "language": "python"
    }
  },
  "nbformat_minor": 4,
  "nbformat": 4,
  "cells": [
    {
      "cell_type": "markdown",
      "source": "# An animal classification task\n\n**Learning goal:** This case will introduce conditional logic (i.e., statements of the form \"if something, then something\") and how to implement it in Python.\n\nOne of your friends, who studies biology at college, is writing an essay and needs to classify a large number of animals into three categories depending on certain characteristics. She has been trying to carry out the classification using a popular spreadsheet package, but last night she accidentally deleted half of her formulas, and now her file is unusable. To make things worse, she didn't keep any backups. You found out about this and offered to help her out.\n\nThis is the decision tree she is using (a decision tree is just a [flow chart](https://en.wikipedia.org/wiki/Flowchart) that represents decision rules):\n\n![Decision tree - animals](data/images/animals_decision_tree.png)\n\nLet's break down this diagram:\n\n1. **Does this animal fly?** If this animal does fly, move on to the next stage. If this animal does not fly, then don't assign it to any category.\n2. **Is this animal warm-blooded?** So far, we only have animals that fly. If this animal is also warm-blooded, move on to the next stage. If it isn't, classify it as an insect.\n3. **Does this animal feed on blood?** Now we have animals that fly, *and* are warm-blooded. If this animal also feeds on blood, then classify it as a bat. If it doesn't, classify it as a bird (we know that there are bats that don't feed on blood, but let's just assume that there aren't any of those in your friend's sample).\n\nIn other words,\n\n* If an animal flies, is warm-blooded, and feeds on blood, it is a bat.\n* If an animal flies, is warm-blooded, and doesn't feed on blood, it is a bird.\n* If an animal flies and is not warm-blooded, it is an insect.\n* If an animal doesn't fly, it should not be assigned to any category - we're only interested in animals that fly.\n\nNow execute the following cell:",
      "metadata": {}
    },
    {
      "cell_type": "code",
      "source": "animal = {\n    \"flies\":True,\n    \"warm_blooded\":True,\n    \"feeds_blood\":True\n}",
      "metadata": {},
      "execution_count": null,
      "outputs": []
    },
    {
      "cell_type": "markdown",
      "source": "## Exercise 1\n\nWhich class should this animal be assigned to?",
      "metadata": {}
    },
    {
      "cell_type": "markdown",
      "source": "**Answer.**",
      "metadata": {
        "tags": [
          "ans_st"
        ]
      }
    },
    {
      "cell_type": "markdown",
      "source": "Now let's write some code to do the classification for us. For this, we use an **`if` statement**. The syntax is as follows:\n\n~~~python\nif some_expression_is_true:\n    do_something\n~~~\n\nIt is *very* important that you start the line that comes after a colon (`:`) with a tab. As you have seen in previous cases, tabs tell Python how to group statements hierarchically. In this case, the tabbed lines after `if some_expression_is_true:` are the lines that should be executed if the condition is met.\n\nYou probably know already that the value of a key in a dictionary is accessed with this syntax:\n\n~~~python\nmy_dictionary[\"my_key\"]\n~~~\n\nSo, if we want to find out if `animal` flies, we need to use this code:\n\n~~~python\nanimal[\"flies\"]\n~~~",
      "metadata": {}
    },
    {
      "cell_type": "markdown",
      "source": "## Exercise 2\n\nRun `animal[\"flies\"]` in a code cell and verify that the returned value is `True`.",
      "metadata": {}
    },
    {
      "cell_type": "markdown",
      "source": "**Answer.**",
      "metadata": {
        "tags": [
          "ans_st"
        ]
      }
    },
    {
      "cell_type": "markdown",
      "source": "To code the first stage of our decision tree, we need to evaluate the \"Does this animal fly?\" expression and then move on to the next stage. Something like this:\n\n~~~python\nif animal[\"flies\"] == True:\n    #move to the next stage\n~~~\n\nNotice that we used `==` and not `=` here. This is because `=` is used to *assign* a value to a variable, like in `four = 1 + 3`, while `==` is used to *evaluate* whether two objects have the same value or not, like in `4 == 4` (which should produce the output `True`).\n\nSince we haven't written the code for the next stages yet, let's just simply print a string with the action that should be followed if the condition is met. Execute the cell below. The printed output should be `Move to the next stage because this animal flies`:",
      "metadata": {}
    },
    {
      "cell_type": "code",
      "source": "if animal[\"flies\"] == True:\n    print(\"Move to the next stage, because this animal flies\")",
      "metadata": {},
      "execution_count": null,
      "outputs": []
    },
    {
      "cell_type": "markdown",
      "source": "In order to tell Python what to do when the expression is not true (that is, in the case that the animal doesn't fly), we use the **`else`** keyword:",
      "metadata": {}
    },
    {
      "cell_type": "code",
      "source": "if animal[\"flies\"] == True:\n    print(\"Move to the next stage, because this animal flies\")\nelse:\n    print(\"Do not assign to any category\")",
      "metadata": {},
      "execution_count": null,
      "outputs": []
    },
    {
      "cell_type": "markdown",
      "source": "Now that we know how to code a conditional statement let's add the other stages of the decision tree. The second stage is this:",
      "metadata": {}
    },
    {
      "cell_type": "code",
      "source": "if animal[\"warm_blooded\"] == True:\n    print(\"Move to the next stage, because this animal is warm-blooded\")\nelse:\n    print(\"The animal is an insect\")",
      "metadata": {},
      "execution_count": null,
      "outputs": []
    },
    {
      "cell_type": "markdown",
      "source": "If we now put both conditional statements together, we get:",
      "metadata": {}
    },
    {
      "cell_type": "code",
      "source": "# The first conditional\nif animal[\"flies\"] == True:\n    # The second conditional\n    if animal[\"warm_blooded\"] == True:\n        print(\"Move to the next stage, because this animal flies and is warm-blooded\")\n    else:\n        print(\"The animal is an insect\")\nelse:\n    print(\"Do not assign to any class, because this animal doesn't fly\")",
      "metadata": {},
      "execution_count": null,
      "outputs": []
    },
    {
      "cell_type": "markdown",
      "source": "Can you see that we indented the `warm_blooded` conditional? That is because this conditional is *nested* inside the first one (similar to how we did nested indexing in previous cases).",
      "metadata": {}
    },
    {
      "cell_type": "markdown",
      "source": "### Exercise 3\n\nWrite the third conditional.",
      "metadata": {}
    },
    {
      "cell_type": "markdown",
      "source": "**Answer.**",
      "metadata": {
        "tags": [
          "ans_st"
        ]
      }
    },
    {
      "cell_type": "markdown",
      "source": "### Exercise 4\n\nIntegrate the third conditional into the code, so you have one code block with all three conditionals. (Since it must be nested inside the second conditional, it should be doubly indented.)",
      "metadata": {}
    },
    {
      "cell_type": "markdown",
      "source": "**Answer.**",
      "metadata": {
        "tags": [
          "ans_st"
        ]
      }
    },
    {
      "cell_type": "markdown",
      "source": "It seems we have successfully classified our animal as a bat. Let's test this code again, this time passing an insect. For this, we overwrite the `animal` variable with another dictionary that has the values that correspond to an insect:",
      "metadata": {}
    },
    {
      "cell_type": "code",
      "source": "animal = {\n    \"flies\":True,\n    \"warm_blooded\":False,\n    \"feeds_blood\":True\n}",
      "metadata": {},
      "execution_count": null,
      "outputs": []
    },
    {
      "cell_type": "markdown",
      "source": "### Exercise 5\n\nRun the code again. Was the animal classified correctly?",
      "metadata": {}
    },
    {
      "cell_type": "markdown",
      "source": "**Answer.**",
      "metadata": {
        "tags": [
          "ans_st"
        ]
      }
    },
    {
      "cell_type": "markdown",
      "source": "If everything ran correctly, the animal will have been classified as an insect. Notice that in the case of insects, the value of `feeds_blood` isn't relevant in our decision tree - what makes a flying animal an insect isn't whether or not it feeds on blood, but rather that it is not warm-blooded.",
      "metadata": {}
    },
    {
      "cell_type": "markdown",
      "source": "## Using `if...elif`\n\nYour friend is so impressed by your Python prowess that she asks you to help her out with another dataset. This is the decision tree:\n\n![](data/images/animals_elif.png)\n\nLet's create a dummy animal:",
      "metadata": {}
    },
    {
      "cell_type": "code",
      "source": "animal = {\n    \"height\":5\n}",
      "metadata": {},
      "execution_count": null,
      "outputs": []
    },
    {
      "cell_type": "markdown",
      "source": "Since this animal's height is 5 feet, it should be classified as a `LARGE` animal according to the decision tree:\n\n1. This animal's height is *not* less than 1 foot, so it needs to pass through the next stage before being assigned a class.\n2. This animal's height is *not* less than 2 feet, which means that the condition evaluates to `False` (that is, to \"NO\"). Therefore, this animal is `LARGE`.\n\nYou could easily code the first condition as:",
      "metadata": {}
    },
    {
      "cell_type": "code",
      "source": "# First condition\nif animal[\"height\"] < 1: # Is it less than 1 ft?\n    print(\"SMALL\")\nelse:\n    print(\"Move on to the next stage, this animal is NOT SMALL\")",
      "metadata": {},
      "execution_count": null,
      "outputs": []
    },
    {
      "cell_type": "markdown",
      "source": "### Exercise 6\n\nAdd the second condition.",
      "metadata": {}
    },
    {
      "cell_type": "markdown",
      "source": "**Answer.**",
      "metadata": {
        "tags": [
          "ans_st"
        ]
      }
    },
    {
      "cell_type": "markdown",
      "source": "This works perfectly. However, if you'd like to make the code a bit more readable, you could replace the `else...if` with a handy shortcut, **`elif`**. As the name suggests, `elif`s can be used when you have an `if` immediately following an `else`. So, the simplified version would be:",
      "metadata": {}
    },
    {
      "cell_type": "code",
      "source": "if animal[\"height\"] < 1: # First condition\n    print(\"SMALL\")\nelif animal[\"height\"] < 2: # Second condition\n    print(\"MEDIUM\")\nelse:\n    print(\"LARGE\")",
      "metadata": {},
      "execution_count": null,
      "outputs": []
    },
    {
      "cell_type": "markdown",
      "source": "This block has two fewer lines of code. You can follow the logic with this reasoning:\n\n1. If the animal's height is less than 1 foot, then it is `SMALL`.\n2. If the animal is not `SMALL`, then check if it is less than 2 feet. If it is, then label it as `MEDIUM`.\n3. If the animal's height is something else (that is, it isn't either `SMALL` or `MEDIUM`), then it has to be `LARGE`.",
      "metadata": {}
    },
    {
      "cell_type": "markdown",
      "source": "Now the only thing that you need to do is take your conditionals and run them on each animal in your friend's datasets. You could do this one animal at a time, but that would kind of defeat the purpose - it could be as cumbersome as using a spreadsheet or worse. For cases like this, you use Python **functions** and/or **loops**, which are extremely efficient for streamlining repetitive tasks. You'll learn about these in a future case.",
      "metadata": {}
    },
    {
      "cell_type": "markdown",
      "source": "## A word on Boolean logic\n\nSo far, our conditionals have evaluated a single condition to determine which lines of code actually get executed when we run it. Python can also evaluate multiple conditions at once, using what we call **[Boolean logic](https://www.pbs.org/video/boolean-logic-logic-gates-crash-course-computer-science-nobmpt/)**.\n\nThere are four Boolean operations that will suffice in the vast majority of cases:\n\n* $AND$, which in Python is `and`,\n* $OR$, which in Python is `or`,\n* $XOR$ or **exclusive or**, which in Python is `^`, and\n* $NOT$, which in Python is `not`.\n\nThis is related to the set operations that we covered in Case 0.3. In fact, you can represent Boolean logic [using sets](https://en.wikipedia.org/wiki/Boolean_algebra#Diagrammatic_representations).\n\n### $AND$\n\nYou have two boolean variables, `A` and `B`. This is the **truth table** related to the $AND$ operation when applied to them (a truth table is just a matrix that shows the output of a Boolean operation for different values of `A` and `B`):\n\n| Value of `A`\t| Value of `B`  | Value of `A and B`|\n|------------\t|------------\t|------------------\t|\n| False      \t| False      \t| False            \t|\n| False      \t| True       \t| False            \t|\n| True       \t| False      \t| False            \t|\n| True       \t| True       \t| True             \t|\n\nIn other words, `A and B` is `True` only when both conditions are `True`.\n\n### $OR$\n\nThis is the truth table for the $OR$ operation:\n\n| Value of `A`\t| Value of `B`  | Value of `A or B` |\n|------------\t|------------\t|------------------\t|\n| False      \t| False      \t| False            \t|\n| False      \t| True       \t| True            \t|\n| True       \t| False      \t| True            \t|\n| True       \t| True       \t| True             \t|\n\nIn other words, `A or B` is always `True` except when both conditions are `False`.\n\n### $XOR$\n\nThis is the truth table for the exclusive or operation:\n\n| Value of `A`\t| Value of `B`  | Value of `A ^ B`  |\n|------------\t|------------\t|------------------\t|\n| False      \t| False      \t| False            \t|\n| False      \t| True       \t| True            \t|\n| True       \t| False      \t| True            \t|\n| True       \t| True       \t| False            \t|\n\nIn other words, `A ^ B` is `True` only when both conditions have different truth values.\n\n### $NOT$\n\nNegation is the easiest of the operators. It just reverses the value of your boolean. So, if `A` is `True`, then `not A` will be `False`. It takes only one argument, so you can't do `A not B` (but you *can* do `not (A and B)`, for instance).\n\n---\n\nNow let's look at an example. Let's evaluate an $OR$ operation:",
      "metadata": {}
    },
    {
      "cell_type": "code",
      "source": "if (4 < 5) or (400 < 3): \n    print(\"The conditional evaluated to True\")\nelse:\n    print(\"The conditional evaluated to False\")",
      "metadata": {},
      "execution_count": null,
      "outputs": []
    },
    {
      "cell_type": "markdown",
      "source": "Notice that we used parentheses to tell Python where the conditions were in the code.\n\n**Question:** Why did this code evaluate to `True`?\n\nAnd here's an example of an $AND$ operation:",
      "metadata": {}
    },
    {
      "cell_type": "code",
      "source": "if (4 < 5) and (400 < 3): \n    print(\"The conditional evaluated to True\")\nelse:\n    print(\"The conditional evaluated to False\")",
      "metadata": {},
      "execution_count": null,
      "outputs": []
    },
    {
      "cell_type": "markdown",
      "source": "**Question:** Now why did it evaluate to `False`?",
      "metadata": {}
    }
  ]
}